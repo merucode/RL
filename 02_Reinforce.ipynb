{
  "cells": [
    {
      "cell_type": "markdown",
      "metadata": {
        "id": "view-in-github",
        "colab_type": "text"
      },
      "source": [
        "<a href=\"https://colab.research.google.com/github/merucode/RL/blob/35-Study-Doc-Custom_ENV_grid_world/02_Reinforce.ipynb\" target=\"_parent\"><img src=\"https://colab.research.google.com/assets/colab-badge.svg\" alt=\"Open In Colab\"/></a>"
      ]
    },
    {
      "cell_type": "markdown",
      "source": [],
      "metadata": {
        "id": "MLB979Vs-2J1"
      },
      "id": "MLB979Vs-2J1"
    },
    {
      "cell_type": "code",
      "source": [
        "!git clone -b 35-Study-Doc-Custom_ENV_grid_world https://github.com/merucode/RL.git\n",
        "!cd RL && mv * ../"
      ],
      "metadata": {
        "collapsed": true,
        "id": "bMkFjiRc-i71",
        "outputId": "0e408805-b1e6-4645-f029-b58be79cc028",
        "colab": {
          "base_uri": "https://localhost:8080/"
        }
      },
      "id": "bMkFjiRc-i71",
      "execution_count": 2,
      "outputs": [
        {
          "output_type": "stream",
          "name": "stdout",
          "text": [
            "Cloning into 'RL'...\n",
            "remote: Enumerating objects: 192, done.\u001b[K\n",
            "remote: Counting objects: 100% (112/112), done.\u001b[K\n",
            "remote: Compressing objects: 100% (111/111), done.\u001b[K\n",
            "remote: Total 192 (delta 43), reused 0 (delta 0), pack-reused 80\u001b[K\n",
            "Receiving objects: 100% (192/192), 11.42 MiB | 5.12 MiB/s, done.\n",
            "Resolving deltas: 100% (70/70), done.\n"
          ]
        }
      ]
    },
    {
      "cell_type": "code",
      "source": [
        "!pip install -e gym-examples"
      ],
      "metadata": {
        "collapsed": true,
        "id": "-ddm_fdzWtRI",
        "outputId": "af4ce962-7aa3-4505-a972-fd746fccee57",
        "colab": {
          "base_uri": "https://localhost:8080/"
        }
      },
      "id": "-ddm_fdzWtRI",
      "execution_count": 3,
      "outputs": [
        {
          "output_type": "stream",
          "name": "stdout",
          "text": [
            "Obtaining file:///content/gym-examples\n",
            "  Preparing metadata (setup.py) ... \u001b[?25l\u001b[?25hdone\n",
            "Requirement already satisfied: gym==0.26.0 in /usr/local/lib/python3.10/dist-packages (from gym-examples==0.0.1) (0.26.0)\n",
            "Requirement already satisfied: pygame==2.1.0 in /usr/local/lib/python3.10/dist-packages (from gym-examples==0.0.1) (2.1.0)\n",
            "Requirement already satisfied: numpy>=1.18.0 in /usr/local/lib/python3.10/dist-packages (from gym==0.26.0->gym-examples==0.0.1) (1.23.5)\n",
            "Requirement already satisfied: cloudpickle>=1.2.0 in /usr/local/lib/python3.10/dist-packages (from gym==0.26.0->gym-examples==0.0.1) (2.2.1)\n",
            "Requirement already satisfied: gym-notices>=0.0.4 in /usr/local/lib/python3.10/dist-packages (from gym==0.26.0->gym-examples==0.0.1) (0.0.8)\n",
            "Installing collected packages: gym-examples\n",
            "  Attempting uninstall: gym-examples\n",
            "    Found existing installation: gym-examples 0.0.1\n",
            "    Uninstalling gym-examples-0.0.1:\n",
            "      Successfully uninstalled gym-examples-0.0.1\n",
            "  Running setup.py develop for gym-examples\n",
            "Successfully installed gym-examples-0.0.1\n"
          ]
        }
      ]
    },
    {
      "cell_type": "markdown",
      "source": [
        "### NOTE: After inistall gym-examples, Restart runtime"
      ],
      "metadata": {
        "id": "aI9PkFlbBds1"
      },
      "id": "aI9PkFlbBds1"
    },
    {
      "cell_type": "code",
      "execution_count": 1,
      "id": "lyric-aruba",
      "metadata": {
        "id": "lyric-aruba"
      },
      "outputs": [],
      "source": [
        "import time\n",
        "import matplotlib.pyplot as plt\n",
        "import gym\n",
        "import numpy as np"
      ]
    },
    {
      "cell_type": "code",
      "execution_count": 2,
      "id": "durable-english",
      "metadata": {
        "scrolled": true,
        "id": "durable-english",
        "outputId": "1143b91b-9e53-4ac3-ee75-ca9e52012bec",
        "colab": {
          "base_uri": "https://localhost:8080/",
          "height": 735
        }
      },
      "outputs": [
        {
          "output_type": "error",
          "ename": "SyntaxError",
          "evalue": "ignored",
          "traceback": [
            "Traceback \u001b[0;36m(most recent call last)\u001b[0m:\n",
            "  File \u001b[1;32m\"/usr/local/lib/python3.10/dist-packages/IPython/core/interactiveshell.py\"\u001b[0m, line \u001b[1;32m3553\u001b[0m, in \u001b[1;35mrun_code\u001b[0m\n    exec(code_obj, self.user_global_ns, self.user_ns)\n",
            "  File \u001b[1;32m\"<ipython-input-2-74f018fa4af7>\"\u001b[0m, line \u001b[1;32m1\u001b[0m, in \u001b[1;35m<cell line: 1>\u001b[0m\n    env = gym.make(\"gym_examples:gym_examples/GridWorld-v0\")\n",
            "  File \u001b[1;32m\"/usr/local/lib/python3.10/dist-packages/gym/envs/registration.py\"\u001b[0m, line \u001b[1;32m581\u001b[0m, in \u001b[1;35mmake\u001b[0m\n    env_creator = load(spec_.entry_point)\n",
            "  File \u001b[1;32m\"/usr/local/lib/python3.10/dist-packages/gym/envs/registration.py\"\u001b[0m, line \u001b[1;32m61\u001b[0m, in \u001b[1;35mload\u001b[0m\n    mod = importlib.import_module(mod_name)\n",
            "  File \u001b[1;32m\"/usr/lib/python3.10/importlib/__init__.py\"\u001b[0m, line \u001b[1;32m126\u001b[0m, in \u001b[1;35mimport_module\u001b[0m\n    return _bootstrap._gcd_import(name[level:], package, level)\n",
            "  File \u001b[1;32m\"<frozen importlib._bootstrap>\"\u001b[0m, line \u001b[1;32m1050\u001b[0m, in \u001b[1;35m_gcd_import\u001b[0m\n",
            "  File \u001b[1;32m\"<frozen importlib._bootstrap>\"\u001b[0m, line \u001b[1;32m1027\u001b[0m, in \u001b[1;35m_find_and_load\u001b[0m\n",
            "  File \u001b[1;32m\"<frozen importlib._bootstrap>\"\u001b[0m, line \u001b[1;32m1006\u001b[0m, in \u001b[1;35m_find_and_load_unlocked\u001b[0m\n",
            "  File \u001b[1;32m\"<frozen importlib._bootstrap>\"\u001b[0m, line \u001b[1;32m688\u001b[0m, in \u001b[1;35m_load_unlocked\u001b[0m\n",
            "  File \u001b[1;32m\"<frozen importlib._bootstrap_external>\"\u001b[0m, line \u001b[1;32m883\u001b[0m, in \u001b[1;35mexec_module\u001b[0m\n",
            "  File \u001b[1;32m\"<frozen importlib._bootstrap>\"\u001b[0m, line \u001b[1;32m241\u001b[0m, in \u001b[1;35m_call_with_frames_removed\u001b[0m\n",
            "\u001b[0;36m  File \u001b[0;32m\"/content/gym-examples/gym_examples/envs/__init__.py\"\u001b[0;36m, line \u001b[0;32m2\u001b[0;36m, in \u001b[0;35m<module>\u001b[0;36m\u001b[0m\n\u001b[0;31m    from gym_examples.envs.grid_world import GridWorldEnv\u001b[0m\n",
            "\u001b[0;36m  File \u001b[0;32m\"/content/gym-examples/gym_examples/envs/grid_world.py\"\u001b[0;36m, line \u001b[0;32m91\u001b[0m\n\u001b[0;31m    terminated = np.array_equal(self._agent_location, self._target_location\u001b[0m\n\u001b[0m                               ^\u001b[0m\n\u001b[0;31mSyntaxError\u001b[0m\u001b[0;31m:\u001b[0m '(' was never closed\n"
          ]
        }
      ],
      "source": [
        "env = gym.make(\"gym_examples:gym_examples/GridWorld-v0\")"
      ]
    },
    {
      "cell_type": "code",
      "source": [
        "# single env\n",
        "print(f'observation space : {env.observation_space}')\n",
        "print(f'action space      : {env.action_space}')\n",
        "print(f'action shape      : {env.action_space.n}')"
      ],
      "metadata": {
        "id": "psH2NxXJSn0t",
        "outputId": "22c0479f-5d8f-4620-a757-4ed621916ae5",
        "colab": {
          "base_uri": "https://localhost:8080/"
        }
      },
      "id": "psH2NxXJSn0t",
      "execution_count": 8,
      "outputs": [
        {
          "output_type": "stream",
          "name": "stdout",
          "text": [
            "observation space : Dict('agent': Box(0, 4, (2,), int64), 'target': Box(0, 4, (2,), int64))\n",
            "action space      : Discrete(4)\n",
            "action shape      : 4\n"
          ]
        }
      ]
    },
    {
      "cell_type": "code",
      "source": [
        "obs, _ = env.reset()\n",
        "print(obs)\n",
        "\n",
        "obs = np.hstack((obs['agent'], obs['target']))\n",
        "print(obs)"
      ],
      "metadata": {
        "id": "dUs-ATpNAioL",
        "outputId": "250754fa-f6e8-4514-8ae8-71f7486244dd",
        "colab": {
          "base_uri": "https://localhost:8080/"
        }
      },
      "id": "dUs-ATpNAioL",
      "execution_count": 32,
      "outputs": [
        {
          "output_type": "stream",
          "name": "stdout",
          "text": [
            "{'agent': array([4, 2]), 'target': array([1, 2])}\n",
            "[4 2 1 2]\n"
          ]
        }
      ]
    },
    {
      "cell_type": "code",
      "source": [
        "action = env.action_space.sample()\n",
        "env.step(0)"
      ],
      "metadata": {
        "id": "mN26BJZZBlOa",
        "outputId": "479215fe-a9e4-4cea-d374-50495301c558",
        "colab": {
          "base_uri": "https://localhost:8080/"
        }
      },
      "id": "mN26BJZZBlOa",
      "execution_count": 11,
      "outputs": [
        {
          "output_type": "execute_result",
          "data": {
            "text/plain": [
              "({'agent': array([3, 2]), 'target': array([3, 0])},\n",
              " 0,\n",
              " False,\n",
              " False,\n",
              " {'distance': 2.0})"
            ]
          },
          "metadata": {},
          "execution_count": 11
        }
      ]
    },
    {
      "cell_type": "markdown",
      "source": [
        "# Reinforce model"
      ],
      "metadata": {
        "id": "RiQvgCB7TcxS"
      },
      "id": "RiQvgCB7TcxS"
    },
    {
      "cell_type": "code",
      "source": [
        "import gym\n",
        "import torch\n",
        "import torch.nn as nn\n",
        "import torch.nn.functional as F\n",
        "import torch.optim as optim\n",
        "from torch.distributions import Categorical\n",
        "import numpy as np\n",
        "\n",
        "#Device\n",
        "device = device = 'cuda' if torch.cuda.is_available() else 'cpu'\n",
        "\n",
        "#Hyperparameters\n",
        "learning_rate = 0.0002\n",
        "gamma         = 0.98\n",
        "\n",
        "class Policy(nn.Module):\n",
        "    def __init__(self):\n",
        "        super(Policy, self).__init__()\n",
        "        self.data = []\n",
        "\n",
        "        self.fc1 = nn.Linear(4, 128)\n",
        "        self.fc2 = nn.Linear(128, 4)\n",
        "        self.optimizer = optim.Adam(self.parameters(), lr=learning_rate)\n",
        "\n",
        "    def forward(self, x):\n",
        "        x = F.relu(self.fc1(x))\n",
        "        x = F.softmax(self.fc2(x), dim=0)\n",
        "        return x\n",
        "\n",
        "    def put_data(self, item):\n",
        "        self.data.append(item)\n",
        "\n",
        "    def train_net(self):\n",
        "        R = 0\n",
        "        self.optimizer.zero_grad()\n",
        "        for r, prob in self.data[::-1]:\n",
        "            R = r + gamma * R\n",
        "            loss = -torch.log(prob) * R\n",
        "            loss.backward()\n",
        "        self.optimizer.step()\n",
        "        self.data = []\n",
        "\n",
        "def main():\n",
        "    #env = gym.make('CartPole-v1')\n",
        "    env = gym.make(\"gym_examples:gym_examples/GridWorld-v0\")\n",
        "    pi = Policy()\n",
        "    score = 0.0\n",
        "    print_interval = 100\n",
        "\n",
        "    pi.to(device)\n",
        "\n",
        "    for n_epi in range(6000):\n",
        "        #s, _ = env.reset()\n",
        "        obs, _ = env.reset()\n",
        "        s = np.hstack((obs['agent'], obs['target']))\n",
        "        done = False\n",
        "\n",
        "        while not done:\n",
        "            prob = pi(torch.from_numpy(s).float().to(device))\n",
        "            m = Categorical(prob)\n",
        "            a = m.sample()\n",
        "            obs_next, r, done, truncated, info = env.step(a.item())\n",
        "            s_prime =  np.hstack((obs_next['agent'], obs_next['target']))\n",
        "            pi.put_data((r,prob[a]))\n",
        "            s = s_prime\n",
        "            score += r\n",
        "\n",
        "        pi.train_net()\n",
        "\n",
        "        if n_epi%print_interval==0 and n_epi!=0:\n",
        "            print(\"# of episode :{}, avg score : {}\".format(n_epi, score/print_interval))\n",
        "            score = 0.0\n",
        "    env.close()\n",
        "\n",
        "    return pi"
      ],
      "metadata": {
        "id": "Oh3nQK_aTkOh"
      },
      "id": "Oh3nQK_aTkOh",
      "execution_count": 14,
      "outputs": []
    },
    {
      "cell_type": "code",
      "source": [
        "if __name__ == '__main__':\n",
        "    pi = main()"
      ],
      "metadata": {
        "collapsed": true,
        "id": "_jfTqHMOZNta",
        "outputId": "579ecbcd-d45f-4d41-ec8f-418737dad8e0",
        "colab": {
          "base_uri": "https://localhost:8080/"
        }
      },
      "id": "_jfTqHMOZNta",
      "execution_count": 15,
      "outputs": [
        {
          "output_type": "stream",
          "name": "stdout",
          "text": [
            "# of episode :100, avg score : 0.384899999999985\n",
            "# of episode :200, avg score : 0.6324000000000227\n",
            "# of episode :300, avg score : 0.6109000000000189\n",
            "# of episode :400, avg score : 0.6935000000000039\n",
            "# of episode :500, avg score : 0.7153000000000084\n",
            "# of episode :600, avg score : 0.7833999999999941\n",
            "# of episode :700, avg score : 0.7645999999999935\n",
            "# of episode :800, avg score : 0.7544999999999926\n",
            "# of episode :900, avg score : 0.8318999999999848\n",
            "# of episode :1000, avg score : 0.8369999999999933\n",
            "# of episode :1100, avg score : 0.8461999999999843\n",
            "# of episode :1200, avg score : 0.8586999999999931\n",
            "# of episode :1300, avg score : 0.8765999999999944\n",
            "# of episode :1400, avg score : 0.859499999999988\n",
            "# of episode :1500, avg score : 0.8850999999999984\n",
            "# of episode :1600, avg score : 0.8813999999999939\n",
            "# of episode :1700, avg score : 0.8800999999999881\n",
            "# of episode :1800, avg score : 0.8989999999999896\n",
            "# of episode :1900, avg score : 0.9005999999999914\n",
            "# of episode :2000, avg score : 0.8761999999999914\n",
            "# of episode :2100, avg score : 0.89119999999999\n",
            "# of episode :2200, avg score : 0.8865999999999891\n",
            "# of episode :2300, avg score : 0.890599999999992\n",
            "# of episode :2400, avg score : 0.899899999999992\n",
            "# of episode :2500, avg score : 0.8962999999999947\n",
            "# of episode :2600, avg score : 0.8922999999999938\n",
            "# of episode :2700, avg score : 0.9047999999999918\n",
            "# of episode :2800, avg score : 0.9007999999999899\n",
            "# of episode :2900, avg score : 0.9169999999999909\n",
            "# of episode :3000, avg score : 0.9221999999999915\n",
            "# of episode :3100, avg score : 0.9184999999999883\n",
            "# of episode :3200, avg score : 0.915899999999992\n",
            "# of episode :3300, avg score : 0.9175999999999961\n",
            "# of episode :3400, avg score : 0.9235999999999932\n",
            "# of episode :3500, avg score : 0.9229999999999905\n",
            "# of episode :3600, avg score : 0.9166999999999885\n",
            "# of episode :3700, avg score : 0.9222999999999907\n",
            "# of episode :3800, avg score : 0.9227999999999925\n",
            "# of episode :3900, avg score : 0.9191999999999932\n",
            "# of episode :4000, avg score : 0.9133999999999942\n",
            "# of episode :4100, avg score : 0.9132999999999898\n",
            "# of episode :4200, avg score : 0.9267999999999914\n",
            "# of episode :4300, avg score : 0.9144999999999933\n",
            "# of episode :4400, avg score : 0.9250999999999935\n",
            "# of episode :4500, avg score : 0.9199999999999906\n",
            "# of episode :4600, avg score : 0.9274999999999928\n",
            "# of episode :4700, avg score : 0.9272999999999947\n",
            "# of episode :4800, avg score : 0.9341999999999955\n",
            "# of episode :4900, avg score : 0.9311999999999915\n",
            "# of episode :5000, avg score : 0.9320999999999912\n",
            "# of episode :5100, avg score : 0.92479999999999\n",
            "# of episode :5200, avg score : 0.9345999999999914\n",
            "# of episode :5300, avg score : 0.91559999999999\n",
            "# of episode :5400, avg score : 0.934199999999992\n",
            "# of episode :5500, avg score : 0.9224999999999887\n",
            "# of episode :5600, avg score : 0.9213999999999902\n",
            "# of episode :5700, avg score : 0.9367999999999936\n",
            "# of episode :5800, avg score : 0.9201999999999919\n",
            "# of episode :5900, avg score : 0.9407999999999923\n"
          ]
        }
      ]
    },
    {
      "cell_type": "markdown",
      "source": [
        "# Render"
      ],
      "metadata": {
        "id": "2qvB2V1WWOPJ"
      },
      "id": "2qvB2V1WWOPJ"
    },
    {
      "cell_type": "code",
      "source": [
        "!apt-get install -y xvfb\n",
        "!pip install pyvirtualdisplay"
      ],
      "metadata": {
        "collapsed": true,
        "id": "a0clAlFTb_oi",
        "outputId": "8b8d64ca-9a73-4122-fb6b-49c9712b7db1",
        "colab": {
          "base_uri": "https://localhost:8080/"
        }
      },
      "id": "a0clAlFTb_oi",
      "execution_count": 11,
      "outputs": [
        {
          "output_type": "stream",
          "name": "stdout",
          "text": [
            "Reading package lists... Done\n",
            "Building dependency tree... Done\n",
            "Reading state information... Done\n",
            "The following additional packages will be installed:\n",
            "  libfontenc1 libxfont2 libxkbfile1 x11-xkb-utils xfonts-base xfonts-encodings\n",
            "  xfonts-utils xserver-common\n",
            "The following NEW packages will be installed:\n",
            "  libfontenc1 libxfont2 libxkbfile1 x11-xkb-utils xfonts-base xfonts-encodings\n",
            "  xfonts-utils xserver-common xvfb\n",
            "0 upgraded, 9 newly installed, 0 to remove and 16 not upgraded.\n",
            "Need to get 7,812 kB of archives.\n",
            "After this operation, 11.9 MB of additional disk space will be used.\n",
            "Get:1 http://archive.ubuntu.com/ubuntu jammy/main amd64 libfontenc1 amd64 1:1.1.4-1build3 [14.7 kB]\n",
            "Get:2 http://archive.ubuntu.com/ubuntu jammy/main amd64 libxfont2 amd64 1:2.0.5-1build1 [94.5 kB]\n",
            "Get:3 http://archive.ubuntu.com/ubuntu jammy/main amd64 libxkbfile1 amd64 1:1.1.0-1build3 [71.8 kB]\n",
            "Get:4 http://archive.ubuntu.com/ubuntu jammy/main amd64 x11-xkb-utils amd64 7.7+5build4 [172 kB]\n",
            "Get:5 http://archive.ubuntu.com/ubuntu jammy/main amd64 xfonts-encodings all 1:1.0.5-0ubuntu2 [578 kB]\n",
            "Get:6 http://archive.ubuntu.com/ubuntu jammy/main amd64 xfonts-utils amd64 1:7.7+6build2 [94.6 kB]\n",
            "Get:7 http://archive.ubuntu.com/ubuntu jammy/main amd64 xfonts-base all 1:1.0.5 [5,896 kB]\n",
            "Get:8 http://archive.ubuntu.com/ubuntu jammy-updates/main amd64 xserver-common all 2:21.1.4-2ubuntu1.7~22.04.1 [28.0 kB]\n",
            "Get:9 http://archive.ubuntu.com/ubuntu jammy-updates/universe amd64 xvfb amd64 2:21.1.4-2ubuntu1.7~22.04.1 [863 kB]\n",
            "Fetched 7,812 kB in 1s (9,430 kB/s)\n",
            "Selecting previously unselected package libfontenc1:amd64.\n",
            "(Reading database ... 120828 files and directories currently installed.)\n",
            "Preparing to unpack .../0-libfontenc1_1%3a1.1.4-1build3_amd64.deb ...\n",
            "Unpacking libfontenc1:amd64 (1:1.1.4-1build3) ...\n",
            "Selecting previously unselected package libxfont2:amd64.\n",
            "Preparing to unpack .../1-libxfont2_1%3a2.0.5-1build1_amd64.deb ...\n",
            "Unpacking libxfont2:amd64 (1:2.0.5-1build1) ...\n",
            "Selecting previously unselected package libxkbfile1:amd64.\n",
            "Preparing to unpack .../2-libxkbfile1_1%3a1.1.0-1build3_amd64.deb ...\n",
            "Unpacking libxkbfile1:amd64 (1:1.1.0-1build3) ...\n",
            "Selecting previously unselected package x11-xkb-utils.\n",
            "Preparing to unpack .../3-x11-xkb-utils_7.7+5build4_amd64.deb ...\n",
            "Unpacking x11-xkb-utils (7.7+5build4) ...\n",
            "Selecting previously unselected package xfonts-encodings.\n",
            "Preparing to unpack .../4-xfonts-encodings_1%3a1.0.5-0ubuntu2_all.deb ...\n",
            "Unpacking xfonts-encodings (1:1.0.5-0ubuntu2) ...\n",
            "Selecting previously unselected package xfonts-utils.\n",
            "Preparing to unpack .../5-xfonts-utils_1%3a7.7+6build2_amd64.deb ...\n",
            "Unpacking xfonts-utils (1:7.7+6build2) ...\n",
            "Selecting previously unselected package xfonts-base.\n",
            "Preparing to unpack .../6-xfonts-base_1%3a1.0.5_all.deb ...\n",
            "Unpacking xfonts-base (1:1.0.5) ...\n",
            "Selecting previously unselected package xserver-common.\n",
            "Preparing to unpack .../7-xserver-common_2%3a21.1.4-2ubuntu1.7~22.04.1_all.deb ...\n",
            "Unpacking xserver-common (2:21.1.4-2ubuntu1.7~22.04.1) ...\n",
            "Selecting previously unselected package xvfb.\n",
            "Preparing to unpack .../8-xvfb_2%3a21.1.4-2ubuntu1.7~22.04.1_amd64.deb ...\n",
            "Unpacking xvfb (2:21.1.4-2ubuntu1.7~22.04.1) ...\n",
            "Setting up libfontenc1:amd64 (1:1.1.4-1build3) ...\n",
            "Setting up xfonts-encodings (1:1.0.5-0ubuntu2) ...\n",
            "Setting up libxkbfile1:amd64 (1:1.1.0-1build3) ...\n",
            "Setting up libxfont2:amd64 (1:2.0.5-1build1) ...\n",
            "Setting up x11-xkb-utils (7.7+5build4) ...\n",
            "Setting up xfonts-utils (1:7.7+6build2) ...\n",
            "Setting up xfonts-base (1:1.0.5) ...\n",
            "Setting up xserver-common (2:21.1.4-2ubuntu1.7~22.04.1) ...\n",
            "Setting up xvfb (2:21.1.4-2ubuntu1.7~22.04.1) ...\n",
            "Processing triggers for man-db (2.10.2-1) ...\n",
            "Processing triggers for fontconfig (2.13.1-4.2ubuntu5) ...\n",
            "Processing triggers for libc-bin (2.35-0ubuntu3.1) ...\n",
            "/sbin/ldconfig.real: /usr/local/lib/libtbbbind_2_0.so.3 is not a symbolic link\n",
            "\n",
            "/sbin/ldconfig.real: /usr/local/lib/libtbbbind_2_5.so.3 is not a symbolic link\n",
            "\n",
            "/sbin/ldconfig.real: /usr/local/lib/libtbbmalloc_proxy.so.2 is not a symbolic link\n",
            "\n",
            "/sbin/ldconfig.real: /usr/local/lib/libtbbbind.so.3 is not a symbolic link\n",
            "\n",
            "/sbin/ldconfig.real: /usr/local/lib/libtbbmalloc.so.2 is not a symbolic link\n",
            "\n",
            "/sbin/ldconfig.real: /usr/local/lib/libtbb.so.12 is not a symbolic link\n",
            "\n",
            "Collecting pyvirtualdisplay\n",
            "  Downloading PyVirtualDisplay-3.0-py3-none-any.whl (15 kB)\n",
            "Installing collected packages: pyvirtualdisplay\n",
            "Successfully installed pyvirtualdisplay-3.0\n"
          ]
        }
      ]
    },
    {
      "cell_type": "code",
      "source": [
        "from pyvirtualdisplay import Display\n",
        "Display(visible=False, size=(1400, 900)).start()"
      ],
      "metadata": {
        "id": "k6yd8oQNb91m",
        "outputId": "328b7d1c-22ad-42d6-cd1d-7849f09e9605",
        "colab": {
          "base_uri": "https://localhost:8080/"
        }
      },
      "id": "k6yd8oQNb91m",
      "execution_count": 12,
      "outputs": [
        {
          "output_type": "execute_result",
          "data": {
            "text/plain": [
              "<pyvirtualdisplay.display.Display at 0x7ea83cf0f250>"
            ]
          },
          "metadata": {},
          "execution_count": 12
        }
      ]
    },
    {
      "cell_type": "code",
      "source": [
        "from gym.wrappers import RecordVideo\n",
        "from IPython.display import HTML\n",
        "from base64 import b64encode\n",
        "\n",
        "def test_env(env_name, policy): #, obs_rms\n",
        "    env = gym.make(env_name)\n",
        "    env = RecordVideo(env, 'videos', episode_trigger=lambda e: True)\n",
        "    pi = policy\n",
        "    pi.to(device)\n",
        "\n",
        "    for episode in range(10):\n",
        "        obs, _ = env.reset()\n",
        "        s = np.hstack((obs['agent'], obs['target']))\n",
        "        score = 0\n",
        "        done = False\n",
        "\n",
        "        while not done:\n",
        "            prob = pi(torch.from_numpy(s).float().to(device))\n",
        "            m = Categorical(prob)\n",
        "            a = m.sample()\n",
        "            obs_next, r, done, truncated, info = env.step(a.item())\n",
        "            s_prime =  np.hstack((obs_next['agent'], obs_next['target']))\n",
        "            score += r\n",
        "        print(f'episode {episode} score : {score}')\n",
        "    del env\n",
        "\n",
        "\n",
        "def display_video(episode=0):\n",
        "    video_file = open(f'/content/videos/rl-video-episode-{episode}.mp4', \"r+b\").read()\n",
        "    video_url = f\"data:video/mp4;base64,{b64encode(video_file).decode()}\"\n",
        "    return HTML(f\"\")"
      ],
      "metadata": {
        "id": "nlGbxiHtbZG_"
      },
      "id": "nlGbxiHtbZG_",
      "execution_count": 20,
      "outputs": []
    },
    {
      "cell_type": "code",
      "source": [
        "test_env(\"gym_examples:gym_examples/GridWorld-v0\", pi)"
      ],
      "metadata": {
        "id": "NEX3AkPRc7mp",
        "outputId": "f3d800c3-49d1-4701-eb20-3f91a040e3d6",
        "colab": {
          "base_uri": "https://localhost:8080/"
        }
      },
      "id": "NEX3AkPRc7mp",
      "execution_count": 21,
      "outputs": [
        {
          "output_type": "stream",
          "name": "stdout",
          "text": [
            "episode 0 score : 0.92\n",
            "episode 1 score : 0.96\n",
            "episode 2 score : 0.98\n",
            "episode 3 score : 0.97\n",
            "episode 4 score : 0.89\n",
            "episode 5 score : 0.2699999999999996\n",
            "episode 6 score : 0.21999999999999953\n",
            "episode 7 score : 0.99\n",
            "episode 8 score : 0.6099999999999999\n",
            "episode 9 score : 0.98\n"
          ]
        }
      ]
    },
    {
      "cell_type": "code",
      "source": [],
      "metadata": {
        "id": "QVRSvhGwejw7"
      },
      "id": "QVRSvhGwejw7",
      "execution_count": null,
      "outputs": []
    }
  ],
  "metadata": {
    "kernelspec": {
      "display_name": "Python 3",
      "name": "python3"
    },
    "language_info": {
      "codemirror_mode": {
        "name": "ipython",
        "version": 3
      },
      "file_extension": ".py",
      "mimetype": "text/x-python",
      "name": "python",
      "nbconvert_exporter": "python",
      "pygments_lexer": "ipython3",
      "version": "3.8.10"
    },
    "colab": {
      "provenance": [],
      "gpuType": "T4",
      "include_colab_link": true
    },
    "accelerator": "GPU"
  },
  "nbformat": 4,
  "nbformat_minor": 5
}