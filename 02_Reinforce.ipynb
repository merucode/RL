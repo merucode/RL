{
  "cells": [
    {
      "cell_type": "markdown",
      "metadata": {
        "id": "view-in-github",
        "colab_type": "text"
      },
      "source": [
        "<a href=\"https://colab.research.google.com/github/merucode/RL/blob/92-Project-Trader-Custom_environment/02_Reinforce.ipynb\" target=\"_parent\"><img src=\"https://colab.research.google.com/assets/colab-badge.svg\" alt=\"Open In Colab\"/></a>"
      ]
    },
    {
      "cell_type": "markdown",
      "source": [
        "# STEP 1. Install Dependency"
      ],
      "metadata": {
        "id": "MLB979Vs-2J1"
      },
      "id": "MLB979Vs-2J1"
    },
    {
      "cell_type": "code",
      "source": [
        "!git clone -b 92-Project-Trader-Custom_environment https://github.com/merucode/RL.git\n",
        "!cd RL && mv * ../"
      ],
      "metadata": {
        "collapsed": true,
        "id": "bMkFjiRc-i71",
        "outputId": "d854cc2a-fccb-47e4-9d8f-b872374854ca",
        "colab": {
          "base_uri": "https://localhost:8080/"
        }
      },
      "id": "bMkFjiRc-i71",
      "execution_count": 5,
      "outputs": [
        {
          "output_type": "stream",
          "name": "stdout",
          "text": [
            "fatal: destination path 'RL' already exists and is not an empty directory.\n",
            "mv: cannot stat '*': No such file or directory\n"
          ]
        }
      ]
    },
    {
      "cell_type": "code",
      "source": [
        "!pip install -e trader_world"
      ],
      "metadata": {
        "id": "RyQAKDHdN-Rm",
        "outputId": "dcf1fcae-2988-43ba-e4b7-4b0acc93728e",
        "colab": {
          "base_uri": "https://localhost:8080/"
        }
      },
      "id": "RyQAKDHdN-Rm",
      "execution_count": 2,
      "outputs": [
        {
          "output_type": "stream",
          "name": "stdout",
          "text": [
            "Obtaining file:///content/trader_world\n",
            "  Preparing metadata (setup.py) ... \u001b[?25l\u001b[?25hdone\n",
            "Requirement already satisfied: gym==0.25.2 in /usr/local/lib/python3.10/dist-packages (from trader-world==0.0.1) (0.25.2)\n",
            "Collecting pygame==2.1.0 (from trader-world==0.0.1)\n",
            "  Downloading pygame-2.1.0-cp310-cp310-manylinux_2_17_x86_64.manylinux2014_x86_64.whl (18.3 MB)\n",
            "\u001b[2K     \u001b[90m━━━━━━━━━━━━━━━━━━━━━━━━━━━━━━━━━━━━━━━━\u001b[0m \u001b[32m18.3/18.3 MB\u001b[0m \u001b[31m26.0 MB/s\u001b[0m eta \u001b[36m0:00:00\u001b[0m\n",
            "\u001b[?25hRequirement already satisfied: numpy>=1.18.0 in /usr/local/lib/python3.10/dist-packages (from gym==0.25.2->trader-world==0.0.1) (1.23.5)\n",
            "Requirement already satisfied: cloudpickle>=1.2.0 in /usr/local/lib/python3.10/dist-packages (from gym==0.25.2->trader-world==0.0.1) (2.2.1)\n",
            "Requirement already satisfied: gym-notices>=0.0.4 in /usr/local/lib/python3.10/dist-packages (from gym==0.25.2->trader-world==0.0.1) (0.0.8)\n",
            "Installing collected packages: pygame, trader-world\n",
            "  Attempting uninstall: pygame\n",
            "    Found existing installation: pygame 2.5.0\n",
            "    Uninstalling pygame-2.5.0:\n",
            "      Successfully uninstalled pygame-2.5.0\n",
            "  Running setup.py develop for trader-world\n",
            "Successfully installed pygame-2.1.0 trader-world-0.0.1\n"
          ]
        }
      ]
    },
    {
      "cell_type": "markdown",
      "source": [
        "### NOTE: After inistall gym-examples, Restart runtime"
      ],
      "metadata": {
        "id": "aI9PkFlbBds1"
      },
      "id": "aI9PkFlbBds1"
    },
    {
      "cell_type": "markdown",
      "source": [
        "# STEP 2. Ready Data"
      ],
      "metadata": {
        "id": "D94ROFrzY9Gk"
      },
      "id": "D94ROFrzY9Gk"
    },
    {
      "cell_type": "code",
      "source": [
        "!pip install pyupbit"
      ],
      "metadata": {
        "id": "7KtTIsgPZWnC",
        "collapsed": true,
        "colab": {
          "base_uri": "https://localhost:8080/"
        },
        "outputId": "4a3892b7-63c8-4cfc-9028-b87b8f6ba462"
      },
      "id": "7KtTIsgPZWnC",
      "execution_count": 3,
      "outputs": [
        {
          "output_type": "stream",
          "name": "stdout",
          "text": [
            "Collecting pyupbit\n",
            "  Downloading pyupbit-0.2.33-py3-none-any.whl (24 kB)\n",
            "Requirement already satisfied: pyjwt>=2.0.0 in /usr/lib/python3/dist-packages (from pyupbit) (2.3.0)\n",
            "Requirement already satisfied: pandas in /usr/local/lib/python3.10/dist-packages (from pyupbit) (1.5.3)\n",
            "Requirement already satisfied: requests in /usr/local/lib/python3.10/dist-packages (from pyupbit) (2.31.0)\n",
            "Collecting websockets (from pyupbit)\n",
            "  Downloading websockets-11.0.3-cp310-cp310-manylinux_2_5_x86_64.manylinux1_x86_64.manylinux_2_17_x86_64.manylinux2014_x86_64.whl (129 kB)\n",
            "\u001b[2K     \u001b[90m━━━━━━━━━━━━━━━━━━━━━━━━━━━━━━━━━━━━━━━\u001b[0m \u001b[32m129.9/129.9 kB\u001b[0m \u001b[31m3.7 MB/s\u001b[0m eta \u001b[36m0:00:00\u001b[0m\n",
            "\u001b[?25hRequirement already satisfied: python-dateutil>=2.8.1 in /usr/local/lib/python3.10/dist-packages (from pandas->pyupbit) (2.8.2)\n",
            "Requirement already satisfied: pytz>=2020.1 in /usr/local/lib/python3.10/dist-packages (from pandas->pyupbit) (2023.3)\n",
            "Requirement already satisfied: numpy>=1.21.0 in /usr/local/lib/python3.10/dist-packages (from pandas->pyupbit) (1.23.5)\n",
            "Requirement already satisfied: charset-normalizer<4,>=2 in /usr/local/lib/python3.10/dist-packages (from requests->pyupbit) (3.2.0)\n",
            "Requirement already satisfied: idna<4,>=2.5 in /usr/local/lib/python3.10/dist-packages (from requests->pyupbit) (3.4)\n",
            "Requirement already satisfied: urllib3<3,>=1.21.1 in /usr/local/lib/python3.10/dist-packages (from requests->pyupbit) (2.0.4)\n",
            "Requirement already satisfied: certifi>=2017.4.17 in /usr/local/lib/python3.10/dist-packages (from requests->pyupbit) (2023.7.22)\n",
            "Requirement already satisfied: six>=1.5 in /usr/local/lib/python3.10/dist-packages (from python-dateutil>=2.8.1->pandas->pyupbit) (1.16.0)\n",
            "Installing collected packages: websockets, pyupbit\n",
            "Successfully installed pyupbit-0.2.33 websockets-11.0.3\n"
          ]
        }
      ]
    },
    {
      "cell_type": "code",
      "source": [
        "### Ready Data\n",
        "import time\n",
        "from datetime import datetime, timedelta\n",
        "import pandas as pd\n",
        "\n",
        "import pyupbit\n",
        "\n",
        "ticker = 'KRW-BTC'\n",
        "interval = 'minute5'\n",
        "start_date = datetime.strptime('2021-01-01 00:00:00', '%Y-%m-%d %H:%M:%S')\n",
        "\n",
        "df_to = pd.DataFrame(columns=['open', 'high', 'low', 'close', 'volume'])\n",
        "\n",
        "for _ in range(30):\n",
        "    to = datetime.strftime(start_date, \"%Y-%m-%d %H:%M:%S\")\n",
        "    count = 180\n",
        "    df = pyupbit.get_ohlcv(ticker=ticker,interval=interval,to=to,count=count)\n",
        "    df = df[df.columns[:-1]]\n",
        "    start_date += timedelta(hours=15) # hours=3(1m), hours=15(5m)\n",
        "\n",
        "    df_to = pd.concat([df_to,df])\n",
        "    time.sleep(0.5)\n",
        "\n",
        "# print(df_to)\n",
        "df_to = df_to.reset_index(drop=True)\n",
        "df = df_to[df_to.columns[:4]]/10000\n",
        "df = pd.concat([df, df_to[df_to.columns[-1:]]], axis=1)\n",
        "print(df)"
      ],
      "metadata": {
        "colab": {
          "base_uri": "https://localhost:8080/"
        },
        "id": "C47R7jXFDbIW",
        "outputId": "bb24ae43-a514-482a-8960-4f2e8ff760fc"
      },
      "id": "C47R7jXFDbIW",
      "execution_count": 1,
      "outputs": [
        {
          "output_type": "stream",
          "name": "stdout",
          "text": [
            "        open    high     low   close     volume\n",
            "0     3199.2  3199.7  3195.7  3195.9  17.041450\n",
            "1     3195.9  3197.6  3193.3  3194.3  18.890478\n",
            "2     3193.3  3194.3  3179.8  3180.8  50.900129\n",
            "3     3180.8  3188.4  3175.1  3187.3  61.697074\n",
            "4     3188.0  3197.5  3186.1  3195.2  18.563247\n",
            "...      ...     ...     ...     ...        ...\n",
            "5395  4017.9  4022.1  4015.5  4022.0  15.316342\n",
            "5396  4022.0  4022.4  4008.0  4008.0  36.836909\n",
            "5397  4007.8  4015.2  4002.2  4015.2  27.802065\n",
            "5398  4009.7  4018.5  4009.7  4014.1  38.511329\n",
            "5399  4014.1  4019.5  4011.9  4019.5  27.235054\n",
            "\n",
            "[5400 rows x 5 columns]\n"
          ]
        }
      ]
    },
    {
      "cell_type": "markdown",
      "source": [
        "# STEP 3. Setting ENV"
      ],
      "metadata": {
        "id": "5hk15cKAPdaU"
      },
      "id": "5hk15cKAPdaU"
    },
    {
      "cell_type": "code",
      "source": [
        "import time\n",
        "import matplotlib.pyplot as plt\n",
        "import gym\n",
        "\n",
        "#env = gym.make(\"trader_world:TraderWorld-v0\", df=df, df_render=df, obs_len=180, actions=180, render_mode=\"rgb_array\")\n",
        "env = gym.make(\"trader_world:TraderWorld-v0\", df=df, df_render=df, obs_len=180, actions=12)"
      ],
      "metadata": {
        "id": "HyOPi5M5ZhIE",
        "outputId": "b3e04204-fb97-420c-ba0d-cf5917976654",
        "colab": {
          "base_uri": "https://localhost:8080/"
        }
      },
      "id": "HyOPi5M5ZhIE",
      "execution_count": 2,
      "outputs": [
        {
          "output_type": "stream",
          "name": "stderr",
          "text": [
            "/usr/local/lib/python3.10/dist-packages/gym/utils/passive_env_checker.py:31: UserWarning: \u001b[33mWARN: A Box observation space has an unconventional shape (neither an image, nor a 1D vector). We recommend flattening the observation to have only a 1D vector or use a custom policy to properly process the data. Actual observation shape: (180, 5)\u001b[0m\n",
            "  logger.warn(\n",
            "/usr/local/lib/python3.10/dist-packages/gym/core.py:317: DeprecationWarning: \u001b[33mWARN: Initializing wrapper in old step API which returns one bool instead of two. It is recommended to set `new_step_api=True` to use new step API. This will be the default behaviour in future.\u001b[0m\n",
            "  deprecation(\n",
            "/usr/local/lib/python3.10/dist-packages/gym/wrappers/step_api_compatibility.py:39: DeprecationWarning: \u001b[33mWARN: Initializing environment in old step API which returns one bool instead of two. It is recommended to set `new_step_api=True` to use new step API. This will be the default behaviour in future.\u001b[0m\n",
            "  deprecation(\n"
          ]
        }
      ]
    },
    {
      "cell_type": "code",
      "source": [
        "reset_obs = env.reset()\n",
        "#env.action_space, env.observation_space\n",
        "#action = env.action_space.sample()\n",
        "#action\n",
        "#obs, reward, done, info = env.step(5)\n",
        "#print(reward, done, info)\n",
        "#img = env.render()\n",
        "#plt.figure()\n",
        "#plt.imshow(img)"
      ],
      "metadata": {
        "id": "jWLZKN49oL6b",
        "outputId": "0918faeb-fd13-4266-983b-65af2ca35bc1",
        "colab": {
          "base_uri": "https://localhost:8080/"
        }
      },
      "id": "jWLZKN49oL6b",
      "execution_count": 3,
      "outputs": [
        {
          "output_type": "stream",
          "name": "stderr",
          "text": [
            "/usr/local/lib/python3.10/dist-packages/ipykernel/ipkernel.py:283: DeprecationWarning: `should_run_async` will not call `transform_cell` automatically in the future. Please pass the result to `transformed_cell` argument and any exception that happen during thetransform in `preprocessing_exc_tuple` in IPython 7.17 and above.\n",
            "  and should_run_async(code)\n",
            "/usr/local/lib/python3.10/dist-packages/gym/utils/passive_env_checker.py:190: UserWarning: \u001b[33mWARN: Future gym versions will require that `Env.reset` can be passed `return_info` to return information from the environment resetting.\u001b[0m\n",
            "  logger.warn(\n",
            "/usr/local/lib/python3.10/dist-packages/gym/utils/passive_env_checker.py:137: UserWarning: \u001b[33mWARN: The obs returned by the `reset()` method was expecting a numpy array, actual type: <class 'list'>\u001b[0m\n",
            "  logger.warn(\n",
            "/usr/local/lib/python3.10/dist-packages/gym/spaces/box.py:226: UserWarning: \u001b[33mWARN: Casting input x to numpy array.\u001b[0m\n",
            "  logger.warn(\"Casting input x to numpy array.\")\n"
          ]
        }
      ]
    },
    {
      "cell_type": "code",
      "source": [
        "env.observation_space, env.action_space"
      ],
      "metadata": {
        "id": "5yODHybPcEsM",
        "outputId": "a4933e4a-7b77-4377-b900-32a21ae6c7de",
        "colab": {
          "base_uri": "https://localhost:8080/"
        }
      },
      "id": "5yODHybPcEsM",
      "execution_count": 4,
      "outputs": [
        {
          "output_type": "execute_result",
          "data": {
            "text/plain": [
              "(Box(0, 9223372036854775805, (180, 5), int64), Discrete(12))"
            ]
          },
          "metadata": {},
          "execution_count": 4
        }
      ]
    },
    {
      "cell_type": "code",
      "source": [
        "env.observation_space.shape[0]"
      ],
      "metadata": {
        "id": "rru-AYmVf5Iy",
        "outputId": "d9adf786-99f1-490d-dc96-69f479581a34",
        "colab": {
          "base_uri": "https://localhost:8080/"
        }
      },
      "id": "rru-AYmVf5Iy",
      "execution_count": 6,
      "outputs": [
        {
          "output_type": "execute_result",
          "data": {
            "text/plain": [
              "180"
            ]
          },
          "metadata": {},
          "execution_count": 6
        }
      ]
    },
    {
      "cell_type": "code",
      "source": [
        "env.action_space.n"
      ],
      "metadata": {
        "id": "FkKpQSqsg--g",
        "outputId": "d78409ac-682e-4534-90c0-928ab588fe09",
        "colab": {
          "base_uri": "https://localhost:8080/"
        }
      },
      "id": "FkKpQSqsg--g",
      "execution_count": 7,
      "outputs": [
        {
          "output_type": "execute_result",
          "data": {
            "text/plain": [
              "12"
            ]
          },
          "metadata": {},
          "execution_count": 7
        }
      ]
    },
    {
      "cell_type": "markdown",
      "source": [
        "# STEP 4. Reinforce"
      ],
      "metadata": {
        "id": "_rW1vSrpPyDi"
      },
      "id": "_rW1vSrpPyDi"
    },
    {
      "cell_type": "code",
      "source": [],
      "metadata": {
        "id": "kQiEp6IcnuFA"
      },
      "id": "kQiEp6IcnuFA",
      "execution_count": null,
      "outputs": []
    }
  ],
  "metadata": {
    "kernelspec": {
      "display_name": "Python 3",
      "language": "python",
      "name": "python3"
    },
    "language_info": {
      "codemirror_mode": {
        "name": "ipython",
        "version": 3
      },
      "file_extension": ".py",
      "mimetype": "text/x-python",
      "name": "python",
      "nbconvert_exporter": "python",
      "pygments_lexer": "ipython3",
      "version": "3.8.10"
    },
    "colab": {
      "provenance": [],
      "include_colab_link": true
    }
  },
  "nbformat": 4,
  "nbformat_minor": 5
}