{
  "cells": [
    {
      "cell_type": "markdown",
      "metadata": {
        "id": "view-in-github",
        "colab_type": "text"
      },
      "source": [
        "<a href=\"https://colab.research.google.com/github/merucode/RL/blob/92-Project-Trader-Custom_environment/01_Creating_a_Gym_Environment.ipynb\" target=\"_parent\"><img src=\"https://colab.research.google.com/assets/colab-badge.svg\" alt=\"Open In Colab\"/></a>"
      ]
    },
    {
      "cell_type": "markdown",
      "source": [
        "# STEP 1. Install Dependency"
      ],
      "metadata": {
        "id": "MLB979Vs-2J1"
      },
      "id": "MLB979Vs-2J1"
    },
    {
      "cell_type": "code",
      "source": [
        "!git clone -b 92-Project-Trader-Custom_environment https://github.com/merucode/RL.git\n",
        "!cd RL && mv * ../"
      ],
      "metadata": {
        "collapsed": true,
        "id": "bMkFjiRc-i71",
        "outputId": "a38ffe1e-612c-4d58-aeea-c1b34db72e15",
        "colab": {
          "base_uri": "https://localhost:8080/"
        }
      },
      "id": "bMkFjiRc-i71",
      "execution_count": 1,
      "outputs": [
        {
          "output_type": "stream",
          "name": "stdout",
          "text": [
            "Cloning into 'RL'...\n",
            "remote: Enumerating objects: 101, done.\u001b[K\n",
            "remote: Counting objects: 100% (21/21), done.\u001b[K\n",
            "remote: Compressing objects: 100% (21/21), done.\u001b[K\n",
            "remote: Total 101 (delta 5), reused 0 (delta 0), pack-reused 80\u001b[K\n",
            "Receiving objects: 100% (101/101), 228.39 KiB | 5.19 MiB/s, done.\n",
            "Resolving deltas: 100% (32/32), done.\n"
          ]
        }
      ]
    },
    {
      "cell_type": "code",
      "source": [
        "!pip install -e trader_world"
      ],
      "metadata": {
        "id": "RyQAKDHdN-Rm",
        "outputId": "9e1224b2-095c-4c6e-9f25-a708ab7eb811",
        "colab": {
          "base_uri": "https://localhost:8080/"
        }
      },
      "id": "RyQAKDHdN-Rm",
      "execution_count": 2,
      "outputs": [
        {
          "output_type": "stream",
          "name": "stdout",
          "text": [
            "Obtaining file:///content/trader_world\n",
            "  Preparing metadata (setup.py) ... \u001b[?25l\u001b[?25hdone\n",
            "Requirement already satisfied: gym==0.25.2 in /usr/local/lib/python3.10/dist-packages (from trader-world==0.0.1) (0.25.2)\n",
            "Collecting pygame==2.1.0 (from trader-world==0.0.1)\n",
            "  Downloading pygame-2.1.0-cp310-cp310-manylinux_2_17_x86_64.manylinux2014_x86_64.whl (18.3 MB)\n",
            "\u001b[2K     \u001b[90m━━━━━━━━━━━━━━━━━━━━━━━━━━━━━━━━━━━━━━━━\u001b[0m \u001b[32m18.3/18.3 MB\u001b[0m \u001b[31m38.0 MB/s\u001b[0m eta \u001b[36m0:00:00\u001b[0m\n",
            "\u001b[?25hRequirement already satisfied: numpy>=1.18.0 in /usr/local/lib/python3.10/dist-packages (from gym==0.25.2->trader-world==0.0.1) (1.23.5)\n",
            "Requirement already satisfied: cloudpickle>=1.2.0 in /usr/local/lib/python3.10/dist-packages (from gym==0.25.2->trader-world==0.0.1) (2.2.1)\n",
            "Requirement already satisfied: gym-notices>=0.0.4 in /usr/local/lib/python3.10/dist-packages (from gym==0.25.2->trader-world==0.0.1) (0.0.8)\n",
            "Installing collected packages: pygame, trader-world\n",
            "  Attempting uninstall: pygame\n",
            "    Found existing installation: pygame 2.5.0\n",
            "    Uninstalling pygame-2.5.0:\n",
            "      Successfully uninstalled pygame-2.5.0\n",
            "  Running setup.py develop for trader-world\n",
            "Successfully installed pygame-2.1.0 trader-world-0.0.1\n"
          ]
        }
      ]
    },
    {
      "cell_type": "markdown",
      "source": [
        "### NOTE: After inistall gym-examples, Restart runtime"
      ],
      "metadata": {
        "id": "aI9PkFlbBds1"
      },
      "id": "aI9PkFlbBds1"
    },
    {
      "cell_type": "markdown",
      "source": [
        "# STEP 2. trader_world.py\n",
        "\n"
      ],
      "metadata": {
        "id": "sCFNs9hoOLJ_"
      },
      "id": "sCFNs9hoOLJ_"
    },
    {
      "cell_type": "code",
      "source": [
        "import gym\n",
        "from gym import spaces\n",
        "import pygame\n",
        "import numpy as np\n",
        "\n",
        "BLACK = pygame.Color(0, 0, 0)\n",
        "WHITE = pygame.Color(255, 255, 255)\n",
        "RED = pygame.Color(255, 0, 0)\n",
        "GREEN = pygame.Color(0, 255, 0)\n",
        "BLUE = pygame.Color(0, 0, 255)\n",
        "YELLOW = pygame.Color(255, 255, 0)\n",
        "\n",
        "\"\"\"\n",
        "    ### Parameter\n",
        "    * df : Series trade pd.DataFrame witch consist of ohlcv columns(open, high, low, close, volume)\n",
        "         : It is Sorted by time ascending order\n",
        "    * obs_len : What want to observate lenth from df\n",
        "    * actions : The number of discrete action space\n",
        "\n",
        "    ### Argument\n",
        "\n",
        "    ### Method\n",
        "\n",
        "    ### Action Space\n",
        "    The action space is a `Discrete(actions)`\n",
        "    | Num | Action                                                            |\n",
        "    | --- | ----------------------------------------------------------------- |\n",
        "    | 0   | Hold                                                              |\n",
        "    | 1   | Buy coin and sell coin after 1 step                               |\n",
        "    | 2   | Buy coin and sell coin after 2 step                               |\n",
        "    ...\n",
        "    | n   | Buy coin and sell coin after n step                               |\n",
        "\n",
        "\n",
        "    ### Observation Space\n",
        "    The observation space is a `Box(0, np.inf, (self.obs_len, 4), int)`. Each Num mean 1-dimension number\n",
        "    | Num | Observation                                                  | Min    | Max    |\n",
        "    |-----|--------------------------------------------------------------|--------|--------|\n",
        "    | 0   | open                                                         | 0      | Inf    |\n",
        "    | 1   | high                                                         | 0      | Inf    |\n",
        "    | 2   | low                                                          | 0      | Inf    |\n",
        "    | 3   | close                                                        | 0      | Inf    |\n",
        "    | 4   | volume                                                       | 0      | Inf    |\n",
        "\n",
        "    ### Reward\n",
        "\"\"\"\n",
        "\n",
        "class TraderWorldEnv(gym.Env):\n",
        "    metadata = {\"render_modes\": [\"human\", \"rgb_array\"], \"render_fps\": 4}\n",
        "\n",
        "    def __init__(self, df, obs_len=30, actions=10, render_mode=None):\n",
        "        self.df = df\n",
        "        self.lst_ohlcv = self.df_to_lst(self.df)    # convert DataFrame to list\n",
        "        self.obs_len = obs_len\n",
        "\n",
        "        self.window_size_x = 900        # The size of the PyGame window\n",
        "        self.window_size_y = 1500\n",
        "        self.candle_frame_size_x = 900  # The size of the candle frame\n",
        "        self.candle_frame_size_y = 900\n",
        "        self.volume_frame_size_x = 900  # The volume of the candle frame\n",
        "        self.volume_frame_size_y = 500\n",
        "        self.score_frame_size_x = 900   # The score of the candle frame\n",
        "        self.score_frame_size_y = 100\n",
        "\n",
        "\n",
        "        # Observations are ohlcv data with obeservation lenth\n",
        "        self.observation_space = spaces.Box(0, np.Inf, shape=(self.obs_len, 5), dtype=int)\n",
        "\n",
        "        # We have 10 actions(each action is differe)\n",
        "        self.action_space = spaces.Discrete(actions)\n",
        "\n",
        "\n",
        "        # \"\"\"\n",
        "        # The following dictionary maps abstract actions from `self.action_space` to\n",
        "        # the direction we will walk in if that action is taken.\n",
        "        # I.e. 0 corresponds to \"right\", 1 to \"up\" etc.\n",
        "        # \"\"\"\n",
        "        # self._action_to_direction = {\n",
        "        #     0: np.array([1, 0]),\n",
        "        #     1: np.array([0, 1]),\n",
        "        #     2: np.array([-1, 0]),\n",
        "        #     3: np.array([0, -1]),\n",
        "        # }\n",
        "\n",
        "        assert render_mode is None or render_mode in self.metadata[\"render_modes\"]\n",
        "        self.render_mode = render_mode\n",
        "\n",
        "        \"\"\"\n",
        "        If human-rendering is used, `self.window` will be a reference\n",
        "        to the window that we draw to. `self.clock` will be a clock that is used\n",
        "        to ensure that the environment is rendered at the correct framerate in\n",
        "        human-mode. They will remain `None` until human-mode is used for the\n",
        "        first time.\n",
        "        \"\"\"\n",
        "        self.window = None\n",
        "        self.clock = None\n",
        "\n",
        "    def _action_to_trade(self, action):\n",
        "        if action == 0:\n",
        "            profit = 0\n",
        "        else:\n",
        "            # Buy close price. After action value tiem step, sell low price(conservative profit)\n",
        "            buy_price = self.lst_ohlcv[self.time_step + self.obs_len - 1][3]\n",
        "            sell_price = self.lst_ohlcv[self.time_step + self.obs_len - 1 + action][2]\n",
        "            # trading_fee = buy_price*(0.015_증권사수수료)*0.01 + sell_price*(0.015_증권사수수료+0.3_세금)*0.01\n",
        "            trading_fee = buy_price*0.015*0.01 + sell_price*(0.015+0.3)*0.01\n",
        "            trading_fee = round(trading_fee)\n",
        "\n",
        "            # profit = -1 * buy_close_price + sell_low_price - trade_fee\n",
        "            profit = -1 * buy_price + sell_price - trading_fee\n",
        "        return profit, buy_price, sell_price, trading_fee\n",
        "\n",
        "    def _get_obs(self):\n",
        "        return self.lst_ohlcv[self.time_step:self.time_step + self.obs_len]\n",
        "\n",
        "    # def _get_info(self):\n",
        "    #     return {\"distance\": np.linalg.norm(self._agent_location - self._target_location, ord=1)}\n",
        "\n",
        "\n",
        "    def reset(self, seed=None, options=None):\n",
        "        # We need the following line to seed self.np_random\n",
        "        super().reset(seed=seed)\n",
        "        self.time_step = 0\n",
        "\n",
        "        self.balance = 1000000\n",
        "\n",
        "        # Choose the agent's location uniformly at random\n",
        "        #self._agent_location = self.np_random.integers(0, self.size, size=2, dtype=int)\n",
        "\n",
        "        # We will sample the target's location randomly until it does not coincide with the agent's location\n",
        "        # self._target_location = self._agent_location\n",
        "        # while np.array_equal(self._target_location, self._agent_location):\n",
        "        #     self._target_location = self.np_random.integers(\n",
        "        #         0, self.size, size=2, dtype=int\n",
        "        #     )\n",
        "\n",
        "        observation = self._get_obs()\n",
        "        #info = self._get_info()\n",
        "\n",
        "        if self.render_mode == \"human\":\n",
        "            self._render_frame()\n",
        "\n",
        "        return observation\n",
        "\n",
        "\n",
        "    def step(self, action):\n",
        "        # Map the action (element of {0,1,2,3}) to the direction we walk in\n",
        "        # direction = self._action_to_direction[action]\n",
        "        # # We use `np.clip` to make sure we don't leave the grid\n",
        "        # self._agent_location = np.clip(\n",
        "        #     self._agent_location + direction, 0, self.size - 1\n",
        "        # )\n",
        "        # An episode is done iff the agent has reached the target\n",
        "        profit, buy_price, sell_price, trading_fee = self._action_to_trade(action)\n",
        "\n",
        "        self.balance = self.balance + profit\n",
        "\n",
        "        terminated = 1 if self.balance <= 0 else 0\n",
        "\n",
        "        reward = profit\n",
        "\n",
        "        observation = self._get_obs()\n",
        "        # info = self._get_info()\n",
        "\n",
        "        if self.render_mode == \"human\":\n",
        "            self._render_frame()\n",
        "\n",
        "        self.time_step += 1\n",
        "        return observation, reward, terminated, False, {'balance':self.balance, 'buy_price':buy_price, 'sell_price':sell_price, 'traing_fee':trading_fee}\n",
        "\n",
        "\n",
        "    def render(self):\n",
        "        if self.render_mode == \"rgb_array\":\n",
        "            pygame.font.init()  # For display score\n",
        "            return self._render_frame()\n",
        "\n",
        "    def _render_frame(self):\n",
        "        if self.window is None and self.render_mode == \"human\":\n",
        "            pygame.init()\n",
        "            pygame.display.init()\n",
        "            self.window = pygame.display.set_mode((self.window_size_x, self.window_size_y))\n",
        "        if self.clock is None and self.render_mode == \"human\":\n",
        "            self.clock = pygame.time.Clock()\n",
        "\n",
        "        canvas = pygame.Surface((self.window_size_x, self.window_size_y))\n",
        "        canvas.fill(WHITE)\n",
        "\n",
        "        score_frame = pygame.Surface((self.score_frame_size_x, self.score_frame_size_y))\n",
        "        score_frame_rect = score_frame.get_rect()\n",
        "        score_frame_rect.top = 0\n",
        "        score_frame_rect.left = 0\n",
        "        score_frame.fill(BLACK)\n",
        "        score_font = pygame.font.SysFont('arial', 80)\n",
        "        score_image = score_font.render(f'{self.balance}', True, YELLOW)\n",
        "        score_frame.blit(score_image, (10, 10))\n",
        "        canvas.blit(score_frame, (0, 0))\n",
        "\n",
        "        candle_frame = self._render_candle()\n",
        "        canvas.blit(candle_frame, (0, 100))\n",
        "\n",
        "        volume_frame = self._render_volume()\n",
        "        canvas.blit(volume_frame, (0, 1000))\n",
        "\n",
        "        # pix_square_size = (\n",
        "        #     self.window_size / self.size\n",
        "        # )  # The size of a single grid square in pixels\n",
        "\n",
        "        # # First we draw the target\n",
        "        # pygame.draw.rect(\n",
        "        #     canvas,\n",
        "        #     (255, 0, 0),\n",
        "        #     pygame.Rect(\n",
        "        #         pix_square_size * self._target_location,\n",
        "        #         (pix_square_size, pix_square_size),\n",
        "        #     ),\n",
        "        # )\n",
        "        # # Now we draw the agent\n",
        "        # pygame.draw.circle(\n",
        "        #     canvas,\n",
        "        #     (0, 0, 255),\n",
        "        #     (self._agent_location + 0.5) * pix_square_size,\n",
        "        #     pix_square_size / 3,\n",
        "        # )\n",
        "\n",
        "        # # Finally, add some gridlines\n",
        "        # for x in range(self.size + 1):\n",
        "        #     pygame.draw.line(\n",
        "        #         canvas,\n",
        "        #         0,\n",
        "        #         (0, pix_square_size * x),\n",
        "        #         (self.window_size, pix_square_size * x),\n",
        "        #         width=3,\n",
        "        #     )\n",
        "        #     pygame.draw.line(\n",
        "        #         canvas,\n",
        "        #         0,\n",
        "        #         (pix_square_size * x, 0),\n",
        "        #         (pix_square_size * x, self.window_size),\n",
        "        #         width=3,\n",
        "        #     )\n",
        "\n",
        "        if self.render_mode == \"human\":\n",
        "            # The following line copies our drawings from `canvas` to the visible window\n",
        "            self.window.blit(canvas, canvas.get_rect())\n",
        "            pygame.event.pump()\n",
        "            pygame.display.update()\n",
        "\n",
        "            # We need to ensure that human-rendering occurs at the predefined framerate.\n",
        "            # The following line will automatically add a delay to keep the framerate stable.\n",
        "            self.clock.tick(self.metadata[\"render_fps\"])\n",
        "        else:  # rgb_array\n",
        "            return np.transpose(\n",
        "                np.array(pygame.surfarray.pixels3d(canvas)), axes=(1, 0, 2)\n",
        "            )\n",
        "\n",
        "    def _render_candle(self):\n",
        "        candle_frame = pygame.Surface((self.candle_frame_size_x, self.candle_frame_size_y))\n",
        "        candle_frame.fill(BLACK)\n",
        "        candle_width = self.candle_frame_size_x // self.obs_len\n",
        "        candle_line_space = (candle_width // 2) - 1\n",
        "        candle_line_width = 2\n",
        "\n",
        "        observation_candle = self._get_obs()\n",
        "        for idx in range(len(observation_candle)):\n",
        "            candle_x = idx * candle_width\n",
        "            candle_y = 100\n",
        "            candle_height = 100\n",
        "\n",
        "            if observation_candle[idx][0] == observation_candle[idx][3]:\n",
        "                candle_height = 2\n",
        "                pygame.draw.rect(candle_frame, RED,\n",
        "                                 pygame.Rect(candle_x , candle_y, candle_width, candle_height)) # candle\n",
        "                #pygame.draw.rect(candle_frame, RED,\n",
        "                                 #pygame.Rect(candle_x  + candle_line_space, candle_line_y, candle_line_width, candle_line_height)) # candle line\n",
        "            elif observation_candle[idx][0] < observation_candle[idx][3]:\n",
        "                pygame.draw.rect(candle_frame, RED,\n",
        "                                 pygame.Rect(candle_x , candle_y, candle_width, candle_height))\n",
        "                #pygame.draw.rect(candle_frame, RED,\n",
        "                                 #pygame.Rect(candle_x  + candle_line_space, candle_line_y, candle_line_width, candle_line_height)) # candle\n",
        "            else:\n",
        "                pygame.draw.rect(candle_frame, BLUE,\n",
        "                                 pygame.Rect(candle_x , candle_y, candle_width, candle_height))\n",
        "                #pygame.draw.rect(candle_frame, BLUE,\n",
        "                                 #pygame.Rect(candle_x  + candle_line_space, candle_line_y, candle_line_width, candle_line_height)) # candle\n",
        "\n",
        "        return candle_frame\n",
        "\n",
        "    def _render_volume(self):\n",
        "        volume_frame = pygame.Surface((self.volume_frame_size_x, self.volume_frame_size_y))\n",
        "        volume_frame.fill(BLACK)\n",
        "\n",
        "        volume_width = self.volume_frame_size_x // self.obs_len\n",
        "\n",
        "        observation_volume = self._get_obs()\n",
        "        for idx in range(len(observation_volume)):\n",
        "            volume_x = idx * volume_width\n",
        "            volume_y = 100\n",
        "            volume_height = 100\n",
        "            pygame.draw.rect(volume_frame, GREEN,\n",
        "                                 pygame.Rect(volume_x , volume_y, volume_width, volume_height)) # candle\n",
        "\n",
        "\n",
        "        return volume_frame\n",
        "\n",
        "    def close(self):\n",
        "        if self.window is not None:\n",
        "            pygame.display.quit()\n",
        "            pygame.quit()\n",
        "\n",
        "    def df_to_lst(self, df):\n",
        "        lst = []\n",
        "        for i in range(len(df)):\n",
        "            lst.append(df.iloc[i].tolist())\n",
        "        return lst"
      ],
      "metadata": {
        "id": "5C0oBi7hObYf"
      },
      "id": "5C0oBi7hObYf",
      "execution_count": null,
      "outputs": []
    },
    {
      "cell_type": "markdown",
      "source": [
        "# STEP 3. Test Code"
      ],
      "metadata": {
        "id": "D94ROFrzY9Gk"
      },
      "id": "D94ROFrzY9Gk"
    },
    {
      "cell_type": "code",
      "source": [
        "!pip install pykrx"
      ],
      "metadata": {
        "id": "7KtTIsgPZWnC",
        "collapsed": true,
        "outputId": "80cbceef-f0c2-458c-a56c-3cebbb5853f5",
        "colab": {
          "base_uri": "https://localhost:8080/"
        }
      },
      "id": "7KtTIsgPZWnC",
      "execution_count": 2,
      "outputs": [
        {
          "output_type": "stream",
          "name": "stdout",
          "text": [
            "Collecting pykrx\n",
            "  Downloading pykrx-1.0.45-py3-none-any.whl (2.2 MB)\n",
            "\u001b[2K     \u001b[90m━━━━━━━━━━━━━━━━━━━━━━━━━━━━━━━━━━━━━━━━\u001b[0m \u001b[32m2.2/2.2 MB\u001b[0m \u001b[31m8.3 MB/s\u001b[0m eta \u001b[36m0:00:00\u001b[0m\n",
            "\u001b[?25hRequirement already satisfied: requests in /usr/local/lib/python3.10/dist-packages (from pykrx) (2.31.0)\n",
            "Requirement already satisfied: pandas in /usr/local/lib/python3.10/dist-packages (from pykrx) (1.5.3)\n",
            "Collecting datetime (from pykrx)\n",
            "  Downloading DateTime-5.2-py3-none-any.whl (52 kB)\n",
            "\u001b[2K     \u001b[90m━━━━━━━━━━━━━━━━━━━━━━━━━━━━━━━━━━━━━━━━\u001b[0m \u001b[32m52.2/52.2 kB\u001b[0m \u001b[31m5.9 MB/s\u001b[0m eta \u001b[36m0:00:00\u001b[0m\n",
            "\u001b[?25hRequirement already satisfied: numpy in /usr/local/lib/python3.10/dist-packages (from pykrx) (1.23.5)\n",
            "Requirement already satisfied: xlrd in /usr/local/lib/python3.10/dist-packages (from pykrx) (2.0.1)\n",
            "Collecting deprecated (from pykrx)\n",
            "  Downloading Deprecated-1.2.14-py2.py3-none-any.whl (9.6 kB)\n",
            "Requirement already satisfied: multipledispatch in /usr/local/lib/python3.10/dist-packages (from pykrx) (1.0.0)\n",
            "Requirement already satisfied: matplotlib in /usr/local/lib/python3.10/dist-packages (from pykrx) (3.7.1)\n",
            "Collecting zope.interface (from datetime->pykrx)\n",
            "  Downloading zope.interface-6.0-cp310-cp310-manylinux_2_5_x86_64.manylinux1_x86_64.manylinux_2_17_x86_64.manylinux2014_x86_64.whl (246 kB)\n",
            "\u001b[2K     \u001b[90m━━━━━━━━━━━━━━━━━━━━━━━━━━━━━━━━━━━━━━━\u001b[0m \u001b[32m247.0/247.0 kB\u001b[0m \u001b[31m9.7 MB/s\u001b[0m eta \u001b[36m0:00:00\u001b[0m\n",
            "\u001b[?25hRequirement already satisfied: pytz in /usr/local/lib/python3.10/dist-packages (from datetime->pykrx) (2022.7.1)\n",
            "Requirement already satisfied: wrapt<2,>=1.10 in /usr/local/lib/python3.10/dist-packages (from deprecated->pykrx) (1.14.1)\n",
            "Requirement already satisfied: contourpy>=1.0.1 in /usr/local/lib/python3.10/dist-packages (from matplotlib->pykrx) (1.1.0)\n",
            "Requirement already satisfied: cycler>=0.10 in /usr/local/lib/python3.10/dist-packages (from matplotlib->pykrx) (0.11.0)\n",
            "Requirement already satisfied: fonttools>=4.22.0 in /usr/local/lib/python3.10/dist-packages (from matplotlib->pykrx) (4.42.0)\n",
            "Requirement already satisfied: kiwisolver>=1.0.1 in /usr/local/lib/python3.10/dist-packages (from matplotlib->pykrx) (1.4.4)\n",
            "Requirement already satisfied: packaging>=20.0 in /usr/local/lib/python3.10/dist-packages (from matplotlib->pykrx) (23.1)\n",
            "Requirement already satisfied: pillow>=6.2.0 in /usr/local/lib/python3.10/dist-packages (from matplotlib->pykrx) (9.4.0)\n",
            "Requirement already satisfied: pyparsing>=2.3.1 in /usr/local/lib/python3.10/dist-packages (from matplotlib->pykrx) (3.1.1)\n",
            "Requirement already satisfied: python-dateutil>=2.7 in /usr/local/lib/python3.10/dist-packages (from matplotlib->pykrx) (2.8.2)\n",
            "Requirement already satisfied: charset-normalizer<4,>=2 in /usr/local/lib/python3.10/dist-packages (from requests->pykrx) (3.2.0)\n",
            "Requirement already satisfied: idna<4,>=2.5 in /usr/local/lib/python3.10/dist-packages (from requests->pykrx) (3.4)\n",
            "Requirement already satisfied: urllib3<3,>=1.21.1 in /usr/local/lib/python3.10/dist-packages (from requests->pykrx) (1.26.16)\n",
            "Requirement already satisfied: certifi>=2017.4.17 in /usr/local/lib/python3.10/dist-packages (from requests->pykrx) (2023.7.22)\n",
            "Requirement already satisfied: six>=1.5 in /usr/local/lib/python3.10/dist-packages (from python-dateutil>=2.7->matplotlib->pykrx) (1.16.0)\n",
            "Requirement already satisfied: setuptools in /usr/local/lib/python3.10/dist-packages (from zope.interface->datetime->pykrx) (67.7.2)\n",
            "Installing collected packages: zope.interface, deprecated, datetime, pykrx\n",
            "Successfully installed datetime-5.2 deprecated-1.2.14 pykrx-1.0.45 zope.interface-6.0\n"
          ]
        }
      ]
    },
    {
      "cell_type": "code",
      "source": [
        "!pip install -e trader_world"
      ],
      "metadata": {
        "collapsed": true,
        "id": "p1gngcdIZYuD",
        "outputId": "00bc1fd1-3d9a-4761-ae27-61e406e1804f",
        "colab": {
          "base_uri": "https://localhost:8080/"
        }
      },
      "id": "p1gngcdIZYuD",
      "execution_count": 9,
      "outputs": [
        {
          "output_type": "stream",
          "name": "stderr",
          "text": [
            "/usr/local/lib/python3.10/dist-packages/ipykernel/ipkernel.py:283: DeprecationWarning: `should_run_async` will not call `transform_cell` automatically in the future. Please pass the result to `transformed_cell` argument and any exception that happen during thetransform in `preprocessing_exc_tuple` in IPython 7.17 and above.\n",
            "  and should_run_async(code)\n"
          ]
        },
        {
          "output_type": "stream",
          "name": "stdout",
          "text": [
            "Obtaining file:///content/trader_world\n",
            "  Preparing metadata (setup.py) ... \u001b[?25l\u001b[?25hdone\n",
            "Requirement already satisfied: gym==0.25.2 in /usr/local/lib/python3.10/dist-packages (from trader-world==0.0.1) (0.25.2)\n",
            "Requirement already satisfied: pygame==2.1.0 in /usr/local/lib/python3.10/dist-packages (from trader-world==0.0.1) (2.1.0)\n",
            "Requirement already satisfied: numpy>=1.18.0 in /usr/local/lib/python3.10/dist-packages (from gym==0.25.2->trader-world==0.0.1) (1.23.5)\n",
            "Requirement already satisfied: cloudpickle>=1.2.0 in /usr/local/lib/python3.10/dist-packages (from gym==0.25.2->trader-world==0.0.1) (2.2.1)\n",
            "Requirement already satisfied: gym-notices>=0.0.4 in /usr/local/lib/python3.10/dist-packages (from gym==0.25.2->trader-world==0.0.1) (0.0.8)\n",
            "Installing collected packages: trader-world\n",
            "  Attempting uninstall: trader-world\n",
            "    Found existing installation: trader-world 0.0.1\n",
            "    Uninstalling trader-world-0.0.1:\n",
            "      Successfully uninstalled trader-world-0.0.1\n",
            "  Running setup.py develop for trader-world\n",
            "Successfully installed trader-world-0.0.1\n"
          ]
        }
      ]
    },
    {
      "cell_type": "markdown",
      "source": [
        "After install env, Restart runtime"
      ],
      "metadata": {
        "id": "j-IMHkhYZkxk"
      },
      "id": "j-IMHkhYZkxk"
    },
    {
      "cell_type": "code",
      "source": [
        "### Ready data\n",
        "from pykrx import stock\n",
        "import pandas as pd\n",
        "\n",
        "df = stock.get_market_ohlcv(\"20210720\", \"20221010\", \"005930\")\n",
        "df = df[df.columns.tolist()[:-1]]\n",
        "df.columns = ['open', 'high', 'low', 'close', 'volume']\n",
        "\n",
        "df = df.reset_index(drop=True)\n",
        "print(df.head(3))"
      ],
      "metadata": {
        "id": "REQLyylZZKRv",
        "outputId": "31089699-184a-4c30-9563-b61d8aefe6aa",
        "colab": {
          "base_uri": "https://localhost:8080/"
        }
      },
      "id": "REQLyylZZKRv",
      "execution_count": 1,
      "outputs": [
        {
          "output_type": "stream",
          "name": "stdout",
          "text": [
            "    open   high    low  close    volume\n",
            "0  78500  79000  78400  79000  12456646\n",
            "1  79000  79100  78500  78500  12355296\n",
            "2  79000  79800  78900  79700  12618790\n"
          ]
        }
      ]
    },
    {
      "cell_type": "code",
      "source": [
        "import time\n",
        "import matplotlib.pyplot as plt\n",
        "import gym\n",
        "\n",
        "env = gym.make(\"trader_world:TraderWorld-v0\", df=df, obs_len=30, actions=10, render_mode=\"rgb_array\")"
      ],
      "metadata": {
        "id": "HyOPi5M5ZhIE",
        "outputId": "e39ec4b3-54d9-435c-9565-84384c4074f9",
        "colab": {
          "base_uri": "https://localhost:8080/"
        }
      },
      "id": "HyOPi5M5ZhIE",
      "execution_count": 2,
      "outputs": [
        {
          "output_type": "stream",
          "name": "stderr",
          "text": [
            "/usr/local/lib/python3.10/dist-packages/gym/utils/passive_env_checker.py:31: UserWarning: \u001b[33mWARN: A Box observation space has an unconventional shape (neither an image, nor a 1D vector). We recommend flattening the observation to have only a 1D vector or use a custom policy to properly process the data. Actual observation shape: (30, 5)\u001b[0m\n",
            "  logger.warn(\n",
            "/usr/local/lib/python3.10/dist-packages/gym/core.py:317: DeprecationWarning: \u001b[33mWARN: Initializing wrapper in old step API which returns one bool instead of two. It is recommended to set `new_step_api=True` to use new step API. This will be the default behaviour in future.\u001b[0m\n",
            "  deprecation(\n",
            "/usr/local/lib/python3.10/dist-packages/gym/wrappers/step_api_compatibility.py:39: DeprecationWarning: \u001b[33mWARN: Initializing environment in old step API which returns one bool instead of two. It is recommended to set `new_step_api=True` to use new step API. This will be the default behaviour in future.\u001b[0m\n",
            "  deprecation(\n"
          ]
        }
      ]
    },
    {
      "cell_type": "code",
      "source": [
        "env.reset()"
      ],
      "metadata": {
        "id": "yAlluDZzncCZ",
        "outputId": "9ca0b5d6-f966-4adb-b8c7-800eb4372659",
        "colab": {
          "base_uri": "https://localhost:8080/"
        }
      },
      "id": "yAlluDZzncCZ",
      "execution_count": 3,
      "outputs": [
        {
          "output_type": "stream",
          "name": "stderr",
          "text": [
            "/usr/local/lib/python3.10/dist-packages/ipykernel/ipkernel.py:283: DeprecationWarning: `should_run_async` will not call `transform_cell` automatically in the future. Please pass the result to `transformed_cell` argument and any exception that happen during thetransform in `preprocessing_exc_tuple` in IPython 7.17 and above.\n",
            "  and should_run_async(code)\n",
            "/usr/local/lib/python3.10/dist-packages/gym/utils/passive_env_checker.py:190: UserWarning: \u001b[33mWARN: Future gym versions will require that `Env.reset` can be passed `return_info` to return information from the environment resetting.\u001b[0m\n",
            "  logger.warn(\n",
            "/usr/local/lib/python3.10/dist-packages/gym/utils/passive_env_checker.py:137: UserWarning: \u001b[33mWARN: The obs returned by the `reset()` method was expecting a numpy array, actual type: <class 'list'>\u001b[0m\n",
            "  logger.warn(\n",
            "/usr/local/lib/python3.10/dist-packages/gym/spaces/box.py:226: UserWarning: \u001b[33mWARN: Casting input x to numpy array.\u001b[0m\n",
            "  logger.warn(\"Casting input x to numpy array.\")\n"
          ]
        },
        {
          "output_type": "execute_result",
          "data": {
            "text/plain": [
              "[[78500, 79000, 78400, 79000, 12456646],\n",
              " [79000, 79100, 78500, 78500, 12355296],\n",
              " [79000, 79800, 78900, 79700, 12618790],\n",
              " [79700, 79900, 79200, 79300, 9098910],\n",
              " [79400, 79500, 78800, 78800, 10040975],\n",
              " [79200, 79400, 78500, 78500, 11427693],\n",
              " [78300, 79200, 78100, 79200, 12743417],\n",
              " [78800, 79400, 78800, 79000, 14360453],\n",
              " [78900, 78900, 78500, 78500, 13823411],\n",
              " [79200, 79500, 78700, 79300, 11739124],\n",
              " [79400, 81400, 79300, 81400, 24339360],\n",
              " [82200, 83100, 81800, 82900, 25642368],\n",
              " [83300, 83300, 82000, 82100, 18485469],\n",
              " [81900, 82500, 81300, 81500, 13342623],\n",
              " [81500, 82300, 80900, 81500, 15522581],\n",
              " [82300, 82400, 80100, 80200, 20362639],\n",
              " [79600, 79800, 78500, 78500, 30241137],\n",
              " [77100, 78200, 76900, 77000, 42365223],\n",
              " [75800, 76000, 74100, 74400, 61270643],\n",
              " [74000, 75100, 74000, 74200, 30944847],\n",
              " [73900, 74600, 73100, 73900, 29192631],\n",
              " [73500, 74400, 73100, 73100, 22166298],\n",
              " [73500, 73900, 72500, 72700, 22364803],\n",
              " [73300, 74000, 73000, 73300, 19384648],\n",
              " [73900, 75700, 73900, 75600, 21016913],\n",
              " [76200, 76600, 74900, 75700, 22319664],\n",
              " [76100, 76200, 74600, 74600, 16671494],\n",
              " [74300, 75000, 73800, 74300, 15172748],\n",
              " [75400, 75500, 74200, 74600, 12686999],\n",
              " [74900, 76700, 74300, 76700, 24630370]]"
            ]
          },
          "metadata": {},
          "execution_count": 3
        }
      ]
    },
    {
      "cell_type": "code",
      "source": [
        "env.action_space, env.observation_space"
      ],
      "metadata": {
        "id": "jWLZKN49oL6b",
        "outputId": "281f8f15-f792-4889-d3f0-4a21a775f552",
        "colab": {
          "base_uri": "https://localhost:8080/"
        }
      },
      "id": "jWLZKN49oL6b",
      "execution_count": 4,
      "outputs": [
        {
          "output_type": "execute_result",
          "data": {
            "text/plain": [
              "(Discrete(10), Box(0, 9223372036854775805, (30, 5), int64))"
            ]
          },
          "metadata": {},
          "execution_count": 4
        }
      ]
    },
    {
      "cell_type": "code",
      "source": [
        "action = env.action_space.sample()\n",
        "action"
      ],
      "metadata": {
        "id": "XHF9eJPQoInz",
        "outputId": "cc939a31-5f9e-4a2e-d740-cf62ff2c289d",
        "colab": {
          "base_uri": "https://localhost:8080/"
        }
      },
      "id": "XHF9eJPQoInz",
      "execution_count": 5,
      "outputs": [
        {
          "output_type": "execute_result",
          "data": {
            "text/plain": [
              "3"
            ]
          },
          "metadata": {},
          "execution_count": 5
        }
      ]
    },
    {
      "cell_type": "code",
      "source": [
        "obs, reward, done, info = env.step(5)\n",
        "print(reward, done, info)"
      ],
      "metadata": {
        "id": "JjElRdExnkIg",
        "outputId": "2f868b02-3183-4f86-a3a7-d79a64e00da1",
        "colab": {
          "base_uri": "https://localhost:8080/"
        }
      },
      "id": "JjElRdExnkIg",
      "execution_count": 6,
      "outputs": [
        {
          "output_type": "stream",
          "name": "stdout",
          "text": [
            "-1051 False {'balance': 998949, 'buy_price': 76700, 'sell_price': 75900, 'traing_fee': 251}\n"
          ]
        },
        {
          "output_type": "stream",
          "name": "stderr",
          "text": [
            "/usr/local/lib/python3.10/dist-packages/gym/utils/passive_env_checker.py:242: UserWarning: \u001b[33mWARN: Expects `terminated` signal to be a boolean, actual type: <class 'int'>\u001b[0m\n",
            "  logger.warn(\n",
            "/usr/local/lib/python3.10/dist-packages/gym/utils/passive_env_checker.py:137: UserWarning: \u001b[33mWARN: The obs returned by the `step()` method was expecting a numpy array, actual type: <class 'list'>\u001b[0m\n",
            "  logger.warn(\n"
          ]
        }
      ]
    },
    {
      "cell_type": "code",
      "source": [
        "print(reward)\n",
        "df[29:40]"
      ],
      "metadata": {
        "id": "sGKKiZto6vGo",
        "outputId": "9ae1185c-9d79-4649-a899-7e3932bc242c",
        "colab": {
          "base_uri": "https://localhost:8080/",
          "height": 413
        }
      },
      "id": "sGKKiZto6vGo",
      "execution_count": 7,
      "outputs": [
        {
          "output_type": "stream",
          "name": "stdout",
          "text": [
            "-1051\n"
          ]
        },
        {
          "output_type": "execute_result",
          "data": {
            "text/plain": [
              "     open   high    low  close    volume\n",
              "29  74900  76700  74300  76700  24630370\n",
              "30  76700  77100  75900  76800  16114775\n",
              "31  76800  76800  75700  76000  15347486\n",
              "32  76400  76700  76000  76600  12096419\n",
              "33  76800  77600  76600  77300  12861180\n",
              "34  77100  77100  75900  76100  13239401\n",
              "35  76000  76400  75600  76300  11798147\n",
              "36  76400  76600  75000  75300  17600770\n",
              "37  75300  75600  74800  75300  10103212\n",
              "38  75200  76300  75100  76300  11397775\n",
              "39  77100  77700  76600  76600  18167057"
            ],
            "text/html": [
              "\n",
              "\n",
              "  <div id=\"df-a54f21bc-19c6-4eca-8ff7-18c408031923\">\n",
              "    <div class=\"colab-df-container\">\n",
              "      <div>\n",
              "<style scoped>\n",
              "    .dataframe tbody tr th:only-of-type {\n",
              "        vertical-align: middle;\n",
              "    }\n",
              "\n",
              "    .dataframe tbody tr th {\n",
              "        vertical-align: top;\n",
              "    }\n",
              "\n",
              "    .dataframe thead th {\n",
              "        text-align: right;\n",
              "    }\n",
              "</style>\n",
              "<table border=\"1\" class=\"dataframe\">\n",
              "  <thead>\n",
              "    <tr style=\"text-align: right;\">\n",
              "      <th></th>\n",
              "      <th>open</th>\n",
              "      <th>high</th>\n",
              "      <th>low</th>\n",
              "      <th>close</th>\n",
              "      <th>volume</th>\n",
              "    </tr>\n",
              "  </thead>\n",
              "  <tbody>\n",
              "    <tr>\n",
              "      <th>29</th>\n",
              "      <td>74900</td>\n",
              "      <td>76700</td>\n",
              "      <td>74300</td>\n",
              "      <td>76700</td>\n",
              "      <td>24630370</td>\n",
              "    </tr>\n",
              "    <tr>\n",
              "      <th>30</th>\n",
              "      <td>76700</td>\n",
              "      <td>77100</td>\n",
              "      <td>75900</td>\n",
              "      <td>76800</td>\n",
              "      <td>16114775</td>\n",
              "    </tr>\n",
              "    <tr>\n",
              "      <th>31</th>\n",
              "      <td>76800</td>\n",
              "      <td>76800</td>\n",
              "      <td>75700</td>\n",
              "      <td>76000</td>\n",
              "      <td>15347486</td>\n",
              "    </tr>\n",
              "    <tr>\n",
              "      <th>32</th>\n",
              "      <td>76400</td>\n",
              "      <td>76700</td>\n",
              "      <td>76000</td>\n",
              "      <td>76600</td>\n",
              "      <td>12096419</td>\n",
              "    </tr>\n",
              "    <tr>\n",
              "      <th>33</th>\n",
              "      <td>76800</td>\n",
              "      <td>77600</td>\n",
              "      <td>76600</td>\n",
              "      <td>77300</td>\n",
              "      <td>12861180</td>\n",
              "    </tr>\n",
              "    <tr>\n",
              "      <th>34</th>\n",
              "      <td>77100</td>\n",
              "      <td>77100</td>\n",
              "      <td>75900</td>\n",
              "      <td>76100</td>\n",
              "      <td>13239401</td>\n",
              "    </tr>\n",
              "    <tr>\n",
              "      <th>35</th>\n",
              "      <td>76000</td>\n",
              "      <td>76400</td>\n",
              "      <td>75600</td>\n",
              "      <td>76300</td>\n",
              "      <td>11798147</td>\n",
              "    </tr>\n",
              "    <tr>\n",
              "      <th>36</th>\n",
              "      <td>76400</td>\n",
              "      <td>76600</td>\n",
              "      <td>75000</td>\n",
              "      <td>75300</td>\n",
              "      <td>17600770</td>\n",
              "    </tr>\n",
              "    <tr>\n",
              "      <th>37</th>\n",
              "      <td>75300</td>\n",
              "      <td>75600</td>\n",
              "      <td>74800</td>\n",
              "      <td>75300</td>\n",
              "      <td>10103212</td>\n",
              "    </tr>\n",
              "    <tr>\n",
              "      <th>38</th>\n",
              "      <td>75200</td>\n",
              "      <td>76300</td>\n",
              "      <td>75100</td>\n",
              "      <td>76300</td>\n",
              "      <td>11397775</td>\n",
              "    </tr>\n",
              "    <tr>\n",
              "      <th>39</th>\n",
              "      <td>77100</td>\n",
              "      <td>77700</td>\n",
              "      <td>76600</td>\n",
              "      <td>76600</td>\n",
              "      <td>18167057</td>\n",
              "    </tr>\n",
              "  </tbody>\n",
              "</table>\n",
              "</div>\n",
              "      <button class=\"colab-df-convert\" onclick=\"convertToInteractive('df-a54f21bc-19c6-4eca-8ff7-18c408031923')\"\n",
              "              title=\"Convert this dataframe to an interactive table.\"\n",
              "              style=\"display:none;\">\n",
              "\n",
              "  <svg xmlns=\"http://www.w3.org/2000/svg\" height=\"24px\"viewBox=\"0 0 24 24\"\n",
              "       width=\"24px\">\n",
              "    <path d=\"M0 0h24v24H0V0z\" fill=\"none\"/>\n",
              "    <path d=\"M18.56 5.44l.94 2.06.94-2.06 2.06-.94-2.06-.94-.94-2.06-.94 2.06-2.06.94zm-11 1L8.5 8.5l.94-2.06 2.06-.94-2.06-.94L8.5 2.5l-.94 2.06-2.06.94zm10 10l.94 2.06.94-2.06 2.06-.94-2.06-.94-.94-2.06-.94 2.06-2.06.94z\"/><path d=\"M17.41 7.96l-1.37-1.37c-.4-.4-.92-.59-1.43-.59-.52 0-1.04.2-1.43.59L10.3 9.45l-7.72 7.72c-.78.78-.78 2.05 0 2.83L4 21.41c.39.39.9.59 1.41.59.51 0 1.02-.2 1.41-.59l7.78-7.78 2.81-2.81c.8-.78.8-2.07 0-2.86zM5.41 20L4 18.59l7.72-7.72 1.47 1.35L5.41 20z\"/>\n",
              "  </svg>\n",
              "      </button>\n",
              "\n",
              "\n",
              "\n",
              "    <div id=\"df-1ab98389-07a9-452e-a36f-087dbe427231\">\n",
              "      <button class=\"colab-df-quickchart\" onclick=\"quickchart('df-1ab98389-07a9-452e-a36f-087dbe427231')\"\n",
              "              title=\"Suggest charts.\"\n",
              "              style=\"display:none;\">\n",
              "\n",
              "<svg xmlns=\"http://www.w3.org/2000/svg\" height=\"24px\"viewBox=\"0 0 24 24\"\n",
              "     width=\"24px\">\n",
              "    <g>\n",
              "        <path d=\"M19 3H5c-1.1 0-2 .9-2 2v14c0 1.1.9 2 2 2h14c1.1 0 2-.9 2-2V5c0-1.1-.9-2-2-2zM9 17H7v-7h2v7zm4 0h-2V7h2v10zm4 0h-2v-4h2v4z\"/>\n",
              "    </g>\n",
              "</svg>\n",
              "      </button>\n",
              "    </div>\n",
              "\n",
              "<style>\n",
              "  .colab-df-quickchart {\n",
              "    background-color: #E8F0FE;\n",
              "    border: none;\n",
              "    border-radius: 50%;\n",
              "    cursor: pointer;\n",
              "    display: none;\n",
              "    fill: #1967D2;\n",
              "    height: 32px;\n",
              "    padding: 0 0 0 0;\n",
              "    width: 32px;\n",
              "  }\n",
              "\n",
              "  .colab-df-quickchart:hover {\n",
              "    background-color: #E2EBFA;\n",
              "    box-shadow: 0px 1px 2px rgba(60, 64, 67, 0.3), 0px 1px 3px 1px rgba(60, 64, 67, 0.15);\n",
              "    fill: #174EA6;\n",
              "  }\n",
              "\n",
              "  [theme=dark] .colab-df-quickchart {\n",
              "    background-color: #3B4455;\n",
              "    fill: #D2E3FC;\n",
              "  }\n",
              "\n",
              "  [theme=dark] .colab-df-quickchart:hover {\n",
              "    background-color: #434B5C;\n",
              "    box-shadow: 0px 1px 3px 1px rgba(0, 0, 0, 0.15);\n",
              "    filter: drop-shadow(0px 1px 2px rgba(0, 0, 0, 0.3));\n",
              "    fill: #FFFFFF;\n",
              "  }\n",
              "</style>\n",
              "\n",
              "    <script>\n",
              "      async function quickchart(key) {\n",
              "        const containerElement = document.querySelector('#' + key);\n",
              "        const charts = await google.colab.kernel.invokeFunction(\n",
              "            'suggestCharts', [key], {});\n",
              "      }\n",
              "    </script>\n",
              "\n",
              "      <script>\n",
              "\n",
              "function displayQuickchartButton(domScope) {\n",
              "  let quickchartButtonEl =\n",
              "    domScope.querySelector('#df-1ab98389-07a9-452e-a36f-087dbe427231 button.colab-df-quickchart');\n",
              "  quickchartButtonEl.style.display =\n",
              "    google.colab.kernel.accessAllowed ? 'block' : 'none';\n",
              "}\n",
              "\n",
              "        displayQuickchartButton(document);\n",
              "      </script>\n",
              "      <style>\n",
              "    .colab-df-container {\n",
              "      display:flex;\n",
              "      flex-wrap:wrap;\n",
              "      gap: 12px;\n",
              "    }\n",
              "\n",
              "    .colab-df-convert {\n",
              "      background-color: #E8F0FE;\n",
              "      border: none;\n",
              "      border-radius: 50%;\n",
              "      cursor: pointer;\n",
              "      display: none;\n",
              "      fill: #1967D2;\n",
              "      height: 32px;\n",
              "      padding: 0 0 0 0;\n",
              "      width: 32px;\n",
              "    }\n",
              "\n",
              "    .colab-df-convert:hover {\n",
              "      background-color: #E2EBFA;\n",
              "      box-shadow: 0px 1px 2px rgba(60, 64, 67, 0.3), 0px 1px 3px 1px rgba(60, 64, 67, 0.15);\n",
              "      fill: #174EA6;\n",
              "    }\n",
              "\n",
              "    [theme=dark] .colab-df-convert {\n",
              "      background-color: #3B4455;\n",
              "      fill: #D2E3FC;\n",
              "    }\n",
              "\n",
              "    [theme=dark] .colab-df-convert:hover {\n",
              "      background-color: #434B5C;\n",
              "      box-shadow: 0px 1px 3px 1px rgba(0, 0, 0, 0.15);\n",
              "      filter: drop-shadow(0px 1px 2px rgba(0, 0, 0, 0.3));\n",
              "      fill: #FFFFFF;\n",
              "    }\n",
              "  </style>\n",
              "\n",
              "      <script>\n",
              "        const buttonEl =\n",
              "          document.querySelector('#df-a54f21bc-19c6-4eca-8ff7-18c408031923 button.colab-df-convert');\n",
              "        buttonEl.style.display =\n",
              "          google.colab.kernel.accessAllowed ? 'block' : 'none';\n",
              "\n",
              "        async function convertToInteractive(key) {\n",
              "          const element = document.querySelector('#df-a54f21bc-19c6-4eca-8ff7-18c408031923');\n",
              "          const dataTable =\n",
              "            await google.colab.kernel.invokeFunction('convertToInteractive',\n",
              "                                                     [key], {});\n",
              "          if (!dataTable) return;\n",
              "\n",
              "          const docLinkHtml = 'Like what you see? Visit the ' +\n",
              "            '<a target=\"_blank\" href=https://colab.research.google.com/notebooks/data_table.ipynb>data table notebook</a>'\n",
              "            + ' to learn more about interactive tables.';\n",
              "          element.innerHTML = '';\n",
              "          dataTable['output_type'] = 'display_data';\n",
              "          await google.colab.output.renderOutput(dataTable, element);\n",
              "          const docLink = document.createElement('div');\n",
              "          docLink.innerHTML = docLinkHtml;\n",
              "          element.appendChild(docLink);\n",
              "        }\n",
              "      </script>\n",
              "    </div>\n",
              "  </div>\n"
            ]
          },
          "metadata": {},
          "execution_count": 7
        }
      ]
    },
    {
      "cell_type": "code",
      "source": [
        "img = env.render()\n",
        "plt.figure()\n",
        "plt.imshow(img)"
      ],
      "metadata": {
        "id": "50g5oMb7oDX_",
        "outputId": "8de1d821-7ea2-42d2-8f14-785ed4831120",
        "colab": {
          "base_uri": "https://localhost:8080/",
          "height": 510
        }
      },
      "id": "50g5oMb7oDX_",
      "execution_count": 8,
      "outputs": [
        {
          "output_type": "stream",
          "name": "stderr",
          "text": [
            "/usr/local/lib/python3.10/dist-packages/ipykernel/ipkernel.py:283: DeprecationWarning: `should_run_async` will not call `transform_cell` automatically in the future. Please pass the result to `transformed_cell` argument and any exception that happen during thetransform in `preprocessing_exc_tuple` in IPython 7.17 and above.\n",
            "  and should_run_async(code)\n"
          ]
        },
        {
          "output_type": "execute_result",
          "data": {
            "text/plain": [
              "<matplotlib.image.AxesImage at 0x7bb4315814e0>"
            ]
          },
          "metadata": {},
          "execution_count": 8
        },
        {
          "output_type": "display_data",
          "data": {
            "text/plain": [
              "<Figure size 640x480 with 1 Axes>"
            ],
            "image/png": "[encoded data removed]"
          },
          "metadata": {}
        }
      ]
    },
    {
      "cell_type": "markdown",
      "source": [
        "# Appendix. B/U gird_world.py"
      ],
      "metadata": {
        "id": "f-KBTYoMYOAn"
      },
      "id": "f-KBTYoMYOAn"
    },
    {
      "cell_type": "code",
      "source": [
        "import gym\n",
        "from gym import spaces\n",
        "import pygame\n",
        "import numpy as np\n",
        "\n",
        "\n",
        "class GridWorldEnv(gym.Env):\n",
        "    metadata = {\"render_modes\": [\"human\", \"rgb_array\"], \"render_fps\": 4}\n",
        "\n",
        "    def __init__(self, render_mode=None, size=5):\n",
        "        self.size = size        # The size of the square grid\n",
        "        self.window_size = 512  # The size of the PyGame window\n",
        "\n",
        "        # Observations are dictionaries with the agent's and the target's location.\n",
        "        # Each location is encoded as an element of {0, ..., `size`}^2, i.e. MultiDiscrete([size, size]).\n",
        "        self.observation_space = spaces.Dict(\n",
        "            {\n",
        "                \"agent\": spaces.Box(0, size - 1, shape=(2,), dtype=int),\n",
        "                \"target\": spaces.Box(0, size - 1, shape=(2,), dtype=int),\n",
        "            }\n",
        "        )\n",
        "\n",
        "        # We have 4 actions, corresponding to \"right\", \"up\", \"left\", \"down\"\n",
        "        self.action_space = spaces.Discrete(4)\n",
        "\n",
        "        \"\"\"\n",
        "        The following dictionary maps abstract actions from `self.action_space` to\n",
        "        the direction we will walk in if that action is taken.\n",
        "        I.e. 0 corresponds to \"right\", 1 to \"up\" etc.\n",
        "        \"\"\"\n",
        "        self._action_to_direction = {\n",
        "            0: np.array([1, 0]),\n",
        "            1: np.array([0, 1]),\n",
        "            2: np.array([-1, 0]),\n",
        "            3: np.array([0, -1]),\n",
        "        }\n",
        "\n",
        "        assert render_mode is None or render_mode in self.metadata[\"render_modes\"]\n",
        "        self.render_mode = render_mode\n",
        "\n",
        "        \"\"\"\n",
        "        If human-rendering is used, `self.window` will be a reference\n",
        "        to the window that we draw to. `self.clock` will be a clock that is used\n",
        "        to ensure that the environment is rendered at the correct framerate in\n",
        "        human-mode. They will remain `None` until human-mode is used for the\n",
        "        first time.\n",
        "        \"\"\"\n",
        "        self.window = None\n",
        "        self.clock = None\n",
        "\n",
        "\n",
        "    def _get_obs(self):\n",
        "        return {\"agent\": self._agent_location, \"target\": self._target_location}\n",
        "\n",
        "    def _get_info(self):\n",
        "        return {\"distance\": np.linalg.norm(self._agent_location - self._target_location, ord=1)}\n",
        "\n",
        "\n",
        "    def reset(self, seed=None, options=None):\n",
        "        # We need the following line to seed self.np_random\n",
        "        super().reset(seed=seed)\n",
        "\n",
        "        # Choose the agent's location uniformly at random\n",
        "        self._agent_location = self.np_random.integers(0, self.size, size=2, dtype=int)\n",
        "\n",
        "        # We will sample the target's location randomly until it does not coincide with the agent's location\n",
        "        self._target_location = self._agent_location\n",
        "        while np.array_equal(self._target_location, self._agent_location):\n",
        "            self._target_location = self.np_random.integers(\n",
        "                0, self.size, size=2, dtype=int\n",
        "            )\n",
        "\n",
        "        observation = self._get_obs()\n",
        "        info = self._get_info()\n",
        "\n",
        "        if self.render_mode == \"human\":\n",
        "            self._render_frame()\n",
        "\n",
        "        return observation, info\n",
        "\n",
        "\n",
        "    def step(self, action):\n",
        "        # Map the action (element of {0,1,2,3}) to the direction we walk in\n",
        "        direction = self._action_to_direction[action]\n",
        "        # We use `np.clip` to make sure we don't leave the grid\n",
        "        self._agent_location = np.clip(\n",
        "            self._agent_location + direction, 0, self.size - 1\n",
        "        )\n",
        "        # An episode is done iff the agent has reached the target\n",
        "        terminated = np.array_equal(self._agent_location, self._target_location)\n",
        "        reward = 1 if terminated else 0  # Binary sparse rewards\n",
        "        observation = self._get_obs()\n",
        "        info = self._get_info()\n",
        "\n",
        "        if self.render_mode == \"human\":\n",
        "            self._render_frame()\n",
        "\n",
        "        return observation, reward, terminated, False, info\n",
        "\n",
        "\n",
        "    def render(self):\n",
        "        if self.render_mode == \"rgb_array\":\n",
        "            return self._render_frame()\n",
        "\n",
        "    def _render_frame(self):\n",
        "        if self.window is None and self.render_mode == \"human\":\n",
        "            pygame.init()\n",
        "            pygame.display.init()\n",
        "            self.window = pygame.display.set_mode((self.window_size, self.window_size))\n",
        "        if self.clock is None and self.render_mode == \"human\":\n",
        "            self.clock = pygame.time.Clock()\n",
        "\n",
        "        canvas = pygame.Surface((self.window_size, self.window_size))\n",
        "        canvas.fill((255, 255, 255))\n",
        "        pix_square_size = (\n",
        "            self.window_size / self.size\n",
        "        )  # The size of a single grid square in pixels\n",
        "\n",
        "        # First we draw the target\n",
        "        pygame.draw.rect(\n",
        "            canvas,\n",
        "            (255, 0, 0),\n",
        "            pygame.Rect(\n",
        "                pix_square_size * self._target_location,\n",
        "                (pix_square_size, pix_square_size),\n",
        "            ),\n",
        "        )\n",
        "        # Now we draw the agent\n",
        "        pygame.draw.circle(\n",
        "            canvas,\n",
        "            (0, 0, 255),\n",
        "            (self._agent_location + 0.5) * pix_square_size,\n",
        "            pix_square_size / 3,\n",
        "        )\n",
        "\n",
        "        # Finally, add some gridlines\n",
        "        for x in range(self.size + 1):\n",
        "            pygame.draw.line(\n",
        "                canvas,\n",
        "                0,\n",
        "                (0, pix_square_size * x),\n",
        "                (self.window_size, pix_square_size * x),\n",
        "                width=3,\n",
        "            )\n",
        "            pygame.draw.line(\n",
        "                canvas,\n",
        "                0,\n",
        "                (pix_square_size * x, 0),\n",
        "                (pix_square_size * x, self.window_size),\n",
        "                width=3,\n",
        "            )\n",
        "\n",
        "        if self.render_mode == \"human\":\n",
        "            # The following line copies our drawings from `canvas` to the visible window\n",
        "            self.window.blit(canvas, canvas.get_rect())\n",
        "            pygame.event.pump()\n",
        "            pygame.display.update()\n",
        "\n",
        "            # We need to ensure that human-rendering occurs at the predefined framerate.\n",
        "            # The following line will automatically add a delay to keep the framerate stable.\n",
        "            self.clock.tick(self.metadata[\"render_fps\"])\n",
        "        else:  # rgb_array\n",
        "            return np.transpose(\n",
        "                np.array(pygame.surfarray.pixels3d(canvas)), axes=(1, 0, 2)\n",
        "            )\n",
        "\n",
        "\n",
        "    def close(self):\n",
        "        if self.window is not None:\n",
        "            pygame.display.quit()\n",
        "            pygame.quit()"
      ],
      "metadata": {
        "id": "vIsYWA0SYUYx"
      },
      "id": "vIsYWA0SYUYx",
      "execution_count": null,
      "outputs": []
    }
  ],
  "metadata": {
    "kernelspec": {
      "display_name": "Python 3",
      "language": "python",
      "name": "python3"
    },
    "language_info": {
      "codemirror_mode": {
        "name": "ipython",
        "version": 3
      },
      "file_extension": ".py",
      "mimetype": "text/x-python",
      "name": "python",
      "nbconvert_exporter": "python",
      "pygments_lexer": "ipython3",
      "version": "3.8.10"
    },
    "colab": {
      "provenance": [],
      "include_colab_link": true
    }
  },
  "nbformat": 4,
  "nbformat_minor": 5
}