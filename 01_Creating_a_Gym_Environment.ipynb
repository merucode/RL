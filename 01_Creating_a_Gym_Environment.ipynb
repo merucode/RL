{
  "cells": [
    {
      "cell_type": "markdown",
      "metadata": {
        "id": "view-in-github",
        "colab_type": "text"
      },
      "source": [
        "<a href=\"https://colab.research.google.com/github/merucode/RL/blob/31-Colab-Study-Udemy-Custom_ENV/01_Creating_a_Gym_Environment.ipynb\" target=\"_parent\"><img src=\"https://colab.research.google.com/assets/colab-badge.svg\" alt=\"Open In Colab\"/></a>"
      ]
    },
    {
      "cell_type": "markdown",
      "id": "pacific-morocco",
      "metadata": {
        "id": "pacific-morocco"
      },
      "source": [
        "___\n",
        "\n",
        "<a href='http://www.pieriandata.com'><img src='../Pierian_Data_Logo.png'/></a>\n",
        "___\n",
        "<center><em>Copyright by Pierian Data Inc.</em></center>\n",
        "<center><em>For more information, visit us at <a href='http://www.pieriandata.com'>www.pieriandata.com</a></em></center>\n",
        "\n",
        "# Creating an Open AI Gym Environment\n",
        "\n",
        "**IMPORTANT NOTE! YOU NEED TO PIP INSTALL YOUR SNAKE FILE FIRST WITH:**\n",
        "\n",
        "    pip install -e snake\n",
        "    \n",
        "**YOU RUN THIS AT YOUR COMMAND LINE (MAKE SURE TO ACTIVATE ANY ENV YOU ARE USING) AT THE TOP LEVEL FOLDER, FOR OUR COURSE NOTES THIS WOULD BE \"07-Custom-RL\"**\n"
      ]
    },
    {
      "cell_type": "code",
      "execution_count": null,
      "id": "lyric-aruba",
      "metadata": {
        "id": "lyric-aruba"
      },
      "outputs": [],
      "source": [
        "\n",
        "\n",
        "import time\n",
        "import matplotlib.pyplot as plt\n",
        "import gym\n"
      ]
    },
    {
      "cell_type": "code",
      "execution_count": null,
      "id": "durable-english",
      "metadata": {
        "scrolled": true,
        "id": "durable-english",
        "outputId": "4b9af684-3124-4f55-a6fb-82cc64922059"
      },
      "outputs": [
        {
          "name": "stdout",
          "output_type": "stream",
          "text": [
            "pygame 2.0.1 (SDL 2.0.14, Python 3.8.0)\n",
            "Hello from the pygame community. https://www.pygame.org/contribute.html\n"
          ]
        }
      ],
      "source": [
        "env = gym.make(\"snake:snake-v0\")"
      ]
    },
    {
      "cell_type": "code",
      "execution_count": null,
      "id": "integrated-accuracy",
      "metadata": {
        "id": "integrated-accuracy",
        "outputId": "e35c7d6f-c495-4095-a335-0198fe7b9828"
      },
      "outputs": [
        {
          "name": "stdout",
          "output_type": "stream",
          "text": [
            "0 False {'score': 0}\n"
          ]
        },
        {
          "data": {
            "text/plain": [
              "<matplotlib.image.AxesImage at 0x7fb657617370>"
            ]
          },
          "execution_count": 7,
          "metadata": {},
          "output_type": "execute_result"
        },
        {
          "data": {
            "image/png": "[encoded data removed]",
            "text/plain": [
              "<Figure size 432x288 with 1 Axes>"
            ]
          },
          "metadata": {
            "needs_background": "light"
          },
          "output_type": "display_data"
        }
      ],
      "source": [
        "env.reset()\n",
        "env.render(\"human\")\n",
        "action = env.action_space.sample()\n",
        "img, reward, done, info = env.step(1)\n",
        "print(reward, done, info)\n",
        "plt.figure()\n",
        "plt.imshow(img)"
      ]
    },
    {
      "cell_type": "code",
      "execution_count": null,
      "id": "hundred-wrist",
      "metadata": {
        "id": "hundred-wrist"
      },
      "outputs": [],
      "source": [
        "env.reset()\n",
        "for i in range(100):\n",
        "    env.render(\"human\")\n",
        "    action = env.action_space.sample()\n",
        "    img, reward, done, info = env.step(action)\n",
        "    time.sleep(0.1)"
      ]
    }
  ],
  "metadata": {
    "kernelspec": {
      "display_name": "Python 3",
      "language": "python",
      "name": "python3"
    },
    "language_info": {
      "codemirror_mode": {
        "name": "ipython",
        "version": 3
      },
      "file_extension": ".py",
      "mimetype": "text/x-python",
      "name": "python",
      "nbconvert_exporter": "python",
      "pygments_lexer": "ipython3",
      "version": "3.8.10"
    },
    "colab": {
      "provenance": [],
      "include_colab_link": true
    }
  },
  "nbformat": 4,
  "nbformat_minor": 5
}