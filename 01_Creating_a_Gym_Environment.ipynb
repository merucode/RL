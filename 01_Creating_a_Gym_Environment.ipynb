{
  "cells": [
    {
      "cell_type": "markdown",
      "metadata": {
        "id": "view-in-github",
        "colab_type": "text"
      },
      "source": [
        "<a href=\"https://colab.research.google.com/github/merucode/RL/blob/92-Project-Trader-Custom_environment/01_Creating_a_Gym_Environment.ipynb\" target=\"_parent\"><img src=\"https://colab.research.google.com/assets/colab-badge.svg\" alt=\"Open In Colab\"/></a>"
      ]
    },
    {
      "cell_type": "markdown",
      "source": [
        "# STEP 1. Install Dependency"
      ],
      "metadata": {
        "id": "MLB979Vs-2J1"
      },
      "id": "MLB979Vs-2J1"
    },
    {
      "cell_type": "code",
      "source": [
        "!git clone -b 92-Project-Trader-Custom_environment https://github.com/merucode/RL.git\n",
        "!cd RL && mv * ../"
      ],
      "metadata": {
        "collapsed": true,
        "id": "bMkFjiRc-i71",
        "outputId": "a38ffe1e-612c-4d58-aeea-c1b34db72e15",
        "colab": {
          "base_uri": "https://localhost:8080/"
        }
      },
      "id": "bMkFjiRc-i71",
      "execution_count": 1,
      "outputs": [
        {
          "output_type": "stream",
          "name": "stdout",
          "text": [
            "Cloning into 'RL'...\n",
            "remote: Enumerating objects: 101, done.\u001b[K\n",
            "remote: Counting objects: 100% (21/21), done.\u001b[K\n",
            "remote: Compressing objects: 100% (21/21), done.\u001b[K\n",
            "remote: Total 101 (delta 5), reused 0 (delta 0), pack-reused 80\u001b[K\n",
            "Receiving objects: 100% (101/101), 228.39 KiB | 5.19 MiB/s, done.\n",
            "Resolving deltas: 100% (32/32), done.\n"
          ]
        }
      ]
    },
    {
      "cell_type": "code",
      "source": [
        "!pip install -e trader_world"
      ],
      "metadata": {
        "id": "RyQAKDHdN-Rm",
        "outputId": "9e1224b2-095c-4c6e-9f25-a708ab7eb811",
        "colab": {
          "base_uri": "https://localhost:8080/"
        }
      },
      "id": "RyQAKDHdN-Rm",
      "execution_count": 2,
      "outputs": [
        {
          "output_type": "stream",
          "name": "stdout",
          "text": [
            "Obtaining file:///content/trader_world\n",
            "  Preparing metadata (setup.py) ... \u001b[?25l\u001b[?25hdone\n",
            "Requirement already satisfied: gym==0.25.2 in /usr/local/lib/python3.10/dist-packages (from trader-world==0.0.1) (0.25.2)\n",
            "Collecting pygame==2.1.0 (from trader-world==0.0.1)\n",
            "  Downloading pygame-2.1.0-cp310-cp310-manylinux_2_17_x86_64.manylinux2014_x86_64.whl (18.3 MB)\n",
            "\u001b[2K     \u001b[90m━━━━━━━━━━━━━━━━━━━━━━━━━━━━━━━━━━━━━━━━\u001b[0m \u001b[32m18.3/18.3 MB\u001b[0m \u001b[31m38.0 MB/s\u001b[0m eta \u001b[36m0:00:00\u001b[0m\n",
            "\u001b[?25hRequirement already satisfied: numpy>=1.18.0 in /usr/local/lib/python3.10/dist-packages (from gym==0.25.2->trader-world==0.0.1) (1.23.5)\n",
            "Requirement already satisfied: cloudpickle>=1.2.0 in /usr/local/lib/python3.10/dist-packages (from gym==0.25.2->trader-world==0.0.1) (2.2.1)\n",
            "Requirement already satisfied: gym-notices>=0.0.4 in /usr/local/lib/python3.10/dist-packages (from gym==0.25.2->trader-world==0.0.1) (0.0.8)\n",
            "Installing collected packages: pygame, trader-world\n",
            "  Attempting uninstall: pygame\n",
            "    Found existing installation: pygame 2.5.0\n",
            "    Uninstalling pygame-2.5.0:\n",
            "      Successfully uninstalled pygame-2.5.0\n",
            "  Running setup.py develop for trader-world\n",
            "Successfully installed pygame-2.1.0 trader-world-0.0.1\n"
          ]
        }
      ]
    },
    {
      "cell_type": "markdown",
      "source": [
        "### NOTE: After inistall gym-examples, Restart runtime"
      ],
      "metadata": {
        "id": "aI9PkFlbBds1"
      },
      "id": "aI9PkFlbBds1"
    },
    {
      "cell_type": "markdown",
      "source": [
        "# STEP 2. trader_world.py\n",
        "\n"
      ],
      "metadata": {
        "id": "sCFNs9hoOLJ_"
      },
      "id": "sCFNs9hoOLJ_"
    },
    {
      "cell_type": "code",
      "source": [
        "import gym\n",
        "from gym import spaces\n",
        "import pygame\n",
        "import numpy as np\n",
        "\n",
        "BLACK = pygame.Color(0, 0, 0)\n",
        "WHITE = pygame.Color(255, 255, 255)\n",
        "RED = pygame.Color(255, 0, 0)\n",
        "GREEN = pygame.Color(0, 255, 0)\n",
        "BLUE = pygame.Color(0, 0, 255)\n",
        "YELLOW = pygame.Color(255, 255, 0)\n",
        "\n",
        "\"\"\"\n",
        "    ### Parameter\n",
        "    * df : Series trade pd.DataFrame witch consist of ohlcv columns(open, high, low, close, volume)\n",
        "         : It is Sorted by time ascending order\n",
        "    * obs_len : What want to observate lenth from df\n",
        "    * actions : The number of discrete action space\n",
        "    * df_render : If you have preprocessing df and want to render with original df, use obs_df with original df\n",
        "\n",
        "    ### Argument\n",
        "    ...\n",
        "\n",
        "    ### Method\n",
        "    ...\n",
        "\n",
        "    ### Action Space\n",
        "    The action space is a `Discrete(actions)`\n",
        "    | Num | Action                                                            |\n",
        "    | --- | ----------------------------------------------------------------- |\n",
        "    | 0   | Hold                                                              |\n",
        "    | 1   | Buy coin and sell coin after 1 step                               |\n",
        "    | 2   | Buy coin and sell coin after 2 step                               |\n",
        "    ...\n",
        "    | n   | Buy coin and sell coin after n step                               |\n",
        "\n",
        "\n",
        "    ### Observation Space\n",
        "    The observation space is a `Box(0, np.inf, (self.obs_len, 4), int)`. Each Num mean 1-dimension number\n",
        "    | Num | Observation                                                  | Min    | Max    |\n",
        "    |-----|--------------------------------------------------------------|--------|--------|\n",
        "    | 0   | open                                                         | 0      | Inf    |\n",
        "    | 1   | high                                                         | 0      | Inf    |\n",
        "    | 2   | low                                                          | 0      | Inf    |\n",
        "    | 3   | close                                                        | 0      | Inf    |\n",
        "    | 4   | volume                                                       | 0      | Inf    |\n",
        "\n",
        "    ### Reward\n",
        "    Profit\n",
        "\"\"\"\n",
        "\n",
        "class TraderWorldEnv(gym.Env):\n",
        "    metadata = {\"render_modes\": [\"human\", \"rgb_array\"], \"render_fps\": 4}\n",
        "\n",
        "    def __init__(self, df, df_render=None, obs_len=30, actions=10, render_mode=None):\n",
        "        self.df = df\n",
        "        self.lst_ohlcv = self.df_to_lst(self.df)    # convert DataFrame to list\n",
        "        self.obs_len = obs_len\n",
        "        self.time_step_limit = len(self.df) - self.obs_len - actions\n",
        "\n",
        "        self.df_render = df_render if df_render is not None else df\n",
        "        self.lst_ohlcv_render = self.df_to_lst(self.df_render)\n",
        "\n",
        "        self.window_size_x = 900        # The size of the PyGame window\n",
        "        self.window_size_y = 1500\n",
        "        self.candle_frame_size_x = 900  # The size of the candle frame\n",
        "        self.candle_frame_size_y = 900\n",
        "        self.volume_frame_size_x = 900  # The volume of the candle frame\n",
        "        self.volume_frame_size_y = 500\n",
        "        self.score_frame_size_x = 900   # The score of the candle frame\n",
        "        self.score_frame_size_y = 100\n",
        "\n",
        "        # Observations are ohlcv data with obeservation lenth\n",
        "        self.observation_space = spaces.Box(0, np.Inf, shape=(self.obs_len, 5), dtype=int)\n",
        "\n",
        "        # We have 10 actions(each action is differe)\n",
        "        self.action_space = spaces.Discrete(actions)\n",
        "\n",
        "        assert render_mode is None or render_mode in self.metadata[\"render_modes\"]\n",
        "        self.render_mode = render_mode\n",
        "\n",
        "        \"\"\"\n",
        "        If human-rendering is used, `self.window` will be a reference\n",
        "        to the window that we draw to. `self.clock` will be a clock that is used\n",
        "        to ensure that the environment is rendered at the correct framerate in\n",
        "        human-mode. They will remain `None` until human-mode is used for the\n",
        "        first time.\n",
        "        \"\"\"\n",
        "        self.window = None\n",
        "        self.clock = None\n",
        "\n",
        "    def _action_to_trade(self, action):\n",
        "        if action == 0:\n",
        "            profit = 0\n",
        "        else:\n",
        "            # Buy close price. After action value tiem step, sell low price(conservative profit)\n",
        "            buy_price = self.lst_ohlcv[self.time_step + self.obs_len - 1][3]\n",
        "            sell_price = self.lst_ohlcv[self.time_step + self.obs_len - 1 + action][2]\n",
        "            # trading_fee = buy_price*(0.015_증권사수수료)*0.01 + sell_price*(0.015_증권사수수료+0.3_세금)*0.01\n",
        "            trading_fee = buy_price*0.015*0.01 + sell_price*(0.015+0.3)*0.01\n",
        "            trading_fee = round(trading_fee)\n",
        "\n",
        "            # profit = -1 * buy_close_price + sell_low_price - trade_fee\n",
        "            profit = -1 * buy_price + sell_price - trading_fee\n",
        "        return profit, buy_price, sell_price, trading_fee\n",
        "\n",
        "    def _get_obs(self):\n",
        "        return self.lst_ohlcv[self.time_step:self.time_step + self.obs_len]\n",
        "\n",
        "    def _get_obs_render(self):\n",
        "        return self.lst_ohlcv_render[self.time_step:self.time_step + self.obs_len]\n",
        "\n",
        "    #def _get_info(self):\n",
        "    #    return {\"distance\": np.linalg.norm(self._agent_location - self._target_location, ord=1)}\n",
        "\n",
        "\n",
        "    def reset(self, seed=None, options=None):\n",
        "        self.time_step = 0\n",
        "\n",
        "        self.balance = 100000\n",
        "\n",
        "        observation = self._get_obs()\n",
        "        #info = self._get_info()\n",
        "\n",
        "        if self.render_mode == \"human\":\n",
        "            self._render_frame()\n",
        "\n",
        "        return observation\n",
        "\n",
        "\n",
        "    def step(self, action):\n",
        "        profit, buy_price, sell_price, trading_fee = self._action_to_trade(action)\n",
        "\n",
        "        self.balance = self.balance + profit\n",
        "\n",
        "        terminated = 1 if (self.balance <= 0 or self.time_step==self.time_step_limit) else 0\n",
        "\n",
        "        reward = profit / 100\n",
        "\n",
        "        observation = self._get_obs()\n",
        "        #info = self._get_info()\n",
        "        info = {'balance':self.balance, 'buy_price':buy_price, 'sell_price':sell_price, 'traing_fee':trading_fee,\n",
        "                'time_step':self.time_step, 'time_step_limit':self.time_step_limit}\n",
        "\n",
        "        if self.render_mode == \"human\":\n",
        "            self._render_frame()\n",
        "\n",
        "        self.time_step += 1\n",
        "        return observation, reward, terminated, False, info\n",
        "\n",
        "\n",
        "    ########################## RENDER ##########################\n",
        "    def render(self):\n",
        "        if self.render_mode == \"rgb_array\":\n",
        "            pygame.font.init()  # For display score\n",
        "            return self._render_frame()\n",
        "\n",
        "    def _render_frame(self):\n",
        "        if self.window is None and self.render_mode == \"human\":\n",
        "            pygame.init()\n",
        "            pygame.display.init()\n",
        "            self.window = pygame.display.set_mode((self.window_size_x, self.window_size_y))\n",
        "        if self.clock is None and self.render_mode == \"human\":\n",
        "            self.clock = pygame.time.Clock()\n",
        "\n",
        "        canvas = pygame.Surface((self.window_size_x, self.window_size_y))\n",
        "        canvas.fill(WHITE)\n",
        "\n",
        "        score_frame = pygame.Surface((self.score_frame_size_x, self.score_frame_size_y))\n",
        "        score_frame_rect = score_frame.get_rect()\n",
        "        score_frame_rect.top = 0\n",
        "        score_frame_rect.left = 0\n",
        "        score_frame.fill(BLACK)\n",
        "        score_font = pygame.font.SysFont('arial', 80)\n",
        "        score_image = score_font.render(f'{self.balance}', True, YELLOW)\n",
        "        score_frame.blit(score_image, (10, 10))\n",
        "        canvas.blit(score_frame, (0, 0))\n",
        "        # Candle Plot\n",
        "        candle_frame = self._render_candle()\n",
        "        canvas.blit(candle_frame, (0, 100))\n",
        "        # Bar Plot\n",
        "        volume_frame = self._render_volume()\n",
        "        canvas.blit(volume_frame, (0, 1000))\n",
        "\n",
        "        if self.render_mode == \"human\":\n",
        "            # The following line copies our drawings from `canvas` to the visible window\n",
        "            self.window.blit(canvas, canvas.get_rect())\n",
        "            pygame.event.pump()\n",
        "            pygame.display.update()\n",
        "\n",
        "            # We need to ensure that human-rendering occurs at the predefined framerate.\n",
        "            # The following line will automatically add a delay to keep the framerate stable.\n",
        "            self.clock.tick(self.metadata[\"render_fps\"])\n",
        "        else:  # rgb_array\n",
        "            return np.transpose(\n",
        "                np.array(pygame.surfarray.pixels3d(canvas)), axes=(1, 0, 2)\n",
        "            )\n",
        "\n",
        "    def _render_candle(self):\n",
        "        candle_frame = pygame.Surface((self.candle_frame_size_x, self.candle_frame_size_y))\n",
        "        candle_frame.fill(BLACK)\n",
        "        candle_width = self.candle_frame_size_x // self.obs_len\n",
        "        candle_line_space = (candle_width // 2) - 1\n",
        "        candle_line_width = 2\n",
        "\n",
        "        observation_render = self._get_obs_render()\n",
        "        scale_ohlc_lst_render = self._get_scale_ohlc_lst_render(observation_render, new_range=self.candle_frame_size_y)\n",
        "\n",
        "        for idx in range(len(scale_ohlc_lst_render)):\n",
        "            candle_x = idx * candle_width\n",
        "            candle_y = self.candle_frame_size_y - max(scale_ohlc_lst_render[idx][0], scale_ohlc_lst_render[idx][3])\n",
        "            candle_height = abs(scale_ohlc_lst_render[idx][0] - scale_ohlc_lst_render[idx][3])\n",
        "\n",
        "            candle_line_y = self.candle_frame_size_y - scale_ohlc_lst_render[idx][1]\n",
        "            candle_line_height = scale_ohlc_lst_render[idx][1] - scale_ohlc_lst_render[idx][2]\n",
        "\n",
        "            if scale_ohlc_lst_render[idx][0] == scale_ohlc_lst_render[idx][3]:\n",
        "                candle_height = 2\n",
        "                pygame.draw.rect(candle_frame, RED,\n",
        "                                 pygame.Rect(candle_x , candle_y, candle_width, candle_height)) # candle\n",
        "                pygame.draw.rect(candle_frame, RED,\n",
        "                                 pygame.Rect(candle_x + candle_line_space, candle_line_y, candle_line_width, candle_line_height)) # candle line\n",
        "            elif scale_ohlc_lst_render[idx][0] < scale_ohlc_lst_render[idx][3]:\n",
        "                pygame.draw.rect(candle_frame, RED,\n",
        "                                 pygame.Rect(candle_x , candle_y, candle_width, candle_height))\n",
        "                pygame.draw.rect(candle_frame, RED,\n",
        "                                 pygame.Rect(candle_x + candle_line_space, candle_line_y, candle_line_width, candle_line_height)) # candle line\n",
        "            else:\n",
        "                pygame.draw.rect(candle_frame, BLUE,\n",
        "                                 pygame.Rect(candle_x , candle_y, candle_width, candle_height))\n",
        "                pygame.draw.rect(candle_frame, BLUE,\n",
        "                                 pygame.Rect(candle_x + candle_line_space, candle_line_y, candle_line_width, candle_line_height)) # candle line\n",
        "\n",
        "        return candle_frame\n",
        "\n",
        "\n",
        "    def _render_volume(self):\n",
        "        volume_frame = pygame.Surface((self.volume_frame_size_x, self.volume_frame_size_y))\n",
        "        volume_frame.fill(BLACK)\n",
        "\n",
        "        volume_width = self.volume_frame_size_x // self.obs_len\n",
        "\n",
        "        observation_render = self._get_obs_render()\n",
        "        scale_v_lst_render = self._get_scale_v_lst_render(observation_render, new_range=self.volume_frame_size_y)\n",
        "\n",
        "        for idx in range(len(scale_v_lst_render)):\n",
        "            volume_x = idx * volume_width\n",
        "            volume_height = scale_v_lst_render[idx][0]\n",
        "            volume_y = self.volume_frame_size_y - volume_height\n",
        "\n",
        "            pygame.draw.rect(volume_frame, GREEN,\n",
        "                                 pygame.Rect(volume_x , volume_y, volume_width, volume_height)) # candle\n",
        "        return volume_frame\n",
        "\n",
        "\n",
        "    def close(self):\n",
        "        if self.window is not None:\n",
        "            pygame.display.quit()\n",
        "            pygame.quit()\n",
        "\n",
        "    ########################## Util ##########################\n",
        "    def df_to_lst(self, df):\n",
        "        lst = []\n",
        "        for i in range(len(df)):\n",
        "            lst.append(df.iloc[i].tolist())\n",
        "        return lst\n",
        "\n",
        "    def _get_scale_ohlc_lst_render(self, ohlcv_lst, new_range):\n",
        "        ohlc_lst = []\n",
        "        for idx in range(len(ohlcv_lst)):\n",
        "            ohlc_lst.append(ohlcv_lst[idx][0:4])\n",
        "        ohlc_scale_lst = self._min_max_scale_lst(ohlc_lst, new_range)\n",
        "        return ohlc_scale_lst\n",
        "\n",
        "    def _get_scale_v_lst_render(self, ohlcv_lst, new_range):\n",
        "        v_lst = []\n",
        "        for idx in range(len(ohlcv_lst)):\n",
        "            v_lst.append(ohlcv_lst[idx][-1:])\n",
        "        v_scale_lst = self._min_max_scale_lst(v_lst, new_range, old_min=0)\n",
        "        return v_scale_lst\n",
        "\n",
        "    def _min_max_scale_lst(self, lst, new_range, old_min=None, old_max=None):\n",
        "        old_min = min(map(min, lst)) if old_min is None else old_min # min from 2-dimension list\n",
        "        old_max = max(map(max, lst)) if old_max is None else old_max # max from 2-dimension list\n",
        "        new_lst = []\n",
        "        new_sub_lst = []\n",
        "        for sub_lst in lst:\n",
        "            new_sub_lst = []\n",
        "            for value in sub_lst:\n",
        "                scaled_value = self._max_min_scale_value(value, old_min, old_max, new_range=new_range)\n",
        "                new_sub_lst.append(scaled_value)\n",
        "            new_lst.append(new_sub_lst)\n",
        "\n",
        "        return new_lst\n",
        "\n",
        "    def _max_min_scale_value(self,value, old_min, old_max, new_range=1):\n",
        "        scaled_value = (value - old_min) / (old_max - old_min) * new_range\n",
        "        scaled_value = round(scaled_value)\n",
        "        return scaled_value"
      ],
      "metadata": {
        "id": "5C0oBi7hObYf"
      },
      "id": "5C0oBi7hObYf",
      "execution_count": null,
      "outputs": []
    },
    {
      "cell_type": "markdown",
      "source": [
        "# STEP 3. Test Code"
      ],
      "metadata": {
        "id": "D94ROFrzY9Gk"
      },
      "id": "D94ROFrzY9Gk"
    },
    {
      "cell_type": "code",
      "source": [
        "!pip install pykrx"
      ],
      "metadata": {
        "id": "7KtTIsgPZWnC",
        "collapsed": true,
        "colab": {
          "base_uri": "https://localhost:8080/"
        },
        "outputId": "80cbceef-f0c2-458c-a56c-3cebbb5853f5"
      },
      "id": "7KtTIsgPZWnC",
      "execution_count": 2,
      "outputs": [
        {
          "output_type": "stream",
          "name": "stdout",
          "text": [
            "Collecting pykrx\n",
            "  Downloading pykrx-1.0.45-py3-none-any.whl (2.2 MB)\n",
            "\u001b[2K     \u001b[90m━━━━━━━━━━━━━━━━━━━━━━━━━━━━━━━━━━━━━━━━\u001b[0m \u001b[32m2.2/2.2 MB\u001b[0m \u001b[31m8.3 MB/s\u001b[0m eta \u001b[36m0:00:00\u001b[0m\n",
            "\u001b[?25hRequirement already satisfied: requests in /usr/local/lib/python3.10/dist-packages (from pykrx) (2.31.0)\n",
            "Requirement already satisfied: pandas in /usr/local/lib/python3.10/dist-packages (from pykrx) (1.5.3)\n",
            "Collecting datetime (from pykrx)\n",
            "  Downloading DateTime-5.2-py3-none-any.whl (52 kB)\n",
            "\u001b[2K     \u001b[90m━━━━━━━━━━━━━━━━━━━━━━━━━━━━━━━━━━━━━━━━\u001b[0m \u001b[32m52.2/52.2 kB\u001b[0m \u001b[31m5.9 MB/s\u001b[0m eta \u001b[36m0:00:00\u001b[0m\n",
            "\u001b[?25hRequirement already satisfied: numpy in /usr/local/lib/python3.10/dist-packages (from pykrx) (1.23.5)\n",
            "Requirement already satisfied: xlrd in /usr/local/lib/python3.10/dist-packages (from pykrx) (2.0.1)\n",
            "Collecting deprecated (from pykrx)\n",
            "  Downloading Deprecated-1.2.14-py2.py3-none-any.whl (9.6 kB)\n",
            "Requirement already satisfied: multipledispatch in /usr/local/lib/python3.10/dist-packages (from pykrx) (1.0.0)\n",
            "Requirement already satisfied: matplotlib in /usr/local/lib/python3.10/dist-packages (from pykrx) (3.7.1)\n",
            "Collecting zope.interface (from datetime->pykrx)\n",
            "  Downloading zope.interface-6.0-cp310-cp310-manylinux_2_5_x86_64.manylinux1_x86_64.manylinux_2_17_x86_64.manylinux2014_x86_64.whl (246 kB)\n",
            "\u001b[2K     \u001b[90m━━━━━━━━━━━━━━━━━━━━━━━━━━━━━━━━━━━━━━━\u001b[0m \u001b[32m247.0/247.0 kB\u001b[0m \u001b[31m9.7 MB/s\u001b[0m eta \u001b[36m0:00:00\u001b[0m\n",
            "\u001b[?25hRequirement already satisfied: pytz in /usr/local/lib/python3.10/dist-packages (from datetime->pykrx) (2022.7.1)\n",
            "Requirement already satisfied: wrapt<2,>=1.10 in /usr/local/lib/python3.10/dist-packages (from deprecated->pykrx) (1.14.1)\n",
            "Requirement already satisfied: contourpy>=1.0.1 in /usr/local/lib/python3.10/dist-packages (from matplotlib->pykrx) (1.1.0)\n",
            "Requirement already satisfied: cycler>=0.10 in /usr/local/lib/python3.10/dist-packages (from matplotlib->pykrx) (0.11.0)\n",
            "Requirement already satisfied: fonttools>=4.22.0 in /usr/local/lib/python3.10/dist-packages (from matplotlib->pykrx) (4.42.0)\n",
            "Requirement already satisfied: kiwisolver>=1.0.1 in /usr/local/lib/python3.10/dist-packages (from matplotlib->pykrx) (1.4.4)\n",
            "Requirement already satisfied: packaging>=20.0 in /usr/local/lib/python3.10/dist-packages (from matplotlib->pykrx) (23.1)\n",
            "Requirement already satisfied: pillow>=6.2.0 in /usr/local/lib/python3.10/dist-packages (from matplotlib->pykrx) (9.4.0)\n",
            "Requirement already satisfied: pyparsing>=2.3.1 in /usr/local/lib/python3.10/dist-packages (from matplotlib->pykrx) (3.1.1)\n",
            "Requirement already satisfied: python-dateutil>=2.7 in /usr/local/lib/python3.10/dist-packages (from matplotlib->pykrx) (2.8.2)\n",
            "Requirement already satisfied: charset-normalizer<4,>=2 in /usr/local/lib/python3.10/dist-packages (from requests->pykrx) (3.2.0)\n",
            "Requirement already satisfied: idna<4,>=2.5 in /usr/local/lib/python3.10/dist-packages (from requests->pykrx) (3.4)\n",
            "Requirement already satisfied: urllib3<3,>=1.21.1 in /usr/local/lib/python3.10/dist-packages (from requests->pykrx) (1.26.16)\n",
            "Requirement already satisfied: certifi>=2017.4.17 in /usr/local/lib/python3.10/dist-packages (from requests->pykrx) (2023.7.22)\n",
            "Requirement already satisfied: six>=1.5 in /usr/local/lib/python3.10/dist-packages (from python-dateutil>=2.7->matplotlib->pykrx) (1.16.0)\n",
            "Requirement already satisfied: setuptools in /usr/local/lib/python3.10/dist-packages (from zope.interface->datetime->pykrx) (67.7.2)\n",
            "Installing collected packages: zope.interface, deprecated, datetime, pykrx\n",
            "Successfully installed datetime-5.2 deprecated-1.2.14 pykrx-1.0.45 zope.interface-6.0\n"
          ]
        }
      ]
    },
    {
      "cell_type": "code",
      "source": [
        "!pip install -e trader_world"
      ],
      "metadata": {
        "collapsed": true,
        "id": "p1gngcdIZYuD",
        "outputId": "3670eaf8-9c87-4d8c-ff0c-6fff4184d39f",
        "colab": {
          "base_uri": "https://localhost:8080/"
        }
      },
      "id": "p1gngcdIZYuD",
      "execution_count": 7,
      "outputs": [
        {
          "output_type": "stream",
          "name": "stderr",
          "text": [
            "/usr/local/lib/python3.10/dist-packages/ipykernel/ipkernel.py:283: DeprecationWarning: `should_run_async` will not call `transform_cell` automatically in the future. Please pass the result to `transformed_cell` argument and any exception that happen during thetransform in `preprocessing_exc_tuple` in IPython 7.17 and above.\n",
            "  and should_run_async(code)\n"
          ]
        },
        {
          "output_type": "stream",
          "name": "stdout",
          "text": [
            "Obtaining file:///content/trader_world\n",
            "  Preparing metadata (setup.py) ... \u001b[?25l\u001b[?25hdone\n",
            "Requirement already satisfied: gym==0.25.2 in /usr/local/lib/python3.10/dist-packages (from trader-world==0.0.1) (0.25.2)\n",
            "Requirement already satisfied: pygame==2.1.0 in /usr/local/lib/python3.10/dist-packages (from trader-world==0.0.1) (2.1.0)\n",
            "Requirement already satisfied: numpy>=1.18.0 in /usr/local/lib/python3.10/dist-packages (from gym==0.25.2->trader-world==0.0.1) (1.23.5)\n",
            "Requirement already satisfied: cloudpickle>=1.2.0 in /usr/local/lib/python3.10/dist-packages (from gym==0.25.2->trader-world==0.0.1) (2.2.1)\n",
            "Requirement already satisfied: gym-notices>=0.0.4 in /usr/local/lib/python3.10/dist-packages (from gym==0.25.2->trader-world==0.0.1) (0.0.8)\n",
            "Installing collected packages: trader-world\n",
            "  Attempting uninstall: trader-world\n",
            "    Found existing installation: trader-world 0.0.1\n",
            "    Uninstalling trader-world-0.0.1:\n",
            "      Successfully uninstalled trader-world-0.0.1\n",
            "  Running setup.py develop for trader-world\n",
            "Successfully installed trader-world-0.0.1\n"
          ]
        }
      ]
    },
    {
      "cell_type": "markdown",
      "source": [
        "After install env, Restart runtime"
      ],
      "metadata": {
        "id": "j-IMHkhYZkxk"
      },
      "id": "j-IMHkhYZkxk"
    },
    {
      "cell_type": "code",
      "source": [
        "### Ready data\n",
        "from pykrx import stock\n",
        "import pandas as pd\n",
        "\n",
        "df = stock.get_market_ohlcv(\"20210701\", \"20210827\", \"005930\")\n",
        "df = df[df.columns.tolist()[:-1]]\n",
        "df.columns = ['open', 'high', 'low', 'close', 'volume']\n",
        "\n",
        "df = df.reset_index(drop=True)\n",
        "print(df.head(3))\n",
        "print(len(df))"
      ],
      "metadata": {
        "id": "REQLyylZZKRv",
        "outputId": "a7ee4700-4277-4cb4-924b-f4cb59c527f6",
        "colab": {
          "base_uri": "https://localhost:8080/"
        }
      },
      "id": "REQLyylZZKRv",
      "execution_count": 7,
      "outputs": [
        {
          "output_type": "stream",
          "name": "stdout",
          "text": [
            "    open   high    low  close    volume\n",
            "0  80500  80600  80000  80100  13382882\n",
            "1  80000  80400  79900  80000   8753097\n",
            "2  80100  80800  80000  80400   8330969\n",
            "41\n"
          ]
        }
      ]
    },
    {
      "cell_type": "code",
      "source": [
        "import time\n",
        "import matplotlib.pyplot as plt\n",
        "import gym\n",
        "\n",
        "env = gym.make(\"trader_world:TraderWorld-v0\", df=df, df_render=df, obs_len=30, actions=10, render_mode=\"rgb_array\")"
      ],
      "metadata": {
        "id": "HyOPi5M5ZhIE"
      },
      "id": "HyOPi5M5ZhIE",
      "execution_count": 14,
      "outputs": []
    },
    {
      "cell_type": "code",
      "source": [
        "env.reset()"
      ],
      "metadata": {
        "id": "yAlluDZzncCZ",
        "outputId": "ee29fc3d-ef6b-4efe-85e7-c286615ed9b2",
        "colab": {
          "base_uri": "https://localhost:8080/"
        }
      },
      "id": "yAlluDZzncCZ",
      "execution_count": 15,
      "outputs": [
        {
          "output_type": "execute_result",
          "data": {
            "text/plain": [
              "[[80500, 80600, 80000, 80100, 13382882],\n",
              " [80000, 80400, 79900, 80000, 8753097],\n",
              " [80100, 80800, 80000, 80400, 8330969],\n",
              " [80600, 81200, 80500, 81200, 12131651],\n",
              " [81200, 81300, 80300, 80800, 15992202],\n",
              " [81100, 81200, 79900, 79900, 16660998],\n",
              " [79600, 79800, 79000, 79400, 22720577],\n",
              " [79900, 80000, 79500, 79700, 9768108],\n",
              " [80000, 80200, 79800, 79800, 9863450],\n",
              " [79400, 79600, 79100, 79500, 11575636],\n",
              " [79800, 80600, 79500, 80600, 13766279],\n",
              " [80100, 80100, 79500, 79800, 10859399],\n",
              " [79100, 79200, 78800, 79000, 13155414],\n",
              " [78500, 79000, 78400, 79000, 12456646],\n",
              " [79000, 79100, 78500, 78500, 12355296],\n",
              " [79000, 79800, 78900, 79700, 12618790],\n",
              " [79700, 79900, 79200, 79300, 9098910],\n",
              " [79400, 79500, 78800, 78800, 10040975],\n",
              " [79200, 79400, 78500, 78500, 11427693],\n",
              " [78300, 79200, 78100, 79200, 12743417],\n",
              " [78800, 79400, 78800, 79000, 14360453],\n",
              " [78900, 78900, 78500, 78500, 13823411],\n",
              " [79200, 79500, 78700, 79300, 11739124],\n",
              " [79400, 81400, 79300, 81400, 24339360],\n",
              " [82200, 83100, 81800, 82900, 25642368],\n",
              " [83300, 83300, 82000, 82100, 18485469],\n",
              " [81900, 82500, 81300, 81500, 13342623],\n",
              " [81500, 82300, 80900, 81500, 15522581],\n",
              " [82300, 82400, 80100, 80200, 20362639],\n",
              " [79600, 79800, 78500, 78500, 30241137]]"
            ]
          },
          "metadata": {},
          "execution_count": 15
        }
      ]
    },
    {
      "cell_type": "code",
      "source": [
        "env.action_space, env.observation_space"
      ],
      "metadata": {
        "id": "jWLZKN49oL6b",
        "outputId": "88235d20-a874-42ff-fbd6-3e88e4f6cab6",
        "colab": {
          "base_uri": "https://localhost:8080/"
        }
      },
      "id": "jWLZKN49oL6b",
      "execution_count": 16,
      "outputs": [
        {
          "output_type": "execute_result",
          "data": {
            "text/plain": [
              "(Discrete(10), Box(0, 9223372036854775805, (30, 5), int64))"
            ]
          },
          "metadata": {},
          "execution_count": 16
        }
      ]
    },
    {
      "cell_type": "code",
      "source": [
        "action = env.action_space.sample()\n",
        "action"
      ],
      "metadata": {
        "id": "XHF9eJPQoInz",
        "outputId": "900745a3-31ac-430c-d5c5-df11f1fdabec",
        "colab": {
          "base_uri": "https://localhost:8080/"
        }
      },
      "id": "XHF9eJPQoInz",
      "execution_count": 17,
      "outputs": [
        {
          "output_type": "execute_result",
          "data": {
            "text/plain": [
              "2"
            ]
          },
          "metadata": {},
          "execution_count": 17
        }
      ]
    },
    {
      "cell_type": "code",
      "source": [
        "obs, reward, done, info = env.step(5)\n",
        "print(reward, done, info)"
      ],
      "metadata": {
        "id": "JjElRdExnkIg",
        "outputId": "c825318c-ff70-4311-de82-ce5af3c2bc4d",
        "colab": {
          "base_uri": "https://localhost:8080/"
        }
      },
      "id": "JjElRdExnkIg",
      "execution_count": 19,
      "outputs": [
        {
          "output_type": "stream",
          "name": "stdout",
          "text": [
            "-47.4 1 {'balance': 89618, 'buy_price': 77000, 'sell_price': 72500, 'traing_fee': 240, 'time_step': 1, 'time_step_limit': 1, 'TimeLimit.truncated': False}\n"
          ]
        }
      ]
    },
    {
      "cell_type": "code",
      "source": [],
      "metadata": {
        "id": "3mRwwfaM0KXR"
      },
      "id": "3mRwwfaM0KXR",
      "execution_count": null,
      "outputs": []
    },
    {
      "cell_type": "code",
      "source": [
        "print(reward)\n",
        "df[30:40]"
      ],
      "metadata": {
        "colab": {
          "base_uri": "https://localhost:8080/",
          "height": 381
        },
        "id": "sGKKiZto6vGo",
        "outputId": "83c1433a-fc22-494b-d502-ebc7582e255a"
      },
      "id": "sGKKiZto6vGo",
      "execution_count": 26,
      "outputs": [
        {
          "output_type": "stream",
          "name": "stdout",
          "text": [
            "-1051\n"
          ]
        },
        {
          "output_type": "execute_result",
          "data": {
            "text/plain": [
              "     open   high    low  close    volume\n",
              "30  76700  77100  75900  76800  16114775\n",
              "31  76800  76800  75700  76000  15347486\n",
              "32  76400  76700  76000  76600  12096419\n",
              "33  76800  77600  76600  77300  12861180\n",
              "34  77100  77100  75900  76100  13239401\n",
              "35  76000  76400  75600  76300  11798147\n",
              "36  76400  76600  75000  75300  17600770\n",
              "37  75300  75600  74800  75300  10103212\n",
              "38  75200  76300  75100  76300  11397775\n",
              "39  77100  77700  76600  76600  18167057"
            ],
            "text/html": [
              "\n",
              "\n",
              "  <div id=\"df-08569a69-d65b-4968-959a-e8b047baa158\">\n",
              "    <div class=\"colab-df-container\">\n",
              "      <div>\n",
              "<style scoped>\n",
              "    .dataframe tbody tr th:only-of-type {\n",
              "        vertical-align: middle;\n",
              "    }\n",
              "\n",
              "    .dataframe tbody tr th {\n",
              "        vertical-align: top;\n",
              "    }\n",
              "\n",
              "    .dataframe thead th {\n",
              "        text-align: right;\n",
              "    }\n",
              "</style>\n",
              "<table border=\"1\" class=\"dataframe\">\n",
              "  <thead>\n",
              "    <tr style=\"text-align: right;\">\n",
              "      <th></th>\n",
              "      <th>open</th>\n",
              "      <th>high</th>\n",
              "      <th>low</th>\n",
              "      <th>close</th>\n",
              "      <th>volume</th>\n",
              "    </tr>\n",
              "  </thead>\n",
              "  <tbody>\n",
              "    <tr>\n",
              "      <th>30</th>\n",
              "      <td>76700</td>\n",
              "      <td>77100</td>\n",
              "      <td>75900</td>\n",
              "      <td>76800</td>\n",
              "      <td>16114775</td>\n",
              "    </tr>\n",
              "    <tr>\n",
              "      <th>31</th>\n",
              "      <td>76800</td>\n",
              "      <td>76800</td>\n",
              "      <td>75700</td>\n",
              "      <td>76000</td>\n",
              "      <td>15347486</td>\n",
              "    </tr>\n",
              "    <tr>\n",
              "      <th>32</th>\n",
              "      <td>76400</td>\n",
              "      <td>76700</td>\n",
              "      <td>76000</td>\n",
              "      <td>76600</td>\n",
              "      <td>12096419</td>\n",
              "    </tr>\n",
              "    <tr>\n",
              "      <th>33</th>\n",
              "      <td>76800</td>\n",
              "      <td>77600</td>\n",
              "      <td>76600</td>\n",
              "      <td>77300</td>\n",
              "      <td>12861180</td>\n",
              "    </tr>\n",
              "    <tr>\n",
              "      <th>34</th>\n",
              "      <td>77100</td>\n",
              "      <td>77100</td>\n",
              "      <td>75900</td>\n",
              "      <td>76100</td>\n",
              "      <td>13239401</td>\n",
              "    </tr>\n",
              "    <tr>\n",
              "      <th>35</th>\n",
              "      <td>76000</td>\n",
              "      <td>76400</td>\n",
              "      <td>75600</td>\n",
              "      <td>76300</td>\n",
              "      <td>11798147</td>\n",
              "    </tr>\n",
              "    <tr>\n",
              "      <th>36</th>\n",
              "      <td>76400</td>\n",
              "      <td>76600</td>\n",
              "      <td>75000</td>\n",
              "      <td>75300</td>\n",
              "      <td>17600770</td>\n",
              "    </tr>\n",
              "    <tr>\n",
              "      <th>37</th>\n",
              "      <td>75300</td>\n",
              "      <td>75600</td>\n",
              "      <td>74800</td>\n",
              "      <td>75300</td>\n",
              "      <td>10103212</td>\n",
              "    </tr>\n",
              "    <tr>\n",
              "      <th>38</th>\n",
              "      <td>75200</td>\n",
              "      <td>76300</td>\n",
              "      <td>75100</td>\n",
              "      <td>76300</td>\n",
              "      <td>11397775</td>\n",
              "    </tr>\n",
              "    <tr>\n",
              "      <th>39</th>\n",
              "      <td>77100</td>\n",
              "      <td>77700</td>\n",
              "      <td>76600</td>\n",
              "      <td>76600</td>\n",
              "      <td>18167057</td>\n",
              "    </tr>\n",
              "  </tbody>\n",
              "</table>\n",
              "</div>\n",
              "      <button class=\"colab-df-convert\" onclick=\"convertToInteractive('df-08569a69-d65b-4968-959a-e8b047baa158')\"\n",
              "              title=\"Convert this dataframe to an interactive table.\"\n",
              "              style=\"display:none;\">\n",
              "\n",
              "  <svg xmlns=\"http://www.w3.org/2000/svg\" height=\"24px\"viewBox=\"0 0 24 24\"\n",
              "       width=\"24px\">\n",
              "    <path d=\"M0 0h24v24H0V0z\" fill=\"none\"/>\n",
              "    <path d=\"M18.56 5.44l.94 2.06.94-2.06 2.06-.94-2.06-.94-.94-2.06-.94 2.06-2.06.94zm-11 1L8.5 8.5l.94-2.06 2.06-.94-2.06-.94L8.5 2.5l-.94 2.06-2.06.94zm10 10l.94 2.06.94-2.06 2.06-.94-2.06-.94-.94-2.06-.94 2.06-2.06.94z\"/><path d=\"M17.41 7.96l-1.37-1.37c-.4-.4-.92-.59-1.43-.59-.52 0-1.04.2-1.43.59L10.3 9.45l-7.72 7.72c-.78.78-.78 2.05 0 2.83L4 21.41c.39.39.9.59 1.41.59.51 0 1.02-.2 1.41-.59l7.78-7.78 2.81-2.81c.8-.78.8-2.07 0-2.86zM5.41 20L4 18.59l7.72-7.72 1.47 1.35L5.41 20z\"/>\n",
              "  </svg>\n",
              "      </button>\n",
              "\n",
              "\n",
              "\n",
              "    <div id=\"df-dbaf877a-e750-4045-bc7f-d23e5eaa6593\">\n",
              "      <button class=\"colab-df-quickchart\" onclick=\"quickchart('df-dbaf877a-e750-4045-bc7f-d23e5eaa6593')\"\n",
              "              title=\"Suggest charts.\"\n",
              "              style=\"display:none;\">\n",
              "\n",
              "<svg xmlns=\"http://www.w3.org/2000/svg\" height=\"24px\"viewBox=\"0 0 24 24\"\n",
              "     width=\"24px\">\n",
              "    <g>\n",
              "        <path d=\"M19 3H5c-1.1 0-2 .9-2 2v14c0 1.1.9 2 2 2h14c1.1 0 2-.9 2-2V5c0-1.1-.9-2-2-2zM9 17H7v-7h2v7zm4 0h-2V7h2v10zm4 0h-2v-4h2v4z\"/>\n",
              "    </g>\n",
              "</svg>\n",
              "      </button>\n",
              "    </div>\n",
              "\n",
              "<style>\n",
              "  .colab-df-quickchart {\n",
              "    background-color: #E8F0FE;\n",
              "    border: none;\n",
              "    border-radius: 50%;\n",
              "    cursor: pointer;\n",
              "    display: none;\n",
              "    fill: #1967D2;\n",
              "    height: 32px;\n",
              "    padding: 0 0 0 0;\n",
              "    width: 32px;\n",
              "  }\n",
              "\n",
              "  .colab-df-quickchart:hover {\n",
              "    background-color: #E2EBFA;\n",
              "    box-shadow: 0px 1px 2px rgba(60, 64, 67, 0.3), 0px 1px 3px 1px rgba(60, 64, 67, 0.15);\n",
              "    fill: #174EA6;\n",
              "  }\n",
              "\n",
              "  [theme=dark] .colab-df-quickchart {\n",
              "    background-color: #3B4455;\n",
              "    fill: #D2E3FC;\n",
              "  }\n",
              "\n",
              "  [theme=dark] .colab-df-quickchart:hover {\n",
              "    background-color: #434B5C;\n",
              "    box-shadow: 0px 1px 3px 1px rgba(0, 0, 0, 0.15);\n",
              "    filter: drop-shadow(0px 1px 2px rgba(0, 0, 0, 0.3));\n",
              "    fill: #FFFFFF;\n",
              "  }\n",
              "</style>\n",
              "\n",
              "    <script>\n",
              "      async function quickchart(key) {\n",
              "        const containerElement = document.querySelector('#' + key);\n",
              "        const charts = await google.colab.kernel.invokeFunction(\n",
              "            'suggestCharts', [key], {});\n",
              "      }\n",
              "    </script>\n",
              "\n",
              "      <script>\n",
              "\n",
              "function displayQuickchartButton(domScope) {\n",
              "  let quickchartButtonEl =\n",
              "    domScope.querySelector('#df-dbaf877a-e750-4045-bc7f-d23e5eaa6593 button.colab-df-quickchart');\n",
              "  quickchartButtonEl.style.display =\n",
              "    google.colab.kernel.accessAllowed ? 'block' : 'none';\n",
              "}\n",
              "\n",
              "        displayQuickchartButton(document);\n",
              "      </script>\n",
              "      <style>\n",
              "    .colab-df-container {\n",
              "      display:flex;\n",
              "      flex-wrap:wrap;\n",
              "      gap: 12px;\n",
              "    }\n",
              "\n",
              "    .colab-df-convert {\n",
              "      background-color: #E8F0FE;\n",
              "      border: none;\n",
              "      border-radius: 50%;\n",
              "      cursor: pointer;\n",
              "      display: none;\n",
              "      fill: #1967D2;\n",
              "      height: 32px;\n",
              "      padding: 0 0 0 0;\n",
              "      width: 32px;\n",
              "    }\n",
              "\n",
              "    .colab-df-convert:hover {\n",
              "      background-color: #E2EBFA;\n",
              "      box-shadow: 0px 1px 2px rgba(60, 64, 67, 0.3), 0px 1px 3px 1px rgba(60, 64, 67, 0.15);\n",
              "      fill: #174EA6;\n",
              "    }\n",
              "\n",
              "    [theme=dark] .colab-df-convert {\n",
              "      background-color: #3B4455;\n",
              "      fill: #D2E3FC;\n",
              "    }\n",
              "\n",
              "    [theme=dark] .colab-df-convert:hover {\n",
              "      background-color: #434B5C;\n",
              "      box-shadow: 0px 1px 3px 1px rgba(0, 0, 0, 0.15);\n",
              "      filter: drop-shadow(0px 1px 2px rgba(0, 0, 0, 0.3));\n",
              "      fill: #FFFFFF;\n",
              "    }\n",
              "  </style>\n",
              "\n",
              "      <script>\n",
              "        const buttonEl =\n",
              "          document.querySelector('#df-08569a69-d65b-4968-959a-e8b047baa158 button.colab-df-convert');\n",
              "        buttonEl.style.display =\n",
              "          google.colab.kernel.accessAllowed ? 'block' : 'none';\n",
              "\n",
              "        async function convertToInteractive(key) {\n",
              "          const element = document.querySelector('#df-08569a69-d65b-4968-959a-e8b047baa158');\n",
              "          const dataTable =\n",
              "            await google.colab.kernel.invokeFunction('convertToInteractive',\n",
              "                                                     [key], {});\n",
              "          if (!dataTable) return;\n",
              "\n",
              "          const docLinkHtml = 'Like what you see? Visit the ' +\n",
              "            '<a target=\"_blank\" href=https://colab.research.google.com/notebooks/data_table.ipynb>data table notebook</a>'\n",
              "            + ' to learn more about interactive tables.';\n",
              "          element.innerHTML = '';\n",
              "          dataTable['output_type'] = 'display_data';\n",
              "          await google.colab.output.renderOutput(dataTable, element);\n",
              "          const docLink = document.createElement('div');\n",
              "          docLink.innerHTML = docLinkHtml;\n",
              "          element.appendChild(docLink);\n",
              "        }\n",
              "      </script>\n",
              "    </div>\n",
              "  </div>\n"
            ]
          },
          "metadata": {},
          "execution_count": 26
        }
      ]
    },
    {
      "cell_type": "code",
      "source": [
        "img = env.render()\n",
        "plt.figure()\n",
        "plt.imshow(img)"
      ],
      "metadata": {
        "id": "50g5oMb7oDX_",
        "outputId": "69a62a41-f5b0-4770-e607-0a03a778f9b3",
        "colab": {
          "base_uri": "https://localhost:8080/",
          "height": 453
        }
      },
      "id": "50g5oMb7oDX_",
      "execution_count": 18,
      "outputs": [
        {
          "output_type": "execute_result",
          "data": {
            "text/plain": [
              "<matplotlib.image.AxesImage at 0x7bdc795f2920>"
            ]
          },
          "metadata": {},
          "execution_count": 18
        },
        {
          "output_type": "display_data",
          "data": {
            "text/plain": [
              "<Figure size 640x480 with 1 Axes>"
            ],
            "image/png": "[encoded data removed]"
          },
          "metadata": {}
        }
      ]
    },
    {
      "cell_type": "markdown",
      "source": [
        "# STEP. Test Data"
      ],
      "metadata": {
        "id": "l1VH3w8qaGkT"
      },
      "id": "l1VH3w8qaGkT"
    },
    {
      "cell_type": "code",
      "source": [
        "### Ready data\n",
        "from pykrx import stock\n",
        "import pandas as pd\n",
        "\n",
        "df = stock.get_market_ohlcv(\"20210720\", \"20221010\", \"005930\")\n",
        "df = df[df.columns.tolist()[:-1]]\n",
        "df.columns = ['open', 'high', 'low', 'close', 'volume']\n",
        "\n",
        "df = df.reset_index(drop=True)\n",
        "print(df.head(3))"
      ],
      "metadata": {
        "id": "HKkAZFAFaP_R",
        "outputId": "0d03a2f2-7446-457d-cb13-d6d8e05e63b9",
        "colab": {
          "base_uri": "https://localhost:8080/"
        }
      },
      "id": "HKkAZFAFaP_R",
      "execution_count": 9,
      "outputs": [
        {
          "output_type": "stream",
          "name": "stderr",
          "text": [
            "/usr/local/lib/python3.10/dist-packages/ipykernel/ipkernel.py:283: DeprecationWarning: `should_run_async` will not call `transform_cell` automatically in the future. Please pass the result to `transformed_cell` argument and any exception that happen during thetransform in `preprocessing_exc_tuple` in IPython 7.17 and above.\n",
            "  and should_run_async(code)\n"
          ]
        },
        {
          "output_type": "stream",
          "name": "stdout",
          "text": [
            "    open   high    low  close    volume\n",
            "0  78500  79000  78400  79000  12456646\n",
            "1  79000  79100  78500  78500  12355296\n",
            "2  79000  79800  78900  79700  12618790\n"
          ]
        }
      ]
    },
    {
      "cell_type": "code",
      "source": [
        "def df_to_lst(df):\n",
        "    lst = []\n",
        "    for i in range(len(df)):\n",
        "        lst.append(df.iloc[i].tolist())\n",
        "    return lst"
      ],
      "metadata": {
        "id": "vNmUVcDgaOhx"
      },
      "id": "vNmUVcDgaOhx",
      "execution_count": 11,
      "outputs": []
    },
    {
      "cell_type": "code",
      "source": [
        "test_lst = df_to_lst(df)"
      ],
      "metadata": {
        "id": "zfvT-13haUR9"
      },
      "id": "zfvT-13haUR9",
      "execution_count": 19,
      "outputs": []
    },
    {
      "cell_type": "code",
      "source": [],
      "metadata": {
        "id": "2_jq4Wlmac22"
      },
      "id": "2_jq4Wlmac22",
      "execution_count": 29,
      "outputs": []
    },
    {
      "cell_type": "code",
      "source": [
        "ohlc_lst = _get_scale_ohlc_lst(test_lst)\n",
        "v_lst = _get_scale_v_lst(test_lst)\n",
        "print(ohlc_lst)\n",
        "print(v_lst)"
      ],
      "metadata": {
        "id": "FBBz13M2bVUz",
        "outputId": "14b8a68e-66ba-4d8a-9a73-7256375212c3",
        "colab": {
          "base_uri": "https://localhost:8080/"
        }
      },
      "id": "FBBz13M2bVUz",
      "execution_count": 34,
      "outputs": [
        {
          "output_type": "stream",
          "name": "stdout",
          "text": [
            "[2, 6, 0, 4]\n",
            "[[12], [12], [12], [6], [8], [10], [13], [15], [15], [11], [33], [36], [23], [14], [18], [26], [44], [66], [100], [45], [42], [30], [30], [25], [27], [30], [20], [17], [12], [34], [19], [17], [11], [13], [13], [11], [21], [8], [10], [22], [13], [13], [19], [20], [12], [11], [17], [33], [25], [18], [33], [24], [14], [15], [45], [33], [25], [22], [14], [7], [8], [9], [5], [8], [9], [8], [27], [20], [10], [20], [13], [11], [12], [10], [10], [7], [10], [8], [12], [9], [9], [8], [11], [39], [29], [18], [12], [13], [20], [44], [29], [32], [23], [19], [24], [28], [29], [6], [17], [9], [7], [11], [13], [10], [15], [20], [14], [11], [9], [22], [25], [15], [14], [12], [35], [13], [17], [8], [13], [9], [15], [8], [5], [7], [9], [7], [18], [14], [22], [13], [30], [28], [22], [13], [15], [11], [7], [22], [12], [15], [6], [9], [14], [8], [9], [11], [8], [18], [13], [22], [12], [13], [14], [23], [18], [28], [18], [6], [8], [8], [21], [16], [10], [7], [12], [58], [13], [12], [14], [12], [12], [18], [10], [5], [18], [27], [17], [12], [15], [21], [19], [13], [8], [13], [20], [13], [11], [9], [13], [22], [20], [37], [15], [15], [10], [15], [11], [21], [12], [19], [16], [11], [18], [19], [20], [11], [14], [18], [17], [18], [10], [15], [34], [17], [4], [24], [12], [36], [30], [30], [34], [38], [32], [42], [51], [35], [32], [41], [32], [22], [14], [16], [24], [35], [22], [15], [20], [28], [17], [13], [6], [9], [17], [23], [27], [17], [20], [12], [8], [6], [1], [3], [9], [17], [13], [14], [8], [6], [7], [10], [22], [22], [17], [9], [17], [6], [19], [2], [4], [6], [6], [0], [7], [7], [7], [15], [16], [17], [10], [3], [21], [22], [21], [12], [11], [14], [12], [15], [11], [13], [9], [17], [20], [26], [15], [30], [24], [30], [17], [20]]\n"
          ]
        },
        {
          "output_type": "stream",
          "name": "stderr",
          "text": [
            "/usr/local/lib/python3.10/dist-packages/ipykernel/ipkernel.py:283: DeprecationWarning: `should_run_async` will not call `transform_cell` automatically in the future. Please pass the result to `transformed_cell` argument and any exception that happen during thetransform in `preprocessing_exc_tuple` in IPython 7.17 and above.\n",
            "  and should_run_async(code)\n"
          ]
        }
      ]
    },
    {
      "cell_type": "markdown",
      "source": [
        "# Appendix. B/U gird_world.py"
      ],
      "metadata": {
        "id": "f-KBTYoMYOAn"
      },
      "id": "f-KBTYoMYOAn"
    },
    {
      "cell_type": "code",
      "source": [
        "import gym\n",
        "from gym import spaces\n",
        "import pygame\n",
        "import numpy as np\n",
        "\n",
        "\n",
        "class GridWorldEnv(gym.Env):\n",
        "    metadata = {\"render_modes\": [\"human\", \"rgb_array\"], \"render_fps\": 4}\n",
        "\n",
        "    def __init__(self, render_mode=None, size=5):\n",
        "        self.size = size        # The size of the square grid\n",
        "        self.window_size = 512  # The size of the PyGame window\n",
        "\n",
        "        # Observations are dictionaries with the agent's and the target's location.\n",
        "        # Each location is encoded as an element of {0, ..., `size`}^2, i.e. MultiDiscrete([size, size]).\n",
        "        self.observation_space = spaces.Dict(\n",
        "            {\n",
        "                \"agent\": spaces.Box(0, size - 1, shape=(2,), dtype=int),\n",
        "                \"target\": spaces.Box(0, size - 1, shape=(2,), dtype=int),\n",
        "            }\n",
        "        )\n",
        "\n",
        "        # We have 4 actions, corresponding to \"right\", \"up\", \"left\", \"down\"\n",
        "        self.action_space = spaces.Discrete(4)\n",
        "\n",
        "        \"\"\"\n",
        "        The following dictionary maps abstract actions from `self.action_space` to\n",
        "        the direction we will walk in if that action is taken.\n",
        "        I.e. 0 corresponds to \"right\", 1 to \"up\" etc.\n",
        "        \"\"\"\n",
        "        self._action_to_direction = {\n",
        "            0: np.array([1, 0]),\n",
        "            1: np.array([0, 1]),\n",
        "            2: np.array([-1, 0]),\n",
        "            3: np.array([0, -1]),\n",
        "        }\n",
        "\n",
        "        assert render_mode is None or render_mode in self.metadata[\"render_modes\"]\n",
        "        self.render_mode = render_mode\n",
        "\n",
        "        \"\"\"\n",
        "        If human-rendering is used, `self.window` will be a reference\n",
        "        to the window that we draw to. `self.clock` will be a clock that is used\n",
        "        to ensure that the environment is rendered at the correct framerate in\n",
        "        human-mode. They will remain `None` until human-mode is used for the\n",
        "        first time.\n",
        "        \"\"\"\n",
        "        self.window = None\n",
        "        self.clock = None\n",
        "\n",
        "\n",
        "    def _get_obs(self):\n",
        "        return {\"agent\": self._agent_location, \"target\": self._target_location}\n",
        "\n",
        "    def _get_info(self):\n",
        "        return {\"distance\": np.linalg.norm(self._agent_location - self._target_location, ord=1)}\n",
        "\n",
        "\n",
        "    def reset(self, seed=None, options=None):\n",
        "        # We need the following line to seed self.np_random\n",
        "        super().reset(seed=seed)\n",
        "\n",
        "        # Choose the agent's location uniformly at random\n",
        "        self._agent_location = self.np_random.integers(0, self.size, size=2, dtype=int)\n",
        "\n",
        "        # We will sample the target's location randomly until it does not coincide with the agent's location\n",
        "        self._target_location = self._agent_location\n",
        "        while np.array_equal(self._target_location, self._agent_location):\n",
        "            self._target_location = self.np_random.integers(\n",
        "                0, self.size, size=2, dtype=int\n",
        "            )\n",
        "\n",
        "        observation = self._get_obs()\n",
        "        info = self._get_info()\n",
        "\n",
        "        if self.render_mode == \"human\":\n",
        "            self._render_frame()\n",
        "\n",
        "        return observation, info\n",
        "\n",
        "\n",
        "    def step(self, action):\n",
        "        # Map the action (element of {0,1,2,3}) to the direction we walk in\n",
        "        direction = self._action_to_direction[action]\n",
        "        # We use `np.clip` to make sure we don't leave the grid\n",
        "        self._agent_location = np.clip(\n",
        "            self._agent_location + direction, 0, self.size - 1\n",
        "        )\n",
        "        # An episode is done iff the agent has reached the target\n",
        "        terminated = np.array_equal(self._agent_location, self._target_location)\n",
        "        reward = 1 if terminated else 0  # Binary sparse rewards\n",
        "        observation = self._get_obs()\n",
        "        info = self._get_info()\n",
        "\n",
        "        if self.render_mode == \"human\":\n",
        "            self._render_frame()\n",
        "\n",
        "        return observation, reward, terminated, False, info\n",
        "\n",
        "\n",
        "    def render(self):\n",
        "        if self.render_mode == \"rgb_array\":\n",
        "            return self._render_frame()\n",
        "\n",
        "    def _render_frame(self):\n",
        "        if self.window is None and self.render_mode == \"human\":\n",
        "            pygame.init()\n",
        "            pygame.display.init()\n",
        "            self.window = pygame.display.set_mode((self.window_size, self.window_size))\n",
        "        if self.clock is None and self.render_mode == \"human\":\n",
        "            self.clock = pygame.time.Clock()\n",
        "\n",
        "        canvas = pygame.Surface((self.window_size, self.window_size))\n",
        "        canvas.fill((255, 255, 255))\n",
        "        pix_square_size = (\n",
        "            self.window_size / self.size\n",
        "        )  # The size of a single grid square in pixels\n",
        "\n",
        "        # First we draw the target\n",
        "        pygame.draw.rect(\n",
        "            canvas,\n",
        "            (255, 0, 0),\n",
        "            pygame.Rect(\n",
        "                pix_square_size * self._target_location,\n",
        "                (pix_square_size, pix_square_size),\n",
        "            ),\n",
        "        )\n",
        "        # Now we draw the agent\n",
        "        pygame.draw.circle(\n",
        "            canvas,\n",
        "            (0, 0, 255),\n",
        "            (self._agent_location + 0.5) * pix_square_size,\n",
        "            pix_square_size / 3,\n",
        "        )\n",
        "\n",
        "        # Finally, add some gridlines\n",
        "        for x in range(self.size + 1):\n",
        "            pygame.draw.line(\n",
        "                canvas,\n",
        "                0,\n",
        "                (0, pix_square_size * x),\n",
        "                (self.window_size, pix_square_size * x),\n",
        "                width=3,\n",
        "            )\n",
        "            pygame.draw.line(\n",
        "                canvas,\n",
        "                0,\n",
        "                (pix_square_size * x, 0),\n",
        "                (pix_square_size * x, self.window_size),\n",
        "                width=3,\n",
        "            )\n",
        "\n",
        "        if self.render_mode == \"human\":\n",
        "            # The following line copies our drawings from `canvas` to the visible window\n",
        "            self.window.blit(canvas, canvas.get_rect())\n",
        "            pygame.event.pump()\n",
        "            pygame.display.update()\n",
        "\n",
        "            # We need to ensure that human-rendering occurs at the predefined framerate.\n",
        "            # The following line will automatically add a delay to keep the framerate stable.\n",
        "            self.clock.tick(self.metadata[\"render_fps\"])\n",
        "        else:  # rgb_array\n",
        "            return np.transpose(\n",
        "                np.array(pygame.surfarray.pixels3d(canvas)), axes=(1, 0, 2)\n",
        "            )\n",
        "\n",
        "\n",
        "    def close(self):\n",
        "        if self.window is not None:\n",
        "            pygame.display.quit()\n",
        "            pygame.quit()"
      ],
      "metadata": {
        "id": "vIsYWA0SYUYx"
      },
      "id": "vIsYWA0SYUYx",
      "execution_count": null,
      "outputs": []
    }
  ],
  "metadata": {
    "kernelspec": {
      "display_name": "Python 3",
      "language": "python",
      "name": "python3"
    },
    "language_info": {
      "codemirror_mode": {
        "name": "ipython",
        "version": 3
      },
      "file_extension": ".py",
      "mimetype": "text/x-python",
      "name": "python",
      "nbconvert_exporter": "python",
      "pygments_lexer": "ipython3",
      "version": "3.8.10"
    },
    "colab": {
      "provenance": [],
      "include_colab_link": true
    }
  },
  "nbformat": 4,
  "nbformat_minor": 5
}