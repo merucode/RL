{
  "cells": [
    {
      "cell_type": "markdown",
      "metadata": {
        "id": "view-in-github",
        "colab_type": "text"
      },
      "source": [
        "<a href=\"https://colab.research.google.com/github/merucode/RL/blob/93-Project-Trader-Custom_enviromnet/01_Creating_a_Gym_Environment.ipynb\" target=\"_parent\"><img src=\"https://colab.research.google.com/assets/colab-badge.svg\" alt=\"Open In Colab\"/></a>"
      ]
    },
    {
      "cell_type": "markdown",
      "source": [],
      "metadata": {
        "id": "MLB979Vs-2J1"
      },
      "id": "MLB979Vs-2J1"
    },
    {
      "cell_type": "code",
      "source": [
        "!git clone -b 93-Project-Trader-Custom_enviromnet https://github.com/merucode/RL.git\n",
        "!cd RL && mv * ../"
      ],
      "metadata": {
        "collapsed": true,
        "id": "bMkFjiRc-i71",
        "outputId": "ffb6a516-77b2-42b9-e237-83ea9ddb6bcc",
        "colab": {
          "base_uri": "https://localhost:8080/"
        }
      },
      "id": "bMkFjiRc-i71",
      "execution_count": 1,
      "outputs": [
        {
          "output_type": "stream",
          "name": "stdout",
          "text": [
            "Cloning into 'RL'...\n",
            "remote: Enumerating objects: 149, done.\u001b[K\n",
            "remote: Counting objects: 100% (69/69), done.\u001b[K\n",
            "remote: Compressing objects: 100% (69/69), done.\u001b[K\n",
            "remote: Total 149 (delta 26), reused 0 (delta 0), pack-reused 80\u001b[K\n",
            "Receiving objects: 100% (149/149), 8.65 MiB | 5.33 MiB/s, done.\n",
            "Resolving deltas: 100% (53/53), done.\n"
          ]
        }
      ]
    },
    {
      "cell_type": "code",
      "source": [
        "!pip install -e gym-examples"
      ],
      "metadata": {
        "id": "-fCSwqlbr0G0",
        "outputId": "917aedf5-3699-4b96-96d8-723e0d38ded9",
        "colab": {
          "base_uri": "https://localhost:8080/"
        }
      },
      "id": "-fCSwqlbr0G0",
      "execution_count": 3,
      "outputs": [
        {
          "output_type": "stream",
          "name": "stdout",
          "text": [
            "Obtaining file:///content/gym-examples\n",
            "  Preparing metadata (setup.py) ... \u001b[?25l\u001b[?25hdone\n",
            "Requirement already satisfied: gym==0.26.0 in /usr/local/lib/python3.10/dist-packages (from gym-examples==0.0.1) (0.26.0)\n",
            "Requirement already satisfied: pygame==2.1.0 in /usr/local/lib/python3.10/dist-packages (from gym-examples==0.0.1) (2.1.0)\n",
            "Requirement already satisfied: numpy>=1.18.0 in /usr/local/lib/python3.10/dist-packages (from gym==0.26.0->gym-examples==0.0.1) (1.23.5)\n",
            "Requirement already satisfied: cloudpickle>=1.2.0 in /usr/local/lib/python3.10/dist-packages (from gym==0.26.0->gym-examples==0.0.1) (2.2.1)\n",
            "Requirement already satisfied: gym-notices>=0.0.4 in /usr/local/lib/python3.10/dist-packages (from gym==0.26.0->gym-examples==0.0.1) (0.0.8)\n",
            "Installing collected packages: gym-examples\n",
            "  Attempting uninstall: gym-examples\n",
            "    Found existing installation: gym-examples 0.0.1\n",
            "    Uninstalling gym-examples-0.0.1:\n",
            "      Successfully uninstalled gym-examples-0.0.1\n",
            "  Running setup.py develop for gym-examples\n",
            "Successfully installed gym-examples-0.0.1\n"
          ]
        }
      ]
    },
    {
      "cell_type": "markdown",
      "source": [
        "### NOTE: After inistall gym-examples, Restart runtime"
      ],
      "metadata": {
        "id": "aI9PkFlbBds1"
      },
      "id": "aI9PkFlbBds1"
    },
    {
      "cell_type": "code",
      "execution_count": 1,
      "id": "lyric-aruba",
      "metadata": {
        "id": "lyric-aruba"
      },
      "outputs": [],
      "source": [
        "import time\n",
        "import matplotlib.pyplot as plt\n",
        "import gym\n",
        "import numpy as np"
      ]
    },
    {
      "cell_type": "code",
      "source": [
        "envs = gym.vector.make(\"gym_examples:TradeWorld-v0\", num_envs=2)\n",
        "envs.reset()\n",
        "actions = np.array([0, 0])\n",
        "envs.step(actions)"
      ],
      "metadata": {
        "id": "LipeIqDssDcY",
        "outputId": "ee3c3516-f38f-4f28-da50-a1340b59cff0",
        "colab": {
          "base_uri": "https://localhost:8080/"
        }
      },
      "id": "LipeIqDssDcY",
      "execution_count": 2,
      "outputs": [
        {
          "output_type": "execute_result",
          "data": {
            "text/plain": [
              "(OrderedDict([('agent',\n",
              "               array([[4, 0],\n",
              "                      [4, 3]])),\n",
              "              ('target',\n",
              "               array([[4, 4],\n",
              "                      [2, 2]]))]),\n",
              " array([0, 0]),\n",
              " array([False, False]),\n",
              " array([False, False]),\n",
              " {'distance': array([4., 3.]), '_distance': array([ True,  True])})"
            ]
          },
          "metadata": {},
          "execution_count": 2
        }
      ]
    }
  ],
  "metadata": {
    "kernelspec": {
      "display_name": "Python 3",
      "language": "python",
      "name": "python3"
    },
    "language_info": {
      "codemirror_mode": {
        "name": "ipython",
        "version": 3
      },
      "file_extension": ".py",
      "mimetype": "text/x-python",
      "name": "python",
      "nbconvert_exporter": "python",
      "pygments_lexer": "ipython3",
      "version": "3.8.10"
    },
    "colab": {
      "provenance": [],
      "include_colab_link": true
    }
  },
  "nbformat": 4,
  "nbformat_minor": 5
}