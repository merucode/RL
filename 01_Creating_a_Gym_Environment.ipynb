{
  "cells": [
    {
      "cell_type": "markdown",
      "metadata": {
        "id": "view-in-github",
        "colab_type": "text"
      },
      "source": [
        "<a href=\"https://colab.research.google.com/github/merucode/RL/blob/31-Colab-Study-Udemy-Custom_ENV_snake_game/01_Creating_a_Gym_Environment.ipynb\" target=\"_parent\"><img src=\"https://colab.research.google.com/assets/colab-badge.svg\" alt=\"Open In Colab\"/></a>"
      ]
    },
    {
      "cell_type": "markdown",
      "id": "pacific-morocco",
      "metadata": {
        "id": "pacific-morocco"
      },
      "source": [
        "___\n",
        "\n",
        "<a href='http://www.pieriandata.com'><img src='https://github.com/merucode/RL/blob/Pierian_Data_Logo.png?raw=1'/></a>\n",
        "___\n",
        "<center><em>Copyright by Pierian Data Inc.</em></center>\n",
        "<center><em>For more information, visit us at <a href='http://www.pieriandata.com'>www.pieriandata.com</a></em></center>\n",
        "\n",
        "# Creating an Open AI Gym Environment\n",
        "\n",
        "**IMPORTANT NOTE! YOU NEED TO PIP INSTALL YOUR SNAKE FILE FIRST WITH:**\n",
        "\n",
        "    pip install -e snake\n"
      ]
    },
    {
      "cell_type": "code",
      "source": [
        "!git clone -b branch url\n",
        "!cd RL && mv * ../\n",
        "!pip install -e snake"
      ],
      "metadata": {
        "id": "YPNIBVe5rz3f",
        "outputId": "9cd11e62-03c4-4dde-c2fe-2277101c1402",
        "colab": {
          "base_uri": "https://localhost:8080/"
        }
      },
      "id": "YPNIBVe5rz3f",
      "execution_count": 1,
      "outputs": [
        {
          "output_type": "stream",
          "name": "stdout",
          "text": [
            "Cloning into 'RL'...\n",
            "remote: Enumerating objects: 41, done.\u001b[K\n",
            "remote: Counting objects: 100% (41/41), done.\u001b[K\n",
            "remote: Compressing objects: 100% (38/38), done.\u001b[K\n",
            "remote: Total 41 (delta 6), reused 0 (delta 0), pack-reused 0\u001b[K\n",
            "Receiving objects: 100% (41/41), 30.03 KiB | 2.50 MiB/s, done.\n",
            "Resolving deltas: 100% (6/6), done.\n"
          ]
        }
      ]
    },
    {
      "cell_type": "markdown",
      "source": [
        "After install snake, Restart runtime"
      ],
      "metadata": {
        "id": "BPuBe7jg1RnK"
      },
      "id": "BPuBe7jg1RnK"
    },
    {
      "cell_type": "code",
      "execution_count": 1,
      "id": "lyric-aruba",
      "metadata": {
        "id": "lyric-aruba"
      },
      "outputs": [],
      "source": [
        "import time\n",
        "import matplotlib.pyplot as plt\n",
        "import gym"
      ]
    },
    {
      "cell_type": "code",
      "execution_count": 2,
      "id": "durable-english",
      "metadata": {
        "scrolled": true,
        "id": "durable-english",
        "outputId": "e201497f-64b7-4102-cbcf-59b7403111fd",
        "colab": {
          "base_uri": "https://localhost:8080/"
        }
      },
      "outputs": [
        {
          "output_type": "stream",
          "name": "stderr",
          "text": [
            "/usr/local/lib/python3.10/dist-packages/ipykernel/ipkernel.py:283: DeprecationWarning: `should_run_async` will not call `transform_cell` automatically in the future. Please pass the result to `transformed_cell` argument and any exception that happen during thetransform in `preprocessing_exc_tuple` in IPython 7.17 and above.\n",
            "  and should_run_async(code)\n",
            "/usr/local/lib/python3.10/dist-packages/gym/core.py:317: DeprecationWarning: \u001b[33mWARN: Initializing wrapper in old step API which returns one bool instead of two. It is recommended to set `new_step_api=True` to use new step API. This will be the default behaviour in future.\u001b[0m\n",
            "  deprecation(\n",
            "/usr/local/lib/python3.10/dist-packages/gym/wrappers/step_api_compatibility.py:39: DeprecationWarning: \u001b[33mWARN: Initializing environment in old step API which returns one bool instead of two. It is recommended to set `new_step_api=True` to use new step API. This will be the default behaviour in future.\u001b[0m\n",
            "  deprecation(\n"
          ]
        }
      ],
      "source": [
        "env = gym.make(\"snake:snake-v0\")"
      ]
    },
    {
      "cell_type": "code",
      "execution_count": 9,
      "id": "integrated-accuracy",
      "metadata": {
        "id": "integrated-accuracy",
        "outputId": "84f9bb8c-ae42-4d33-f5b6-30d70d81a384",
        "colab": {
          "base_uri": "https://localhost:8080/",
          "height": 471
        }
      },
      "outputs": [
        {
          "output_type": "stream",
          "name": "stdout",
          "text": [
            "-1 True {'score': 0}\n"
          ]
        },
        {
          "output_type": "execute_result",
          "data": {
            "text/plain": [
              "<matplotlib.image.AxesImage at 0x7ed05c13fd00>"
            ]
          },
          "metadata": {},
          "execution_count": 9
        },
        {
          "output_type": "display_data",
          "data": {
            "text/plain": [
              "<Figure size 640x480 with 1 Axes>"
            ],
            "image/png": "[encoded data removed]"
          },
          "metadata": {}
        }
      ],
      "source": [
        "env.reset()\n",
        "env.render(mode=\"human\")\n",
        "action = env.action_space.sample()\n",
        "img, reward, done, info = env.step(1)\n",
        "print(reward, done, info)\n",
        "plt.figure()\n",
        "plt.imshow(img)"
      ]
    },
    {
      "cell_type": "code",
      "execution_count": 7,
      "id": "hundred-wrist",
      "metadata": {
        "id": "hundred-wrist"
      },
      "outputs": [],
      "source": [
        "env.reset()\n",
        "for i in range(100):\n",
        "    env.render(mode=\"human\")\n",
        "    action = env.action_space.sample()\n",
        "    img, reward, done, info = env.step(action)\n",
        "    time.sleep(0.1)"
      ]
    }
  ],
  "metadata": {
    "kernelspec": {
      "display_name": "Python 3",
      "language": "python",
      "name": "python3"
    },
    "language_info": {
      "codemirror_mode": {
        "name": "ipython",
        "version": 3
      },
      "file_extension": ".py",
      "mimetype": "text/x-python",
      "name": "python",
      "nbconvert_exporter": "python",
      "pygments_lexer": "ipython3",
      "version": "3.8.10"
    },
    "colab": {
      "provenance": [],
      "include_colab_link": true
    }
  },
  "nbformat": 4,
  "nbformat_minor": 5
}