{
  "cells": [
    {
      "cell_type": "markdown",
      "metadata": {
        "id": "view-in-github",
        "colab_type": "text"
      },
      "source": [
        "<a href=\"https://colab.research.google.com/github/merucode/RL/blob/92-Project-Trader-Custom_environment/01_Creating_a_Gym_Environment.ipynb\" target=\"_parent\"><img src=\"https://colab.research.google.com/assets/colab-badge.svg\" alt=\"Open In Colab\"/></a>"
      ]
    },
    {
      "cell_type": "markdown",
      "source": [
        "# STEP 1. Install Dependency"
      ],
      "metadata": {
        "id": "MLB979Vs-2J1"
      },
      "id": "MLB979Vs-2J1"
    },
    {
      "cell_type": "code",
      "source": [
        "!git clone -b 92-Project-Trader-Custom_environment https://github.com/merucode/RL.git\n",
        "!cd RL && mv * ../"
      ],
      "metadata": {
        "collapsed": true,
        "id": "bMkFjiRc-i71",
        "outputId": "afb3a619-6e05-4a43-aad9-affe9e75a18b",
        "colab": {
          "base_uri": "https://localhost:8080/"
        }
      },
      "id": "bMkFjiRc-i71",
      "execution_count": 1,
      "outputs": [
        {
          "output_type": "stream",
          "name": "stdout",
          "text": [
            "Cloning into 'RL'...\n",
            "remote: Enumerating objects: 89, done.\u001b[K\n",
            "remote: Counting objects: 100% (9/9), done.\u001b[K\n",
            "remote: Compressing objects: 100% (9/9), done.\u001b[K\n",
            "remote: Total 89 (delta 3), reused 0 (delta 0), pack-reused 80\u001b[K\n",
            "Receiving objects: 100% (89/89), 198.68 KiB | 1.06 MiB/s, done.\n",
            "Resolving deltas: 100% (30/30), done.\n"
          ]
        }
      ]
    },
    {
      "cell_type": "code",
      "source": [
        "!pip install -e trader_world"
      ],
      "metadata": {
        "id": "RyQAKDHdN-Rm",
        "outputId": "17b337bb-8bc3-4379-d034-a6b0415bf9aa",
        "colab": {
          "base_uri": "https://localhost:8080/"
        }
      },
      "id": "RyQAKDHdN-Rm",
      "execution_count": 2,
      "outputs": [
        {
          "output_type": "stream",
          "name": "stdout",
          "text": [
            "Obtaining file:///content/trader_world\n",
            "  Preparing metadata (setup.py) ... \u001b[?25l\u001b[?25hdone\n",
            "Collecting gym==0.26.0 (from trader-world==0.0.1)\n",
            "  Downloading gym-0.26.0.tar.gz (710 kB)\n",
            "\u001b[2K     \u001b[90m━━━━━━━━━━━━━━━━━━━━━━━━━━━━━━━━━━━━━━━\u001b[0m \u001b[32m710.3/710.3 kB\u001b[0m \u001b[31m6.0 MB/s\u001b[0m eta \u001b[36m0:00:00\u001b[0m\n",
            "\u001b[?25h  Installing build dependencies ... \u001b[?25l\u001b[?25hdone\n",
            "  Getting requirements to build wheel ... \u001b[?25l\u001b[?25hdone\n",
            "  Preparing metadata (pyproject.toml) ... \u001b[?25l\u001b[?25hdone\n",
            "Collecting pygame==2.1.0 (from trader-world==0.0.1)\n",
            "  Downloading pygame-2.1.0-cp310-cp310-manylinux_2_17_x86_64.manylinux2014_x86_64.whl (18.3 MB)\n",
            "\u001b[2K     \u001b[90m━━━━━━━━━━━━━━━━━━━━━━━━━━━━━━━━━━━━━━━━\u001b[0m \u001b[32m18.3/18.3 MB\u001b[0m \u001b[31m50.9 MB/s\u001b[0m eta \u001b[36m0:00:00\u001b[0m\n",
            "\u001b[?25hRequirement already satisfied: numpy>=1.18.0 in /usr/local/lib/python3.10/dist-packages (from gym==0.26.0->trader-world==0.0.1) (1.23.5)\n",
            "Requirement already satisfied: cloudpickle>=1.2.0 in /usr/local/lib/python3.10/dist-packages (from gym==0.26.0->trader-world==0.0.1) (2.2.1)\n",
            "Requirement already satisfied: gym-notices>=0.0.4 in /usr/local/lib/python3.10/dist-packages (from gym==0.26.0->trader-world==0.0.1) (0.0.8)\n",
            "Building wheels for collected packages: gym\n",
            "  Building wheel for gym (pyproject.toml) ... \u001b[?25l\u001b[?25hdone\n",
            "  Created wheel for gym: filename=gym-0.26.0-py3-none-any.whl size=826274 sha256=3a53edcb3b4dd4dddefeeb7890712162f42e83991d366f8a3a418e98ba96a0f6\n",
            "  Stored in directory: /root/.cache/pip/wheels/cd/da/7c/a034980e59e34687bfb6cfa3a5f3e9b389264a0c59519c59fa\n",
            "Successfully built gym\n",
            "Installing collected packages: pygame, gym, trader-world\n",
            "  Attempting uninstall: pygame\n",
            "    Found existing installation: pygame 2.5.0\n",
            "    Uninstalling pygame-2.5.0:\n",
            "      Successfully uninstalled pygame-2.5.0\n",
            "  Attempting uninstall: gym\n",
            "    Found existing installation: gym 0.25.2\n",
            "    Uninstalling gym-0.25.2:\n",
            "      Successfully uninstalled gym-0.25.2\n",
            "  Running setup.py develop for trader-world\n",
            "\u001b[31mERROR: pip's dependency resolver does not currently take into account all the packages that are installed. This behaviour is the source of the following dependency conflicts.\n",
            "dopamine-rl 4.0.6 requires gym<=0.25.2, but you have gym 0.26.0 which is incompatible.\u001b[0m\u001b[31m\n",
            "\u001b[0mSuccessfully installed gym-0.26.0 pygame-2.1.0 trader-world-0.0.1\n"
          ]
        }
      ]
    },
    {
      "cell_type": "markdown",
      "source": [
        "### NOTE: After inistall gym-examples, Restart runtime"
      ],
      "metadata": {
        "id": "aI9PkFlbBds1"
      },
      "id": "aI9PkFlbBds1"
    },
    {
      "cell_type": "code",
      "execution_count": 1,
      "id": "lyric-aruba",
      "metadata": {
        "id": "lyric-aruba"
      },
      "outputs": [],
      "source": [
        "import time\n",
        "import matplotlib.pyplot as plt\n",
        "import gym"
      ]
    },
    {
      "cell_type": "code",
      "execution_count": 2,
      "id": "durable-english",
      "metadata": {
        "scrolled": true,
        "id": "durable-english"
      },
      "outputs": [],
      "source": [
        "env = gym.make(\"trader_world:TraderWorld-v0\", render_mode=\"rgb_array\")"
      ]
    },
    {
      "cell_type": "code",
      "source": [
        "env.reset()"
      ],
      "metadata": {
        "id": "dUs-ATpNAioL",
        "outputId": "34993b36-5e8f-4972-ec41-aff560a155c1",
        "colab": {
          "base_uri": "https://localhost:8080/"
        }
      },
      "id": "dUs-ATpNAioL",
      "execution_count": 3,
      "outputs": [
        {
          "output_type": "execute_result",
          "data": {
            "text/plain": [
              "({'agent': array([0, 1]), 'target': array([2, 0])}, {'distance': 3.0})"
            ]
          },
          "metadata": {},
          "execution_count": 3
        }
      ]
    },
    {
      "cell_type": "code",
      "source": [
        "action = env.action_space.sample()\n",
        "env.step(0)"
      ],
      "metadata": {
        "id": "mN26BJZZBlOa",
        "outputId": "9d1faf76-e92d-49e5-e169-eda7c373c1e6",
        "colab": {
          "base_uri": "https://localhost:8080/"
        }
      },
      "id": "mN26BJZZBlOa",
      "execution_count": 8,
      "outputs": [
        {
          "output_type": "execute_result",
          "data": {
            "text/plain": [
              "({'agent': array([3, 1]), 'target': array([2, 0])},\n",
              " 0,\n",
              " False,\n",
              " False,\n",
              " {'distance': 2.0})"
            ]
          },
          "metadata": {},
          "execution_count": 8
        }
      ]
    },
    {
      "cell_type": "code",
      "execution_count": 9,
      "id": "integrated-accuracy",
      "metadata": {
        "id": "integrated-accuracy",
        "outputId": "3ae2232e-8cc3-422d-ec74-0791322e3eeb",
        "colab": {
          "base_uri": "https://localhost:8080/",
          "height": 453
        }
      },
      "outputs": [
        {
          "output_type": "execute_result",
          "data": {
            "text/plain": [
              "<matplotlib.image.AxesImage at 0x7ab7c15342e0>"
            ]
          },
          "metadata": {},
          "execution_count": 9
        },
        {
          "output_type": "display_data",
          "data": {
            "text/plain": [
              "<Figure size 640x480 with 1 Axes>"
            ],
            "image/png": "[encoded data removed]"
          },
          "metadata": {}
        }
      ],
      "source": [
        "img = env.render()\n",
        "plt.figure()\n",
        "plt.imshow(img)"
      ]
    },
    {
      "cell_type": "markdown",
      "source": [
        "# STEP 2. trader_world.py\n",
        "\n"
      ],
      "metadata": {
        "id": "sCFNs9hoOLJ_"
      },
      "id": "sCFNs9hoOLJ_"
    },
    {
      "cell_type": "code",
      "source": [
        "import gym\n",
        "from gym import spaces\n",
        "import pygame\n",
        "import numpy as np\n",
        "\n",
        "\"\"\"\n",
        "    ### Parameter\n",
        "    * df : Series trade pd.DataFrame witch consist of ohlcv columns(open, high, low, close, volume)\n",
        "         : It is Sorted by time ascending order\n",
        "    * obs_len : What want to observate lenth from df\n",
        "\n",
        "    ### Argument\n",
        "\n",
        "    ### Method\n",
        "\n",
        "    ### Action Space\n",
        "\n",
        "    | Num | Action                                                            |\n",
        "    | --- | ----------------------------------------------------------------- |\n",
        "    | 0   | Hold                                                              |\n",
        "    | 1   | Buy coin and sell coin after 1 step                               |\n",
        "    | 2   | Buy coin and sell coin after 2 step                               |\n",
        "    ...\n",
        "\n",
        "    ### Observation Space\n",
        "    The observation space is a `Box(0, np.inf, (self.obs_len, 4), int)`. Each Num mean 1-dimension number\n",
        "    | Num | Observation                                                  | Min    | Max    |\n",
        "    |-----|--------------------------------------------------------------|--------|--------|\n",
        "    | 0   | open                                                         | 0      | Inf    |\n",
        "    | 1   | high                                                         | 0      | Inf    |\n",
        "    | 2   | low                                                          | 0      | Inf    |\n",
        "    | 3   | close                                                        | 0      | Inf    |\n",
        "    | 4   | volume                                                       | 0      | Inf    |\n",
        "\n",
        "    ### Reward\n",
        "\"\"\"\n",
        "\n",
        "class TraderWorldEnv(gym.Env):\n",
        "    metadata = {\"render_modes\": [\"human\", \"rgb_array\"], \"render_fps\": 4}\n",
        "\n",
        "    def __init__(self, df, obs_len, render_mode=None):\n",
        "        self.df = df\n",
        "        self.lst_ohlcv = self.df_to_lst(self.df)\n",
        "        self.obs_len = obs_len\n",
        "        self.window_size_x = 900    # The size of the PyGame window\n",
        "        self.window_size_y = 1500\n",
        "\n",
        "        # Observations are ohlcv data with obeservation lenth\n",
        "        self.observation_space = spaces.Box(0, np.Inf, shape=(self.obs_len, 5), dtype=int)\n",
        "\n",
        "        # We have 10 actions(each action is differe)\n",
        "        self.action_space = spaces.Discrete(10)\n",
        "\n",
        "\n",
        "        # \"\"\"\n",
        "        # The following dictionary maps abstract actions from `self.action_space` to\n",
        "        # the direction we will walk in if that action is taken.\n",
        "        # I.e. 0 corresponds to \"right\", 1 to \"up\" etc.\n",
        "        # \"\"\"\n",
        "        # self._action_to_direction = {\n",
        "        #     0: np.array([1, 0]),\n",
        "        #     1: np.array([0, 1]),\n",
        "        #     2: np.array([-1, 0]),\n",
        "        #     3: np.array([0, -1]),\n",
        "        # }\n",
        "\n",
        "        assert render_mode is None or render_mode in self.metadata[\"render_modes\"]\n",
        "        self.render_mode = render_mode\n",
        "\n",
        "        \"\"\"\n",
        "        If human-rendering is used, `self.window` will be a reference\n",
        "        to the window that we draw to. `self.clock` will be a clock that is used\n",
        "        to ensure that the environment is rendered at the correct framerate in\n",
        "        human-mode. They will remain `None` until human-mode is used for the\n",
        "        first time.\n",
        "        \"\"\"\n",
        "        self.window = None\n",
        "        self.clock = None\n",
        "\n",
        "\n",
        "    def _get_obs(self):\n",
        "\n",
        "        return self.lst_ohlcv[self.time_step:self.time_step + self.obs_len]\n",
        "\n",
        "    # def _get_info(self):\n",
        "    #     return {\"distance\": np.linalg.norm(self._agent_location - self._target_location, ord=1)}\n",
        "\n",
        "\n",
        "    def reset(self, seed=None, options=None):\n",
        "        # We need the following line to seed self.np_random\n",
        "        super().reset(seed=seed)\n",
        "        self.time_step = 0\n",
        "\n",
        "\n",
        "        # Choose the agent's location uniformly at random\n",
        "        #self._agent_location = self.np_random.integers(0, self.size, size=2, dtype=int)\n",
        "\n",
        "        # We will sample the target's location randomly until it does not coincide with the agent's location\n",
        "        # self._target_location = self._agent_location\n",
        "        # while np.array_equal(self._target_location, self._agent_location):\n",
        "        #     self._target_location = self.np_random.integers(\n",
        "        #         0, self.size, size=2, dtype=int\n",
        "        #     )\n",
        "\n",
        "        observation = self._get_obs()\n",
        "        #info = self._get_info()\n",
        "\n",
        "        if self.render_mode == \"human\":\n",
        "            self._render_frame()\n",
        "\n",
        "        return observation\n",
        "\n",
        "\n",
        "    def step(self, action):\n",
        "        # Map the action (element of {0,1,2,3}) to the direction we walk in\n",
        "        # direction = self._action_to_direction[action]\n",
        "        # # We use `np.clip` to make sure we don't leave the grid\n",
        "        # self._agent_location = np.clip(\n",
        "        #     self._agent_location + direction, 0, self.size - 1\n",
        "        # )\n",
        "        # An episode is done iff the agent has reached the target\n",
        "        terminated = 0\n",
        "        # = np.array_equal(self._agent_location, self._target_location)\n",
        "        reward = 0\n",
        "        # 1 if terminated else 0  # Binary sparse rewards\n",
        "        observation = self._get_obs()\n",
        "        # info = self._get_info()\n",
        "\n",
        "        if self.render_mode == \"human\":\n",
        "            self._render_frame()\n",
        "\n",
        "        self.time_step += 1\n",
        "        return observation, reward, terminated, False, {}\n",
        "\n",
        "\n",
        "    def render(self):\n",
        "        if self.render_mode == \"rgb_array\":\n",
        "            return self._render_frame()\n",
        "\n",
        "    def _render_frame(self):\n",
        "        if self.window is None and self.render_mode == \"human\":\n",
        "            pygame.init()\n",
        "            pygame.display.init()\n",
        "            self.window = pygame.display.set_mode((self.window_size_x, self.window_size_y))\n",
        "        if self.clock is None and self.render_mode == \"human\":\n",
        "            self.clock = pygame.time.Clock()\n",
        "\n",
        "        canvas = pygame.Surface((self.window_size_x, self.window_size_y))\n",
        "        canvas.fill((255, 255, 255))\n",
        "        # pix_square_size = (\n",
        "        #     self.window_size / self.size\n",
        "        # )  # The size of a single grid square in pixels\n",
        "\n",
        "        # # First we draw the target\n",
        "        # pygame.draw.rect(\n",
        "        #     canvas,\n",
        "        #     (255, 0, 0),\n",
        "        #     pygame.Rect(\n",
        "        #         pix_square_size * self._target_location,\n",
        "        #         (pix_square_size, pix_square_size),\n",
        "        #     ),\n",
        "        # )\n",
        "        # # Now we draw the agent\n",
        "        # pygame.draw.circle(\n",
        "        #     canvas,\n",
        "        #     (0, 0, 255),\n",
        "        #     (self._agent_location + 0.5) * pix_square_size,\n",
        "        #     pix_square_size / 3,\n",
        "        # )\n",
        "\n",
        "        # # Finally, add some gridlines\n",
        "        # for x in range(self.size + 1):\n",
        "        #     pygame.draw.line(\n",
        "        #         canvas,\n",
        "        #         0,\n",
        "        #         (0, pix_square_size * x),\n",
        "        #         (self.window_size, pix_square_size * x),\n",
        "        #         width=3,\n",
        "        #     )\n",
        "        #     pygame.draw.line(\n",
        "        #         canvas,\n",
        "        #         0,\n",
        "        #         (pix_square_size * x, 0),\n",
        "        #         (pix_square_size * x, self.window_size),\n",
        "        #         width=3,\n",
        "        #     )\n",
        "\n",
        "        if self.render_mode == \"human\":\n",
        "            # The following line copies our drawings from `canvas` to the visible window\n",
        "            self.window.blit(canvas, canvas.get_rect())\n",
        "            pygame.event.pump()\n",
        "            pygame.display.update()\n",
        "\n",
        "            # We need to ensure that human-rendering occurs at the predefined framerate.\n",
        "            # The following line will automatically add a delay to keep the framerate stable.\n",
        "            self.clock.tick(self.metadata[\"render_fps\"])\n",
        "        else:  # rgb_array\n",
        "            return np.transpose(\n",
        "                np.array(pygame.surfarray.pixels3d(canvas)), axes=(1, 0, 2)\n",
        "            )\n",
        "\n",
        "\n",
        "    def close(self):\n",
        "        if self.window is not None:\n",
        "            pygame.display.quit()\n",
        "            pygame.quit()\n",
        "\n",
        "    def df_to_lst(self, df):\n",
        "        lst = []\n",
        "        for i in range(len(df)):\n",
        "            lst.append(df.iloc[i].tolist())\n",
        "        return lst"
      ],
      "metadata": {
        "id": "5C0oBi7hObYf"
      },
      "id": "5C0oBi7hObYf",
      "execution_count": null,
      "outputs": []
    },
    {
      "cell_type": "markdown",
      "source": [
        "# STEP 3. Test Code"
      ],
      "metadata": {
        "id": "D94ROFrzY9Gk"
      },
      "id": "D94ROFrzY9Gk"
    },
    {
      "cell_type": "code",
      "source": [
        "!pip install pykrx"
      ],
      "metadata": {
        "id": "7KtTIsgPZWnC"
      },
      "id": "7KtTIsgPZWnC",
      "execution_count": null,
      "outputs": []
    },
    {
      "cell_type": "code",
      "source": [
        "!pip install -e trader_world"
      ],
      "metadata": {
        "collapsed": true,
        "id": "p1gngcdIZYuD",
        "outputId": "c8baab85-da6b-4e0e-c2e1-f0700db8adb1",
        "colab": {
          "base_uri": "https://localhost:8080/"
        }
      },
      "id": "p1gngcdIZYuD",
      "execution_count": 5,
      "outputs": [
        {
          "output_type": "stream",
          "name": "stdout",
          "text": [
            "Obtaining file:///content/trader_world\n",
            "  Preparing metadata (setup.py) ... \u001b[?25l\u001b[?25hdone\n",
            "Requirement already satisfied: gym==0.25.2 in /usr/local/lib/python3.10/dist-packages (from trader-world==0.0.1) (0.25.2)\n",
            "Requirement already satisfied: pygame==2.1.0 in /usr/local/lib/python3.10/dist-packages (from trader-world==0.0.1) (2.1.0)\n",
            "Requirement already satisfied: numpy>=1.18.0 in /usr/local/lib/python3.10/dist-packages (from gym==0.25.2->trader-world==0.0.1) (1.23.5)\n",
            "Requirement already satisfied: cloudpickle>=1.2.0 in /usr/local/lib/python3.10/dist-packages (from gym==0.25.2->trader-world==0.0.1) (2.2.1)\n",
            "Requirement already satisfied: gym-notices>=0.0.4 in /usr/local/lib/python3.10/dist-packages (from gym==0.25.2->trader-world==0.0.1) (0.0.8)\n",
            "Installing collected packages: trader-world\n",
            "  Attempting uninstall: trader-world\n",
            "    Found existing installation: trader-world 0.0.1\n",
            "    Uninstalling trader-world-0.0.1:\n",
            "      Successfully uninstalled trader-world-0.0.1\n",
            "  Running setup.py develop for trader-world\n",
            "Successfully installed trader-world-0.0.1\n"
          ]
        }
      ]
    },
    {
      "cell_type": "markdown",
      "source": [
        "After install env, Restart runtime"
      ],
      "metadata": {
        "id": "j-IMHkhYZkxk"
      },
      "id": "j-IMHkhYZkxk"
    },
    {
      "cell_type": "code",
      "source": [
        "### Ready data\n",
        "from pykrx import stock\n",
        "import pandas as pd\n",
        "\n",
        "df = stock.get_market_ohlcv(\"20210720\", \"20221010\", \"005930\")\n",
        "df = df[df.columns.tolist()[:-1]]\n",
        "df.columns = ['open', 'high', 'low', 'close', 'volume']\n",
        "\n",
        "df = df.reset_index(drop=True)\n",
        "print(df.head(3))"
      ],
      "metadata": {
        "id": "REQLyylZZKRv",
        "outputId": "22462b3f-5f21-4b45-d99b-e9d39576278d",
        "colab": {
          "base_uri": "https://localhost:8080/"
        }
      },
      "id": "REQLyylZZKRv",
      "execution_count": 1,
      "outputs": [
        {
          "output_type": "stream",
          "name": "stdout",
          "text": [
            "    open   high    low  close    volume\n",
            "0  78500  79000  78400  79000  12456646\n",
            "1  79000  79100  78500  78500  12355296\n",
            "2  79000  79800  78900  79700  12618790\n"
          ]
        }
      ]
    },
    {
      "cell_type": "code",
      "source": [
        "import time\n",
        "import matplotlib.pyplot as plt\n",
        "import gym\n",
        "\n",
        "env = gym.make(\"trader_world:TraderWorld-v0\", df=df, obs_len=30, render_mode=\"rgb_array\")"
      ],
      "metadata": {
        "id": "HyOPi5M5ZhIE",
        "outputId": "a5377a05-288c-4480-b028-4ae3b41e0bd5",
        "colab": {
          "base_uri": "https://localhost:8080/"
        }
      },
      "id": "HyOPi5M5ZhIE",
      "execution_count": 2,
      "outputs": [
        {
          "output_type": "stream",
          "name": "stderr",
          "text": [
            "/usr/local/lib/python3.10/dist-packages/gym/utils/passive_env_checker.py:31: UserWarning: \u001b[33mWARN: A Box observation space has an unconventional shape (neither an image, nor a 1D vector). We recommend flattening the observation to have only a 1D vector or use a custom policy to properly process the data. Actual observation shape: (30, 5)\u001b[0m\n",
            "  logger.warn(\n",
            "/usr/local/lib/python3.10/dist-packages/gym/core.py:317: DeprecationWarning: \u001b[33mWARN: Initializing wrapper in old step API which returns one bool instead of two. It is recommended to set `new_step_api=True` to use new step API. This will be the default behaviour in future.\u001b[0m\n",
            "  deprecation(\n",
            "/usr/local/lib/python3.10/dist-packages/gym/wrappers/step_api_compatibility.py:39: DeprecationWarning: \u001b[33mWARN: Initializing environment in old step API which returns one bool instead of two. It is recommended to set `new_step_api=True` to use new step API. This will be the default behaviour in future.\u001b[0m\n",
            "  deprecation(\n"
          ]
        }
      ]
    },
    {
      "cell_type": "code",
      "source": [
        "env.reset()"
      ],
      "metadata": {
        "id": "yAlluDZzncCZ",
        "outputId": "b4cf1bb2-bdcc-44b0-b389-a6aa253e36c0",
        "colab": {
          "base_uri": "https://localhost:8080/"
        }
      },
      "id": "yAlluDZzncCZ",
      "execution_count": 3,
      "outputs": [
        {
          "output_type": "stream",
          "name": "stderr",
          "text": [
            "/usr/local/lib/python3.10/dist-packages/gym/utils/passive_env_checker.py:190: UserWarning: \u001b[33mWARN: Future gym versions will require that `Env.reset` can be passed `return_info` to return information from the environment resetting.\u001b[0m\n",
            "  logger.warn(\n",
            "/usr/local/lib/python3.10/dist-packages/gym/utils/passive_env_checker.py:137: UserWarning: \u001b[33mWARN: The obs returned by the `reset()` method was expecting a numpy array, actual type: <class 'list'>\u001b[0m\n",
            "  logger.warn(\n",
            "/usr/local/lib/python3.10/dist-packages/gym/spaces/box.py:226: UserWarning: \u001b[33mWARN: Casting input x to numpy array.\u001b[0m\n",
            "  logger.warn(\"Casting input x to numpy array.\")\n"
          ]
        },
        {
          "output_type": "execute_result",
          "data": {
            "text/plain": [
              "[[78500, 79000, 78400, 79000, 12456646],\n",
              " [79000, 79100, 78500, 78500, 12355296],\n",
              " [79000, 79800, 78900, 79700, 12618790],\n",
              " [79700, 79900, 79200, 79300, 9098910],\n",
              " [79400, 79500, 78800, 78800, 10040975],\n",
              " [79200, 79400, 78500, 78500, 11427693],\n",
              " [78300, 79200, 78100, 79200, 12743417],\n",
              " [78800, 79400, 78800, 79000, 14360453],\n",
              " [78900, 78900, 78500, 78500, 13823411],\n",
              " [79200, 79500, 78700, 79300, 11739124],\n",
              " [79400, 81400, 79300, 81400, 24339360],\n",
              " [82200, 83100, 81800, 82900, 25642368],\n",
              " [83300, 83300, 82000, 82100, 18485469],\n",
              " [81900, 82500, 81300, 81500, 13342623],\n",
              " [81500, 82300, 80900, 81500, 15522581],\n",
              " [82300, 82400, 80100, 80200, 20362639],\n",
              " [79600, 79800, 78500, 78500, 30241137],\n",
              " [77100, 78200, 76900, 77000, 42365223],\n",
              " [75800, 76000, 74100, 74400, 61270643],\n",
              " [74000, 75100, 74000, 74200, 30944847],\n",
              " [73900, 74600, 73100, 73900, 29192631],\n",
              " [73500, 74400, 73100, 73100, 22166298],\n",
              " [73500, 73900, 72500, 72700, 22364803],\n",
              " [73300, 74000, 73000, 73300, 19384648],\n",
              " [73900, 75700, 73900, 75600, 21016913],\n",
              " [76200, 76600, 74900, 75700, 22319664],\n",
              " [76100, 76200, 74600, 74600, 16671494],\n",
              " [74300, 75000, 73800, 74300, 15172748],\n",
              " [75400, 75500, 74200, 74600, 12686999],\n",
              " [74900, 76700, 74300, 76700, 24630370]]"
            ]
          },
          "metadata": {},
          "execution_count": 3
        }
      ]
    },
    {
      "cell_type": "code",
      "source": [
        "env.action_space, env.observation_space"
      ],
      "metadata": {
        "id": "jWLZKN49oL6b",
        "outputId": "20657e76-d364-4882-9f82-2abf93ca32dd",
        "colab": {
          "base_uri": "https://localhost:8080/"
        }
      },
      "id": "jWLZKN49oL6b",
      "execution_count": 12,
      "outputs": [
        {
          "output_type": "execute_result",
          "data": {
            "text/plain": [
              "(Discrete(10), Box(0, 9223372036854775805, (30, 5), int64))"
            ]
          },
          "metadata": {},
          "execution_count": 12
        }
      ]
    },
    {
      "cell_type": "code",
      "source": [
        "action = env.action_space.sample()\n",
        "action"
      ],
      "metadata": {
        "id": "XHF9eJPQoInz",
        "outputId": "f2455ebd-39e7-49ad-e185-f42b869be235",
        "colab": {
          "base_uri": "https://localhost:8080/"
        }
      },
      "id": "XHF9eJPQoInz",
      "execution_count": 10,
      "outputs": [
        {
          "output_type": "stream",
          "name": "stderr",
          "text": [
            "/usr/local/lib/python3.10/dist-packages/ipykernel/ipkernel.py:283: DeprecationWarning: `should_run_async` will not call `transform_cell` automatically in the future. Please pass the result to `transformed_cell` argument and any exception that happen during thetransform in `preprocessing_exc_tuple` in IPython 7.17 and above.\n",
            "  and should_run_async(code)\n"
          ]
        },
        {
          "output_type": "execute_result",
          "data": {
            "text/plain": [
              "7"
            ]
          },
          "metadata": {},
          "execution_count": 10
        }
      ]
    },
    {
      "cell_type": "code",
      "source": [
        "obs, reward, done, _ = env.step(1)\n",
        "env.step(1)"
      ],
      "metadata": {
        "id": "JjElRdExnkIg",
        "outputId": "d0dd5ed1-61a2-4bf3-8cc1-a15f7c21f2bf",
        "colab": {
          "base_uri": "https://localhost:8080/"
        }
      },
      "id": "JjElRdExnkIg",
      "execution_count": 7,
      "outputs": [
        {
          "output_type": "stream",
          "name": "stderr",
          "text": [
            "/usr/local/lib/python3.10/dist-packages/ipykernel/ipkernel.py:283: DeprecationWarning: `should_run_async` will not call `transform_cell` automatically in the future. Please pass the result to `transformed_cell` argument and any exception that happen during thetransform in `preprocessing_exc_tuple` in IPython 7.17 and above.\n",
            "  and should_run_async(code)\n"
          ]
        }
      ]
    },
    {
      "cell_type": "code",
      "source": [
        "img = env.render()\n",
        "plt.figure()\n",
        "plt.imshow(img)"
      ],
      "metadata": {
        "id": "50g5oMb7oDX_",
        "outputId": "2cf6faed-3ab5-4ca6-de83-71af63ac6965",
        "colab": {
          "base_uri": "https://localhost:8080/",
          "height": 453
        }
      },
      "id": "50g5oMb7oDX_",
      "execution_count": 8,
      "outputs": [
        {
          "output_type": "execute_result",
          "data": {
            "text/plain": [
              "<matplotlib.image.AxesImage at 0x7978241a3970>"
            ]
          },
          "metadata": {},
          "execution_count": 8
        },
        {
          "output_type": "display_data",
          "data": {
            "text/plain": [
              "<Figure size 640x480 with 1 Axes>"
            ],
            "image/png": "[encoded data removed]"
          },
          "metadata": {}
        }
      ]
    },
    {
      "cell_type": "markdown",
      "source": [
        "# Appendix. B/U gird_world.py"
      ],
      "metadata": {
        "id": "f-KBTYoMYOAn"
      },
      "id": "f-KBTYoMYOAn"
    },
    {
      "cell_type": "code",
      "source": [
        "import gym\n",
        "from gym import spaces\n",
        "import pygame\n",
        "import numpy as np\n",
        "\n",
        "\n",
        "class GridWorldEnv(gym.Env):\n",
        "    metadata = {\"render_modes\": [\"human\", \"rgb_array\"], \"render_fps\": 4}\n",
        "\n",
        "    def __init__(self, render_mode=None, size=5):\n",
        "        self.size = size        # The size of the square grid\n",
        "        self.window_size = 512  # The size of the PyGame window\n",
        "\n",
        "        # Observations are dictionaries with the agent's and the target's location.\n",
        "        # Each location is encoded as an element of {0, ..., `size`}^2, i.e. MultiDiscrete([size, size]).\n",
        "        self.observation_space = spaces.Dict(\n",
        "            {\n",
        "                \"agent\": spaces.Box(0, size - 1, shape=(2,), dtype=int),\n",
        "                \"target\": spaces.Box(0, size - 1, shape=(2,), dtype=int),\n",
        "            }\n",
        "        )\n",
        "\n",
        "        # We have 4 actions, corresponding to \"right\", \"up\", \"left\", \"down\"\n",
        "        self.action_space = spaces.Discrete(4)\n",
        "\n",
        "        \"\"\"\n",
        "        The following dictionary maps abstract actions from `self.action_space` to\n",
        "        the direction we will walk in if that action is taken.\n",
        "        I.e. 0 corresponds to \"right\", 1 to \"up\" etc.\n",
        "        \"\"\"\n",
        "        self._action_to_direction = {\n",
        "            0: np.array([1, 0]),\n",
        "            1: np.array([0, 1]),\n",
        "            2: np.array([-1, 0]),\n",
        "            3: np.array([0, -1]),\n",
        "        }\n",
        "\n",
        "        assert render_mode is None or render_mode in self.metadata[\"render_modes\"]\n",
        "        self.render_mode = render_mode\n",
        "\n",
        "        \"\"\"\n",
        "        If human-rendering is used, `self.window` will be a reference\n",
        "        to the window that we draw to. `self.clock` will be a clock that is used\n",
        "        to ensure that the environment is rendered at the correct framerate in\n",
        "        human-mode. They will remain `None` until human-mode is used for the\n",
        "        first time.\n",
        "        \"\"\"\n",
        "        self.window = None\n",
        "        self.clock = None\n",
        "\n",
        "\n",
        "    def _get_obs(self):\n",
        "        return {\"agent\": self._agent_location, \"target\": self._target_location}\n",
        "\n",
        "    def _get_info(self):\n",
        "        return {\"distance\": np.linalg.norm(self._agent_location - self._target_location, ord=1)}\n",
        "\n",
        "\n",
        "    def reset(self, seed=None, options=None):\n",
        "        # We need the following line to seed self.np_random\n",
        "        super().reset(seed=seed)\n",
        "\n",
        "        # Choose the agent's location uniformly at random\n",
        "        self._agent_location = self.np_random.integers(0, self.size, size=2, dtype=int)\n",
        "\n",
        "        # We will sample the target's location randomly until it does not coincide with the agent's location\n",
        "        self._target_location = self._agent_location\n",
        "        while np.array_equal(self._target_location, self._agent_location):\n",
        "            self._target_location = self.np_random.integers(\n",
        "                0, self.size, size=2, dtype=int\n",
        "            )\n",
        "\n",
        "        observation = self._get_obs()\n",
        "        info = self._get_info()\n",
        "\n",
        "        if self.render_mode == \"human\":\n",
        "            self._render_frame()\n",
        "\n",
        "        return observation, info\n",
        "\n",
        "\n",
        "    def step(self, action):\n",
        "        # Map the action (element of {0,1,2,3}) to the direction we walk in\n",
        "        direction = self._action_to_direction[action]\n",
        "        # We use `np.clip` to make sure we don't leave the grid\n",
        "        self._agent_location = np.clip(\n",
        "            self._agent_location + direction, 0, self.size - 1\n",
        "        )\n",
        "        # An episode is done iff the agent has reached the target\n",
        "        terminated = np.array_equal(self._agent_location, self._target_location)\n",
        "        reward = 1 if terminated else 0  # Binary sparse rewards\n",
        "        observation = self._get_obs()\n",
        "        info = self._get_info()\n",
        "\n",
        "        if self.render_mode == \"human\":\n",
        "            self._render_frame()\n",
        "\n",
        "        return observation, reward, terminated, False, info\n",
        "\n",
        "\n",
        "    def render(self):\n",
        "        if self.render_mode == \"rgb_array\":\n",
        "            return self._render_frame()\n",
        "\n",
        "    def _render_frame(self):\n",
        "        if self.window is None and self.render_mode == \"human\":\n",
        "            pygame.init()\n",
        "            pygame.display.init()\n",
        "            self.window = pygame.display.set_mode((self.window_size, self.window_size))\n",
        "        if self.clock is None and self.render_mode == \"human\":\n",
        "            self.clock = pygame.time.Clock()\n",
        "\n",
        "        canvas = pygame.Surface((self.window_size, self.window_size))\n",
        "        canvas.fill((255, 255, 255))\n",
        "        pix_square_size = (\n",
        "            self.window_size / self.size\n",
        "        )  # The size of a single grid square in pixels\n",
        "\n",
        "        # First we draw the target\n",
        "        pygame.draw.rect(\n",
        "            canvas,\n",
        "            (255, 0, 0),\n",
        "            pygame.Rect(\n",
        "                pix_square_size * self._target_location,\n",
        "                (pix_square_size, pix_square_size),\n",
        "            ),\n",
        "        )\n",
        "        # Now we draw the agent\n",
        "        pygame.draw.circle(\n",
        "            canvas,\n",
        "            (0, 0, 255),\n",
        "            (self._agent_location + 0.5) * pix_square_size,\n",
        "            pix_square_size / 3,\n",
        "        )\n",
        "\n",
        "        # Finally, add some gridlines\n",
        "        for x in range(self.size + 1):\n",
        "            pygame.draw.line(\n",
        "                canvas,\n",
        "                0,\n",
        "                (0, pix_square_size * x),\n",
        "                (self.window_size, pix_square_size * x),\n",
        "                width=3,\n",
        "            )\n",
        "            pygame.draw.line(\n",
        "                canvas,\n",
        "                0,\n",
        "                (pix_square_size * x, 0),\n",
        "                (pix_square_size * x, self.window_size),\n",
        "                width=3,\n",
        "            )\n",
        "\n",
        "        if self.render_mode == \"human\":\n",
        "            # The following line copies our drawings from `canvas` to the visible window\n",
        "            self.window.blit(canvas, canvas.get_rect())\n",
        "            pygame.event.pump()\n",
        "            pygame.display.update()\n",
        "\n",
        "            # We need to ensure that human-rendering occurs at the predefined framerate.\n",
        "            # The following line will automatically add a delay to keep the framerate stable.\n",
        "            self.clock.tick(self.metadata[\"render_fps\"])\n",
        "        else:  # rgb_array\n",
        "            return np.transpose(\n",
        "                np.array(pygame.surfarray.pixels3d(canvas)), axes=(1, 0, 2)\n",
        "            )\n",
        "\n",
        "\n",
        "    def close(self):\n",
        "        if self.window is not None:\n",
        "            pygame.display.quit()\n",
        "            pygame.quit()"
      ],
      "metadata": {
        "id": "vIsYWA0SYUYx"
      },
      "id": "vIsYWA0SYUYx",
      "execution_count": null,
      "outputs": []
    }
  ],
  "metadata": {
    "kernelspec": {
      "display_name": "Python 3",
      "language": "python",
      "name": "python3"
    },
    "language_info": {
      "codemirror_mode": {
        "name": "ipython",
        "version": 3
      },
      "file_extension": ".py",
      "mimetype": "text/x-python",
      "name": "python",
      "nbconvert_exporter": "python",
      "pygments_lexer": "ipython3",
      "version": "3.8.10"
    },
    "colab": {
      "provenance": [],
      "include_colab_link": true
    }
  },
  "nbformat": 4,
  "nbformat_minor": 5
}