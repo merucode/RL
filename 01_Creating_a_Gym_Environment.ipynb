{
  "cells": [
    {
      "cell_type": "markdown",
      "metadata": {
        "id": "view-in-github",
        "colab_type": "text"
      },
      "source": [
        "<a href=\"https://colab.research.google.com/github/merucode/RL/blob/92-Project-Trader-Custom_environment/01_Creating_a_Gym_Environment.ipynb\" target=\"_parent\"><img src=\"https://colab.research.google.com/assets/colab-badge.svg\" alt=\"Open In Colab\"/></a>"
      ]
    },
    {
      "cell_type": "markdown",
      "source": [
        "# STEP 1. Install Dependency"
      ],
      "metadata": {
        "id": "MLB979Vs-2J1"
      },
      "id": "MLB979Vs-2J1"
    },
    {
      "cell_type": "code",
      "source": [
        "!git clone -b 92-Project-Trader-Custom_environment https://github.com/merucode/RL.git\n",
        "!cd RL && mv * ../"
      ],
      "metadata": {
        "collapsed": true,
        "id": "bMkFjiRc-i71",
        "outputId": "a38ffe1e-612c-4d58-aeea-c1b34db72e15",
        "colab": {
          "base_uri": "https://localhost:8080/"
        }
      },
      "id": "bMkFjiRc-i71",
      "execution_count": 1,
      "outputs": [
        {
          "output_type": "stream",
          "name": "stdout",
          "text": [
            "Cloning into 'RL'...\n",
            "remote: Enumerating objects: 101, done.\u001b[K\n",
            "remote: Counting objects: 100% (21/21), done.\u001b[K\n",
            "remote: Compressing objects: 100% (21/21), done.\u001b[K\n",
            "remote: Total 101 (delta 5), reused 0 (delta 0), pack-reused 80\u001b[K\n",
            "Receiving objects: 100% (101/101), 228.39 KiB | 5.19 MiB/s, done.\n",
            "Resolving deltas: 100% (32/32), done.\n"
          ]
        }
      ]
    },
    {
      "cell_type": "code",
      "source": [
        "!pip install -e trader_world"
      ],
      "metadata": {
        "id": "RyQAKDHdN-Rm",
        "outputId": "9e1224b2-095c-4c6e-9f25-a708ab7eb811",
        "colab": {
          "base_uri": "https://localhost:8080/"
        }
      },
      "id": "RyQAKDHdN-Rm",
      "execution_count": 2,
      "outputs": [
        {
          "output_type": "stream",
          "name": "stdout",
          "text": [
            "Obtaining file:///content/trader_world\n",
            "  Preparing metadata (setup.py) ... \u001b[?25l\u001b[?25hdone\n",
            "Requirement already satisfied: gym==0.25.2 in /usr/local/lib/python3.10/dist-packages (from trader-world==0.0.1) (0.25.2)\n",
            "Collecting pygame==2.1.0 (from trader-world==0.0.1)\n",
            "  Downloading pygame-2.1.0-cp310-cp310-manylinux_2_17_x86_64.manylinux2014_x86_64.whl (18.3 MB)\n",
            "\u001b[2K     \u001b[90m━━━━━━━━━━━━━━━━━━━━━━━━━━━━━━━━━━━━━━━━\u001b[0m \u001b[32m18.3/18.3 MB\u001b[0m \u001b[31m38.0 MB/s\u001b[0m eta \u001b[36m0:00:00\u001b[0m\n",
            "\u001b[?25hRequirement already satisfied: numpy>=1.18.0 in /usr/local/lib/python3.10/dist-packages (from gym==0.25.2->trader-world==0.0.1) (1.23.5)\n",
            "Requirement already satisfied: cloudpickle>=1.2.0 in /usr/local/lib/python3.10/dist-packages (from gym==0.25.2->trader-world==0.0.1) (2.2.1)\n",
            "Requirement already satisfied: gym-notices>=0.0.4 in /usr/local/lib/python3.10/dist-packages (from gym==0.25.2->trader-world==0.0.1) (0.0.8)\n",
            "Installing collected packages: pygame, trader-world\n",
            "  Attempting uninstall: pygame\n",
            "    Found existing installation: pygame 2.5.0\n",
            "    Uninstalling pygame-2.5.0:\n",
            "      Successfully uninstalled pygame-2.5.0\n",
            "  Running setup.py develop for trader-world\n",
            "Successfully installed pygame-2.1.0 trader-world-0.0.1\n"
          ]
        }
      ]
    },
    {
      "cell_type": "markdown",
      "source": [
        "### NOTE: After inistall gym-examples, Restart runtime"
      ],
      "metadata": {
        "id": "aI9PkFlbBds1"
      },
      "id": "aI9PkFlbBds1"
    },
    {
      "cell_type": "markdown",
      "source": [
        "# STEP 2. trader_world.py\n",
        "\n"
      ],
      "metadata": {
        "id": "sCFNs9hoOLJ_"
      },
      "id": "sCFNs9hoOLJ_"
    },
    {
      "cell_type": "code",
      "source": [
        "import gym\n",
        "from gym import spaces\n",
        "import pygame\n",
        "import numpy as np\n",
        "\n",
        "BLACK = pygame.Color(0, 0, 0)\n",
        "WHITE = pygame.Color(255, 255, 255)\n",
        "RED = pygame.Color(255, 0, 0)\n",
        "GREEN = pygame.Color(0, 255, 0)\n",
        "BLUE = pygame.Color(0, 0, 255)\n",
        "YELLOW = pygame.Color(255, 255, 0)\n",
        "\n",
        "\"\"\"\n",
        "    ### Parameter\n",
        "    * df : Series trade pd.DataFrame witch consist of ohlcv columns(open, high, low, close, volume)\n",
        "         : It is Sorted by time ascending order\n",
        "    * obs_len : What want to observate lenth from df\n",
        "    * actions : The number of discrete action space\n",
        "    * df_render : If you have preprocessing df and want to render with original df, use obs_df with original df\n",
        "\n",
        "    ### Argument\n",
        "    ...\n",
        "\n",
        "    ### Method\n",
        "    ...\n",
        "\n",
        "    ### Action Space\n",
        "    The action space is a `Discrete(actions)`\n",
        "    | Num | Action                                                            |\n",
        "    | --- | ----------------------------------------------------------------- |\n",
        "    | 0   | Hold                                                              |\n",
        "    | 1   | Buy coin and sell coin after 1 step                               |\n",
        "    | 2   | Buy coin and sell coin after 2 step                               |\n",
        "    ...\n",
        "    | n   | Buy coin and sell coin after n step                               |\n",
        "\n",
        "\n",
        "    ### Observation Space\n",
        "    The observation space is a `Box(0, np.inf, (self.obs_len, 4), int)`. Each Num mean 1-dimension number\n",
        "    | Num | Observation                                                  | Min    | Max    |\n",
        "    |-----|--------------------------------------------------------------|--------|--------|\n",
        "    | 0   | open                                                         | 0      | Inf    |\n",
        "    | 1   | high                                                         | 0      | Inf    |\n",
        "    | 2   | low                                                          | 0      | Inf    |\n",
        "    | 3   | close                                                        | 0      | Inf    |\n",
        "    | 4   | volume                                                       | 0      | Inf    |\n",
        "\n",
        "    ### Reward\n",
        "    Profit\n",
        "\"\"\"\n",
        "\n",
        "class TraderWorldEnv(gym.Env):\n",
        "    metadata = {\"render_modes\": [\"human\", \"rgb_array\"], \"render_fps\": 4}\n",
        "\n",
        "    def __init__(self, df, df_render=None, obs_len=30, actions=10, render_mode=None):\n",
        "        self.df = df\n",
        "        self.lst_ohlcv = self.df_to_lst(self.df)    # convert DataFrame to list\n",
        "        self.obs_len = obs_len\n",
        "        self.time_step_limit = len(self.df) - self.obs_len - actions\n",
        "\n",
        "        self.df_render = df_render if df_render is not None else df\n",
        "        self.lst_ohlcv_render = self.df_to_lst(self.df_render)\n",
        "\n",
        "        self.window_size_x = 900        # The size of the PyGame window\n",
        "        self.window_size_y = 1500\n",
        "        self.candle_frame_size_x = self.window_size_x # The size of the candle frame\n",
        "        self.candle_frame_size_y = 900\n",
        "        self.volume_frame_size_x = self.window_size_x  # The volume of the candle frame\n",
        "        self.volume_frame_size_y = 500\n",
        "        self.score_frame_size_x = self.window_size_x   # The score of the candle frame\n",
        "        self.score_frame_size_y = 100\n",
        "\n",
        "        # Observations are ohlcv data with obeservation lenth\n",
        "        self.observation_space = spaces.Box(0, np.Inf, shape=(self.obs_len, 5), dtype=int)\n",
        "\n",
        "        # We have 10 actions(each action is differe)\n",
        "        self.action_space = spaces.Discrete(actions)\n",
        "\n",
        "        assert render_mode is None or render_mode in self.metadata[\"render_modes\"]\n",
        "        self.render_mode = render_mode\n",
        "\n",
        "        \"\"\"\n",
        "        If human-rendering is used, `self.window` will be a reference\n",
        "        to the window that we draw to. `self.clock` will be a clock that is used\n",
        "        to ensure that the environment is rendered at the correct framerate in\n",
        "        human-mode. They will remain `None` until human-mode is used for the\n",
        "        first time.\n",
        "        \"\"\"\n",
        "        self.window = None\n",
        "        self.clock = None\n",
        "\n",
        "    def _action_to_trade(self, action):\n",
        "        if action == 0:\n",
        "            profit = 0\n",
        "        else:\n",
        "            # Buy close price. After action value tiem step, sell low price(conservative profit)\n",
        "            buy_price = self.lst_ohlcv[self.time_step + self.obs_len - 1][3]\n",
        "            sell_price = self.lst_ohlcv[self.time_step + self.obs_len - 1 + action][2]\n",
        "            # trading_fee = buy_price*(0.015_증권사수수료)*0.01 + sell_price*(0.015_증권사수수료+0.3_세금)*0.01\n",
        "            trading_fee = buy_price*0.015*0.01 + sell_price*(0.015+0.3)*0.01\n",
        "            trading_fee = round(trading_fee)\n",
        "\n",
        "            # profit = -1 * buy_close_price + sell_low_price - trade_fee\n",
        "            profit = -1 * buy_price + sell_price - trading_fee\n",
        "        return profit, buy_price, sell_price, trading_fee\n",
        "\n",
        "    def _get_obs(self):\n",
        "        return self.lst_ohlcv[self.time_step:self.time_step + self.obs_len]\n",
        "\n",
        "    def _get_obs_render(self):\n",
        "        return self.lst_ohlcv_render[self.time_step:self.time_step + self.obs_len]\n",
        "\n",
        "    #def _get_info(self):\n",
        "    #    return {\"distance\": np.linalg.norm(self._agent_location - self._target_location, ord=1)}\n",
        "\n",
        "\n",
        "    def reset(self, seed=None, options=None):\n",
        "        self.time_step = 0\n",
        "\n",
        "        self.balance = 1000\n",
        "\n",
        "        observation = self._get_obs()\n",
        "        #info = self._get_info()\n",
        "\n",
        "        if self.render_mode == \"human\":\n",
        "            self._render_frame()\n",
        "\n",
        "        return observation\n",
        "\n",
        "\n",
        "    def step(self, action):\n",
        "        profit, buy_price, sell_price, trading_fee = self._action_to_trade(action)\n",
        "\n",
        "        self.balance = self.balance + profit\n",
        "\n",
        "        terminated = 1 if (self.balance <= 0 or self.time_step==self.time_step_limit) else 0\n",
        "\n",
        "        reward = profit / 100\n",
        "\n",
        "        observation = self._get_obs()\n",
        "        #info = self._get_info()\n",
        "        info = {'balance':self.balance, 'buy_price':buy_price, 'sell_price':sell_price, 'traing_fee':trading_fee,\n",
        "                'time_step':self.time_step, 'time_step_limit':self.time_step_limit}\n",
        "\n",
        "        if self.render_mode == \"human\":\n",
        "            self._render_frame()\n",
        "\n",
        "        self.time_step += 1\n",
        "        return observation, reward, terminated, False, info\n",
        "\n",
        "\n",
        "    ########################## RENDER ##########################\n",
        "    def render(self):\n",
        "        if self.render_mode == \"rgb_array\":\n",
        "            pygame.font.init()  # For display score\n",
        "            return self._render_frame()\n",
        "\n",
        "    def _render_frame(self):\n",
        "        if self.window is None and self.render_mode == \"human\":\n",
        "            pygame.init()\n",
        "            pygame.display.init()\n",
        "            self.window = pygame.display.set_mode((self.window_size_x, self.window_size_y))\n",
        "        if self.clock is None and self.render_mode == \"human\":\n",
        "            self.clock = pygame.time.Clock()\n",
        "\n",
        "        canvas = pygame.Surface((self.window_size_x, self.window_size_y))\n",
        "        canvas.fill(WHITE)\n",
        "\n",
        "        score_frame = pygame.Surface((self.score_frame_size_x, self.score_frame_size_y))\n",
        "        score_frame_rect = score_frame.get_rect()\n",
        "        score_frame_rect.top = 0\n",
        "        score_frame_rect.left = 0\n",
        "        score_frame.fill(BLACK)\n",
        "        score_font = pygame.font.SysFont('arial', 80)\n",
        "        score_image = score_font.render(f'{self.balance}', True, YELLOW)\n",
        "        score_frame.blit(score_image, (10, 10))\n",
        "        canvas.blit(score_frame, (0, 0))\n",
        "        # Candle Plot\n",
        "        candle_frame = self._render_candle()\n",
        "        canvas.blit(candle_frame, (0, 100))\n",
        "        # Bar Plot\n",
        "        volume_frame = self._render_volume()\n",
        "        canvas.blit(volume_frame, (0, 1000))\n",
        "\n",
        "        if self.render_mode == \"human\":\n",
        "            # The following line copies our drawings from `canvas` to the visible window\n",
        "            self.window.blit(canvas, canvas.get_rect())\n",
        "            pygame.event.pump()\n",
        "            pygame.display.update()\n",
        "\n",
        "            # We need to ensure that human-rendering occurs at the predefined framerate.\n",
        "            # The following line will automatically add a delay to keep the framerate stable.\n",
        "            self.clock.tick(self.metadata[\"render_fps\"])\n",
        "        else:  # rgb_array\n",
        "            return np.transpose(\n",
        "                np.array(pygame.surfarray.pixels3d(canvas)), axes=(1, 0, 2)\n",
        "            )\n",
        "\n",
        "    def _render_candle(self):\n",
        "        candle_frame = pygame.Surface((self.candle_frame_size_x, self.candle_frame_size_y))\n",
        "        candle_frame.fill(BLACK)\n",
        "        candle_width = self.candle_frame_size_x // self.obs_len\n",
        "        candle_line_space = candle_width // 2\n",
        "        candle_line_width = 1\n",
        "\n",
        "        observation_render = self._get_obs_render()\n",
        "        scale_ohlc_lst_render = self._get_scale_ohlc_lst_render(observation_render, new_range=self.candle_frame_size_y)\n",
        "\n",
        "        for idx in range(len(scale_ohlc_lst_render)):\n",
        "            candle_x = idx * candle_width\n",
        "            candle_y = self.candle_frame_size_y - max(scale_ohlc_lst_render[idx][0], scale_ohlc_lst_render[idx][3])\n",
        "            candle_height = abs(scale_ohlc_lst_render[idx][0] - scale_ohlc_lst_render[idx][3])\n",
        "\n",
        "            candle_line_y = self.candle_frame_size_y - scale_ohlc_lst_render[idx][1]\n",
        "            candle_line_height = scale_ohlc_lst_render[idx][1] - scale_ohlc_lst_render[idx][2]\n",
        "\n",
        "            if scale_ohlc_lst_render[idx][0] == scale_ohlc_lst_render[idx][3]:\n",
        "                candle_height = 2\n",
        "                pygame.draw.rect(candle_frame, RED,\n",
        "                                 pygame.Rect(candle_x , candle_y, candle_width, candle_height)) # candle\n",
        "                pygame.draw.rect(candle_frame, RED,\n",
        "                                 pygame.Rect(candle_x + candle_line_space, candle_line_y, candle_line_width, candle_line_height)) # candle line\n",
        "            elif scale_ohlc_lst_render[idx][0] < scale_ohlc_lst_render[idx][3]:\n",
        "                pygame.draw.rect(candle_frame, RED,\n",
        "                                 pygame.Rect(candle_x , candle_y, candle_width, candle_height))\n",
        "                pygame.draw.rect(candle_frame, RED,\n",
        "                                 pygame.Rect(candle_x + candle_line_space, candle_line_y, candle_line_width, candle_line_height)) # candle line\n",
        "            else:\n",
        "                pygame.draw.rect(candle_frame, BLUE,\n",
        "                                 pygame.Rect(candle_x , candle_y, candle_width, candle_height))\n",
        "                pygame.draw.rect(candle_frame, BLUE,\n",
        "                                 pygame.Rect(candle_x + candle_line_space, candle_line_y, candle_line_width, candle_line_height)) # candle line\n",
        "\n",
        "        return candle_frame\n",
        "\n",
        "\n",
        "    def _render_volume(self):\n",
        "        volume_frame = pygame.Surface((self.volume_frame_size_x, self.volume_frame_size_y))\n",
        "        volume_frame.fill(BLACK)\n",
        "\n",
        "        volume_width = self.volume_frame_size_x // self.obs_len\n",
        "\n",
        "        observation_render = self._get_obs_render()\n",
        "        scale_v_lst_render = self._get_scale_v_lst_render(observation_render, new_range=self.volume_frame_size_y)\n",
        "\n",
        "        for idx in range(len(scale_v_lst_render)):\n",
        "            volume_x = idx * volume_width\n",
        "            volume_height = scale_v_lst_render[idx][0]\n",
        "            volume_y = self.volume_frame_size_y - volume_height\n",
        "\n",
        "            pygame.draw.rect(volume_frame, GREEN,\n",
        "                                 pygame.Rect(volume_x , volume_y, volume_width, volume_height)) # candle\n",
        "        return volume_frame\n",
        "\n",
        "\n",
        "    def close(self):\n",
        "        if self.window is not None:\n",
        "            pygame.display.quit()\n",
        "            pygame.quit()\n",
        "\n",
        "    ########################## Util ##########################\n",
        "    def df_to_lst(self, df):\n",
        "        lst = []\n",
        "        for i in range(len(df)):\n",
        "            lst.append(df.iloc[i].tolist())\n",
        "        return lst\n",
        "\n",
        "    def _get_scale_ohlc_lst_render(self, ohlcv_lst, new_range):\n",
        "        ohlc_lst = []\n",
        "        for idx in range(len(ohlcv_lst)):\n",
        "            ohlc_lst.append(ohlcv_lst[idx][0:4])\n",
        "        ohlc_scale_lst = self._min_max_scale_lst(ohlc_lst, new_range)\n",
        "        return ohlc_scale_lst\n",
        "\n",
        "    def _get_scale_v_lst_render(self, ohlcv_lst, new_range):\n",
        "        v_lst = []\n",
        "        for idx in range(len(ohlcv_lst)):\n",
        "            v_lst.append(ohlcv_lst[idx][-1:])\n",
        "        v_scale_lst = self._min_max_scale_lst(v_lst, new_range, old_min=0)\n",
        "        return v_scale_lst\n",
        "\n",
        "    def _min_max_scale_lst(self, lst, new_range, old_min=None, old_max=None):\n",
        "        old_min = min(map(min, lst)) if old_min is None else old_min # min from 2-dimension list\n",
        "        old_max = max(map(max, lst)) if old_max is None else old_max # max from 2-dimension list\n",
        "        new_lst = []\n",
        "        new_sub_lst = []\n",
        "        for sub_lst in lst:\n",
        "            new_sub_lst = []\n",
        "            for value in sub_lst:\n",
        "                scaled_value = self._max_min_scale_value(value, old_min, old_max, new_range=new_range)\n",
        "                new_sub_lst.append(scaled_value)\n",
        "            new_lst.append(new_sub_lst)\n",
        "\n",
        "        return new_lst\n",
        "\n",
        "    def _max_min_scale_value(self,value, old_min, old_max, new_range=1):\n",
        "        scaled_value = (value - old_min) / (old_max - old_min) * new_range\n",
        "        scaled_value = round(scaled_value)\n",
        "        return scaled_value"
      ],
      "metadata": {
        "id": "5C0oBi7hObYf"
      },
      "id": "5C0oBi7hObYf",
      "execution_count": null,
      "outputs": []
    },
    {
      "cell_type": "markdown",
      "source": [
        "# STEP 3. Test Code"
      ],
      "metadata": {
        "id": "D94ROFrzY9Gk"
      },
      "id": "D94ROFrzY9Gk"
    },
    {
      "cell_type": "code",
      "source": [
        "!pip install pyupbit"
      ],
      "metadata": {
        "id": "7KtTIsgPZWnC",
        "collapsed": true,
        "colab": {
          "base_uri": "https://localhost:8080/"
        },
        "outputId": "80cbceef-f0c2-458c-a56c-3cebbb5853f5"
      },
      "id": "7KtTIsgPZWnC",
      "execution_count": 2,
      "outputs": [
        {
          "output_type": "stream",
          "name": "stdout",
          "text": [
            "Collecting pykrx\n",
            "  Downloading pykrx-1.0.45-py3-none-any.whl (2.2 MB)\n",
            "\u001b[2K     \u001b[90m━━━━━━━━━━━━━━━━━━━━━━━━━━━━━━━━━━━━━━━━\u001b[0m \u001b[32m2.2/2.2 MB\u001b[0m \u001b[31m8.3 MB/s\u001b[0m eta \u001b[36m0:00:00\u001b[0m\n",
            "\u001b[?25hRequirement already satisfied: requests in /usr/local/lib/python3.10/dist-packages (from pykrx) (2.31.0)\n",
            "Requirement already satisfied: pandas in /usr/local/lib/python3.10/dist-packages (from pykrx) (1.5.3)\n",
            "Collecting datetime (from pykrx)\n",
            "  Downloading DateTime-5.2-py3-none-any.whl (52 kB)\n",
            "\u001b[2K     \u001b[90m━━━━━━━━━━━━━━━━━━━━━━━━━━━━━━━━━━━━━━━━\u001b[0m \u001b[32m52.2/52.2 kB\u001b[0m \u001b[31m5.9 MB/s\u001b[0m eta \u001b[36m0:00:00\u001b[0m\n",
            "\u001b[?25hRequirement already satisfied: numpy in /usr/local/lib/python3.10/dist-packages (from pykrx) (1.23.5)\n",
            "Requirement already satisfied: xlrd in /usr/local/lib/python3.10/dist-packages (from pykrx) (2.0.1)\n",
            "Collecting deprecated (from pykrx)\n",
            "  Downloading Deprecated-1.2.14-py2.py3-none-any.whl (9.6 kB)\n",
            "Requirement already satisfied: multipledispatch in /usr/local/lib/python3.10/dist-packages (from pykrx) (1.0.0)\n",
            "Requirement already satisfied: matplotlib in /usr/local/lib/python3.10/dist-packages (from pykrx) (3.7.1)\n",
            "Collecting zope.interface (from datetime->pykrx)\n",
            "  Downloading zope.interface-6.0-cp310-cp310-manylinux_2_5_x86_64.manylinux1_x86_64.manylinux_2_17_x86_64.manylinux2014_x86_64.whl (246 kB)\n",
            "\u001b[2K     \u001b[90m━━━━━━━━━━━━━━━━━━━━━━━━━━━━━━━━━━━━━━━\u001b[0m \u001b[32m247.0/247.0 kB\u001b[0m \u001b[31m9.7 MB/s\u001b[0m eta \u001b[36m0:00:00\u001b[0m\n",
            "\u001b[?25hRequirement already satisfied: pytz in /usr/local/lib/python3.10/dist-packages (from datetime->pykrx) (2022.7.1)\n",
            "Requirement already satisfied: wrapt<2,>=1.10 in /usr/local/lib/python3.10/dist-packages (from deprecated->pykrx) (1.14.1)\n",
            "Requirement already satisfied: contourpy>=1.0.1 in /usr/local/lib/python3.10/dist-packages (from matplotlib->pykrx) (1.1.0)\n",
            "Requirement already satisfied: cycler>=0.10 in /usr/local/lib/python3.10/dist-packages (from matplotlib->pykrx) (0.11.0)\n",
            "Requirement already satisfied: fonttools>=4.22.0 in /usr/local/lib/python3.10/dist-packages (from matplotlib->pykrx) (4.42.0)\n",
            "Requirement already satisfied: kiwisolver>=1.0.1 in /usr/local/lib/python3.10/dist-packages (from matplotlib->pykrx) (1.4.4)\n",
            "Requirement already satisfied: packaging>=20.0 in /usr/local/lib/python3.10/dist-packages (from matplotlib->pykrx) (23.1)\n",
            "Requirement already satisfied: pillow>=6.2.0 in /usr/local/lib/python3.10/dist-packages (from matplotlib->pykrx) (9.4.0)\n",
            "Requirement already satisfied: pyparsing>=2.3.1 in /usr/local/lib/python3.10/dist-packages (from matplotlib->pykrx) (3.1.1)\n",
            "Requirement already satisfied: python-dateutil>=2.7 in /usr/local/lib/python3.10/dist-packages (from matplotlib->pykrx) (2.8.2)\n",
            "Requirement already satisfied: charset-normalizer<4,>=2 in /usr/local/lib/python3.10/dist-packages (from requests->pykrx) (3.2.0)\n",
            "Requirement already satisfied: idna<4,>=2.5 in /usr/local/lib/python3.10/dist-packages (from requests->pykrx) (3.4)\n",
            "Requirement already satisfied: urllib3<3,>=1.21.1 in /usr/local/lib/python3.10/dist-packages (from requests->pykrx) (1.26.16)\n",
            "Requirement already satisfied: certifi>=2017.4.17 in /usr/local/lib/python3.10/dist-packages (from requests->pykrx) (2023.7.22)\n",
            "Requirement already satisfied: six>=1.5 in /usr/local/lib/python3.10/dist-packages (from python-dateutil>=2.7->matplotlib->pykrx) (1.16.0)\n",
            "Requirement already satisfied: setuptools in /usr/local/lib/python3.10/dist-packages (from zope.interface->datetime->pykrx) (67.7.2)\n",
            "Installing collected packages: zope.interface, deprecated, datetime, pykrx\n",
            "Successfully installed datetime-5.2 deprecated-1.2.14 pykrx-1.0.45 zope.interface-6.0\n"
          ]
        }
      ]
    },
    {
      "cell_type": "code",
      "source": [
        "!pip install -e trader_world"
      ],
      "metadata": {
        "collapsed": true,
        "id": "p1gngcdIZYuD",
        "outputId": "11682ca2-adbc-43a9-f5e9-1d86e86b6090",
        "colab": {
          "base_uri": "https://localhost:8080/"
        }
      },
      "id": "p1gngcdIZYuD",
      "execution_count": 20,
      "outputs": [
        {
          "output_type": "stream",
          "name": "stdout",
          "text": [
            "Obtaining file:///content/trader_world\n",
            "  Preparing metadata (setup.py) ... \u001b[?25l\u001b[?25hdone\n",
            "Requirement already satisfied: gym==0.25.2 in /usr/local/lib/python3.10/dist-packages (from trader-world==0.0.1) (0.25.2)\n",
            "Requirement already satisfied: pygame==2.1.0 in /usr/local/lib/python3.10/dist-packages (from trader-world==0.0.1) (2.1.0)\n",
            "Requirement already satisfied: numpy>=1.18.0 in /usr/local/lib/python3.10/dist-packages (from gym==0.25.2->trader-world==0.0.1) (1.23.5)\n",
            "Requirement already satisfied: cloudpickle>=1.2.0 in /usr/local/lib/python3.10/dist-packages (from gym==0.25.2->trader-world==0.0.1) (2.2.1)\n",
            "Requirement already satisfied: gym-notices>=0.0.4 in /usr/local/lib/python3.10/dist-packages (from gym==0.25.2->trader-world==0.0.1) (0.0.8)\n",
            "Installing collected packages: trader-world\n",
            "  Attempting uninstall: trader-world\n",
            "    Found existing installation: trader-world 0.0.1\n",
            "    Uninstalling trader-world-0.0.1:\n",
            "      Successfully uninstalled trader-world-0.0.1\n",
            "  Running setup.py develop for trader-world\n",
            "Successfully installed trader-world-0.0.1\n"
          ]
        }
      ]
    },
    {
      "cell_type": "markdown",
      "source": [
        "After install env, Restart runtime"
      ],
      "metadata": {
        "id": "j-IMHkhYZkxk"
      },
      "id": "j-IMHkhYZkxk"
    },
    {
      "cell_type": "code",
      "source": [
        "### Ready Data\n",
        "import time\n",
        "from datetime import datetime, timedelta\n",
        "import pandas as pd\n",
        "\n",
        "import pyupbit\n",
        "\n",
        "ticker = 'KRW-BTC'\n",
        "interval = 'minute5'\n",
        "start_date = datetime.strptime('2023-08-01 00:00:00', '%Y-%m-%d %H:%M:%S')\n",
        "\n",
        "df_to = pd.DataFrame(columns=['open', 'high', 'low', 'close', 'volume'])\n",
        "\n",
        "for _ in range(10):\n",
        "    to = datetime.strftime(start_date, \"%Y-%m-%d %H:%M:%S\")\n",
        "    count = 180\n",
        "    df = pyupbit.get_ohlcv(ticker=ticker,interval=interval,to=to,count=count)\n",
        "    df = df[df.columns[:-1]]\n",
        "    start_date += timedelta(hours=15) # hours=3(1m), hours=15(5m)\n",
        "\n",
        "    df_to = pd.concat([df_to,df])\n",
        "    time.sleep(1)\n",
        "\n",
        "# print(df_to)\n",
        "df_to = df_to.reset_index(drop=True)\n",
        "df = df_to[df_to.columns[:4]]/10000\n",
        "df = pd.concat([df, df_to[df_to.columns[-1:]]], axis=1)\n",
        "print(df)"
      ],
      "metadata": {
        "id": "C47R7jXFDbIW",
        "outputId": "3b69642d-f832-4472-bf65-83ee9b435b8c",
        "colab": {
          "base_uri": "https://localhost:8080/"
        }
      },
      "id": "C47R7jXFDbIW",
      "execution_count": 7,
      "outputs": [
        {
          "output_type": "stream",
          "name": "stdout",
          "text": [
            "                           open        high         low       close     volume\n",
            "2023-07-31 18:00:00  37963000.0  37995000.0  37963000.0  37967000.0   7.563663\n",
            "2023-07-31 18:05:00  37966000.0  37998000.0  37961000.0  37961000.0   9.099311\n",
            "2023-07-31 18:10:00  37961000.0  37995000.0  37960000.0  37970000.0   5.282892\n",
            "2023-07-31 18:15:00  37970000.0  37998000.0  37960000.0  37985000.0  11.301103\n",
            "2023-07-31 18:20:00  37985000.0  37993000.0  37960000.0  37968000.0   3.116630\n",
            "...                         ...         ...         ...         ...        ...\n",
            "2023-08-06 23:35:00  38576000.0  38609000.0  38576000.0  38609000.0   9.933891\n",
            "2023-08-06 23:40:00  38609000.0  38630000.0  38586000.0  38587000.0  19.519094\n",
            "2023-08-06 23:45:00  38587000.0  38623000.0  38587000.0  38618000.0   7.584437\n",
            "2023-08-06 23:50:00  38617000.0  38617000.0  38590000.0  38608000.0   5.963999\n",
            "2023-08-06 23:55:00  38609000.0  38619000.0  38584000.0  38615000.0   9.213904\n",
            "\n",
            "[1800 rows x 5 columns]\n"
          ]
        }
      ]
    },
    {
      "cell_type": "code",
      "source": [
        "import time\n",
        "import matplotlib.pyplot as plt\n",
        "import gym\n",
        "\n",
        "env = gym.make(\"trader_world:TraderWorld-v0\", df=df, df_render=df, obs_len=180, actions=180, render_mode=\"rgb_array\")"
      ],
      "metadata": {
        "id": "HyOPi5M5ZhIE",
        "outputId": "52ebe043-18f3-4fba-98c6-4ba72d8f026e",
        "colab": {
          "base_uri": "https://localhost:8080/"
        }
      },
      "id": "HyOPi5M5ZhIE",
      "execution_count": 2,
      "outputs": [
        {
          "output_type": "stream",
          "name": "stderr",
          "text": [
            "/usr/local/lib/python3.10/dist-packages/gym/utils/passive_env_checker.py:31: UserWarning: \u001b[33mWARN: A Box observation space has an unconventional shape (neither an image, nor a 1D vector). We recommend flattening the observation to have only a 1D vector or use a custom policy to properly process the data. Actual observation shape: (180, 5)\u001b[0m\n",
            "  logger.warn(\n",
            "/usr/local/lib/python3.10/dist-packages/gym/core.py:317: DeprecationWarning: \u001b[33mWARN: Initializing wrapper in old step API which returns one bool instead of two. It is recommended to set `new_step_api=True` to use new step API. This will be the default behaviour in future.\u001b[0m\n",
            "  deprecation(\n",
            "/usr/local/lib/python3.10/dist-packages/gym/wrappers/step_api_compatibility.py:39: DeprecationWarning: \u001b[33mWARN: Initializing environment in old step API which returns one bool instead of two. It is recommended to set `new_step_api=True` to use new step API. This will be the default behaviour in future.\u001b[0m\n",
            "  deprecation(\n"
          ]
        }
      ]
    },
    {
      "cell_type": "code",
      "source": [
        "reset_obs = env.reset()\n",
        "env.action_space, env.observation_space"
      ],
      "metadata": {
        "id": "jWLZKN49oL6b",
        "outputId": "5c108bf6-e33c-4b9f-d268-df15a031ba6a",
        "colab": {
          "base_uri": "https://localhost:8080/"
        }
      },
      "id": "jWLZKN49oL6b",
      "execution_count": 3,
      "outputs": [
        {
          "output_type": "stream",
          "name": "stderr",
          "text": [
            "/usr/local/lib/python3.10/dist-packages/ipykernel/ipkernel.py:283: DeprecationWarning: `should_run_async` will not call `transform_cell` automatically in the future. Please pass the result to `transformed_cell` argument and any exception that happen during thetransform in `preprocessing_exc_tuple` in IPython 7.17 and above.\n",
            "  and should_run_async(code)\n",
            "/usr/local/lib/python3.10/dist-packages/gym/utils/passive_env_checker.py:190: UserWarning: \u001b[33mWARN: Future gym versions will require that `Env.reset` can be passed `return_info` to return information from the environment resetting.\u001b[0m\n",
            "  logger.warn(\n",
            "/usr/local/lib/python3.10/dist-packages/gym/utils/passive_env_checker.py:137: UserWarning: \u001b[33mWARN: The obs returned by the `reset()` method was expecting a numpy array, actual type: <class 'list'>\u001b[0m\n",
            "  logger.warn(\n",
            "/usr/local/lib/python3.10/dist-packages/gym/spaces/box.py:226: UserWarning: \u001b[33mWARN: Casting input x to numpy array.\u001b[0m\n",
            "  logger.warn(\"Casting input x to numpy array.\")\n"
          ]
        },
        {
          "output_type": "execute_result",
          "data": {
            "text/plain": [
              "(Discrete(180), Box(0, 9223372036854775805, (180, 5), int64))"
            ]
          },
          "metadata": {},
          "execution_count": 3
        }
      ]
    },
    {
      "cell_type": "code",
      "source": [
        "action = env.action_space.sample()\n",
        "action"
      ],
      "metadata": {
        "id": "XHF9eJPQoInz",
        "outputId": "d60ee5ba-240b-4b82-e3fd-274892e24873",
        "colab": {
          "base_uri": "https://localhost:8080/"
        }
      },
      "id": "XHF9eJPQoInz",
      "execution_count": 4,
      "outputs": [
        {
          "output_type": "execute_result",
          "data": {
            "text/plain": [
              "15"
            ]
          },
          "metadata": {},
          "execution_count": 4
        }
      ]
    },
    {
      "cell_type": "code",
      "source": [
        "obs, reward, done, info = env.step(5)\n",
        "print(reward, done, info)"
      ],
      "metadata": {
        "id": "JjElRdExnkIg",
        "outputId": "bea4a9e3-02a2-445a-e5ea-9f145469b18e",
        "colab": {
          "base_uri": "https://localhost:8080/"
        }
      },
      "id": "JjElRdExnkIg",
      "execution_count": 5,
      "outputs": [
        {
          "output_type": "stream",
          "name": "stdout",
          "text": [
            "-0.145 False {'balance': 985.5, 'buy_price': 3792.9, 'sell_price': 3791.4, 'traing_fee': 13, 'time_step': 0, 'time_step_limit': 1440}\n"
          ]
        },
        {
          "output_type": "stream",
          "name": "stderr",
          "text": [
            "/usr/local/lib/python3.10/dist-packages/gym/utils/passive_env_checker.py:242: UserWarning: \u001b[33mWARN: Expects `terminated` signal to be a boolean, actual type: <class 'int'>\u001b[0m\n",
            "  logger.warn(\n",
            "/usr/local/lib/python3.10/dist-packages/gym/utils/passive_env_checker.py:137: UserWarning: \u001b[33mWARN: The obs returned by the `step()` method was expecting a numpy array, actual type: <class 'list'>\u001b[0m\n",
            "  logger.warn(\n"
          ]
        }
      ]
    },
    {
      "cell_type": "code",
      "source": [
        "img = env.render()\n",
        "plt.figure()\n",
        "plt.imshow(img)"
      ],
      "metadata": {
        "id": "50g5oMb7oDX_",
        "outputId": "bce0acae-f7ff-43b4-ae9b-d3a36cf12820",
        "colab": {
          "base_uri": "https://localhost:8080/",
          "height": 453
        }
      },
      "id": "50g5oMb7oDX_",
      "execution_count": 6,
      "outputs": [
        {
          "output_type": "execute_result",
          "data": {
            "text/plain": [
              "<matplotlib.image.AxesImage at 0x7ff208a52860>"
            ]
          },
          "metadata": {},
          "execution_count": 6
        },
        {
          "output_type": "display_data",
          "data": {
            "text/plain": [
              "<Figure size 640x480 with 1 Axes>"
            ],
            "image/png": "[encoded data removed]"
          },
          "metadata": {}
        }
      ]
    },
    {
      "cell_type": "markdown",
      "source": [
        "# STEP N. Test Data\n",
        "\n",
        "\n",
        "*   Reference Site\n",
        "    * [blog](https://junyoru.tistory.com/145)\n",
        "    * [github-pyupbit](https://github.com/sharebook-kr/pyupbit)\n",
        "\n",
        "\n"
      ],
      "metadata": {
        "id": "l1VH3w8qaGkT"
      },
      "id": "l1VH3w8qaGkT"
    },
    {
      "cell_type": "code",
      "source": [
        "!pip install pyupbit"
      ],
      "metadata": {
        "collapsed": true,
        "id": "H_DqvR2GBVde",
        "outputId": "6b2cb5cc-b82e-415c-9531-d0d246f6f877",
        "colab": {
          "base_uri": "https://localhost:8080/"
        }
      },
      "id": "H_DqvR2GBVde",
      "execution_count": 20,
      "outputs": [
        {
          "output_type": "stream",
          "name": "stdout",
          "text": [
            "Collecting pyupbit\n",
            "  Downloading pyupbit-0.2.33-py3-none-any.whl (24 kB)\n",
            "Requirement already satisfied: pyjwt>=2.0.0 in /usr/lib/python3/dist-packages (from pyupbit) (2.3.0)\n",
            "Requirement already satisfied: pandas in /usr/local/lib/python3.10/dist-packages (from pyupbit) (1.5.3)\n",
            "Requirement already satisfied: requests in /usr/local/lib/python3.10/dist-packages (from pyupbit) (2.31.0)\n",
            "Collecting websockets (from pyupbit)\n",
            "  Downloading websockets-11.0.3-cp310-cp310-manylinux_2_5_x86_64.manylinux1_x86_64.manylinux_2_17_x86_64.manylinux2014_x86_64.whl (129 kB)\n",
            "\u001b[2K     \u001b[90m━━━━━━━━━━━━━━━━━━━━━━━━━━━━━━━━━━━━━━━\u001b[0m \u001b[32m129.9/129.9 kB\u001b[0m \u001b[31m4.4 MB/s\u001b[0m eta \u001b[36m0:00:00\u001b[0m\n",
            "\u001b[?25hRequirement already satisfied: python-dateutil>=2.8.1 in /usr/local/lib/python3.10/dist-packages (from pandas->pyupbit) (2.8.2)\n",
            "Requirement already satisfied: pytz>=2020.1 in /usr/local/lib/python3.10/dist-packages (from pandas->pyupbit) (2022.7.1)\n",
            "Requirement already satisfied: numpy>=1.21.0 in /usr/local/lib/python3.10/dist-packages (from pandas->pyupbit) (1.23.5)\n",
            "Requirement already satisfied: charset-normalizer<4,>=2 in /usr/local/lib/python3.10/dist-packages (from requests->pyupbit) (3.2.0)\n",
            "Requirement already satisfied: idna<4,>=2.5 in /usr/local/lib/python3.10/dist-packages (from requests->pyupbit) (3.4)\n",
            "Requirement already satisfied: urllib3<3,>=1.21.1 in /usr/local/lib/python3.10/dist-packages (from requests->pyupbit) (1.26.16)\n",
            "Requirement already satisfied: certifi>=2017.4.17 in /usr/local/lib/python3.10/dist-packages (from requests->pyupbit) (2023.7.22)\n",
            "Requirement already satisfied: six>=1.5 in /usr/local/lib/python3.10/dist-packages (from python-dateutil>=2.8.1->pandas->pyupbit) (1.16.0)\n",
            "Installing collected packages: websockets, pyupbit\n",
            "Successfully installed pyupbit-0.2.33 websockets-11.0.3\n"
          ]
        }
      ]
    },
    {
      "cell_type": "code",
      "source": [
        "### Ready Data\n",
        "import pyupbit\n",
        "\n",
        "ticker = 'KRW-BTC'\n",
        "interval = 'minute1'\n",
        "to = '20230811 15:00'\n",
        "count = 180\n",
        "df = pyupbit.get_ohlcv(ticker=ticker,interval=interval,to=to,count=count)\n",
        "df = df[df.columns[:-1]]\n",
        "\n",
        "# df.columns = ['open', 'high', 'low', 'close', 'volume']\n",
        "df = df.reset_index(drop=True)\n",
        "print(df.head(3))"
      ],
      "metadata": {
        "id": "R3JFB7PXBZtm",
        "outputId": "bd80449b-86e2-415a-9d01-240aedf58ffc",
        "colab": {
          "base_uri": "https://localhost:8080/"
        }
      },
      "id": "R3JFB7PXBZtm",
      "execution_count": 32,
      "outputs": [
        {
          "output_type": "stream",
          "name": "stderr",
          "text": [
            "/usr/local/lib/python3.10/dist-packages/ipykernel/ipkernel.py:283: DeprecationWarning: `should_run_async` will not call `transform_cell` automatically in the future. Please pass the result to `transformed_cell` argument and any exception that happen during thetransform in `preprocessing_exc_tuple` in IPython 7.17 and above.\n",
            "  and should_run_async(code)\n"
          ]
        },
        {
          "output_type": "stream",
          "name": "stdout",
          "text": [
            "         open        high         low       close    volume\n",
            "0  39188000.0  39189000.0  39176000.0  39184000.0  0.500729\n",
            "1  39184000.0  39192000.0  39176000.0  39192000.0  4.483698\n",
            "2  39192000.0  39210000.0  39192000.0  39210000.0  4.029061\n"
          ]
        }
      ]
    },
    {
      "cell_type": "code",
      "source": [
        "### Ready data\n",
        "from pykrx import stock\n",
        "import pandas as pd\n",
        "\n",
        "df = stock.get_market_ohlcv(\"20210720\", \"20221010\", \"005930\")\n",
        "df = df[df.columns.tolist()[:-1]]\n",
        "df.columns = ['open', 'high', 'low', 'close', 'volume']\n",
        "\n",
        "df = df.reset_index(drop=True)\n",
        "print(df.head(3))"
      ],
      "metadata": {
        "colab": {
          "base_uri": "https://localhost:8080/"
        },
        "id": "HKkAZFAFaP_R",
        "outputId": "0d03a2f2-7446-457d-cb13-d6d8e05e63b9"
      },
      "id": "HKkAZFAFaP_R",
      "execution_count": 9,
      "outputs": [
        {
          "output_type": "stream",
          "name": "stderr",
          "text": [
            "/usr/local/lib/python3.10/dist-packages/ipykernel/ipkernel.py:283: DeprecationWarning: `should_run_async` will not call `transform_cell` automatically in the future. Please pass the result to `transformed_cell` argument and any exception that happen during thetransform in `preprocessing_exc_tuple` in IPython 7.17 and above.\n",
            "  and should_run_async(code)\n"
          ]
        },
        {
          "output_type": "stream",
          "name": "stdout",
          "text": [
            "    open   high    low  close    volume\n",
            "0  78500  79000  78400  79000  12456646\n",
            "1  79000  79100  78500  78500  12355296\n",
            "2  79000  79800  78900  79700  12618790\n"
          ]
        }
      ]
    },
    {
      "cell_type": "code",
      "source": [
        "def df_to_lst(df):\n",
        "    lst = []\n",
        "    for i in range(len(df)):\n",
        "        lst.append(df.iloc[i].tolist())\n",
        "    return lst"
      ],
      "metadata": {
        "id": "vNmUVcDgaOhx"
      },
      "id": "vNmUVcDgaOhx",
      "execution_count": 11,
      "outputs": []
    },
    {
      "cell_type": "code",
      "source": [
        "test_lst = df_to_lst(df)"
      ],
      "metadata": {
        "id": "zfvT-13haUR9"
      },
      "id": "zfvT-13haUR9",
      "execution_count": 19,
      "outputs": []
    },
    {
      "cell_type": "markdown",
      "source": [
        "# Appendix. Back Up Previous Env(gird_world.py)"
      ],
      "metadata": {
        "id": "f-KBTYoMYOAn"
      },
      "id": "f-KBTYoMYOAn"
    },
    {
      "cell_type": "code",
      "source": [
        "import gym\n",
        "from gym import spaces\n",
        "import pygame\n",
        "import numpy as np\n",
        "\n",
        "\n",
        "class GridWorldEnv(gym.Env):\n",
        "    metadata = {\"render_modes\": [\"human\", \"rgb_array\"], \"render_fps\": 4}\n",
        "\n",
        "    def __init__(self, render_mode=None, size=5):\n",
        "        self.size = size        # The size of the square grid\n",
        "        self.window_size = 512  # The size of the PyGame window\n",
        "\n",
        "        # Observations are dictionaries with the agent's and the target's location.\n",
        "        # Each location is encoded as an element of {0, ..., `size`}^2, i.e. MultiDiscrete([size, size]).\n",
        "        self.observation_space = spaces.Dict(\n",
        "            {\n",
        "                \"agent\": spaces.Box(0, size - 1, shape=(2,), dtype=int),\n",
        "                \"target\": spaces.Box(0, size - 1, shape=(2,), dtype=int),\n",
        "            }\n",
        "        )\n",
        "\n",
        "        # We have 4 actions, corresponding to \"right\", \"up\", \"left\", \"down\"\n",
        "        self.action_space = spaces.Discrete(4)\n",
        "\n",
        "        \"\"\"\n",
        "        The following dictionary maps abstract actions from `self.action_space` to\n",
        "        the direction we will walk in if that action is taken.\n",
        "        I.e. 0 corresponds to \"right\", 1 to \"up\" etc.\n",
        "        \"\"\"\n",
        "        self._action_to_direction = {\n",
        "            0: np.array([1, 0]),\n",
        "            1: np.array([0, 1]),\n",
        "            2: np.array([-1, 0]),\n",
        "            3: np.array([0, -1]),\n",
        "        }\n",
        "\n",
        "        assert render_mode is None or render_mode in self.metadata[\"render_modes\"]\n",
        "        self.render_mode = render_mode\n",
        "\n",
        "        \"\"\"\n",
        "        If human-rendering is used, `self.window` will be a reference\n",
        "        to the window that we draw to. `self.clock` will be a clock that is used\n",
        "        to ensure that the environment is rendered at the correct framerate in\n",
        "        human-mode. They will remain `None` until human-mode is used for the\n",
        "        first time.\n",
        "        \"\"\"\n",
        "        self.window = None\n",
        "        self.clock = None\n",
        "\n",
        "\n",
        "    def _get_obs(self):\n",
        "        return {\"agent\": self._agent_location, \"target\": self._target_location}\n",
        "\n",
        "    def _get_info(self):\n",
        "        return {\"distance\": np.linalg.norm(self._agent_location - self._target_location, ord=1)}\n",
        "\n",
        "\n",
        "    def reset(self, seed=None, options=None):\n",
        "        # We need the following line to seed self.np_random\n",
        "        super().reset(seed=seed)\n",
        "\n",
        "        # Choose the agent's location uniformly at random\n",
        "        self._agent_location = self.np_random.integers(0, self.size, size=2, dtype=int)\n",
        "\n",
        "        # We will sample the target's location randomly until it does not coincide with the agent's location\n",
        "        self._target_location = self._agent_location\n",
        "        while np.array_equal(self._target_location, self._agent_location):\n",
        "            self._target_location = self.np_random.integers(\n",
        "                0, self.size, size=2, dtype=int\n",
        "            )\n",
        "\n",
        "        observation = self._get_obs()\n",
        "        info = self._get_info()\n",
        "\n",
        "        if self.render_mode == \"human\":\n",
        "            self._render_frame()\n",
        "\n",
        "        return observation, info\n",
        "\n",
        "\n",
        "    def step(self, action):\n",
        "        # Map the action (element of {0,1,2,3}) to the direction we walk in\n",
        "        direction = self._action_to_direction[action]\n",
        "        # We use `np.clip` to make sure we don't leave the grid\n",
        "        self._agent_location = np.clip(\n",
        "            self._agent_location + direction, 0, self.size - 1\n",
        "        )\n",
        "        # An episode is done iff the agent has reached the target\n",
        "        terminated = np.array_equal(self._agent_location, self._target_location)\n",
        "        reward = 1 if terminated else 0  # Binary sparse rewards\n",
        "        observation = self._get_obs()\n",
        "        info = self._get_info()\n",
        "\n",
        "        if self.render_mode == \"human\":\n",
        "            self._render_frame()\n",
        "\n",
        "        return observation, reward, terminated, False, info\n",
        "\n",
        "\n",
        "    def render(self):\n",
        "        if self.render_mode == \"rgb_array\":\n",
        "            return self._render_frame()\n",
        "\n",
        "    def _render_frame(self):\n",
        "        if self.window is None and self.render_mode == \"human\":\n",
        "            pygame.init()\n",
        "            pygame.display.init()\n",
        "            self.window = pygame.display.set_mode((self.window_size, self.window_size))\n",
        "        if self.clock is None and self.render_mode == \"human\":\n",
        "            self.clock = pygame.time.Clock()\n",
        "\n",
        "        canvas = pygame.Surface((self.window_size, self.window_size))\n",
        "        canvas.fill((255, 255, 255))\n",
        "        pix_square_size = (\n",
        "            self.window_size / self.size\n",
        "        )  # The size of a single grid square in pixels\n",
        "\n",
        "        # First we draw the target\n",
        "        pygame.draw.rect(\n",
        "            canvas,\n",
        "            (255, 0, 0),\n",
        "            pygame.Rect(\n",
        "                pix_square_size * self._target_location,\n",
        "                (pix_square_size, pix_square_size),\n",
        "            ),\n",
        "        )\n",
        "        # Now we draw the agent\n",
        "        pygame.draw.circle(\n",
        "            canvas,\n",
        "            (0, 0, 255),\n",
        "            (self._agent_location + 0.5) * pix_square_size,\n",
        "            pix_square_size / 3,\n",
        "        )\n",
        "\n",
        "        # Finally, add some gridlines\n",
        "        for x in range(self.size + 1):\n",
        "            pygame.draw.line(\n",
        "                canvas,\n",
        "                0,\n",
        "                (0, pix_square_size * x),\n",
        "                (self.window_size, pix_square_size * x),\n",
        "                width=3,\n",
        "            )\n",
        "            pygame.draw.line(\n",
        "                canvas,\n",
        "                0,\n",
        "                (pix_square_size * x, 0),\n",
        "                (pix_square_size * x, self.window_size),\n",
        "                width=3,\n",
        "            )\n",
        "\n",
        "        if self.render_mode == \"human\":\n",
        "            # The following line copies our drawings from `canvas` to the visible window\n",
        "            self.window.blit(canvas, canvas.get_rect())\n",
        "            pygame.event.pump()\n",
        "            pygame.display.update()\n",
        "\n",
        "            # We need to ensure that human-rendering occurs at the predefined framerate.\n",
        "            # The following line will automatically add a delay to keep the framerate stable.\n",
        "            self.clock.tick(self.metadata[\"render_fps\"])\n",
        "        else:  # rgb_array\n",
        "            return np.transpose(\n",
        "                np.array(pygame.surfarray.pixels3d(canvas)), axes=(1, 0, 2)\n",
        "            )\n",
        "\n",
        "\n",
        "    def close(self):\n",
        "        if self.window is not None:\n",
        "            pygame.display.quit()\n",
        "            pygame.quit()"
      ],
      "metadata": {
        "id": "vIsYWA0SYUYx"
      },
      "id": "vIsYWA0SYUYx",
      "execution_count": null,
      "outputs": []
    }
  ],
  "metadata": {
    "kernelspec": {
      "display_name": "Python 3",
      "language": "python",
      "name": "python3"
    },
    "language_info": {
      "codemirror_mode": {
        "name": "ipython",
        "version": 3
      },
      "file_extension": ".py",
      "mimetype": "text/x-python",
      "name": "python",
      "nbconvert_exporter": "python",
      "pygments_lexer": "ipython3",
      "version": "3.8.10"
    },
    "colab": {
      "provenance": [],
      "include_colab_link": true
    }
  },
  "nbformat": 4,
  "nbformat_minor": 5
}