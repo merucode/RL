{
  "nbformat": 4,
  "nbformat_minor": 0,
  "metadata": {
    "colab": {
      "provenance": [],
      "authorship_tag": "ABX9TyP9+DfmZEcuqbm5ef/H3+7L",
      "include_colab_link": true
    },
    "kernelspec": {
      "name": "python3",
      "display_name": "Python 3"
    },
    "language_info": {
      "name": "python"
    }
  },
  "cells": [
    {
      "cell_type": "markdown",
      "metadata": {
        "id": "view-in-github",
        "colab_type": "text"
      },
      "source": [
        "<a href=\"https://colab.research.google.com/github/merucode/RL/blob/01-Study-Book-%EB%B0%94%EB%8B%A5%EB%B6%80%ED%84%B0_%EB%B0%B0%EC%9A%B0%EB%8A%94_%EA%B0%95%ED%99%94%ED%95%99%EC%8A%B5/ch9_REINFORCE.ipynb\" target=\"_parent\"><img src=\"https://colab.research.google.com/assets/colab-badge.svg\" alt=\"Open In Colab\"/></a>"
      ]
    },
    {
      "cell_type": "markdown",
      "source": [
        "# Import Labrary and Hyper Parameters"
      ],
      "metadata": {
        "id": "q9xvTZjsdnSL"
      }
    },
    {
      "cell_type": "code",
      "execution_count": 21,
      "metadata": {
        "id": "1sIS-a2zDpi4"
      },
      "outputs": [],
      "source": [
        "import gym\n",
        "import torch\n",
        "import torch.nn as nn\n",
        "import torch.nn.functional as F\n",
        "import torch.optim as optim\n",
        "from torch.distributions import Categorical\n",
        "\n",
        "\n",
        "# Hyperparameters\n",
        "learning_rate = 0.0002\n",
        "gamma         = 0.98"
      ]
    },
    {
      "cell_type": "markdown",
      "source": [
        "# Policy Network"
      ],
      "metadata": {
        "id": "lIpc4Mi_diLs"
      }
    },
    {
      "cell_type": "code",
      "source": [
        "class Policy(nn.Module):\n",
        "    def __init__(self):\n",
        "        super(Policy, self).__init__()\n",
        "        self.data = []\n",
        "\n",
        "        self.fc1 = nn.Linear(4, 128)\n",
        "        self.fc2 = nn.Linear(128, 2)\n",
        "        self.optimizer = optim.Adam(self.parameters(), lr=learning_rate)\n",
        "\n",
        "    def forward(self, x):\n",
        "        x = F.relu(self.fc1(x))\n",
        "        x = F.softmax(self.fc2(x), dim=0)\n",
        "        return x\n",
        "\n",
        "    def put_data(self, item):\n",
        "        self.data.append(item)  # r, prob[a]\n",
        "\n",
        "    def train_net(self):\n",
        "        R = 0\n",
        "        self.optimizer.zero_grad()\n",
        "        for r, prob in self.data[::-1]: # # r, prob[a] 역순으로 불러오기\n",
        "            # G_t = r + γ*G_t+1\n",
        "            R = r + gamma * R\n",
        "            # -G_t * log 𝝅_θ(s_t, a_t)\n",
        "            loss = -R * torch.log(prob)\n",
        "            # Policy gradient\n",
        "            loss.backward()\n",
        "        self.optimizer.step()\n",
        "        self.data = []"
      ],
      "metadata": {
        "id": "FA79Fw0xdtXe"
      },
      "execution_count": 22,
      "outputs": []
    },
    {
      "cell_type": "markdown",
      "source": [
        "# Main"
      ],
      "metadata": {
        "id": "JhlKzu5Ldt9G"
      }
    },
    {
      "cell_type": "code",
      "source": [
        "def main():\n",
        "    env = gym.make('CartPole-v1')\n",
        "    pi = Policy()\n",
        "    score = 0.0\n",
        "    print_interval = 100\n",
        "\n",
        "    for n_epi in range(1501):\n",
        "        s = env.reset()\n",
        "        done = False\n",
        "\n",
        "        while not done: # CartPole-v1 forced to terminates at 500 step.\n",
        "            prob = pi(torch.from_numpy(s).float())  # 정책 함수에 따른 확률 계산(순전파)\n",
        "            m = Categorical(prob)                   # a 확률 → catgeorical\n",
        "            a = m.sample()                          # 확률에 따른 a 선택\n",
        "            s_prime, r, done, info = env.step(a.item())  # a에 따른 액션 수행\n",
        "            pi.put_data((r,prob[a]))\n",
        "            s = s_prime                             # s = s'\n",
        "            score += r\n",
        "\n",
        "        pi.train_net()  # epiosde 마무리 후 update 수행\n",
        "\n",
        "        if n_epi%print_interval==0 and n_epi!=0:\n",
        "            print(\"# of episode :{}, avg score : {}\".format(n_epi, score/print_interval))\n",
        "            score = 0.0\n",
        "    env.close()"
      ],
      "metadata": {
        "id": "mB4kbgjkdu8R"
      },
      "execution_count": 32,
      "outputs": []
    },
    {
      "cell_type": "code",
      "source": [
        "if __name__ == '__main__':\n",
        "    main()"
      ],
      "metadata": {
        "colab": {
          "base_uri": "https://localhost:8080/"
        },
        "id": "qiVvY9LQiwwP",
        "outputId": "97784e34-1d00-4833-d0b5-ea2aa3624a4e"
      },
      "execution_count": 33,
      "outputs": [
        {
          "output_type": "stream",
          "name": "stdout",
          "text": [
            "# of episode :100, avg score : 22.99\n",
            "# of episode :200, avg score : 30.52\n",
            "# of episode :300, avg score : 33.76\n",
            "# of episode :400, avg score : 38.64\n",
            "# of episode :500, avg score : 46.43\n",
            "# of episode :600, avg score : 50.14\n",
            "# of episode :700, avg score : 55.06\n",
            "# of episode :800, avg score : 62.66\n",
            "# of episode :900, avg score : 71.08\n",
            "# of episode :1000, avg score : 94.7\n",
            "# of episode :1100, avg score : 104.95\n",
            "# of episode :1200, avg score : 158.68\n",
            "# of episode :1300, avg score : 162.31\n",
            "# of episode :1400, avg score : 186.91\n",
            "# of episode :1500, avg score : 200.85\n"
          ]
        }
      ]
    }
  ]
}