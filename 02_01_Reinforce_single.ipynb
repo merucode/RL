{
  "cells": [
    {
      "cell_type": "markdown",
      "metadata": {
        "colab_type": "text",
        "id": "view-in-github"
      },
      "source": [
        "<a href=\"https://colab.research.google.com/github/merucode/RL/blob/36-Study-Doc-Custom_grid_world_with_render/02_Reinforce.ipynb\" target=\"_parent\"><img src=\"https://colab.research.google.com/assets/colab-badge.svg\" alt=\"Open In Colab\"/></a>"
      ]
    },
    {
      "cell_type": "markdown",
      "id": "MLB979Vs-2J1",
      "metadata": {
        "id": "MLB979Vs-2J1"
      },
      "source": []
    },
    {
      "cell_type": "code",
      "execution_count": 3,
      "id": "bMkFjiRc-i71",
      "metadata": {
        "colab": {
          "base_uri": "https://localhost:8080/"
        },
        "collapsed": true,
        "id": "bMkFjiRc-i71",
        "outputId": "27c04f6d-5d52-4b02-d280-045749d8fd81"
      },
      "outputs": [
        {
          "name": "stdout",
          "output_type": "stream",
          "text": [
            "fatal: destination path 'RL' already exists and is not an empty directory.\n",
            "mv: cannot stat '*': No such file or directory\n"
          ]
        }
      ],
      "source": [
        "!git clone -b 36-Study-Doc-Custom_grid_world_with_render https://github.com/merucode/RL.git\n",
        "!cd RL && mv * ../"
      ]
    },
    {
      "cell_type": "code",
      "execution_count": 23,
      "id": "-ddm_fdzWtRI",
      "metadata": {
        "colab": {
          "base_uri": "https://localhost:8080/"
        },
        "collapsed": true,
        "id": "-ddm_fdzWtRI",
        "outputId": "33492140-966a-4c7d-f893-1b0d43cad2d4"
      },
      "outputs": [
        {
          "name": "stdout",
          "output_type": "stream",
          "text": [
            "Obtaining file:///content/gym-examples\n",
            "  Preparing metadata (setup.py) ... \u001b[?25l\u001b[?25hdone\n",
            "Requirement already satisfied: gym==0.25.2 in /usr/local/lib/python3.10/dist-packages (from gym-examples==0.0.1) (0.25.2)\n",
            "Requirement already satisfied: pygame==2.1.0 in /usr/local/lib/python3.10/dist-packages (from gym-examples==0.0.1) (2.1.0)\n",
            "Requirement already satisfied: numpy>=1.18.0 in /usr/local/lib/python3.10/dist-packages (from gym==0.25.2->gym-examples==0.0.1) (1.23.5)\n",
            "Requirement already satisfied: cloudpickle>=1.2.0 in /usr/local/lib/python3.10/dist-packages (from gym==0.25.2->gym-examples==0.0.1) (2.2.1)\n",
            "Requirement already satisfied: gym-notices>=0.0.4 in /usr/local/lib/python3.10/dist-packages (from gym==0.25.2->gym-examples==0.0.1) (0.0.8)\n",
            "Installing collected packages: gym-examples\n",
            "  Attempting uninstall: gym-examples\n",
            "    Found existing installation: gym-examples 0.0.1\n",
            "    Uninstalling gym-examples-0.0.1:\n",
            "      Successfully uninstalled gym-examples-0.0.1\n",
            "  Running setup.py develop for gym-examples\n",
            "Successfully installed gym-examples-0.0.1\n"
          ]
        }
      ],
      "source": [
        "!pip install gym==0.25.2\n",
        "!pip install -e gym-examples"
      ]
    },
    {
      "cell_type": "markdown",
      "id": "aI9PkFlbBds1",
      "metadata": {
        "id": "aI9PkFlbBds1"
      },
      "source": [
        "### NOTE: After inistall gym-examples, Restart runtime"
      ]
    },
    {
      "cell_type": "code",
      "execution_count": 1,
      "id": "lyric-aruba",
      "metadata": {
        "id": "lyric-aruba"
      },
      "outputs": [],
      "source": [
        "import time\n",
        "import matplotlib.pyplot as plt\n",
        "import gym\n",
        "import numpy as np"
      ]
    },
    {
      "cell_type": "code",
      "execution_count": 2,
      "id": "durable-english",
      "metadata": {
        "colab": {
          "base_uri": "https://localhost:8080/"
        },
        "id": "durable-english",
        "outputId": "07f312eb-ee43-45da-d315-e5d3e3a1baa5",
        "scrolled": true
      },
      "outputs": [
        {
          "name": "stderr",
          "output_type": "stream",
          "text": [
            "/usr/local/lib/python3.10/dist-packages/ipykernel/ipkernel.py:283: DeprecationWarning: `should_run_async` will not call `transform_cell` automatically in the future. Please pass the result to `transformed_cell` argument and any exception that happen during thetransform in `preprocessing_exc_tuple` in IPython 7.17 and above.\n",
            "  and should_run_async(code)\n",
            "/usr/local/lib/python3.10/dist-packages/gym/core.py:317: DeprecationWarning: \u001b[33mWARN: Initializing wrapper in old step API which returns one bool instead of two. It is recommended to set `new_step_api=True` to use new step API. This will be the default behaviour in future.\u001b[0m\n",
            "  deprecation(\n",
            "/usr/local/lib/python3.10/dist-packages/gym/wrappers/step_api_compatibility.py:39: DeprecationWarning: \u001b[33mWARN: Initializing environment in old step API which returns one bool instead of two. It is recommended to set `new_step_api=True` to use new step API. This will be the default behaviour in future.\u001b[0m\n",
            "  deprecation(\n"
          ]
        }
      ],
      "source": [
        "env = gym.make(\"gym_examples:gym_examples/GridWorld-v0\")"
      ]
    },
    {
      "cell_type": "code",
      "execution_count": 3,
      "id": "psH2NxXJSn0t",
      "metadata": {
        "colab": {
          "base_uri": "https://localhost:8080/"
        },
        "id": "psH2NxXJSn0t",
        "outputId": "80eb4707-6f2d-471d-d839-43aa8429beb3"
      },
      "outputs": [
        {
          "name": "stdout",
          "output_type": "stream",
          "text": [
            "observation space : Dict('agent': Box(0, 4, (2,), int64), 'target': Box(0, 4, (2,), int64))\n",
            "action space      : Discrete(4)\n",
            "action shape      : 4\n"
          ]
        }
      ],
      "source": [
        "# single env\n",
        "print(f'observation space : {env.observation_space}')\n",
        "print(f'action space      : {env.action_space}')\n",
        "print(f'action shape      : {env.action_space.n}')"
      ]
    },
    {
      "cell_type": "code",
      "execution_count": 9,
      "id": "dUs-ATpNAioL",
      "metadata": {
        "colab": {
          "base_uri": "https://localhost:8080/"
        },
        "id": "dUs-ATpNAioL",
        "outputId": "7cb9581b-3943-41c0-e618-37f498674796"
      },
      "outputs": [
        {
          "name": "stdout",
          "output_type": "stream",
          "text": [
            "{'agent': array([1, 2]), 'target': array([2, 2])}\n",
            "[1 2 2 2]\n"
          ]
        },
        {
          "name": "stderr",
          "output_type": "stream",
          "text": [
            "/usr/local/lib/python3.10/dist-packages/ipykernel/ipkernel.py:283: DeprecationWarning: `should_run_async` will not call `transform_cell` automatically in the future. Please pass the result to `transformed_cell` argument and any exception that happen during thetransform in `preprocessing_exc_tuple` in IPython 7.17 and above.\n",
            "  and should_run_async(code)\n"
          ]
        }
      ],
      "source": [
        "obs = env.reset()\n",
        "print(obs)\n",
        "\n",
        "obs = np.hstack((obs['agent'], obs['target']))\n",
        "print(obs)"
      ]
    },
    {
      "cell_type": "code",
      "execution_count": 7,
      "id": "mN26BJZZBlOa",
      "metadata": {
        "colab": {
          "base_uri": "https://localhost:8080/"
        },
        "id": "mN26BJZZBlOa",
        "outputId": "2116219a-18e6-43c6-bff4-6c836be5f666"
      },
      "outputs": [
        {
          "data": {
            "text/plain": [
              "({'agent': array([3, 4]), 'target': array([1, 2])},\n",
              " -0.01,\n",
              " False,\n",
              " {'distance': 4.0})"
            ]
          },
          "execution_count": 7,
          "metadata": {},
          "output_type": "execute_result"
        }
      ],
      "source": [
        "action = env.action_space.sample()\n",
        "env.step(0)"
      ]
    },
    {
      "cell_type": "markdown",
      "id": "RiQvgCB7TcxS",
      "metadata": {
        "id": "RiQvgCB7TcxS"
      },
      "source": [
        "# Reinforce model"
      ]
    },
    {
      "cell_type": "code",
      "execution_count": 1,
      "id": "eJ4OjY1LfMNq",
      "metadata": {
        "id": "eJ4OjY1LfMNq"
      },
      "outputs": [],
      "source": [
        "import gym\n",
        "import torch\n",
        "import torch.nn as nn\n",
        "import torch.nn.functional as F\n",
        "import torch.optim as optim\n",
        "from torch.distributions import Categorical\n",
        "import numpy as np\n",
        "\n",
        "#Device\n",
        "device = device = 'cuda' if torch.cuda.is_available() else 'cpu'\n",
        "\n",
        "#Hyperparameters\n",
        "learning_rate = 0.0002\n",
        "gamma         = 0.98\n",
        "\n",
        "class Policy(nn.Module):\n",
        "    def __init__(self):\n",
        "        super(Policy, self).__init__()\n",
        "        self.data = []\n",
        "\n",
        "        self.fc1 = nn.Linear(4, 128)\n",
        "        self.fc2 = nn.Linear(128, 4)\n",
        "        self.optimizer = optim.Adam(self.parameters(), lr=learning_rate)\n",
        "\n",
        "    def forward(self, x):\n",
        "        x = F.relu(self.fc1(x))\n",
        "        x = F.softmax(self.fc2(x), dim=0)\n",
        "        return x\n",
        "\n",
        "    def put_data(self, item):\n",
        "        self.data.append(item)\n",
        "\n",
        "    def train_net(self):\n",
        "        R = 0\n",
        "        self.optimizer.zero_grad()\n",
        "        for r, prob in self.data[::-1]:\n",
        "            R = r + gamma * R\n",
        "            loss = -torch.log(prob) * R\n",
        "            loss.backward()\n",
        "        self.optimizer.step()\n",
        "        self.data = []"
      ]
    },
    {
      "cell_type": "code",
      "execution_count": 24,
      "id": "Oh3nQK_aTkOh",
      "metadata": {
        "id": "Oh3nQK_aTkOh"
      },
      "outputs": [],
      "source": [
        "def main():\n",
        "    env = gym.make(\"gym_examples:gym_examples/GridWorld-v0\")\n",
        "    pi = Policy()\n",
        "    score = 0.0\n",
        "    max_score = 0.0\n",
        "    print_interval = 100\n",
        "\n",
        "    pi.to(device)\n",
        "\n",
        "    for n_epi in range(3000):\n",
        "        obs = env.reset()\n",
        "        s = np.hstack((obs['agent'], obs['target']))\n",
        "        done = False\n",
        "\n",
        "        while not done:\n",
        "            prob = pi(torch.from_numpy(s).float().to(device))\n",
        "            m = Categorical(prob)\n",
        "            a = m.sample()\n",
        "            obs_next, r, done, info = env.step(a.item())\n",
        "            s_prime =  np.hstack((obs_next['agent'], obs_next['target']))\n",
        "            pi.put_data((r,prob[a]))\n",
        "            s = s_prime\n",
        "            score += r\n",
        "\n",
        "        pi.train_net()\n",
        "\n",
        "        if n_epi%print_interval==0 and n_epi!=0:\n",
        "            print(\"# of episode :{}, avg score : {}\".format(n_epi, score/print_interval))\n",
        "            if score > max_score:\n",
        "                torch.save(pi.state_dict(), 'model_weights.pth')\n",
        "                print(f\"# max score : {score/print_interval}, and save model_weights.pth\")\n",
        "                max_score = score\n",
        "            score = 0.0\n",
        "\n",
        "    env.close()\n"
      ]
    },
    {
      "cell_type": "code",
      "execution_count": 25,
      "id": "_jfTqHMOZNta",
      "metadata": {
        "colab": {
          "base_uri": "https://localhost:8080/"
        },
        "collapsed": true,
        "id": "_jfTqHMOZNta",
        "outputId": "f7b58c5c-836a-4079-bc17-5b89f441d016"
      },
      "outputs": [
        {
          "name": "stderr",
          "output_type": "stream",
          "text": [
            "/usr/local/lib/python3.10/dist-packages/gym/core.py:317: DeprecationWarning: \u001b[33mWARN: Initializing wrapper in old step API which returns one bool instead of two. It is recommended to set `new_step_api=True` to use new step API. This will be the default behaviour in future.\u001b[0m\n",
            "  deprecation(\n",
            "/usr/local/lib/python3.10/dist-packages/gym/wrappers/step_api_compatibility.py:39: DeprecationWarning: \u001b[33mWARN: Initializing environment in old step API which returns one bool instead of two. It is recommended to set `new_step_api=True` to use new step API. This will be the default behaviour in future.\u001b[0m\n",
            "  deprecation(\n"
          ]
        },
        {
          "name": "stdout",
          "output_type": "stream",
          "text": [
            "# of episode :100, avg score : 0.3661999999999984\n",
            "# max score : 0.3661999999999984, and save model_weights.pth\n",
            "# of episode :200, avg score : 0.3965999999999997\n",
            "# max score : 0.3965999999999997, and save model_weights.pth\n",
            "# of episode :300, avg score : 0.48129999999999656\n",
            "# max score : 0.48129999999999656, and save model_weights.pth\n",
            "# of episode :400, avg score : 0.6883000000000034\n",
            "# max score : 0.6883000000000034, and save model_weights.pth\n",
            "# of episode :500, avg score : 0.6175000000000065\n",
            "# of episode :600, avg score : 0.750399999999995\n",
            "# max score : 0.750399999999995, and save model_weights.pth\n",
            "# of episode :700, avg score : 0.7416000000000024\n",
            "# of episode :800, avg score : 0.8284999999999808\n",
            "# max score : 0.8284999999999808, and save model_weights.pth\n",
            "# of episode :900, avg score : 0.7963999999999827\n",
            "# of episode :1000, avg score : 0.8370999999999943\n",
            "# max score : 0.8370999999999943, and save model_weights.pth\n",
            "# of episode :1100, avg score : 0.8228999999999987\n",
            "# of episode :1200, avg score : 0.8540999999999973\n",
            "# max score : 0.8540999999999973, and save model_weights.pth\n",
            "# of episode :1300, avg score : 0.8744999999999834\n",
            "# max score : 0.8744999999999834, and save model_weights.pth\n",
            "# of episode :1400, avg score : 0.865599999999994\n",
            "# of episode :1500, avg score : 0.8616999999999915\n",
            "# of episode :1600, avg score : 0.889599999999988\n",
            "# max score : 0.889599999999988, and save model_weights.pth\n",
            "# of episode :1700, avg score : 0.8699999999999943\n",
            "# of episode :1800, avg score : 0.8883999999999933\n",
            "# of episode :1900, avg score : 0.8745999999999929\n",
            "# of episode :2000, avg score : 0.8843999999999893\n",
            "# of episode :2100, avg score : 0.9134999999999889\n",
            "# max score : 0.9134999999999889, and save model_weights.pth\n",
            "# of episode :2200, avg score : 0.8739999999999888\n",
            "# of episode :2300, avg score : 0.8949999999999899\n",
            "# of episode :2400, avg score : 0.9096999999999923\n",
            "# of episode :2500, avg score : 0.8815999999999927\n",
            "# of episode :2600, avg score : 0.8558999999999932\n",
            "# of episode :2700, avg score : 0.8963999999999913\n",
            "# of episode :2800, avg score : 0.8967999999999924\n",
            "# of episode :2900, avg score : 0.9097999999999921\n"
          ]
        }
      ],
      "source": [
        "if __name__ == '__main__':\n",
        "    main()"
      ]
    },
    {
      "cell_type": "markdown",
      "id": "2qvB2V1WWOPJ",
      "metadata": {
        "id": "2qvB2V1WWOPJ"
      },
      "source": [
        "# Render"
      ]
    },
    {
      "cell_type": "code",
      "execution_count": 26,
      "id": "nlGbxiHtbZG_",
      "metadata": {
        "id": "nlGbxiHtbZG_"
      },
      "outputs": [],
      "source": [
        "#env = gym.make('CartPole-v1')\n",
        "\n",
        "\n",
        "# define a trigger function, return True to start recording a new video:\n",
        "# video_every=1\n",
        "# episode_trigger=lambda episode_id: ((episode_id)%video_every==0)\n",
        "# decorate env with a video recorder:\n",
        "\n",
        "def model_render(env_name):\n",
        "    env = gym.make(env_name)\n",
        "    episode_trigger=lambda e: True  # all Episode Recode\n",
        "\n",
        "    env = gym.wrappers.RecordVideo(env, \"./video\", episode_trigger=episode_trigger, video_length=100000)\n",
        "\n",
        "    for episode in range(10):\n",
        "        obs = env.reset()\n",
        "        s = np.hstack((obs['agent'], obs['target']))\n",
        "        done = False\n",
        "        score = 0\n",
        "\n",
        "        pi = Policy()\n",
        "        pi.load_state_dict(torch.load('model_weights.pth'))\n",
        "        pi.eval()\n",
        "\n",
        "        pi.to(device)\n",
        "\n",
        "        while not done:\n",
        "            prob = pi(torch.from_numpy(s).float().to(device))\n",
        "            m = Categorical(prob)\n",
        "            a = m.sample()\n",
        "            obs_next, r, done, info = env.step(a.item())\n",
        "            s_prime =  np.hstack((obs_next['agent'], obs_next['target']))\n",
        "            done_mask = 0.0 if done else 1.0\n",
        "            s = s_prime\n",
        "            score += r\n",
        "\n",
        "        print(f\"# of episode {episode}:, avg score : {score}\")\n",
        "    env.close()"
      ]
    },
    {
      "cell_type": "code",
      "execution_count": 27,
      "id": "NEX3AkPRc7mp",
      "metadata": {
        "colab": {
          "base_uri": "https://localhost:8080/"
        },
        "id": "NEX3AkPRc7mp",
        "outputId": "83d7e764-11fb-4e31-88d8-a8aa06b53146"
      },
      "outputs": [
        {
          "name": "stderr",
          "output_type": "stream",
          "text": [
            "/usr/local/lib/python3.10/dist-packages/gym/wrappers/record_video.py:78: UserWarning: \u001b[33mWARN: Overwriting existing videos at /content/video folder (try specifying a different `video_folder` for the `RecordVideo` wrapper if this is not desired)\u001b[0m\n",
            "  logger.warn(\n",
            "/usr/local/lib/python3.10/dist-packages/gym/wrappers/monitoring/video_recorder.py:78: DeprecationWarning: \u001b[33mWARN: Recording ability for environment gym_examples/GridWorld-v0 initialized with `render_mode=None` is marked as deprecated and will be removed in the future.\u001b[0m\n",
            "  logger.deprecation(\n",
            "/usr/local/lib/python3.10/dist-packages/gym/core.py:43: DeprecationWarning: \u001b[33mWARN: The argument mode in render method is deprecated; use render_mode during environment initialization instead.\n",
            "See here for more information: https://www.gymlibrary.ml/content/api/\u001b[0m\n",
            "  deprecation(\n"
          ]
        },
        {
          "name": "stdout",
          "output_type": "stream",
          "text": [
            "# of episode 0:, avg score : 0.98\n",
            "# of episode 1:, avg score : 0.97\n",
            "# of episode 2:, avg score : 0.99\n",
            "# of episode 3:, avg score : 0.7999999999999999\n",
            "# of episode 4:, avg score : 0.91\n",
            "# of episode 5:, avg score : 0.94\n",
            "# of episode 6:, avg score : 0.84\n",
            "# of episode 7:, avg score : 0.86\n",
            "# of episode 8:, avg score : 0.99\n",
            "# of episode 9:, avg score : 0.95\n"
          ]
        }
      ],
      "source": [
        "model_render(\"gym_examples:gym_examples/GridWorld-v0\")"
      ]
    },
    {
      "cell_type": "code",
      "execution_count": 28,
      "id": "QVRSvhGwejw7",
      "metadata": {
        "colab": {
          "base_uri": "https://localhost:8080/",
          "height": 520
        },
        "id": "QVRSvhGwejw7",
        "outputId": "d4ae00d3-3415-470c-9e99-a31d1384c20d"
      },
      "outputs": [
        {
          "data": {
            "text/html": [
              "\n",
              "<video width=500 controls>\n",
              "      <source src=\"data:video/mp4;base64,AAAAIGZ0eXBpc29tAAACAGlzb21pc28yYXZjMW1wNDEAAAAIZnJlZQABCHdtZGF0AAACrQYF//+p3EXpvebZSLeWLNgg2SPu73gyNjQgLSBjb3JlIDE2MyByMzA2MCA1ZGI2YWE2IC0gSC4yNjQvTVBFRy00IEFWQyBjb2RlYyAtIENvcHlsZWZ0IDIwMDMtMjAyMSAtIGh0dHA6Ly93d3cudmlkZW9sYW4ub3JnL3gyNjQuaHRtbCAtIG9wdGlvbnM6IGNhYmFjPTEgcmVmPTMgZGVibG9jaz0xOjA6MCBhbmFseXNlPTB4MzoweDExMyBtZT1oZXggc3VibWU9NyBwc3k9MSBwc3lfcmQ9MS4wMDowLjAwIG1peGVkX3JlZj0xIG1lX3JhbmdlPTE2IGNocm9tYV9tZT0xIHRyZWxsaXM9MSA4eDhkY3Q9MSBjcW09MCBkZWFkem9uZT0yMSwxMSBmYXN0X3Bza2lwPTEgY2hyb21hX3FwX29mZnNldD0tMiB0aHJlYWRzPTMgbG9va2FoZWFkX3RocmVhZHM9MSBzbGljZWRfdGhyZWFkcz0wIG5yPTAgZGVjaW1hdGU9MSBpbnRlcmxhY2VkPTAgYmx1cmF5X2NvbXBhdD0wIGNvbnN0cmFpbmVkX2ludHJhPTAgYmZyYW1lcz0zIGJfcHlyYW1pZD0yIGJfYWRhcHQ9MSBiX2JpYXM9MCBkaXJlY3Q9MSB3ZWlnaHRiPTEgb3Blbl9nb3A9MCB3ZWlnaHRwPTIga2V5aW50PTI1MCBrZXlpbnRfbWluPTQgc2NlbmVjdXQ9NDAgaW50cmFfcmVmcmVzaD0wIHJjX2xvb2thaGVhZD00MCByYz1jcmYgbWJ0cmVlPTEgY3JmPTIzLjAgcWNvbXA9MC42MCBxcG1pbj0wIHFwbWF4PTY5IHFwc3RlcD00IGlwX3JhdGlvPTEuNDAgYXE9MToxLjAwAIAAAAkIZYiEAL9jU4bm1btEhiAd2XjZPtzZdWdDWrrbZDwXzjt9Betw1DZIhSqPMDGg8M9GdY8uZ7C+AASiEL7m2chydEkTjeDoYfoOxz2eTe5xHx5n38609cQBVT1f6dY2r+k0oAsBfA4sFyX6fzcN87D3jFf4wj1kJNbtIpaGiF5ZrzkNloAB5REzUXQ9bFovMlSZaRF9/1JAgCjSA24ydx6i0QNRUzfkT+4Jyo/oTfTxtvbqzUbjAFUMNVoYCBJLP/WbsUDjEcdNOsdaST1ExTZ5FccbYrxeiFP/bFaY5gqijCQ4JJgmbTirgwjr6HjnhuB3nLj4Z5jLu+cWhXlNjUcLU7Dchk6ndbDbI0x6/G1gwhCAT1tVRzVCqsF+LvxoS4xXi+mjv/k5sUx1NcrqUvZJoyB8YWR0LJow0fcQWRuzI+CLQDJH+UITDFwQhv/L53O042JiMxcdxdDagJkxM4x6nYzj4pK3skCfrDenbbU5WZGOcxqebxf6CVz4lvG35ajMREuzLUOILmscW8cl7zpL3TyajqomwFioOUBN5GdV8dkewf+Aj5Jk/o6gifpBrHkF7SXpQNqaVkxMuuQh7Gog+P7cL+ZS+lmKXtb2BF/vhrxmdSaIlYAat1ioZ0JHUYK4MVhM1tpudsJfisLHys+3K8OnD/I8uk0Q6WROKChCngG4rh6120oZpAzOeSl0HORe4NYayOn8d+abcszIhGBhktOrwwc47M+ZCuaBVRMClgVtvZIVbex7BmXymA+YR69AzoRM731dsxKbldnXZbGNAMvwhcmAdVbWBXcdfAFp6z6TPJtHiVwUKNDZ6EHUm7my1zJq6ev+Ckt3hzCuMu9JGRq37UstW0denCLkVP830xg0/NcfgMdOUqJlaR8wkzCB6Fu60fKE2H5EzgkoO4LFD2DS+lko5oPT7Th5ku1YreXwLNAeFVJt5TXBeAZj5O0Q4yyY4haAJReIrHSufatQR/1RZqfX52CLOJV4aNHhdLzlw2cGS2E3MZms/MllS0KPJGCsCRI6OUjZWWQXphbImzeacztZvYRGKf2HpdV+yNK+0R7JoJ1QU0Di8031G6b4/QC/c4PVZs9BTPsa2ocrtBH/VBv6jLoutzKt6Gs2H/uogvwnP9Eq8NGjwul5rVaRSptFyLLFrpDOKPi6BQDmdoHjxqrAcpChNyT2blNHfLniP4I1fDvsE2UFXkeaYTILtDB7blU8SbDcE517GxhZmSC0Pzc4NYcC9o7ZbyiN+/ZFDeUuV9QtS8/w16S/wDGCVPupqIrAdnNHw0tMLHDXqluMgTkcQAfmwcIcR5bu1yMKU26E90tNgz9/jJA7S30cgKlurF/LQc6xSW41s62yW7PZqLdwegVczeu/ycuq1CgvJuzrIdTIsL0M7VpMaatV5/85iIo/aexvQdOtd8pq9SvJaim1SPFdBioBCdc/ZDwFC6tdUYCWxBI3/H1C3zw64Z2CSOdZoQiXunECVfjdzkbf62U2NUMXUVJsReEc5uIdA2FS+LnyEycqXMnTtvGluddfllOy6+55YRcOCej2IG7s5srUBqgih7HawW/uOjg4PmL0MkvmiyIZQePX5L+g+BYHISSlIFYX3q+63T0PuESE9U4diVqZUTW/sT9V6/e/fOyMVK/kT7kcb7b7ycmNQMRYbhUr+YCY2I9Ye2R9tTxgdsQIxeHwr/+OeNDXCkQAVSLiH+3bwCh54vqIZ8+bG20rqBf9KoW3J3qjoWzQd4TALDfMmHWtGcCPs51FS85SYP/c4GyLaXZgFKXbqVl15tpnQQoTNWunnDsxyqP8nNCcYzbUfAwj60Xx7kb5DrmAZ5CR/ZYwLKVEF72aBSaQxg+UUsULLhnK1D3tDwFc6zl1fPb+cf9MSRdUlms6XkM7mDsKYOm644iy2E74uYxjDYtf2yx985LxAQ/MKXW8D27bv+JUkorfc3U1fuOnDttgEGbTgPtC5tdKUoqtQDwnX+YQVRujhMz3ThiglRRtFvkXMw5cFxZn4gqPihfd1t4SajFclDsZLV7vOgI81VkNVqrGmgY6DG8DWHyEO9LzOEev8/8tUeMkzzyHd6x8kiWluGx/LaPfuJkQOpFYjrVPfEabCDi5cprm0Ds5AGdhLNAdm3jynqei2zZyyd0CFuTjOr/ZkPHiC6fLewAwRx2nHyed+i2aOAKkjQQ//GAnzle26Il9zlol50aGltpO7Zq/HLgMYSPneMM/uzSDo9NPVQ5wKjbG0iDwdEojfHHoAABS2L9aBhijPxkv7C2BzP0Cqhm7s4EMfdUxi+uCCrKXTnHui6EfDPlm6OQ5Yw/hRncmhCbPZ1xePdsjXrODEyjKdh2EAZH37NyaU+D72IPX+5Y4+LognYRG5VFWAbzg0yplReiOzwptkVYs8GNIXmsWOapSXbN/2BeltU2KykhQIR7Yvl+F/QzHNQw7yQMWDeI4ULXEGPYtiDxpmSz2kCr5mWTr8z7NTTNmPVBqPF+5rqI1BECelATE+ZP1eDvUjdEPVN3iiHlawcxCHzRm+2VlM2D/YBNhxIRC/xDTWCoSP7pUUSbeo4jYjjBCa5r/78xqvAZyGILaKU7fvsuHoakxM6m942qwq6rXshWWNpsPvk3TVelzM5ZMpt7m3nGh8/c1Kk+EyczeyujiC/7IGLXvFtDQ38uPY9831XzBElV4oRlRJ9pzz/+VnYQXfgKc3O+qIx11vxQLcLEbuXStz+gO3wyREap0GiClfMI/8O9MqxkjUOBcfgpqyxBL5Ct8GSXU0XCOwyUBNYTQvr0YmoYZ239y3Rc4v//KDcIeXJNdAASS/IoD3s5gzu2HAhC8+yhk/4jX8ROM6j23pS3YO+NOnNGt1hw6ciNqd/V9IfPQVZ/Ik+sPTTQYRNT9URe45ak6EZ/cd49L/xCi5/XrUTzBKpfkCfJQTwH7ScDoTCKsTeOcbOcB9bXgx+e6/Be4QvwwU4NefJmMmqNppDADa3pmDA6OhOcySdC+Ax2nTPDUM5+nOF/2v/t27XlQa0CM2CIRpexpT5sDZJkHKinuFubjTFE/Ya7yt6wZsxncb0hxz+Rtc9hgWg0AAANyQZohbEv/hwAAAwAJTy+a5pSA/NzATG1psRKvmb5uEa9q4ZKF/OZgtW+53vtzOWAIcIgjKkValperXx4J2U3/VBKdBRUspgi4e5a/Q//6Fq1Oa5qltfd7JeRJv7Ve61TC9QzCh1tB+oGsRn4X4eFT//HCq98vVzu03TBtOkUh0ubi+HnGyYFR4vgxuVQcv+FHKpKsaXpDniHQE0oEWJ9AT9giWwn+CrNFi30rCydS9AYcx+Kbx/D5CzXd0e3leKJXt0IC/i48VvhA2WHudOdceIOC1u9r6C72Jt7Ed3E4XiGHdXIRrz/7lUqH+++67TEe3my0ygS9Z8F9hhoUqAi5WWLFoL2VlbDm7BWaHjcQuPDvosBf0nH1EgK1G2IrgLJfAJQ1YcnX4nqcmPCoE6LrZ8QDv+PAbYQU2vkLr9jMsfGxv8PGCf6jzuPouog1doOoW4NdASKl7LQWFqs+9KOYFTcW94SSVRYKvApZIABmA16qpBV50JFjxFrHrYKiSmmuGKlLJrbfF6FgvLw3AEeePBGSqb7pYQ4sKGqMEVSQajJ5cFPYRfgAsJv9x9a9fMtXpf6zjT4jTiHPhwdkP/1ZK8fh6qbaOqy0zJOF2PcsCy8pq43f9bxckEEkGsRvOwK7SPersC5D9ADnydGEvoVbROmn6ksi8yQKFYJyj2ogKP9AsXcA1dq99BgWzEUWKe0RT6ukgBuHW9yQODovCpBYDlqdHveZUG3GT/gCJyrJowV6caNsMfZVv1kc/qJRRmeSQ2jYAeEMZ1ABSGMuY4M94Cc2ocsnKrtYtXAarKJfDMhq7CHXkLibSU4EFeclZGDxDsK/HvDyZ5DHEq/EZ9sDZtgY//UsO/erMjbcNn9tUkkq7HAUyDeIqmuW3GsMBQOuH76VZmhZ2MSHMZGle704oNsazKpVSsjE3RKspX+a2MnddZdiheQLvNc81BNwhcXfujxH/p0bdWki08P5RINFVj0plV1C8XjKD+QQdQ0NnBjZeo1G3OkG1c2bEwDib8nYvgOisZl+U0gsfpB5/eK+ub+msk9lcrNtgqVfAemj9hxbqSn/yHvsMR5S7+oz35cDaCfkKqeiOJWodkvW11ESENkqRsxj1j7qAz2ZIOoT75+CuaiM3n3fkMqO4JRenwvoy/o1mhOiZIaqWehCDASsnvOPAAADU0GaQjwhkymEv4cAAAMACU8vmuaUgPzcUnk+aLOKPE4oilaTt/gppr2AkGrU6/IFu4/HXKSM60bB8Bnmaji4VDyt0Yip4fspUw2Oq0e6MqeDBsfZadxOc/5HiIgALAC6MVtWamnKPswnf2b7pBM3On3fJR0jnt1xXgpUA9ZQ7Xg/jbZ/L52rpEqp6iNrWcA1bWaVRr3mztLePydKo1OJ/wIr9goBmTM8ywMuFgTBcr96u/XkEQVMU8icANfkzjxz0UiSigVILEPQydnC6PiL7qpMkRAb0mzcEIC1lBez8gIUkAfbxSi7o7+ojEhEQt0Q/5FYu/8lk2dHFXqEniq45Q+p2OwhiGx+JcybgRqScirH8NedMgk4BiFO512JM4BvoD8tCw86exdoO7l0w9701+pwYFOuwCZUlRd8TnYBzoDsSl//2lsPriImNMPjGb8UGlKiwdpB3ik1xcPDWl8BKZmUv04GpNjR91dxF4D9U0IndEgkkK8DTict6/I0PEsR+A0+xNMP6YNx3Oqc/1WL7zeCtAQ7dy7IkrfESe1/a/kAlb5geYjBQazdULFBr/BAtgC7+AetNnfxqyOwIO2cwpZ9j8dYGCm0ho92qb0BWBbAPIW5pJ7NX0+ozA7I/AJdF01GG+QfFzwAAjq1sbknbZa4UDX7DBohXIIqFTsWmdErqueNYOPLKmWx4xH8OIJr9LdkMokvAFb2SUM6xZXdHN5C/9MTGugrWoqyyXPUsOAI+iUYJE5eE+2XiXR+ebGalLLYyC9AcFpIpgwBieEITBzzyxjvQc6WWr2BIz8XKmmmcrmAA2ZJREBzrImQDTd/PlVv5xoD7V62kgFZsGyUfkbq+d2pI20AGcy2OFlhRto5RdDQrtItAtiXGz1tVDrrtOSgW9mZ2GW59vOzzB9gyy0yM0mH1zb7TtE0XgQ8sLDt5Htn3IfNtLzuX79ajP7WIjJWrLrUZJLMjDjsfSBKsrUt8xltvrMYbsPtyv3rkkLQ++n9tHdsObZXXTkcSSgKiOST7GlHd7eBbCcb5wSyXifXg86NMR0y3QqWGMV37Bct7BSoaQeRxj6zoQeDGp9YO/eoidmVkN1d+Tqi0o9rA0xOgQPfJQbn4gXJXYimvqAJMcqBAAADckGaY0nhDyZTAl+HAAADAAlPL5rmlID83E6WDVoSfltp1rUAJjNDk6bBxFJ3okIsIUnDVAQCKAZ/fuD+AI/T27ggPyUlheXW2oBFeUjpFIbM10T8/8j+aAxzXHu9nbjX1kGMOCZaPnYGD6LR/8+aGmfJdSiNzHNl7uAF81TUcLg/sa80fvZV/alZEuv+8ZtubLN0y+oV1y5VLak6VirATb+uXoRoa8S3ZXEm+Y+MKRycP0Yu4eT4PwwJc1C5BZ37ZdEuwtogxdZDPZBkCeW8O0w8lprEramUBLivoPnM3WPSu6b4N/4f68WPUATaech6EpbuXQ95J0yMREJ+bpCvKuEBQ0tBPxu2hyeeIs8b1mz9/A3cNfEBVRlmVtGFKRphtlNeutz4G8OH26XB2Am4wvILH73m/jdBfdOo0oXAvBBgEjPASlD+vJ+f4zlddh4h1TKoNTYWghn9yqBc9dhB/UmMM60noYzSNxvsAwezWB/subkrXNplLKOKFneSOwQJ3lxSCeLXnaiYntWRWwcgCWC1uen8OKsu4AEux3CKVkSqFXZprUWsE1Aq5SsZI/Rw4Vg2BeMQO9dOuBnQ+Y9u0I9WcBDCaQRLkUhYbBZkzoZ3pspllNeNCDNRGYlnd1jmO1MC9SKsMw91qqP5uCHkCWNRorM1+SqOUv+oCgp11sObiQTEBZ4mGI8KX+gD8nqEl1GepDj8HZF0KYnWgAt/P35sEwUS7Dthg0CeSTrxDOV58cCAL5XP7S30lRu+cYnFA/xpSbemTlabhfL7NpH2m1BtvCU/ilcBvzI+qEEDPj437p9Z6M4wfYSx0F4Kx8mHn96plCrExQk8975Jl6PN0EfdA3jN9b/NB6Vy2y75l7Q6+OMyqc+3wKU/UpgpEnK4IjL00ZT1yCU+rWcg3U3qxRPPBTbcwn+ozwMBpdBeh8FiuB1HgRqMRkQAvpnVtOkplKDB3M6giiqe+E4aXHBonDWL9PgMaA2c7dOuPl3h0A42o4ZszUe7Uvkgg82kfTdp5ZB9gr6XQC4zXXkTq815z7pc/ZOwGnbfs6hdbv8//XikRPp0eepa4ChGkBp6rOt/2hPitwR8w5yV0HoQvXUpOBcEqAEf6vEYm+ySrlkMGme9Qy3pX8j2Cd78TixYuax9njR93Dw0XNx/xix5kTAAA1RSoAAABJRBmoVJ4Q8mUwURPL+HAAADAAlPL5rmlID83LF2Hztjx+h4TGijgjIeDvkbIhLiliBBI3DvkRXDPiBuWo3uxySm7m49jLKzpFfhxbRftpXyHxKZT8PWCNo+b9AEpomsSxfe66GyZi11we7qcXVug0jbqUcfwsV5wxzH9fXR+Ut6CF4067vZi0XlQEgl156D2eGH7rtzD2+hBdrgQzxgLdBSGcWhKXENF/yT/TkVkx3l8+cv7+1gOtqsuqRoQBM5zJ8f7tQnb/k9KLrlQkUrBEo/lRIGNWvLe6sKt5/4ZtKRNXPLzDzZs9cRtIjqHFtle/S+3r/CW1nD9jh79rOQ+TeWBvE1kTbholD7FjXiIbNOg5CcJVdOQ1Fil3JB2vNXt3mLYK5EXunZlJZezZkMRbPDTvUJAvQcIPltO5IzqpMv+j2X84KzY2LvgEojc4zcTsFNUeCir7/LYYNyo+VqyGHasJ1tL/0f6i//RE6dR33qOnNdvEKMwQJKz9845Qe7Ynx2ElAr9DSqs3zs9QrbEsXg5FGweKAr4lGg3RxP89vmzi2CBNA5DrZ2MRHVs2NU6JerOTtu4LC3aPLUGatl81TDMDoJcxFar94AEhsmZBP9Sey3nBmcXaOZG2DYKVvfu/lYzf7YOvguApgLxACHDK+fjKe//kC8X6ZyhsEHZWOsL5WkgusBkZd8WIUMZ/PMbPdi/VtzgWwY4wN3DUGBJvvmPQmHBv8rU6Cy/aqQ7M4ubwVJstwKP7AK5ZIkg9XN3muCF+el90sxwjLeHPg78dRXxdqw6kPutPKTmQ534rbtqI/EPIGgQEMgthpX8bH7GIByAbYKA1PfvR8IMVV12JOU/mpkdCjQWoa/Ldt99WZcYGVuhVIkKJyceGa6z1fmPuJ4Y8u3zqi8fmiEsnyXV7ISGNOFhR4AeYtHsGSD57A6E6CNwJnBX1lbI0HnVutbF66qIhikrzirqDZ2LSHhTSoLrN5tBnK11rc0whgR1r015rs+stWCSaKGmrHYr40KWAIE+8wh1qgXGT4Dc5RtNGoLkVh8nTloMWsMp5JvE2C3zyLKLUSaEFRBM5nE0xKgmDW2Y/sVXGv7cLv1Kd4dUdQLTQTBKBDG6YkJTkJQFkfdHb1e+eRsno+9G7TuDHWz9BVlaYz1d9rTyH8/TuXfsLeES1E7v9cmVRLaJ03QqFQv+FXERd++ZPSQZo5G9uqtMN1VdwXWSkWlnEhoL80dl2w2m+XogK05J94DQr1fejv/LYTj0F8ovzibr/y/yoe7bHMdKurivzbw5RBm04an70merINVEahhTZ7eWMfu2xIbPRlIA7qrWMnxRN9vHsRrXpUjo9+BoCGHtelPAbnrN4MAfZdMe4853DR3vsCygVh0SfJ/7y22RmQnAsF24elrkou9VxEGuNeKPtJtcoWDtWcRC0P0/84pVQtqxayvglzdUKzfmd5Kb+w/cexwUEGrguxUsrOyMKvvtaQyxIRq2gYqqf/j/FwrwaE+fk7yr9oZJEwrhQtNoDDOXOU3aghVOacXXieiCUp9f/GAkysf0RXKQnY0kQAAAFsBnqRqRn8AAAMCefHpg5K+aoi3KwAL6tTe/JtDweBrQqRXjK3vc+n1ZhFOMZVQjZrMTRNS2MLqBnn9uT/9lS9HSuVXl3afYhtyJMh3Evh75ir9r+uQLeVXgqtdAAADVUGapknhDyZTAl+HAAADAAlPL5rmlID89HJEAP0r6aPkz8Q7wP9DaYfcT7Os8/GN8lEERBoQVE4ki5uZqfF6IPiXvIBFFcGP34ZH3vP101osnneMPM3wLVy64BX38SO24zzeARMAN+WBat+Jvbx/TausWBzJg7o4bh6T0jHHVcO5f89TKbrkGlRMXSFJIU0TRapG+7yEFdnuLUTPyu5UdpbvzLtkOrM8bjBYu5+nuqRLj5HQdIxF/zXUf3zUHRNWX6EdIgACbPlNKYnakhoJIAtBKMRCwIG0j2HZiInQjql4cLX3ECcRBPA5tbptIus8A/S40U2Zxwk6YzMFziQbgfgAruIras1QnCy5eqvcjRUwzk2TaXqL5Pl5D3xw0Ijx90hmeTJannRRcrhJnaWRBb8jShekF3I2+tt4BSqJPFiXW2/NBLbO+AAY/HgA6FWcJo9vz4mbVofUnBUp4rhwSf8KDRBc5c34eDpH95pLiyUbpoETf2muvKIjSuYy+VsbmkEshDEP16sQOOgdhMsxCwbpSZ2Ab66ToXQbZnb+ugAVNQffWcZTxgj/FwKrYDzt0uQW0Q6nNq6LcldmCttnsv9ipeJYt58q5pNltd6DToBF6ZanRBX8C+AHCEuDU3pOB0l36zHNYIO5ohhT5UYA62cv8WS7Nm4mVTn3tpoXCfJUmaWy+QtQ4J4Gd8FroVRhpMXW54Is2nuXAohMqQk/27U+2l5EiBs7FXdWwhEDMyqsjhf+MtGlnujrK8hXLgVkMyMui+1fkt1gSZpvLixClrbt5rSkHLH4vgesPUC6QNgx0zjLLa4AS4qrAQdt51tYAlr/BFEwGLWX8a3IJ88oocWdDIlI5u3aOWZWl8alxxIUV4kVND1X3mmoLlGB28cmx5caXMl0jltdyZzu2GLbY2jr9IgFC/YfvDtjXXLtcDQWNT2HGpLntLs6wlrZGYs9IplHfz61g7Ap8LGJO3HoVIzVheo7qO4q8B+wFLL6aF9D/5Kt0ItD6xWzNRHjZUl7X2SMF4pZLudqBo6rP/7QmWRtITdIGlUkwsZWlOFFb9px5NAuIqeiJEQhcb3s4Y2dAI5dP5yP/t6v9xYOt6j9bPLoH9IkZG3P6wdSWsDK1gAj2mIaesEAAAM9QZrHSeEPJlMCX4cAAAMAARndMDGmq2QR2Ov/5XFOtNiKzgVlbjJGwdTf9mDxEIUppWq6kssvDJufLTdhv8cMOKlNAgXSqRKQlgr52Pd4w4OU1mCfTQhjot+1EQm5TdFZ3NOKkAaVrq41PozssivB7zSSR9Gr2Ox/+FAyL143k9t6ncbfEMeEk36QOLSNnPzZKWYBRKUo9EWhXbDjEsP865Oxv+Sv1Wn4jCf4ZSfGBmxspnAl1X8HkfTEhWOyzdAgmUKbxmmtPuSbhQg0ASlxlIf5LyPWoVTOyEPk9PMt71mQoI9QuLb/3qlilHoSgOCJYTJPpiuUy081VRTLvAkoqwByInzlCXjvuYL3zp0nbXjpWTp8bBEJBUZ2GxHsTIxEKEN70LljX8bZAJiVKwDCCfwbpCXOUwydN9lt0elfrriPm62tJ40Cwlloma1MC9yjWxurXlLHZWpsBywnbUwJshBbnM5bGJIVM04wWZSJs1aG8+zCL4i8UBYpb3wjqNtC1UAIy7Kn89bNxpJwyxKdQMZ+ijXJOGwIXyxVYQOQO45p6t4rRwKdxnNZmT9AVSyc1o1Zc6wh1irrbySRTp73wm2nKkm2RNzER/CTEB4RwPodEcpT6vL7RQsp+L2MSXVfQMoJhwuHwkylvBDlJZsDrDHZkfPjfu4zA526imoZ8l6SRE2G5JWJgSrF6U/VoYFE5kRVJC0/erl9jwvpjkxib3pa2vwYnLBdh5PBhw3y3lNEkjogSsSBV4yOXugEzpUvip4GvtGjOjo90vtXkfutzX5HWgrHo4mr5y29F1OftcYgtBVqFdz0/MfNUsgjYYawJyHAggO+cwbbsdIP2pyJ8m1Gz1wA0RNnUYvldzzTra5CV2+qGy4ibvn0sf89GiCv7dkvNr6VUpArztAmyKI2l/TB9rKYr1FLyCTPtmRKybojtH+OVr4dingLqprdFtFD3lQp3MXnvjgYlhYLU3LDzSPfjCTBqSiBLu8TXQ7GJx+D9zM8NENd42ABFLi09koDW1Syc/oTm98mP/6ywne+fBtGfGeSnoGIHYA81VSr/oXpKlBnaXFsnwiILjjdEhcd3T3llalhxtMQbJ+0gQAAA4BBmuhJ4Q8mUwJfhwAAAwACY9aFtip/9RN1cyJymn/8o6XJEqcnp8WYK4leOnMAO0Ree0jf8CcUdTrsvtlKN7KbefvNL6fLsBWtSxJEGL32IZe5rWaP/Gy2lHNrjIOILX1PZY+pKBQRuxyVhYtsQDolIPkmqFdg9wMMbN/CpC3o0sCOc6+etBPZqI1eVRZEFSMI/+Y9ASzYDetuSn6nRHKq20zqdo22CsN10oitHhv/zf0iwxtXZClP8QuH3vWrOscblW5RMXjqkGT4TQuwEU4hZLs+70r7YtZq/Of9Yne3CG1FZBdlDTp6wUMcHIJ6QcKvp8HQ32QhuHyBNiJ5AoGh54m6mDH6jSDg4/wsFUwxfTIdKdV9kPF9z/qHMx2/2jlFCwvoayPzTAw8Mt3bK033qa83QS+YAjj5AkjQue8TYQBaPDWcrzzy5pdMlaJ6V/4amx+YZfZ+nB/bnLs+OfhXO3Oq3o6o1nTKNcoK04yt4ncjwexs4w6H5FkeEMVMPFJQAql+gFLeSitP52AvG99wBGzPGJqDSdG6ac8EShPyTs8cmCnI9k7sGmN0y8a7oeaJDMpXHSvQ8K9ZZOKeqi9kvDPLELenwhYgk+rN76uDcAAl4SZvWUrxSHkodB8WjYfCv6R/XqBfwQPXKdK1+ybWLTyd5iGenwdrZlJRmMCIACeVGH4yE1IwXbkLqybE0BsaylvN03wECCQHRGacWj/WQDwkfhecWCfEiapgG3n7yMpZpgeSgKP+E8b9CkRRS2cbRAOdCBNBteTS/LjedvDEf5P6JEU0fKEsW71MFVmwrtdZ7y968HCnU/7e/b62tjs1lMpeVvJtPN9gLNRntTwPD5zAJcUqOK5fsULLzUyZ5bb0nhO+yB4hlQ/VfQjZz7/D1GMEi6Vxf3w0ErxPcIAxFOp9wqqIpTe9jq19C/Z1QmwMFUWtKVsBrCGnPP02eAHOwippyoCv1DabOp+/M2ag/IVoKkI/bs2c8UZxDDqaHCrdJvN6CLdbt0XUFhjnH6RjqfpUU7tMoiXIl9nIB+zP80prtgX/mRlh6q+VnzqoG/yTkP5BWX/uow1EZqOWSK8kBZNmADtzOx6SsV1LPhX8Iog2fJ2lINf6foi9y+hu7lsKi2o+++sL1/Ty/r9xH37DH44U7dtb+/5+44pfuL9kjRLXraY+E4H8l6/2fssIuAAABK5BmwlJ4Q8mUwJfip6g8PNYMICebJ1OMWl87YGRAwOtLqxl//4+4yoSAqnUiZvkCzhjgytyyLiwZmT+/7wCrJPngE9bw66PZrqW411ws+RBo1mvFvTSjxSPdHDzrJ2yOOSSvOotTY+L+1fT7UG2eMm2Ln2yz1PqhxAl7O/NQM8JZwTlXaQJRORZM8g0qBm0V/VRZ30ZtWLweYgQGx3uE9QSxJfluuEyJAQstJGNdr/wZEBfTexq2EFuBOYEtqQAgpzDFBf4Ze4FgOSr/0HjuGJF09UpkhM4zzcPMEmXOs+e7YzAfbBaJ5CLa///Kc0qWzfj6PHrKZvncCcgttRiML1Yxt66CoHhessDsz/t8r2F6WOSrs7Q/d6L9nrZL/iOcLtWPosKLPJ8EptIy4Qgw6pQajlLGAA5k7bQkKNftoo97PJjpigPZXzp+WtZhzk+2LmTcnjq/wB76gG57cBJ2SA1T1TlqSdjZIw3i4Qaia8w4HWjrG1WSfMJdk1abKtDgZ/wg0msOKATYr87MdewEdmFke/TdkJz5lBZGUJ98sdEKTXuYYMbFhByV69yrGoCq0PfJWAqgjCuTZZJT+9xmUGH9DEsTHGKADWguONHefkXjBnnGkStZGeaAAHFfX7uXFJfA33LljMLqiHKhArr+vhFjDRvciD9vwA6qqe7ceFpQCnnQRTX1XGmv9ikO3birBI1/rdqbm4bkkOaND2UHbRpll5bvSrbJWKoHAbJJ+YNyKKiyMfeW76ZHFICgSz6F7V56kvimFzJN8rGSC6LHxSkE+EKGfwirPhrgDcXac6oEAFzDw1Rs/pLzcRnEq4UqwDQ1NIDyp5clPrEV4cTidsxtur0pnNxNeBY3eGH4MJERh7xOaKq8Li/7yrXOSz2l3z+2PEN6Kal+kobwyGgP60SOclAfQW1uSPYMeH2LOOk/e7ko9OatK8bQRXLVCTQNHn4HLrrMWitZ4kb8LqYVgGF7gKPrbg3TP76ntnOHfeZNyBvyaGZ7Mp9RrU6601HVfely8lz/DMEvLfIZyC/uhoeii7H4WDaloafSHVWd0h5PliLEElMu37HLz8As6IEo4N3jDGlJvElCemboDHRakMgFojlmdFW0ewsEYMUEiqCaxasJ0+iXVFovOHpTpKm8gNcI+8yRerHPGycJoVIZEHZv47BJdONQOtOnmD749sk4pFiswzbalBBmeUEG+cagFDkpC/L6t67jMAGyWJMzrV0sKmPmD528ef3EzeSKhz7Cyz1Eh8bjjhp6pftrBcsF+1sa5w38QNnliLKs5klHOX25MeUwxv+Tf2o8l20JK2jln/6igeO7booWSAJgNs+hxC+2Hv2/qL5naQy7JYgbuiD1tsgMimJp45Eb3uTP7voh/tuScba8dwrzo65C1FxNStTNhIRcCAelsyVmHpbA1mQ4mxH+t5iaPE1WcUwJVDFQvWoLTXftLftyrqRXcew/WZDRl1SXuUjtGwv0TtuCS08/mv7VIz2caqdYAAnCABp2hrQJX17T0nVe9DcMcEVgRVAiW9m15gf/LmoE2G3LO5tfMuLxIO4WTwZdecf0FR8kWAje6jjzmGcb5nji/mAAAADNEGbKknhDyZTAl+HAJn0mlhLuxU+hx6IBIMM8UIZlt634Kaa95DouddwD+4Jmj8Eey7zzk+s+/8QOWzzyGneg1O/fiv+u4QI+kGGJQ/ZsjmEoAFK49NuVd/2A3uPVRn+12dF/GYK1F0bVIvZGNes+EU5lTw1To2I/EjkyYtZ2Jnp33futea02wIBPPvVuKPBhsvqBRbnL6EpIilwzrNklIsmcIM2MXdSwy9by7Lnx9DFR1sCcd8aLPIpT4ceoZRajCupsqYned2R1D3nUSYD/ygbVDgkZVON7Hi1A9aoTYORN/xpTgXY0h/jCxNQ7R7bDQMei9bgFf1EhOTK7sqAAyTJieG2/KfUyXPCkHO2lvpI/6uP1uawuOsOPuIYLejglzn2zje3YpXRoMPEOB83zq39WR9cj6P4j11SKL0WlrmlKM2ehTpq3fkWjUsvTr5qUk4n5meAVWT1lt8q7DTHIcxG+kItgEb/AE7Wvh3bhj/o6wMi6yQGA1NC2LDsEEM9g40YABWwWL/dOsKpAQhmTy7M4OFaIv2VkcDaqXmLBR3VP5taRW6jJXUlDtMiP1mWPhj1WXjB/uwc5cnq9wQNESTFrALEGTHXxUo95MKxuTuZYpUrxmXBl/+D17/BUMpOxAAO3ETTbOi5Prcx07NHFZSPRQdNsi9BU5EIoSVQEEGPGjCo/WqA7Czw8VcJBVuB8R5vZYFETj0uExBS1jnwICAUfdN990Q24kaL/nSET99+qy5S/b+yImjBRfMOH8evwwaegzAAZW3CAEZATtojd/OsF/XiScSpN9JTDyfhfPokq/AKTzQi6uaEfUbzsLksUGchNFdOO5XurSL0H+rz2v8A8CDT/BYMFgxJoVh0wkiLui99cFD+f4xFKUdmafLffCSjrEtOaIZkK1j58g7/fH0pdKtdfXJM0ezfo6MYASmEg5vYNm8wZ8OaCv9k9vnOOX7zr6ALirnmaizFmpPRElgfPlbgO4M3LaUemRReUrpRPOp5QB1T2mFqS/afF3g+VxmuM9K1vRVrCIbA+AXQRparYkLquEWbt3eCk2sPStPoMgNWgNLmAAbM1SSr0CRAaVhACVkAAAOBQZtLSeEPJlMCX4g1C7rXxDKAYhk9hN//T7aJQuMTYx4S8rNV//oW4tOpBlRpGWDiTNZ/+0IIsAuU8q9DaLw7FSLHvKTM4FU/ORiUXKoHTcGqfZxiGW9XgVN2AlJLcr2ZzBVVfn/NOMu9uwmIBZ9z1yGGbAFrF8G256g9UI9/s1Xcb093nZqzHJdVeZIfbgDdkSe/HRQ9B4dDEmTHhsX83i6N6zr64afdEXS9GgPESznUGwqvzOw7d1yS95Zi3YyQj2PmAU9ZhYbMRboXXeGyEmQAvvtYPvDnHFigJB+CEeFQ/Cuss5ueMSpJtVmFwz7HxIL4v4SUUezjkaXgPsXFGmdAN5NRiUTS+jyg+LzCFrpuqcUxmdYFf31i9gxnnRUj496d+3TLxQfYBiX2DtpL+6v2yKZXKXghpnGj0x5oR+LHpal1ZF9u6wzDhkPJUVsfk3/3qz6vScxWwVgrultPhMpOnrsCo7t01Vo7WNHGFRN6TOc8rJN08OBxQDqm/8E4PORmvH6QRINAt7nd4bs5AHqnw9QgyvSQu0ItAxYGICZeTmgZiIkFEiX7solbZWncJD6I7NXEMO4DveawcW+0J9zsxia+Eihyt0cpr+sruVnVlmjajEWwTN1BRlAmgoTbQE6S/u2ytyFRhdYpyUxIKo63DNOALLvNlSrE7w/e59HBwON5LoIPfy72pCu7Z9QyVzhXt6ZYf1whmHkt1i9IgrfDHhj271sOUrLyYqQlTXbchRV/2BghIcYIFP3A7suc6t8IZOD1p4EeX+oIUaXaa4n6EKtwsA2TyFIt/mhTFm1HCJCs6kHJl54Pz3Ln0RXrA0AZf++Lbch5V7rD0PAaHjVoKfRwYHCN1T7kTswMeq305O6qMclCpkeMcMs4WmMYc2m9cvhncQNobAli/gezsGFF1eZf6OHLz5tqm9KrdQZKalrZcpIzugLjCSSoAe5FzBLjIDQ633jMtNmC+RVmBHmMycscx6ZiyW8COyYo6PKzjurx6tJAnapMxQrZevKq2C0DD9J+dOMQt9IO5VGUfxb/DXargXZ7jPdXyFkpWZA7vPoPqWNSpJj6yRwgyih9lcW4wOUVIYhzu5mP5aIGurZV914f1m6ls+qSjER0sAB+nr/HjVB/zbfG5HCM0F6e+DjEnQE7KBD/Qtktv2AhWUSAf2XDkx9V4ztM8cFcoATcAAACGEGbbEnhDyZTAl+MqAu16XGdqvc1ns7GwEelZ4k7rXTfQQpl3t//CHDhxEC6l7limtYquzurjNVKhtvZwQ6ABmngKI5+UZ2tdmWO4+umoNP2Q60hbYAsgdz1KZlDZsTGYAKOXAAiHkYjM/kKqCThlNxytBcMfp1tD8/9nSbSJYq5qt/zA+3ELCiKkmnCJG6HTV/nALJa/8BclxA3PcVAq1AVBXs6YJq1fsYvumvSifYBeTTOmOEvv46bm6MS8MSWeycxxWpThOBrnr0Fj9Y+pMerosKCLzp6k+pI04xBHiCKmSfhrVkDwc7/IehvQFQBp8TlQWsWfFKb4nSXPUG4r1cAt1bj9ukM8+Mjjll2YlQGwJX7nwbumfasXHQVOY82Oe1wO1rRafwpr23xNhNBZFJXJC9W01PYAT5yEXO8bR5csFXNhJq1nwf+AfRD+RFdAEypxh/nVbSfGNGucHOYYlqPe+E0lC29UHCt3rSGV1Y8fVGaABJfBETAaCVfUoNKGXo3sKMlzUWOSs4iRxBO6uG6c7r88DRTAAADAwFROnJ4fhw/IsBsoi+nXferrVqR3GN/zhEt/Sai63uVl1V5TWu1paNbJfcJN6JTk9oRniU2g1Cn3QFVAZ93Qi/ADqu6wcZZRVNQ+8S6uICMtYLXhjkuKVJ4LDhVF+OpQpKCwPBCksx2A/mDi0PWMR8XVknTHibviQmkALaAAAADdEGbjUnhDyZTAl+HAADab/Fa0JGiqut7pScnu/FABoauntJqW3zAo8oTt/gpK6UtMTMHA6a2dNx5N+KFEp52L+PsPVbODpha4HuN7K3b0mjt5m1J+SRVIeEZ0dPiLIwSFRfVCsR345VrPXjAVLg76nu4uyQypeFq/GGJJ+wfDoPvmOjYGM/ZAg8m4UsR2rsmNoFPzHfGyRLg1SBlwvCiUqxCaOHWpm7gYduraRMlBVleQefH/G5gBX9fsI/+gdJmRLR5MGmsg/1B6AWit7+45hKNAax4bnlEoGjhKI9lwlXpbJh92FAfklgaKjYqsHHevWtRdZREt6vXzv0GKUukCoWB8KTNnxsSAgbqZi5xWRwzLFy36Skx6tFTk2G8g9NMlwscwWspv+AeQaZg0F75lpbYC0AQ6jNK+CBVABvq7RFSRLAW+Zz9RvNUJbwVEHEYSF5c11uh8mov7QlOZ3gAlBehD+X+MCwXJZ9vID4kD3pBp9qw+ti/i2OEpSqcFvjQkg+1y7cip97VUoT2QpaONVg1Xql2LsplcPgFZmEtloMgUUOfTdD+Z3Jxz8jn5GCjestT616EzsnVnKQvXz9qP3hMOv6ufDkL2v6KqXGbvrwKOvkUwLbU84zliErfEUYRr6onytIt05Qk30wFUlVCpmKM7rMiadgpxnpbM6DsZ+Ms8Fsa/XVKI1cEe1ATrMjO72hqRbcFf2GjQXPl2Z5QPP9psHRuY9C8yqu6ZAqxlZKWzQbpgJvrTI5AmcFEadNmMkYWRpuSr6kIQ0PXfibtSZN7rNo74B3XcwW4nsFBSne8ASiNvLmiqdsdLk/fNXvvRniSB0A5iGiKwD+R3cSNu60q3B5xkzopyLgi1iXARBKM7CRSGYBLYqhazC+u/yAiN4kDugsb5tsoTnvKPO8UqBYY+ajmfWKyNDSQY7kx+DvpwSi1UMGuQo0EczRy/D/rd/5OucB4ZJTBzfy/LUrDNkvUmbk6SYyMGTfMznYWDtC7CFJhWreSb5/ugZeXk10xSYrIwNOrjVKz9qvw4XHOnZ3B33vmTinh5M1MHDnlJ8+CGbFJPoZgZQ6jEwu1qJyupHbQUS28Yq75PiqQpqgtwYXqxC4QHvDbe9+Bk/FnvrKwZM98yTpk0JCnqOfouVVqe7kghXv62Yo5+Vx4kblTNl51ABnxAAAAREGbrknhDyZTAl+HAADZUM/qDLAJCiYdrFBPyBbHiJwtou1q9oJJ6UgB7eutAD+C0XkF8NePiUhe9dvYAmWAD3A0NAD/AAADKkGbz0nhDyZTAl+HAAD66IEAkF1XAJzUJ2/wU017yHRc67gH9wTNH4I9l3nnJ9Z9/4gctnnkNO9Bqd+/Ff9dwgR9IMMSh+zZHMJQAKVx6bcq7/sBvceqjP9rs6L+MwVqMLnwReqnoYV6yzmVPDVOjYj8SOTJi1nYmenfd+615rTbAgE8+9W4o8GGy+oFFuczdTv+KVt9E2SUiyZwgzYxd1LDL1vLsufH0MVHWwJx3xos8ilPhx6hlFqMK6mypid53ZHUPedRJgP/KBtUOCRlU6Lwy8F/XeogDDwNrZU6ksF3laHrumodo9thoGPRetwCv6iQnJld2VAAZJkxPDbflPqZLnhSDnbS30kf9XH63NYXHWHH3EMF3RwS5z7ZxvbsUro0GHiHA+b51b+rI+uR9H8R66pFF6T+bzSlGa8QK+1bvyLRqWXp181KScT8zPAKrJ6y2+VdhpjkOYjfSEWwCN/gCdrXw7twx/0dYGRdZIDAamhbFh2CCGetk3gRBbW/9FWFUgIQzJ5dmcHCtEX7KyOBtVLzFgo7qn82tIrdRkrqSh2mQYKzLHwx6pf2oVGKwytH6vcEDREkxawCxBkx18VKPeTCsbk7mWKVK8ZlwZf/g9e/wVDKT6fyAAkzFdb8Rn+XTKDp2aOKykeig6bZF6CpyIRQkqgIIMeNGFR+tUB2Fnh4q4SCrcD4jzeywKInHpcJiClrHPgQD2IgqYVa3TtLzDqbXqhAAbiiX5S/b+yImjBRfMOH8evwwaegzAAZW3CAEZATtojd/OsF/XiScSpN9JTDyfhfPokrbAGIzk+90fTP1Gu7C5LFBnITRXTjuV7q0i9B/q89r/APAg0/wWDBYMSaFYdMJIi7ovfXBQ/n+MRSlHZmny33wko6xLTmiGYitY+fIDv3x9KXSrXX1yTNHs36OjGAEphIOb2DZvMGfDmgr/ZPb5zjl+86+f54q55meMxZqT0RJYHz5W4DuDNy2lHpkUXlK6UTzqeUAdU9phakv2nxd4PlcZrjPStb0VawiGwPgF0EaWq2JIarfFm7d3gpNrD0rT6DIDVoDS5gAGzQQWwRQAACLwAAAyZBm/BJ4Q8mUwJfhwDqogDGmvhWkwvxPx6hRgQVqemr2XZxrnlZNJqv/8+5h1yG5+LGCAhalvbLgnWVp0aHGJBqUJSo+cswdPCeksiMmsHBY2QvCNM5OLbV296a5tvyWNluHch7+DmNP25c9s7Tk5kos+4PVZJNHLvfdIer0x/vprdKHFKpnBNKKYvFt8cSauV2QMbC9c7OQI675LJE11qIQorRp/gNIUf6g+YirxdDgM5WUdhzmFU31sn1+FpM+ZsMXn9EN/GL6sTdCUKJ3JJsTO5w2dO+QetmUCqXsPcz9jRgJGLL8SFRSTM0Q6QbNEMD/3zD84FlQBffI46ECT8P4iRg0pXGqNDHs0tl4BJPXqKbeOjiuHBju2RMkuLW4csAfe2TBwKF3LzMzsk23RxjLUPQJwM6qlIwktwmASTXFO8izGR3IHu06y6X5PUu74F+xbzu+T21ELtmun15EB+ps4MsnKCtgAon0IsFEBhIAqPmAZIJyUhNuYPuADlD6S3+g2i2fnCjIIch1KBi6bXDBKlVDk2P9vf+4m7JfRElPb/wrh0oPkZprAaGfBtAtgKjT0Hmfwnmga5wADux9nHM3ToCdkCZe4hLgeB8tlLS3ApI9PqAJNqUDjWV7d/qYSq+G1Gncfh6nYETaw5k3O1sPIZBx3pEgf6j0bYZ6HzKkLXFFISycC6MDec7xNj1W+P8gavoaBvLBTJD4CnEp+PALNntplM9auxuXdRfKHpTfNSQEpbwKFqa3oCib4DKIzvjm1/btkbJzluVPjP5Lp2T7k9lIZHEUgBWrxP7GvcfLJiS+OMSv7Rq0n73d/04ebgOt6caRayLsrMZFvRNO/uNJmtOiuFFtUEYAEaiyno7KZGGfqXOUZ55V1xlfzuqOGXXqPJnFnVQ2BzWLXK2Y2TUbms7V9Qd5gD2EVqe//+xS39cy0IjMKHAXCcCsK2pjyW+78oAoN7zqU3iPsX+1SaDHyY3nWyyiEkjDtoRWmU9ofhADCmzVQzf5Quukd2/wLSonbQjHxwBUHYf0R3VvCLFhm4MctLzeXcMsBLgL+/CWzU6AACPgAAAAzpBmhFJ4Q8mUwJfhwDqv8VrQfdPcBwbMn8EAn9Zric/ek7t9rvF1gauMsQcv/HPoP4cYHQQc+7Kr9OwyYdNdmnAjf8QoxRZMqhoh3l18hYEY1Re4HG/RsatCP5/3Y90BmqAOxU5gZASmdCl3Evch1fOoSdvrteLzckq0R0E+3WYUXOijrSPkR70FkZXgrLmDsibI5Wou8d6OFg5euF3I+WlJU9ubkOaT/iMaBkd6ay86eP17DrmT/W/f4cIy1aIznRMk0g2G/HMximDQU+WQUeKr+XSYhhS0DAdl6XRdicC2a/q1LUntSjfte6utVcz8YoWeUngDyQi1jB0K3yD0R5GG7y0K3CK5AKSC4SBEkTZ8eYk2wZ8t3ocmqCU52++AqWI6pfuIbrMwf7eqWpfW9fdGutqusLQPUdCHZOI8fmORgH6uCxw/0qwLgGdvq8CFkdG0zhwwf7qwxalCyr1AEV4Z4IvNJYax3SYtvxPJ1d+8lSNN/Y4w0Orj2gD9OM4lgfvrQnXxuo34HRS2KMxQ/GKHNeVTr2XdAmGlCD6Ai8bcjxYncV3Ae1ONYiqM/HxWAAhsLX53TZp/+CEd29mX3xNrzwJnox3Rvk4R9s4QmZE3dbCB37FGPk/Pl12pYMtzyXAOiYMEdmaACMuztZeXGQrTgW8iqYAFWfOZg0vFvQhABny6MBOD4pkxVZz9B88BN0ZqUtdn/18XvXLu/GZ+z7I6INEDtznzoz2u3f9hlq4dNHuoa5reZqmQlprTgsrSrjsDHWoZnIxJ3ZaVbUXQAWanG8TWW1kujWzDZsKNamZz9KF40FmslmtwkehpXCb05PyM+qaWVF/sTnVnkcZnpgGyr8AHG3hnoa8dzW/QXmZB7Gx/6+fXTXUVhH3QsTNgg/NybqMAqXwk9Ec5htETvpbgWoraE0h4ckWwchXhx8GOmImAnB+zl+39Leh/URPv99r7wAqUpIWB1BQOMLVIIxUDZXdZIrAuBy0ArM9C/XiXmWOTVgJuR5vjt6NKiISiaDJNCwYBGbt+yb9H8BHwr0YchUYMzsnn+sIWSuJHUp7Ca/S08dDdS7Qa1WHyRiPEkAXAN4hIAAAAwM+AAADUkGaMknhDyZTAl+HAJHxbUqvsIdtaAH8prBbWmpiOC8AdOSgADn0Lg3YQE6gdj3/LCOM/oLsBVB7VOnSVDaRsfHtc+5Lpkl/rd27fqa5iZd8csda6p8ZUwKtEaYtUyi5g/JFgqLAYlReQoRcO9H2mjbVqfQBtn9/0dV4/YGdPR4lZIQXRWcv7ylOU7DSEcID4nOhT3eKamZKtw5KAOWyKUZTrmnsaEDUQnkrkekmgulmL6EUScvTW300rNmXpmuxRNv25R1kHWrT3nPCirxcC3wry7qyciA5Qp+U86otmoSPRKsJEckeXGue+lkuwkyRla250CCn6QqBC05GeZoZk4xE+FP0eSxgkbzi4xp/olnGlXX+v+Y+rVeGGZwoAD9hQlz7zidL86RL2CCIkvMu9a7+YZzI6lmGvWWaqLa/Doj1LXg/Kw42WXlu9pcKIQva6qlL9vdyG6j5KEuBZZdyFIx54QHY4uNkARPjHjnDJzaC4smkH41BGpfgrXM9x8NuT1AV+a95pL5ZTZBmqOS9pRCQM6K/EGwg0nT2wT2Kzd+/3pQlxDQS9uRL80YSnGu/uqs2yF/aGH/oDaN4IEFBwGLWcemU/ehMnft3CyuRSdEDzPfwfVFZXD/QEoIufzIbrWSIE+0Qhq5UbH6Yc9Z81aWwmlxf7Ymp+eCavv7rNbo/YKDIqR4lIu/px44A0hzARNM/vqe2g46D1qwOAVFSVU4zXNVD1aVeNR1X3pcuObyc9QZHStYC498taHoouuD5EIE0k8FEZbDS4R2/RtYGgusFi/tUcmOC0JtwZIbvGGNKTeJJqLrhwGOi1IYR04jlmdFW0eaiVUNgGhuwY4Qfw1EawWw1yIsor3L9a2lxQj7zJF6sc8U40tU5vj6kTpdmCRC2AdageZeD749nmh8ixWYZtjFpXc/CxSCLbOQIeyD1Jl9W9baenuEVMtkJ0SfMPZL4TAhWD/WxLkinB4W5l+YptuSCucpheG04lu1xKXUmyucOr7g1/vb8BovbBb4NuTHlMMb/kuqFleGbRidjXK+3TIELpbIwiW2vImrYCYNwJGaL/sOB73RoZdka7xjsia22QGRTEmJI4JrKPj93z6aJFFYPUHLopXuLoz7QawAA6YEAAANDQZpTSeEPJlMCX4cAANpv8VrQkaVs7TbFXFCAn5+ufeFGvjSHMKl0T/rSz78aivTqLk9Gah2ONCNP9KQ/n8pbtI2G0/Xir1cnSofzB/eyUojTpG2X/LTttge/b7NH8I9wMg5i2bPBzbZseA8ipx9XflyxgNPtzewM5RUDV8Jd2StNmR7khgA/teOAXzaOKbaMzReCt7FZVjFUC9ZyrLQPgIwEvTX7KSgsMwFrO6GNgsBCzVQO2LRsIw9Oo76e2WxMeeGsaj3Mmjf4EhrwWkWg4fi+xdMPkHv9sg+Q5OlAuztvjM7LQY6icSRnJvdyBe79eust7ET1B4pvhnlQzn42AO+D167V52RiCIR0FlKbmZWcZ8Stv+OZpcIj9tcYwsmWicQ6JT3xTu679OvWcU5nn2oDovX8XPpXgq7BT7a35cvGaIxYwzC3CB1JK3gTuHUJ2KjSu/sABMGyWZc5/ZKYctHUZ+5BSmyvrTmIPvXiHf6ME0oVbfsrmtrZQ81loSmIatPCAfMgAAuEXsEm0NTQHK48QV05FBAOoTSM6SVACnHbNNKr5dGbNHG2pGAS9TS2ak25UVf0r3WBfSR9s1+TcuiL4h+5jg4sRavrlBv25T5YJLO2KKiUIDT2DAODnncIwj4EXO7KPwrgHK+gy0IXUPymHjQ4dSs/KL3U8h7swxZbR7AS3SVA5LaLCZF3rTunL1XbtkUvVdZg0JVTORUJsE2/kjUQwSc983QR8sRCGTBdb63bSrZiCCET2gA3YOnr67ONs/WPMSv0WXFVbmkHVmLp4bkBz0AYAqYoNZzCfCZQAywSd4+ZyNVSRX19zZHsyjP2NEtr2mJM/WohTZHJ0LfdTv+sjPSYazomQMPLscRf2VOOibH5+ZKsEjQ/gbk3qWyrn1QexeS/2o1yivZxA325FPbBS4/WRx3InDmdxmM4pXMcjp/XPVCsGVB0vYRx27M/y/d2TFd74ycvx2dANzNMwMqa5TFvPcpEDlpd0+aq3wjyf6VKF7muVq4o0DJuIH3JXyRuk+f+TLFqhmt6a5dNvtWtsgcrGU87zW892NswxlLjU7doV2tlRqZHc6osX/OgQLRVBDZyT4dtWKEUAACNgAAAAzhBmnRJ4Q8mUwJfhwBuK9xw+makgvXuM/oLsBVB7VOnSTjXES2owBHiPaWLMUHuUjVf88PY37NHSaprS3LjAnduBBpon5N12i2EMTA9GO4E+a7rwmDgN7buy7OioL8CKSHPfx8BpLD1647LCtCI6L1JGyEDYOUrEXQ7JDPr+/o8p6roZxLwFLpCWjXe9rjdShwKBKjtyip/O4fXE8jLlFSKkcKm+J61K+k6+M+7Er8cj+KsZSxW0ZG+uJq6lmfeIzAsAn7X4axCBSoGtsZm5xcRvxUTWOVQeSnyDAc+XQXpiKqProOGaM/aQpKum+CiK8nI1e3C1vZ0r42xDyGb/SV3nhu8/Wub+GN0wXvnvGyfEUd0DiKmz1HnTCnxfCM1ug/4HUGl3pOku0N5arDTK4AIM/JLaFu99BMtlhmLoihqAqtvSGD9kgUdy0AGq4+afFPbPmES2tZXvdqLdKGa7HAbcY5qcfFb48lnSC0nrR++aAMmR4YyA7buGRh32koOJ4io5ffYlvrD4nCaw459yRPOP3H2CnLWLyLiOQo1lESn0mDnFc4AVWGmy+c8BtmRSJcuFH/DEa4Z5Kzj2lEoKC63A6fGPd85vZnAQnO5o1cqXD2viMGlgJrqIvyN/4ihMD+RuFGvNdzDyO0p3t59fdGOFwjiL0UyeFeWgY5grLijQBppmVt4TG8hn07ztLLj9BbuF+fqhw7ljSSCF5mIAhJFpkdTmSfOv6TcUxfa8d0onUe1N105fiEeyfIDbgi7nBIlGIMhQbS2LukpbBonxyPOtEIxScwOZAgCQPEHyRX2pzi13Q4KEwGcRDMEsRWEXSKf2gme/csBHSK2jQwVZljzFjCf1zgoI+NXqqSpg0QmdVHX08+fie1NIA6fRybmD/1APsqDv/Xd17XcK7uIXJ+S/Li5l6DUHWgPyF3JH7kh3LM9pd7H6xO4Dz4CGpDSzaNNHTYvqljK3yD+5GB5XYpAgjnLPbXLL+5bWpj6d5nuaxeIcIHDoqfaqUV3Tbv4JlefaH/gvQuAU+cdY9491mqc7r/Lsgy9LuzWeUYC62Jz8O6gFoxJz2LdgHaXAsviBhrBJEWNgACLgAAAAx5BmpVJ4Q8mUwJfhwBuMPcdQb9i7i6x08NnLJAJzT1xOfvSd2+13i6wNToyDlrKV0potIxU/srJ8nn4dLf4SYZ1ezf9zMkoeBriUYIGN+hi+JD2/5nz/fUGBTheq9B+8TDlLnO50LOIL1fA1qgAOw/cTW73KTR97bdHY1X/cp2MmZOUW04yDE3Z32UXyKFv1eGWGJobOlO/LHCwgT3hwp3+0PJERSew48pjwd1GkDKGAMElkIowBvMJe7bvK/OcGb+YhuoneN+zBVv8hTjJEz8hZf65vEo0SsUWBwi1X/ZTxMSvy/E9vvSBYAYazbhSTDDAFO1i6NKVRoY2QfCxfVh1kTBMdoV97vjOilpShjoA6DFq+jvTc97NJbpjO65C0Y9jq+ji4+g67uEYEsZPa8OBY/uP9R16jStX9ZDqHIbwPaJqZkhKO67AiwY3sspljuCFK0AtYLq6xowOUmrqWUBSjX29zlvnYYLimO8HbI+aJC+tDwqcac/pFOfcviZV3U+M5R3mxUMXCFVBXcAAMH9TZqAN8UIdRhefaD3rVZdT2eLsic/WHC2/NyaPth0yjmZ7UTtms+DUfTs18/AVHgVBde7dRpOFkAEx8buST4VdianbBpR60Agb0wupkIwRatZjLIiEj0A2v2/7P0cXljVi8NE5zKUDPprnLPZL0FD81bGTOYWEnC5K9Ex25ntczsMEwYhT56JPfHG3/rnbUAJb/gACfj68KR20NuJMQ77FGXfd1OxOEznYnjgATjabFZi2WzlvILCHin499CuRlnf21YDsamVhf5KaY/e/A3gSZ/YXOkeClupuJBYY+VGaa0s4bk7qCMLoP/7JLSUX1AFRXNA4uIAEFTvMmXJtNyV/TXtNQLnNiqnk4Ycbi0KhpS8li+ZeDeg20IEPdK6Wv/RzJnZUIk+DHMz0napC+NELadaxybAh/0LNyoNT/8qIYHIndG6s9U42aWEOQAbvcYmbdev4X6yi9OFvUAGHLS4ITwaDITdw0vG86df1iE2QJiOealYeYB5aUw9UJKIi4EAR70L1rr4NBdhmAAADAfMAAAM7QZq2SeEPJlMCX4cAVY9796nyUIF+0BDMv1rEtzDqVAl2A/47kKmzeYCWVmfrn93WWrxo139oAHJIwzh5vod8tGW1qtLqoAQaX1l/wCvZCRv+gStS6p7i0x//6D1SWyPLP6/dbMzZNPdDfCrNIiU4thT4y8Me3oUhkF1gF9HVeJ99LU7YesSSuVtFWRvZFQHkyWDv9cvNWz9DuqmV3HHB4HL2ZJHcl3vsBGGh5ZpXJWxKHjgECO6yDe5t/5RvffDz2wm187bYCb9VuWi0lRVUUiCYsJ8eoK+jiDyg/yVKiHltt0Ro5sEYywPk+oFHMSWa2AsW5rGIFejl0Iajcb7cKyefOkQ+B1zlACG2xAYTyi2T6lkf+5G5ZRoduMidnCEked4iMWXxT5EtCLjbuKFqADDJGU1Q2sW33py63SJ50cgg2dQGdESqBfKI8KKUJJ4RW1Fcbr5V7oi18TlxPFnQNth6bocNMdm6zNDWnEuFihOoyrPNWtXThiKa5ey2Yx9JNah0D9PjWgJ2KeOEmBr31EqrnbrmuMbUVCteVzyv60L+VvzXgWHnLvVKi27Y3X95tYrvCnn6gYOKOs+CHuGz9ZYgIsUCQ0m/R0/6D8SHdc3WXVKEe9ILixnPz7iaV2mCxfwEUubwinoIzBucr6EyqRZM/cuwJxsvBGXwqgo0NPhX4mUgxgMlxKUMxmouqcWle8kSci6ZVfTyhMgJHEe3vZhVCDYvMSpQvhEnjOqgjcM6cMTCpMUlvB0jOPdm4fe0AJGOqoEof1evpCzbThBakDb5k4bApEr0zG6jAwEf8RGQngoqTbxWB3RHE4W10hISgFPYC1revwEIavnM0r8mHheIt/WdX5sV6Rn2SQGyZktG0hRI8nNfmJIL00ACsyqDgqJWYkmmW3vlIi2XLiyJPXXvU+mg2Iit2YTFg78eHuNp5fG3AnPrU00Ym3gg9sc3G3gTpM9APgOdo+WNj/u3ZXrDK031qdZKQcwGY9G4/nUSxId9dxX22pIOZo2f5JmptQ94g4ChP6Js105K6YzJQn1SnPBjdrx0J2Z7EQLrjj+PbreLCU7fCNH4GaCce7BdVaHw+bIxKwAAGBAAAANzQZrXSeEPJlMCX4cAAJwne/k9ipNjsZolXsP0A9krTjMhniG/1BOUU8xz4ranpUJ2/wUldKWmJmDhH7Z03Hk34ngNMHenZrYEIugYVwJRrXQODo9l56QCaOuPZthnOAR8GrdyK6YhXKNHef8eOEXbPEkqlOjlaLAaLpk29pWHkcK2CYeFRJsOa4fgXs86Kt5X/QtXZyaAqSW+bnqenXHnNamN2q6CjHtE+2fNDR0kGFMN4Vv11lN0edw4zh++AHTi6dL1nLp3JTp0FoBErSOiedta6CAAQqeYsh4M9gpn/Z163+WDq3LTefc9XksZoHTVajF+gFq1iZfwPd7tgDKBxifn7dK9QekXfDLipKRJ8+vYc109PE4J0pK1v2XY+zxLaEs+1sUjJO6RkXAxSpdqIbQW5G6KASpjtjZ+ic9RwoIVCShw8r1EWAYYtFXHggitWE6U22Sl9DyyHjgdXS5T4Mx0ymp8On8jdIzRy6QhSxlZ4NTLxqkWALTVTEMbY967fZ7nGFvFORtRn9TCuSDCHc0YKOoKEl2lHIgwvkRNTOmbvlNg3o0q3G5EGZ8als6Gzsar2TXLn5doIA1qxJ8QQQj/ROSrHuWc1+8P9wryAAF4RcNJ/G7H9/sWibTIC/sTmFuJYZkYF4/uYrwJUof/7LgzRHr1d9k7XMd9iFh5Imev3KyHP/7gcp3fOeChHta5MkHWXrWgCAxILNxeQlmxCYpRrND7xaMf5MgWoobDoTOrRiauY+kaOLWMg4CzkcWi1fVmkiUk+jH6pbpuR96agOSrFaO45/FkewIbDsDGLVReSZ4s0R9iZZCqF9v35NXNrnmt7tlMJ0xNzMshf6iSFhFY6SUVQsdqNY5RUFz3gsERcxbUs4zN3dmnvXZMU7ZBkwmZDJwMUmpbZuHg//KncQBd8k31iAKuk1CFSywpJLSw2LXOJSwuV8B2QtR1QVWmKdYWPuLp/u/bnsMItFbH9E0V1SRLM6Ftr9zVFw1+t/7pzrkwa5j+t1TNEimXqfFILP28dRfvv54NkYpE8bpZRIAAF0Gezg2VjyaRQHHQ2RUSiKmC32TxXpVqizsx3rJSVJOrLqrNR1/Bi/vPg3vpH2/UVQz36bRP0Q8ATboxJtffDMK7p8QSebXwQF1LDwJdG/docEgI+C4lsTuO/Ty2egDFgQAAA0lBmvlJ4Q8mUwURPL+HAAADASHl8VrQkaKq63ulJye8wgDOjHIATJ8I+nBnzCP9NLr/Rw6Yn9EE5uee/b6CpEgR/pI/zcGz8tO6Q+Ph/pYD20rz5jz61xjOH8brk4nXG0AkiVIe8pVQ/T2uAaR0ZIdG6zS22BZzUGUgoZGq/7etBqa/N1DTVCGrVXLBtoWjt1aAMXuDF4l67y+qOEj9GK4EYKdaHnb/3IZQ6cjppexx3KHsG2xfKq3deOVvdXmHB5TlliVicLtSD5YSQz9BTBZofmJh2yKsqlDTExo7voJT86eU6cXsCJUNcGqtK83D3d62FpSdfGNzns21PcT+iFJcnVQbIkZrYOBTkpBzXHs/NfWlVCxLoxc/ZyJ51awuxNlcHjBNrJzFUsZWrtIMHYK/+zZbMfkjy5s5pJGgKHoXKmPV9Q9JaS5+0Zk3zGKL6/qsk/XbcwGCFSRD6UWYSOIyvaU3YzfhPbeEPoB1tAKZnVHs4C34HUuAxUNJRZeEpzykCcurvnZwk08y1ms5JXTKjBbOVvOqNL/clZgk1fL2oBKGZ97DjkFdG7cP8CpWJ9KK6Or7cX4kJPbpNJwmUGU2z521PutK60XhvvCOTtlVSI3LP+QNIAs0AJi2h+TOmBgQggpFbCJtsOuuGTzQ3fs3tWj9Uwb6ymECOKwUhTIktuSmaj13gbOPqnkqYXSjnM3bKAdTgWsEaZCeV08n6oNJQgcrabPkvt+w2gpX2sET+BndhyWSiJfQY4B6LQZ5f1hK7uf5GLgiIsji6865W7wbkWmkSn68g79pBmu6rz7cy1ZHF7oe9lZcRrTMtEU+XCDWIWnCdcDeRKXnLPryy0ODvNZhtG/buiNneGuAJnN51KCeQ18eqAyKwuSnLxGBB0+qplBwqPUEIbUb/y+cGPmRaO0YOp6+JxjZXNmbvKwEsQxgYW43y2HL+p9vk0VSAQ+gl7Htf9VwFdkOjI3EmtGzPNUEJM9nEy2VtYlRgwntd4DEGKc/U6B7SQw25BJ9GZWPXiJtdshF/o0QMJhWN3puQu4VvQJvkFNzfXYRgYH0OeTgfcPPTKROnVnlcrP+DAUS9JvsL6np1AMnIClrtxmlQYiAACCkYnrBAAAAWQGfGGpGfx23np+rNWAFpWBCb7bxq6/670rjeEyrHknSz6z+BzuBQefYBzyEgUNjSnGHQu6Ngriila+W2FaRvluAuJnHgkDEykosJDtTojbKTFubF8I/yaoYAAADIUGbGknhDyZTAl+HAAADAADqb/Fa0JGiqut7pScnvMIAwwKZ5UPhf1Jp5nL5+y3QQdhLaUqOy48y1cFqHPCaoMkN1R6muXDzscuOHmn6y6fYNBbYSx9haLPXbbNMUmassVP60rSO1//zfq9o+4KSx/y/I1ujCm50qmuR1Ws5QM8LclAxDSxSeb3Zkb/Blisc8+l8WTsHoD+YJZXDmCzdAVGoQ9shFh7oR3ueEw9c4nsw6jSSXhYOZSB31PoTQ9jphZ7EXInf/iYKT6JfMIlbPPCQq+woe5ndDpH7ae9Hx0bsAWiuK9qqzcVUHHeWrl6QWTw1gU8IfjA4h3XlFR79rC1BuIws48qw747mCAkAK7WvFalJAANnvguoe0YF7Xum8SjAuwJdMSbxtdygroBMfSNbYZZtAd1mlrB/fkJQv9LDE+627ofmxh3CfLhPQxCzFveuXen+JR9/LuhHEAKZATJWcVmylp+fmus9X5i+XrCeDau64ZJTURNTuieE8wJIVF4e4gKeAqYuWiKzm4m8S0H0JLPpFCvQ5M0oz3zwY1voKlIPw+FOBc0OWVg6wS0JqwqvGCHMxtXbYVySud9Rw4YIgy59YOEq9Qd6om9yBiZ6NdwtKXhA1EOTRnPL/Zh2CbA93fJuO3v+f1UwaE5F4qJLUcaDwhhHyN2uWzodoNH+LYShuleggpuT2WGSSvGv40Pnqt6kKosnLh92YmSej70GQ4xjuVOUAZqGvPGBOFHez0XUI+i8mmxFnW5590qy6KNM4srBkTNx8ayIDps5+R4gOiMEn9bkhX4ckGKyHgDhC+lm9Uawbh3bVdQd9xBH26Xo3+UPWD96wqKMnsr/8v8qHvUbTWtH1dH7gdlFMm4//zH9qbS+vtOg/elcwkH+oa/IoNnoxnXnqq1jKPkdzxMd8uytnt1F+BWKReaasb/Y5jN/qIvNehBYLraq35STbT+RaJp+f+mA1JzITgWC7cUFmOUXeq4o01kTGT7rWo2SIMuza+D6Ld6XQwMND3BWV8EvUHuPN+Z3kpv62tDbHBQRMqoUlF/DPZYFNX/5a/NynQAAAGdBmztJ4Q8mUwJfhwAAAwAA6R05mBZ+J5g2N+ijVzh8fQ/h8e3cAuW4ObXm8aXcp9xiChf0w0P5JsHr/fcNVKKWNXyjmdYAJTS8OLoEV1brmDFRAe+wsHaU/Ob1bucWK1jJEAVwjayAAAADbkGbXEnhDyZTAl+HAAADAR+MlBOUU87ZQJX630wqE7f4KSulLTEzBwj9s6bjyb8TwGmDvTs1sCEXQMK4Eo1roHB0ey89IBNHXHtlM4oOJeDVu5FdMQrlGjvP+PHCLtniSVSnRytFgNF0ybe3njb7UFDvXA0yomHNcPwL2edFW8r/oWrs5NAVL4Jpl3iOIPOa1MbtV0FGPaJ9s+aGjpIMKYbwrfrrKbo87hxnD98AOnF06XrOXTuSnToLQCJWkdE87a10EAAhU8xZDwZ7BTP+zr1v8sHVuWm8+56vJYzQOmq1GL9AVNxpznge73bAGUDjE/P26V6g9Iu+GXFSc5wgrhjNpyZvE4J0pK1v2XY+zxLaEs+1sUjJO6RkXAxSpdqIbQW5G6KASpjtjaBP3MK5KCFQkocPK9RFgGGLRVx4IIrVhOlNtkpfQ8sh44HV0uU+DMdMpqfDp/I3SM0cukIUsZWeDUy8apFgC02EveOBgfg77Pc4wt4pyNqM/qYVyQYQ7mjBR1BQku0o5EGF8iJqZ0zd8psG9GlW43IgzPjUtnRL8c56cxcZ/GA8XRjg4vuIIIR/onJVj3LOa/eH+4V5AAC8IuGk/jdj+/2LRNpkBf2JzC3EsMyMC8f3MV4PorTQtnODNEevV32Ttcx32IWHkiZ6/crIc//uBynd854KEe1rkyQdZetaF2nccDIdxb1bW4HdwCFDOda+R/kyBaihsOhM6tGJq5j6Ro4tYyDgLORxaLV9WS24vNxC4icwbAHJVitHcc/iyPYENh2BYe1UXkmeJbqfYmWQqhfb9+TVza55re7ZTCdMTczLIX+okhYRWOklFULHajWOUVBc94LBEXMW1LOMzd3Zp712TFO2QZMJmQycDFJqW2aK3oLK07iALviGcYYqgc3Ab0ssKSS0sNi1ziUsLlfAdkLUdUFVpinWFj7i6f7v257DCLRWx+bs9swj8HOhba/c1RcNfrf+6c65MGuY/rdUzRIpl6nxSCz9vHUX77+eDZGKRPG6WUSAABdBns4NlY8pqYOZVhFyvnMbTyqUYo6WbNaKGO9ZKSpJ1ZdVZqOv4MX958HGLwjslFRjxtK7D+gvgBzGUszP74ZgzgviCTza+CAupYeBLo37tDgj/BrnEtidI+2Cbg+aAWxcoYBsjDzAOcNOlXNnAAADMUGbfUnhDyZTAl+HAACc7pgmpoiJhWZ+uf3dZavGjXf2gAckjDOHm+h3y0ZbWq0uqgBBpfWX/AK9kJG/6BK1LqnuLTH//oPVJbI8s/r91szNk090N8KvIEjkFC2VGXhj29CkMgusAvo6rxPvpanbD1iSVlNGenN7IqA8mS2dRZEOObJzXbMH7TOxpqOl7MkjuS732AjDQ8s0rkrYlDxwCBHdZBvc2/8o3vvh57YTa+dtsQN4qCRgUlQkEUniYsJ8eoLBHSYUoP8lSoh5bbdEaObBGMsERPqMxzElmtguLGOv3w/gPl0Iajcb7cKyefOkQ+B1zlACG2xAYTyi2T69pzuKZzajQ7cZE7OE+d2NfjmERJtXIloRcbdxQtQAYZIymqG1i2+9OXW6J+sRveQ56xlQRKoF8ojw5RhHVmh7/GMANzFACLXxOXE8WdA22Hpuhw0x2brM0NacS4WKE6jKs81a1dOGIprl7LZjH0k1qHQP0+DaCbYp44SYHAfUSquduudZWNkCSsdgfyv60L+VvzXgWHnLvVKi27Y3X95tYrvCnn6cwpPkd/BD3DZ+toRR2KBIaTfpViQLY2AQWdsMOMVXBaFcrcNpXaYLF/ARS5vCKegjMG5yvn6HCDRnM5dgTjZcBvfwKoStDT4WofshPcA1H8pQzGai6pxaV7yRJyLplV9PKEyAkcR55nl+jGpiu19Irlv/yqtTWawfHBfCBY8Ss4qwu5hsvQgTP+LR6VAlD+r2IDZwSFeEr3ETyQv+z/Ts70KGwExtUMtT9pzRDGbeKwO6I4nC2ukJCUAp0WvaFmaC45XlQGVHYGbpy6suNKj/GW4p19kkCXmZLRtIUSPJzX5iSC9NAArMqg4KiV/6yJsVGJtJLOj9GfEy2G/Jhc3Pg1wDtMWRLf8PcbTy+NuBOfWppoxNvBnR5wk/ZAlvrmauxo7R9UbWfu3FBeHjPJge2Ey7v0LDRuWOMVS5ru8XFfbakg5mjZ/kmam1D3iG0JQL1uTPlmdZjMlCkCB88GN2vGhAiwAI7wgKSnddbxYSnbz4BWwqISsCEzipyuOF5YzIOOBH3AmYDyEbRGkuAVsAAABtQZueSeEPJlMCX4cAAJzy7LFZhxtlyEkkrNLhPK+oqyrgWHTdJVBOUU82np3uSyOQAIyOCmjMJ60cgLjU6hKPWCmGpwTf6Rsa7OhJ9ATr7jLyP+jZlYk/+2yEUtX/+uNcKUz/Xr39KjXqr2gUEAAAA0VBm79J4Q8mUwJfhwAAAwEh5fFa0J9MspfrBafWqEKBxghhMUomq0JWJEJ/98qXPf7ENJ/RBObnnv2+gqRIEf6SP83Bs/LTukPj4f6WA9tK8+Y8+tcYzh/G65OJ1xtAJIlSHvKVUP09svxpHRkh0brNLbYFnNQZSChkar/t60Gpr83UNNP/34pR4NtC0durQBi9wYvEvXeX1RwkfoxXAjBTrQ87f+5DKHTkdNL2OO5Q+docL5VW7rxyt7q8w4PKcssSsThdqQfLCSGfoKYLND8xMO2RVlUoaYmNHee2Xadq9nTi9gRKrdUz5oVZ+5qfdG/TGKd9Ztqe4n9EKS5Oqg2RIzWwcCnJSDmuPama+m2xMoBVVDQjUsjK3YV2myuDxgm1k5iqWMrV2kGDsFf/ZstmPyR5c2c0kjQFD0LlTHtPeOArX6mUE2J0Cp7Sxqsk/BxNSAZtWwDoKLMJHEZXtKbsZwgb7qqGoCQZkwEjqj2I/cmBCV8kFPfJVWHG/5oUySBm9WcJNPMtZrOSV0yowWzlbzqjS/3JWYJNXy9oCusOveM45BSkfpjDAp7OBFLNy1FacdJBr6qpFX6y7c2fO2p91pXWi8N94RydsqqRG5Z89FRaIOmgNHeU1E0zNuLjyjB2Q3uLVFKbBk80N37N7Vo/VMG+sphAjisFIUyJLbkpmsntQ/SJ2JirTYIdonUMyXFQXFrBGmQnldPJ+qDSUIHK2mz5o2fRtHR19sl5/W2DYTJIqsAM/e/HQRJb66svpjNfbNEjqLI4uvOuVvCqUFqDzT07hPVMYWCevf7lIulXNArZpKy4jWpCAh18cqDWIWnCdcDeRKXnLPryy0ODvNZhtG/buiNneGuAJnN51KCu51/GLFbWf5MLvtyPCGVNOHBTMWIX+db1xypAx8yLR2jB1PXxOMbK5szd5WAliGMDC3rUD466pZNBXv7jL9K1GPGabJYCwyHRkbiTWjZnmqCEmeziZqK2sWC27+XLr10NHT0R1gwMEIH29cvTWzKifGunXsNNqNEDCYVjd6bkLuFb0Cb5BTcksAdgXDx79I7jXdwqDSDb6yr00FioYAGXpN9hfU9OoBk5pqmy3xPS3nUAAKboUb8AAANBQZvASeEPJlMCX4cAAAMAFv4fJmZ4IHicW1N8sdf/yuKdabEVnArK3GSNg6m/7MHiIQpTStSA75NWPDc+Wm7Df44YcVKaBAulUiUhLBXzse7xhwcprME+mhDHRb9qIhNym6KzuacVIA0rXVxqfRnZZFeD3mkkj6NXsdj/8KBkXrxvJ7b1O42+IY8JJr6V7qY7OfmyUswCiUpR6ItCu2HGJYf51ydjf8lfqtPxGE/wyk+MDNjZTOBLp9s502QpCsdlm6BBMoU3jNNafck3ChBoAlLjKQ/yXketQqmdkIfJ6eZb3rMhQR6hcW3/vVLFKPQlAcESwmSfTFcplp5t7Q17PGTGF6Tw5gruOAPFO1qoS8d9zBe+dOk7a8dKydPjYIhIKjOw2I9iZGIhQhvehcsa/jbIBMSpUcSGUV3ukJc5TDJ032W3R6V+uuI+braym9wR/u6K8f3oZiKupAjm+D39lamwHLCdtTAmyEFuczlsYkhUzTjBZlImzVobz7MIviLxQFilvfBngkeeHdvQHZU/nrZuNJOGWJTqBjPzv1dainluHjbact5mjv5A7jmnq3itHAp3Gc1mZPzrc6523ZGDr3WEOsVdbYJts3hyxrDfJN+yZE4WbQ4YXWQkUokdfNH1eTTetfSV3VRaXomuW5ckssGxyR86dlvBDlJZsDrDHZkfPjfu4zA526imoZ8l6SRE2G5JWJgSrF6U0RtR3RPtEVSQtP3q5fY8L6xZMYm97JSEhXMhBgJah5oE+F52jEBA5VQ5QNdTJMi1hZden8VPA19o5mYJ/c+iiFH7rc1+R1oKx6OJq+ctvRdTn7XGILQVahXc9PzHzEpWF2/cwqa5SCDo75zBtux0iwSnInybUbEgGRC2u+b+ipAT/3w0g0k9q8DjDJxoUoV8+lj/no0QV/bsl5tfSqlIFedoE2RRG0v6YPtZTFakit2Xyl5WrXm2PtY7t7CbRuizBdVSQB89hVVneTwcZvfHAxLCwWpuWHmke/GEmBn6kazvGNwGA5FC8YayJIYyxxZG+BFLi09koDW1Syc/oTm98mP/6ywne+fBtGfGeRSwTAGP4i2pT9TNXpKlBnaSlsnwiIMAIKzGLKEAAAPAQZvhSeEPJlMCX4cAAAMBVNe4G+5P6IJa7kQ9vASHxkmOxnbjbL6nsUUPkqMNV9tWqjcyqeIEng34b0m5trtU7iKHF1s5PXZjbk+TgxEYge8M5SP3isMuHXhGLtKwwNEzmsRttP9UtxBi0k3c7pbuzhWUtBj2OnAHXpZYUOeWOl5iJxKIvPdXfBG4noQZl1ryWsLSB6H0vkkt3PPnv5JvAhwdyebdCRhyTnelfJzC20wh8M20lPXSuN2rg/JiMV7tSl++UXBG611Df6DZuuCfbShDjBvPYTM09z+Q2DMtvlNFGr4n+AVgyiuQWUePCLHpBieLoTyoCe2B1vxVdeugsJvuLpS1Nn5vFHUlpmteylBgfSzyO6SwPNu/UvMFx1bdVSkUFCr26nCUNXP2OhZk7JQJdwAHL5hH8jEyrFuxtaMJoTZqpxaR6xu2N0B+jN6VHaxUfpMr2VdzMRk7BwFkTqutMrAl5WEou4pZm8mxRAefmdgOQyl4JA/kCfQcg6r/Cf7aTdtKJQO3ipabmIjxFeKwUauUoGlxtoLEv7U94ghdyrKvitJjGEiS9IRlZ9f7I1t/O0gXoyyQWL3V6NOk68AjdqXC6KFHtJXwzfQeWurNnLWmOeIGe50ErdCQFNsRJLdiErlRI7sFcWCRYMOCsNpU96YYXkx/bsr3yVChKC8o0tbgKFSzHlzO5DcseYiu5Yh+MPx909psdOkARVO6bqVkaVtSaNQ5znSkZCAuIC2QLwEVm78L4SJuaBY17Q321wjrSPhnWhABsIwXgS2IdY0F8RROICazzNJ8XmeX3+LpUUWRA8plB5L5/RjnyW5Gu3FS8o60Zo2TqCQUiZMq78kA/7EshZ96eqgEKlvNo8JAwjaAAUxNrCGwKN0ozXlbHW7DIk3ctScIot7ziObXP5ijtOJCUeGwEAyTVglgqBZCXsghJatYCnfG1vehVtCVACYeupoKMHM6OnzONPc3gJCTckbt8PNZYJiVJGsr+ej2B2J2ELt8Lh54aYdGcDLPIs+roO2zBc/BRyZl9umECjMCx/SrKk/0ptmodd4/Mjy5J/BB5UBi9xoRNCCm18h6UAUk93XWEXZMV9RUSRUhc3Li46+iseG3xxDJQrIntT5Z/Y+IbYDygnM8r/E5DKnjurDwNphNFAAOnjS2MJ/eNJa4M/VFdivfCgSslyekXerNcprz/fQ6aKreRVxDPkaSht4Jc0+KjVQEpWqene4loNa5RBbCDBZgb3bHSzZl3vwFBJqILaaNXEg7QCyxF8qCAAAE5kGaAknhDyZTAl+HAJPXufIPABCbp9nYZ+eXg32u8XWBq4yxBy/8c+g/hxgdBBz7sqv07DJh012acCN/xCmpnww3Qal4sr5CwIxqi9wON+jY1aEfz/ux7oDNUAu4ulL4gJTOhS7iXuQ6vnUJO312vF5uSVaI6CfbrMKLnRR1pHyI96BZ6i9QP7zdkTZHI9swaqw4WDl64X0OwP9kVPc3Ic0n/EY0DI701l508fr2HXMn+t+/w4Rlq0SE/0VJpBsN+OZjFMHM+stpfTUwn3SYhhS0DAdl6XRdicC2a/q1LUntSjfte6utVcz8X1y0KTwB5IRhlg6Fb5B6NdiO7M0nxEtcg4aK0tcmjLYM+W70OTYe4uyf776Jzcc+Qu2hPRknb1S1L63r7tgjErRKMBA8lR0QdzHRLMtGIxqRv9wJG1g2tURhcQnlBjadIxz8YYG5iur/n64wo9rwkdvQSxidXtK0lut+8k80xH4z01XXxDqB5Y2hIBTzQTWC73n6LnRS2KMxQ+zW/IMZwJLnUmTFs8y6cWlAl1XKMB4o71xxrEVRn4+SLp8G1tmoAVLICGWGoxf7SeBM9GO6OK9GPRa4fy13KKbSDeTlYgT9KIMaiKzDhhdsBwdroH1+V/j7D91Dm4oY7qpGVJ52O5FRtpEUdCuT4X4S50tCdBpDSSL//+f17eRlQNMsclPqBtLTLH9vadFeNyYh002UzbxAtkyp9F84hwdDnJX2Cl+ESA3/pDkM06dkGOwN6T4V7m9Dkn9lMFM/P0SrND2Z1n7KszSgQwI9JD1LsMdKHTSy7yvLNe9BuH+Wdw+gzqnW/FhxDqOiSVSU1NwDLV0Sc3Tk3RuQT/vDm+Ji+wf3qJMyhCTtJdKeu251X6yg9U1s+3Y5QVhzKGTBM4XJyrrJCTgHYlfhFjm/oykmh1DByAeK3ABGgK6vVMlt6U4ISrwGkxKtnBy/029VedczxKYFg6bVWHG4xCNlRBAxPL0rLq91QzqQlqnmOxhjG7eJ266viMSLKPtt0P62jSXePP9FekvaQAih3joLGbjN21kriLFGmyaMDuni666UIYt5aDPfs5wSF0AIA0DNwjkscBevCZB+nTS/ahc7KGj/x4Clst+nvTYpny7oruuF/9Kc7JbwTeQMYZPKwGmmvrKrWUJ1xiGohp6xyU1O//gDDI4YnFX+f1ZaeuL236QGIhDQNxy74CujtolprYNsTTFl75FU3NH14S6bF950JurV+rR+FfOBYZXPb9wMxAMbuMUgCdrNkTl/ZpmNPebrMrDaoo0aXq8c3SsjxtcS9lXGRzovVpbeWejBdNYgMJvLL36sUjaxZyZFL6J5UueXhEuv749g54kpnVCc4eXv0o05s2CJOXS+dY0vCTF8YfxYdGQ//TejPjeq2b/edgPzaCT/hcj09JntqJJZ2eJD52WZ81HI5B/A09CTY6M6uybSJ1opfJ5sCG/JbUUF5E0fe13JQiUQ4LV7ycdLdWbtGY6gZxjZdMPTDDJ2PD0+FqCm520tbA4uj5LMSC7TNl2wxIUaWa3Tt+IP0CvfFvf61rp8gS9wfjbb127R3rpR2d2XHW4ElCqOgthStkdWadamc7CsHPzX6zpPb6UZByNX5E7sT5tKCrrsq4MycnGtjqR2wXui9//Zlfcb0ex1VjWJJ4QB0wAAA05BmiRJ4Q8mUwURPL+HAJH0afJ7FSskGb/A8ScXr3Gf0F2Aqg9qnTpJxriJbUYAjxHtLFmKD3KRqv+eHsb9mjpNU1pblxgTu3Ag00T8fQWUVXiari0dwJ813XhMHAb23dl2dFQX4EUkOe/j4DSWHr1x2WFaER0XqSNkIGwcpWIuh2SGfX9/R5T1XQziXgKXSEtGu97XG6lDgUCVHblFT+dw+uJRPnBYltPCpvietSvpOvjPuxK/HI/irGUsVtGRvriaupZn3iMwLAJ+1+GsAk6NsxSMzc4uI34qJrHKoPJT5BgOfLoL0xFVH10HDNGftIUlXTfBRFeTkavbha3s5ruNqwmvUGeBh9rKsn61zfwxumC989j+lWBzbAskMKO550wp8XwlO9tj+B1Bpd6TpLsqVaot7Rgp6vm9FgHpaBJcACDPyS2hbvfQTLZYZi6IoagKrb0hg/ZIFHctABquPmnxT2z5hXqrWV5rai3ShmuxwG3GOanHxW+PJZ0gZrx6v9NtY5fhjIEVu2hORcpz8TxFWq++xLfWHxOE1hxz7kiecfuPsFOWsXkXEchRrKIlPpMHjq5wAzsNNl854DbMikS5cKP+GI1wxvPXECABhkecar+SSkuIiGhWfGPd85vZnAQnO4o1cqXD2viMGlgJjCSEBliaXP2H8jcKNea7mHkdpTvbz7C6McLhHEXopk8K8K9wAAEzOxzBWXubgf4NNMytvCY3kM+nedpZcfoLdwvz9UOHcsaSQQzMxAEJItMjqcyT51/SbimL7XjulE6j3zzArL4hHsnyA24Iu5wSVRiDIUG0ti7pKWwbJf3+j3wDwpOYHMgQBIHiD5Ir7U5xa7ocFCYGOIhmDZf/CLpFP7QTPfuWA875bRoYKsyx5ixhP65wUEfGr1VJUwaITOqjr6efQp6PmwAdPo5NzB/6gH2U92QEvVIP81oH2sEeHlFIiX5cXMvQag60B+Qu5I/ckO5fntLv9BsTuA8+AhqQ0s2jTR02L6tNSuOpFagwPK7FIEEc5Z7a5Zf3La1MfTvM9zWLwuPYGOmP6cmfO6bd/BMqv7/eARuq/OvzjrHvHus1Tndf5dkGcHgdzadRX9jkw8vWHSyTDPMVHRrS3HQAAekAAABOAZ5DakZ/HqByVUZ/kddvLHxxYxBgrx5Ji4ULvivSFft/uiobKAo2foGGZIRLefXoPww40RjpgPJ3YPKQDROkfxgAS2NawADtSwIhgru5AAADVUGaRUnhDyZTAl+HAIRl8yIAACXb0WjRtse0YCvq4AZXCJQqBO3XnSVDyTqIWA0l/5veDA/17jPnK4RYQJsKl0T/rSz78aivTqLk9Gah2ONCNP9KQ/n8pbtI2G0/Xir1cnSofzB/eyUojTpG2X/LTttge/b7NH8I9wMg5i2Z5H+OIlWkXkVOPq78uWMBp9ub2BnKKgavhLuyVpsyPckMAH9rxwC+bRxTbRmaLwVvYrKsYqgHz3EUEl4CMBL01+ykoLDMBazuhjYLAQs1UDti0bCMPTqO+ntlsTHnhrGo9zJo3+BIa8FpFoOHGevGsnGc7vDdnbfGZ2Wgx1E4kjOTe7kC9369dZb2InqDxTfDPKhnPxsAd8Hr12rzsjEEQjoLGFVsys4z4lbf8czS4RH7a4xhllZCQ9Ep74yMHt7mD1nE5CQqzsBNa/i59K8FXuAsWVIrl4zRGLGGWptFpVcuNCdw6hOxUaV39gAJg2SzLnP7JTDlo6jP3IKU2V9acxB968SHM1257rLb9lc1tbKHmstCUxDVp4QDznL0Xe201YDlceIK6ciggHUJpGdJKgBTjtmmlpIoebxVOtfaCXqaWzUm3KifoB4tmpl4fsHXHsfHI7iH7mODixFq+uUHDPmKTdt+1h4qM0AGNAetm2y5/Plvuyj8K4ByvoMtCF1D8ph40OHUrPyi91PIe7MMWW0ewEt0lQOS2iwmRn6SFfbkV27ZFL0AfYJCVUzkVS3dDaxBtawiaM9c0EfLEQhkwXW+xswK1wVQz/Fi+Jn1D6+uzjbP1jzEr9FlxVW5pB1Zi6eG5Ac9AGAKmKDWcwnwmUB2SMlyFmNgdqSQ5XuYw9mUZ+yI9thsjfX/NT1kYBhoU9dO+K7D843cgUuXY4i/sN44+xWvhP6HS0P4G5N6lsq59UHsXkv9qNcor2cQN9uRT2wUuP1kcdyJ+5nc1ZMLrDoR7P65smkAyoOds+iTxOUeCBZSYrvfGTl+OzoBuZpmBlTXKYt57l00RaXdQGqsXLhLVX/EKMsK1cUaBk3ED7kr5I3SfP/Jli1QzW9Ncum32rW2QOVjKed5ree7G2YYyi8SKrsVlVlRqZHc0sMX/OgQLLJpDZxn4ftTLz0EnaRhNiE+w4AAh4EAAANBQZpnSeEPJlMFETy/hwBp8PkzL/RLdnzBpawiY38TmqM0/Tb8FGAllZn65/d1lq8aNd/aABySMM4eb6HfLRltarS6qAEGl9Zf8Ar2Qkb/oErUuqe4tMf/+g9Ulsjyz+v3WzM2TT3Q3wq3jX/3IWyoy8Me3oUhkF1gF9HVeJ99LU7YesSSspoz05vZFQHkyWzqLIhxzZOa5T1Abc1VowcvZkkdyXe+wEYaHlmlclbEoeOAQI7rIN7m3/lG998PPbCbXzttiBvFQSMCkqEgik8TFhPj1BYGbg5Jv/JUqIeW23RGjmwRjLBET6jMcxJZrYFeIkEE3Os+nrx16OXQhqNxvtwrJ586RD4HXOUAIbbEBhPKLZPr2nO4pnNqNDtxkTs4RVx6nBGL9dxT5EtCLjbuKFqADDJGU1Q2sW33py63RP1iN7yHPWMqCJVAvlEeDKA5IbDtpY6T1EKAEWwqWw2j1qFtWHpuhw0x2brM0NacS4WKE6jKs81a1dOGIprl7LZjH0k1qHQP0+DaCbYp44SYHAfUSquduudZBtwAP9Cmoo8Onyv60L+VvzXgWHnLvVKi27Y3X95tYrvCnn6cwpPkd/BD3DZ+toRR2KBIaTfow2XTFka9g2+4kYYE2X5uCfNK7TBYv4CKXN4RT0EZg3OV8/Q4QaM5nLsCcbLgN7+BVCVoafCxmAE9s00TAcb+UoZjNRdU4tK95Ik5F0yq+nlCZASOI88zy/RjUxXa+kVy3/5VWprNYmWG6ufJikt4OkZx7svQgTP+LR6VAlD+r2yUiFuwsrKvDb5k4bApEr0zG6jAwEf8RGQngoqTbxWB3RHE4W10hISgFOi17QszQXHK8qAyo7AzdOXVlxpUf4y2/MC0t7F5T1Xq7tg1Tn+2jGJxw0X3JQNjkBWYKOv6yJsVGJtJLOj9GfEy2G/Jhc3Pg1xEq1ssRH5j7fTy+NuBOfWppoxNvBnR5wk/ZAlvrmauxo7R9Ui0fwnzkg+ZWm+tTrJSDmAzHo3H86iWJDvruK+21JBzNGz/JM1NqHvENoSgXrcmfLM6zGZKFIED54MbteNCDZZJZNeiR9Tuut4sJTt58ArYVEJWBCZxU5XGr4AAAm8AAAA1AZ6GakZ/GgpUXrlNFYF9xygETb8G3QEnxDVBOb9mhvRQzZw5yJzILQ2CNgAAAwC6RaGerqcAAAMbQZqJSeEPJlMFPL+HAFY0RD3lG8wAhMssRYZ+eXg32u8XWBqdGQctZSulNFpGKn9lZPk8/Dpb/CTDOr2b/uZklDwNcSjBAxv0MXxIe3/M+f76gwKcL1XoP3iYcpc53OhZxBgdUBzTwAdh+4mt3uUmj7226Oxqv+5TsZMycotpxkGJuzvsovkULfq8MsMTUnySIZHRFCBPeHCnf7Q8kRFJ7DjymPB3UaQMoYAwSWQijAG8wl7tu8r85wZv5iG6id437MFW/yFOMkTPyFl/6xVDfD8dXVLrRYmX0niYlfl+J7fekCwAw1m3CkmGGAKdrF0aUwdtFyjxFjQNaAFfe74zopaUoY6AOgxavo703PezSW6YzuuQtGPY6vo4uPoOu7hGBLGT2vDgWP7j/Udeo0rV/WSMA5DeB7RNTMkJR3XYEWDG+vjqe9sfpQmN1gurrGjA5SaupZQFKNfb3OW+dhguKY7wdsj5okL60PCpxpz+kU59y+JlXdT4zlHebFQxcIVULKzv0eqvihDqMLz7Qe9arLqezxdkTn6w4W35uTR9sXkglI54+sMXtZ8Go+nZr5+AqPAqC6926jScLIAJj43cknwq7E1O2DSkCG3T7OwPsi1azGWREJHoBtft/2fo4vLGrF4aJzmUoGfTXOIui++2O6cAmt0i6j7Rkr0THbme1zOwwTBiFPnok98cbf+udtQAlv+AAJ+PrwpHbQ24kxDvsUZd93U7E4TOdieOABONpsVUrdZmW8gsIeKfj30K5GWd/bVgOxqZWF/kpo1M5nr9j9hC+4EjwUt1NxILDHyozTWlnDcndQRhdB//ZJaSi+oAqK5oHFxAAgqd5ky5NpuSv6a9pqBc5sVU8nDDjcWhUNKXksXzLwhmYGNxJZcOS0/UsyoRJ8GOZnpO1SF8aIW0xfmFoBwfQs3Kg1P/yohgcid0bqz1TjZpYQ5ABu9xiZt16/hfrKL0G2dwAYctLghPBoMhN3DS8bzp1/WITZAmI55qVh5gHlpTD1QkoiLgQBHvQvWuvg0F5OZX9+p6wU+SOLuTG2CrbqcAAIuAAAAAbgGeqGpGfxcmOCOZ0i8KEs+sygF99EL292DMAf5GYuDAPdOBKfGT+uhlU4ZEJLzABp59f/xpTOBTBVzA4Puuuwc//BPomVxXkgmSKzreiWiTjHF2b3XXfriNoD5AzbkwdO/aQdyAAAcVt6avFVPgAAAAcUGaq0nhDyZTBTy/hwBWO9DQBjfKQFpEID/HaJ08xhIL77NQAAXgBRPOZUrs4j+qnRP4EJzgDZQ1nvlYJPeqilLRgW5NgrxB8RAl5AJLwFJ2C/SfC7I9X/mZZRBx5VbNibP0GmeBj1SGeE+BaoHoAKSBAAAAJAGeympGfxdOBigC0NIO1ukrO0AAo9K6GAIc4D6gA7dB1QBT1wAAA6BBmsxJ4Q8mUwJfhwAAnPL3Hz8FlOowAV1us70AwKxjjQgniG/1FURNPufYM3rj3Wnfywi0ZSLrl1L9hjr7NXokdID4TMbfAyS7sYMe+Fnk/8DAADUK5M/QS4PTeU3Aa7VM4hoX/3+DBeE7xstusJ7Ki8fvZVZCiHrk8feoBSSq1cXm5cQMyhAlcbVlKP/YJR7k5xLzD2OhLOje/rC7OhrNgtl/iEpxvdCJdtmuijedZ9rXARuFb74nJZZOsApYq4ETQcHuoW2OIEVNKJT83z/IFQkmifau+37A06IwyxxMnYtkW/oFLuXPjlIWcKxg9fpJjgxR5TUHJetWLppUN1osiU+5pJldJdGyn31MrfGDwM9OEbmiiZSxd8GVPmbJmjK94BYOYrOoCx+q0LrJztpKayQVSeGQqGqsUsW1/gskOYVUNVWTbPCcOEE5ICDGv84i9yAe8bZYAcpuhGLhq3dKnHYCy4l4xtgbUI99fFwIaDI909qSM+K0Q/RZilyTqa8j5Vk1upBaE5OicObxL6pJ0f5T4UnULykTzEMbRlpcv+g3r1OomKEdOoowrHYFWpJjFcJjTrns46pQZYuny7f6X45Oio6EXi+xs1R2wn8FHN/csZ0mWHiRnZiMr3qbj290zNLOdmqdTeMOPzNGPr21iB6BsmacIWlHkaujksVwkIhFsVW5vewDhbZ2+kKaphZuQ6zjwmai7zHZYphxI0Da1f9PEUeMIhxpABdyZ2DYTLCSd2cAbR07EEczjhzVMkqtp/d9dZ+KAQyoidI1vJMs0Os655zZCU00JZCn6aZBDA0EiJrh9LJawoWK1XStdxN2NQ/NYBkMzJamGcUMycuX8qRfuHLbiDKEEejP6AkXCDGQrKQ5b34HSQocamDxn1YP/FrPDzyEzWM4kYIqnwNq5ERlzgDjny2LLLeSwGOTCNbMgyg65X0JVhpvgu3Dp7WvJkco4eZWcepz1dAKKQfECPTzlHgy/k+oJ9CQw9VaT+j5J2p9sKaw5/rR18G+/pkAqSykYML7SPB3Fu6XV20DN63KuKYwWTotgwIeheXNZG3bJxKNKJ/m7qFXagXf1NpuRStUnMXM7rYQvUqEZ51FCxIFintXgYW5I4eUW96WWC/ewBs7Rsy8nbSlWOu3KEHu+sck/bFXHOvf/lBhDhnwaQNeDtcopHqSQx3+kt8Ecx87NMcC7kXgAq5MAxA88uLkXt8xgMhqpyMP0o+RgGpAAAAE7UGa7UnhDyZTAl+HAAADArX+h72wmNGz8pD3xEFGeSARziz/4WBBp/jlAXUGZh+7+CM7/vl196bDmBJzN4d8fIg3E0v5nqmrfvQ/AbH6nqWsDLf41bidsWEiR4fx36JBQ+RojFXFlhNGNopbbxX5/mm+EUW5IWP3g0XQb06bHZHzMp/FrE5WP5IxAnatC3R4RPU6htAKV7AUZSXlb62hHgJH9cIHQur9E26xnBMPw2cQEMCHc2ev/HS0BokaTzRPf/zKtgP6zM+RzA2g1p0tsHpn52Y8gSkJ+OTjUo0Fpi3GDSbf6IKtyL7q4+Iqo5LCImU8T1BL3nL6kus3c5KXmS8AFQQYsZLY+6LpNKYbEcTYAzTl4YeSAbI58vv3ShQyfvOu6m8BEkYZGHu62higK5AndPCkrxDph3IPNWZr9Mm9XmpF4Swn8Y1PbmMUNjEoNTpa7Ok/Fv+G0EEtRMY39Tat13pQ194EclNP2UFE8S8NwIj4dC8JnVLhh41aoKJSv2xlNjA+5/JAecQNB5nZzCu8I8G8g6GsbuNMukU1Ezf+1bj1xFQB5CAm4N+NH+m567is7XwGUQACRF3orbPhxYUrt+t/6SAEbfmMV1xo+r4DvKPiHxDlAC8gJEVwkiklSwgPWfqM/euV1zJlKQGGKN+4ae5ILVHbU3gbuV8leI3XI+gcvy4ZCHm7vwcq7y9/rAf0G0B2MpZCRt/0MedCrfBJ1dQaw8j4d5KTdOYcSju30Ah254dqWAADrnaDtAYK0GEKe/hxcLK66SAr5QIQgHRl42aXHy6RWpgk3Z13LoCY8+sWj38VpbcmyrKN0OTytzQ0F/99oc1fsIR74+l6S7p65TGLxc6q75lP30R5eeQ1nHlYrafhQ+yBhN8GcwAD0+O/1sWRF5QZ69Ny+gKg40XvD+I/0VB104PgPzG3H9fZb4Nhgkr/Q/mas3OoHhx8LJYVKCzvHmVsg9aaWFRt42sEiI2Z3jHEhQCgpb4ytPp28HA5vH6BzfRawN6lyuC6Tzwn7nbhEx3Nm2br+UyBkchgEwfkl8TuvNAlPLJQ/MUbV5NRhhGj5O0hG+b09Ja9TER/f539eD7P/+AyroHa2csAEWVEOJ/WEr23eVFDL/36RZIrgjgpYWtvNx3eQ+93EicIaSADNSBL/X3HFr/oy3gic1539vPQ1gYhBVcANg8/v3peUdQr3j5t+NMUWdiE55AZJVtnrib0GoblYk8Wk95FEKsBzVsGCxrdaLc9EX16UZx6eHeUwDM4e74KWBDx5OmoY2EUnvKqT5hp+gQagrR4hrMavXPL1lwFwxtU2GAFVlHRYqWVngtgP3tZfLnsmdESwFKyK3oB//8IBOnd0cUzI2rSPDkPyE+ZeCIAEbqGNsVmJnsCwAXH0ZThSjNI/WVEQjcYBqzXudkaYCnG+OiN4ujLgZKHUcEaTVbyJo3l3560xJtfzZ5GFhZfbEjL+XH75Yw8CwnZ7v9qyP376GYZ6DukfAhoMubyos54jXu1UK60PklwGdj6auJtTDHuUqVMRoilk+5R7dOLWRsi2S3oHG8AAihpNWMhW13qYReIxz8CBadfLsnM3YVCt9rwc60wQJQ1wWgnu7AoSg5EgRhwD+uug9/sqNZPUkaZZF0YG0XUtYfXbRYa9g/whBzQyNzdZ5RmlBzcq7T2BZUAAAMzQZsOSeEPJlMCX4cAAAMCIJpzTPb6R9YYUBNQ+TPhd7KhwAS7V9pwD35z/Q/1JBbKb79lugg7CW0ouf9qwe15c3HHg4k1iOFSPYo/G/Zo6TVNcxWiWi3eLJwPtqd8X2HvPdAmXhvLwfKzaPz8IBHoT1j63Ztvj34QCFoH9MXSTfRJoflFD2BKqrfMCk0IqJEagH4bdYD0HJT6h364S1s9Cktran06w/SJUeOMTGr8a1a86OBSP9AI/6HHXxGJ1Xt/Naf4rm/8ngxxeO+VJ+8RAajTjAEOm+ZL2XAIMZuZ5cnetq+Anv83mzrJdYHu6NLFxW6hTt5WA3+R+BqAcC4zq51GR31taGEUhhPtAXzU2VSp4fj9nIyngAx6qe3Bpvkgw+xpnGLp5VHKWzbEdX/Pt8KLx2G7mhxBcKLxtO1FD2laNMisd5Xcu2rhv8/7b4NMUC1TaSA4xoFhJZpcPsMUMpOGgx9dfnn8s3btlKO3rBtGOIQCzPKJbRXCJTM6BL91Yu+hFhPtLSmMDY3Vs3Q+EZ6AqBVK4L7bn+chQP+gKVIO1tQ7pS9KKT2wogrD99MTAXXFQJcnPKBAqwL8c6uCVkTQQKtfe4DKbw2Lc+nryY5PQWPrd20zU2Kd+fihTPBTdbkI2WORYscE24/f8NlcRFwsCwhe7ve/2Ol/OJEKqnkrJhe52tvxcY96GcxMrxvvJn2+N69acTrNJuJO/LsNRh/vrK5jHMujjfHf40uDQH9guS5W55kH+ejDDuVvXKiYfRrW2Yqql0YUaPJRZVm78MBAbNZPkbpduHzB1H7Vaz/Fp+ADGnq71ARV9JnwITQvsiDkuOfmIQYfLyXnntxjgQ0rV6s0Ojpy/HwB5wh7kBG7DPEIMQYYYRM2+1rEKSpPE0INE36QYsZyFb6+pXGlbo2411JEnvDcIPEx/UPApXD9nyC9CiqQeZSD9gDkEKMFsOp+CAsTSEcIReNXMDxe5BzCWN7/GZrTv/1+yYL4959MYCXMkXisgD3EOLe+z+eG//tSjLcT6zCU0HU/ioXQsiIdlNi+UmcKALrIqZ25thGQ2D9+lbUsmd12hZFV5yKdyyRhAAAAb0GbL0nhDyZTAl+HAAAEfIz+bLQtS2UbE/RCR+NUsleQ81kQIsH5BFMCnYRU/BmK4RRRRfnynKInvQkDCJ9KuzGJ43i2KNDihylAAXy65hKxOv7eGno9ZXCYTy1W3JmWLvp5T7zIOLTYOcFNS9kttQAAAzdBm1BJ4Q8mUwJfhwABMd0wMaa+FZric/9d/VgrOejOR324uMvTxTL6H//GuYM7gRWPHtQOcpAnludZQVAyegmyRYFnTRG2nWE1pW4yG0+5nh1bUAYh+7pO/b5fkVflAut+1gRIMWfqhpRfp2RE8Abw+psLXHPnFwgZnoD5FsfUZ4spcXghbcAG3tvuekQl3f4LPgpEAPD9BOKtf1Pt//gQQZwEDwiQGjh8MyTnm3gS6AiIBvdzJGOxBbVCGlHfGi/2Nox0gNQrY9fHao3nxm+nEYsI+nmSzX0hnDzmeKwgfC07byamiPJThJ595VIQeqtg5VdhJ/un3CuFXULIdbFaHsxcZr09xtjPRcUqBZk8+G6xRjl97/+Yf7zlLYNQc/DcVvGgWEzFDStSVnC3Fw5ARD941nrfvuGVjDwhUDVwB9ZSCHSfTF6iJUNYmF6fEfWMCe0I/pQCRt7324j1H8gr8db9gTiCfpBC+7QfpxlX44qR0EMhCkZnszEkYxYZsf4tm9yyCMCKyae7Pqlk0UNbW9AepR4GzqKXnx3ZYpeP4f15npZw9aJIzM1nY5a+m7M0kx/E0znwuGE+VJpU9jWogpfxOffn0xeZ1qsoHhEkjzNLD4gsUP0xrsWEPV54Xak02aY6TjhzsqtLlWWoQGG0neleBGz52buhNBBru0T5B84wxQUXEKp2R7YMpT+LyHEmtUlgz6S0EDu0Ar1yuwOaHAr/+/HWgTuNK5TRv0+1oC5DgtBAg7huMa5Rtqu22DkSpI5pJsru0BNxPU/ke2QS7qi9cNQ7fth//r+PoS6FFTc4LbW90w4FrJsgpYKrKMSqFdEqZvLTjcxUAN30c+sjo47JctBFL+Txqix/Nw72tFbe8juuJEfEx+OPuYV39rXzrGAUnTgsOr/1N6RZVwbx0jb9f7gKkV6x1MZsLk70M4a82F4W1+pKvbBXBVbprGIXDDPHm5ixoJLM97HEOi5FmetntHqYbplsYjOXEofVfHyvH6NQCwFCkAYgw1EdheVnXqd76KJmRczWqG1tPHQS2/KBw/DJBqA/5c0MtSma//Meq30PUTz+gigE4FKPmPYE9vrMgJWAAAAAW0GbcUnhDyZTAl+HAAEx5fFa0JGh00HxUzcGOfgQ7o8UjvEv5bCE5ZNHQfBHO+CaIBAr/8qrn2cgLmkyfITJL1UN0OcFe4HkCZgErxJ9lKAMb4tBmWMKcD0A6YAAAAN0QZuSSeEPJlMCX4cAABoN/kzsP0gtiBKAVdxvdgRMeF0Se/+MQilD4b3HuA4unMq3lzKj8vgcI8z8VyKUnTI1Z97nIVnJnjapDThpbuPA/+m4LaSW9y+/y5pL8DNoH2/aAXkJr4kuz/3UfvzQRnWB9+EpIrhasXVI6x9OSaYzP/yA3sEwBTDobNSX0jUqcutL5s3D7bfJBED0KqMAI86tD96+jiZnrxH+XXA9AXKlZuZGYlr++QkTx/lvRxOkVj7UvYMm7k53MhqHRMes1uQCynaMMfXw2KUJ9j/9LJILENzGQoIUBQFZT26O2xbNvpbwRyv7mhUWVvCFb5IxrScIAD50xcjF6YM9qj2Wo2W4k2zh6fZUm85OtOjcUYHKQ/lc5oWOVCTlrmjQ/2Yy8qqr01I8cFtT65hdnclYufPkVoSteLNfU7rFqhcqxOlP1/4GdNp5KZDiiD4BcVaGBL0iFXIQnYlTJHgYOFfYM9nG5dzCExS0h9MSffdrnmRREX8z2pw2p+C1ZXi+815kDKFi1PnJYIwyJL1M7uWfn6KoACSFaNxFfskNRLLYl0z0M2btWYmut2Wh76I4LKejD+EhZzbgfUDYBdyJ3bIKauAV+H8R9I12XjqftpoZzYrgLGbwhYeW1gC4ydbgAAP1BznlMc51lYxACvVptgOsM+wdUFuVUHqfOnA5jNdoBYsNVBmCB+88ADaUy8QVb1n1al8YxlYN8qZi8aj9xfA+mj/eCvm6smXp03B6cQqgBTskOsvIX7JtsLQGADnCMNv5AC97PVoVBtk6pqOEk9udf6c2G+TVhwTbiDXFssbNaFToJlKTgALGMJ0Ep484CKQG18FLCwstbX0blN8jj64saLrfEgWs17qSm1P8Q6+3MbAXYvlpv0n9lx1kgEqimRjHa9AiO4GX+iqPHnzRKMMX7gSPGGJvl5SOxjMEz6WdwztcOblzoxcq7xPudhfVebTr8G99RTrjxZPJZFfD0nXYBduuFznHz3clj+MdPRhCGrbxyUhQYdpNBw7prFpsuooqNU6j6tdQhYeMPsPILAqSIdlQMewf9mOr0vVb0YWHATiaErpszpn2uzoEFR/qzSLh++zpO8pO0hwhCxQOJzqTUCFEcb6Z1Lt+kGpu7Tij4UxxYXoArIyq4dZEErDyG5xrbzivJAzAGfEAAANyQZuzSeEPJlMCX4cAAAMB1N/itaFGTaudLCVOUJ2/wUldKWmJmDgdNbOm48m/FCiU87F/H2HqtnB0wtcD3G9lbt6TR28zazciG9tcdg5FdLRFoRIVF9UKxHfjlWs9eMBUuDvqe7i7JDKl4WraPL4MXiVh5Gy6DWc5OSY1P2QIPJuFLEdq7JjaBT8x3xskS4NUgZcLwolKsQmjh1qZu4GHbq2kTJQVZXkHnx/xuYAV/X7CP/oHSZkS0eTBprIP9QegFore/uOYSj7jV58WgUX81WdvYhuEq9LZMPuwoD8ksDRUbFVg47161qLrLZUYG0Pm56xVWsakCDrCkzZ8bEgIG6mYucoF8c1Jct/rIiQpoqcmw3kHppkuFjmC1lN/wDyDTMGgvfMtLbAWgCHUZpXwQKoAN9XaIqSJYC3zOfqN5qhLeCog4jCQvLmut0ZKYACIIR8meAzWIKUF6EP5f4wLBcln28gPiQPekGn2rD62L+LY4SlKpwW+NCQB+2y5AFT72qpQnshS0carBqvVLsXZTK4fAKzMJbLQZAooc+m4mKWQdcEFbHCytZ9r5XgtehM7J1ZykL18/aj94TDr+rnw4/XcqB8M9QjcGp18imBbannGcsQlb4ijCNfVE+VpFunKEm+mAqkqoYXITUNZAaiZy64pSzJLX7QNjPxuGYcTr8z1ARq4I9qAnWZGd3v7JhPKNGSecQc/EGwPnVOcPcUKo865zQCI1w3Tr4dDjpxY/2yS+oBPTGt5aadNmMkYVugds62pFKRj3dd6lBVKlsroJ+mJTsY5Gz2CgpTveAJRG3lzRVO2OnBJ9VgupoO/sjz2QFOKDcppGTgRwCU+WPoz3hXyNS+/wIjyuPCLW6x2Oi5R6aJmHVCHlQ0J/kBEbxIHdBY3zbZQnPeUeeqN2Fge0t6s5YacNZaljuTH4O+nBKLVRLQppWG0deh2mimvz2kYM5mKElMHN/L81SsO6aVSgIToYvdp2YnnqK/8bSl1I/Ci1gJJps++3Nsx2YhikxSsx9OrjVJcNqvw4XHOnZ3B33vmTinh5M1MHDnlJ8+CGbFJPoZkDQnEs0ITawSKRio80KJbeL1d8nxVIU06W4ML1YhcID3htve/Ayfi0HkDuMT7WZJ0yaEhT1Dr0XKq1PdyQQr39bMUc/K48SNypmv08BFwAAADr0Gb1EnhDyZTAl+HAAADAZSlbS/jhd/ZvKgzfkadHdl6yFABDi9NatqBhMm7mVCArT4AgKszs/0vsXloF6LE06azTqH5miiXgqQiVRX21bMMf/+haap457n//ONell6qcQr8ILSxnveGuW73+dLBeX6upFWNSPWhMmvcaIya7mfd+b0a4DR3rmXaO+hK/7EvBdPtMAPG9daGTqVaSBRruhb/23ZYI5yOeGTcDij/1a2XNYePf7XukepX5PVODzW6E75BmQGuXsM9X5eYiuSJma6aibJHTjzQ4CGcXnwBc+LUx4u7HmIxTRrJPB4cjY8pvxHLG4IYr9xzn8/rfZcSA/CWhGMsrym4kmhjk57x45XzopL3kicOIzO97sU3CLRWb4Ff3wBy+JHoYQf+KtBLVh7lVDvktSXrfZcxgjdl7j0x23se4/S22eCCfDtqi9CQftCgfXw+GgT+wnWhV170RNvONUY9vLA1D77qCOIUUfUU7LgUGx5hJ2axgMpncCTpfHTT5/z4TSWsZ14MlN80su7aYA6qbtvEiqJfgpKrgp/gynnMKzvO1iOfCHMZyFwuSeMPogx9sIo7AM+R9IqU3kn8oVYrfIrlF3k1qUsrHiADztrwDNM4+a/A4e8vBHIcd28VY2x+bXQXZ6gWNe1+CVeyNR4vy13L5lkATDWSmNGm5RGu52iijkDMFT6Xv5xW5BS2FOL3psfzZf+O0JoqgoP6ZfT1M+zYbPazQNMR0x7YhPbpGZie562+wXPruKtY3P6+J1w3CUFB4wozUmI+Xs9l95m7JH93SBCWNd6n5wp2Fc3Ow+vk3uzZL+uSqRey8fwRpI8c91r+UlbHYhzgXoJ8sNXBDtn1lYPe8VPfQIG3yAkaSLFBoh2JFRtHcNuMaU8P5JKD+UYd8irczf34Go1KbOobOpzQJlQJTePJEXf6qbd9k8hBSysXI1J3H6EkmtacgPz+V2KZXPSLCdzCh8qO5mcTfmHWcegaPvBVmCExELpFeqEgzpwZFaur6OPC5dX0KCO/Mgv+VljOprGtaNDn4/MrTxFI1uzw5VeeZzGTkBQ+BPrC0tbhKPNsDrvM/J+UuDEA/ztjX0OaB8hvGVkXHGoyJiXqGvj+9JZjBAgOH+Sarqxkzh81nllEC3+khyfORwbPhW6Xubfaj4JoOk/4xRLFLNAXycZSGgsWzNGmcM7SB6+2oTRX2DulqcuUgcQ7mP1UhqTNN8Tq/6HXzzsq9F9luqwInQIV/7AswcAAAAMuQZv1SeEPJlMCX4cAAProgQCQXVcAnNQnb/BTTXvIdFzruAf3BM0fgj2Xeecn1n3/iBy2eeQ070Gp378V/13CBH0gwxKH7NkcwlAApXHptyrv+wG9x6qM/2uzov4zBWowufBF6qehhXrLOZU8NU6NiPxI5MmLWdiZ6d937rXmtNsCATz71bijwYbL6gUW5zN1O/4pW30TZJSLJnCDNjF3UsMvW8uy58fQxUdbAnHfGizyKU+HHqGUWowrqbKmJ3ndkdQ951EmA/8oG1Q4JGVTgF+94+fe7ZU6ksF3laHrumodo9thoGPRetwCv6iQnJld2VAAZJkxPDbflPqZLnhSDnbS30kf9XH63NYXHWIsu3RD4/oDbjIH3I8bFK6NBh4hwPm+dW/qyPrkfR/LrCI1eQ/u++7VlpMAK+1bvyLRqWXp181KScT8zPAKrJ6y2+VdhpjkOYjfSEWwCN/gCdrXw7twx/0dYGRdZIDAamhbFh2CCGes+DhfVHaKpAQhmTy7M4OFaIv2VkcDaqXmLBR3VP5taRW6jJXUlDtMrhjMsfDHsDQ2yR89DWADpgTIGiJJi1gFiDJjr4qUe8mFY3J3MsUqV4zLgy//B69/gqGUnqwaWeyVffrcx07NHFZSPRQdNsi9BU5EIoSVQEEGPGjCo/WqA7Czw8VcJBVuB8R5vZYFETj0uExBS1jnwH+tdyNCC9i/oKXEjRf86Qifvv1WXKX7f2RE0YKL5hw/j1+GDT0GYADK24QAjICdtEbv51gv68STiVJvpKYeT8L59ElftRYXL/Qj6hqg3sDpdaE0V047le6tIvQf6vPa/wDwINP8FgwWDEmhWHTCSIu6L31wUP5/jEUpR2Zp8t98JKOsS05ohkooPRiQtf74+lLpVrr65Jmj2b9HRjACUwkHN7Bs3mDPhzQV/snt85xy/edfPN8O4nMSqUgwz66ksD58rcB3Bm5bSj0yKLyldKJ51PKAOqe0wtSX7T4u8HyuM1xnpWt6KtYRDYHwC6CNLVbEDrGpRZu3d4KTaw9K0+gyA1aA0uYABs0F9f0wHB2O9UOa4q5aSwgfrAAhUAwRh3Wm4QAAA25BmhZJ4Q8mUwJfhwAA+u/xWtCRoqhXn8VQFt9C5EOtYipd4V8iFQyV3ZhzAewrST3/xiEUofDe49wHF05lW8uZUfl8DhHmfiuRSk6ZGrPvc5Cs5M8bX/X1t0Zb8EBGi1FZ8LtYN75c0l+Bm0D7ftALyE18SXZ/7qPsWC1t/5A9ui+LiroRgmAKYdDZqS+kalTl1pfNm4fbcAJkTVQraT5742N/K19HEzPW+fieV7eaT//D1rCida/vkJE8f5b0cTpFY+1L2DJu5OdzIah0THrNbkAsp2jDH18NilCfY//SySCxDcv0NENN+i/dxMZU6fPb6W8EcsS5ESziyJBdjWCLCTWZ/eZyy+C9ywsmKPbKpXuOLr/o09BWDsU1DdkqMDlIfyuc0LHKhJy1zRof7MZeVVV6akeOC2p9cwvNixMQ+kgWxBrGh0A0HpTvoSAaskqf8+eFqq8lMhxRB8AuKtDAl6RCrkIV33gTBRPNjy7QvakykgReCGJkPgnNlq5KxUlW4m6V1/vFQxJwDZV4CRleSwRhkSXqdQqU7uZ4BQRYVlwUniu81C5wNBWeVdkx+zpDuTLfRYC546X9vHAqEhZzbgfUDYBdyJ3bIKauAV+H8R9I12XqgcYjr4vElPKBmRJ2GzGUqNGuiPbTvUAbJDkdyAFerTbAdYZ9g6oLcqoPU+dOBzGzSvK3kmBwPkD9n3/j4SjrEEJgp1W1hPQ6DfKmYvGo/cXwPpo/3gr5urJl6dNwenEKoAI2CKrL1GY7r21z3gAd5VDb8Ij5TKcPEvlNRwkntzr/Tmw3yasN7LkTVtIexun6VCCmUoZXCxHnHQc0y/PIpAbXwUsLCy1tfRuU3yOPrixout8SBazXupKbU/xDr7cxsBcVd7dC33snGEkCDUUf0XvEfRoMuphCEG1h2BHP0z7cDyOSmROkn+BsZgmfSzuGdrhzcudGLlXeJ9zsL6rzadfg3vqx7s4UIbFfV8nYUZN5Vs05M4+zZV/GOcuaeiBgxyUhQYdpNBw7prFpsuooqNU8ngLINWPAMNUqPvZqSBya/jD6UT07g7S73auOB6NqS+F3PtdnQIKj/VmkXD99nSd5SdpDhCFgzsujmsFz1Ea4wB/Cd+kGpvlKhvGII7YXoArIyq4dZEEzGXjCt+3nFeTiP3DgCbqg4AAAAFtBmjdJ4Q8mUwJfhwAA+aGHAiOLpJx513HQGfm+hXxAZwUQi3adJGPo/82iyhBPrP7zbrFs3+QZCsp641/kX1TfdvcpFGG0bTSB31ctswHjnQSm6MSyP2ls/6bhAAADL0GaWEnhDyZTAl+HAAEx3TAxpr4VmuJz/139WCs56M5Hfbi4y9PFMvof/8a5gzuBFY8e1A5ykCeW51lBUDJ6CbJFgWdNEbadYTWlbjIbT7meHVtQBiH7uk79vl+RV+UC637WBEgxZ+qGlF+nZETwBvD6mwtcc+cXCBmegPkWx9RniylxeCFtwAbe2+56RCXd/gs+CkQA8P0E4q1/U+3/+BBBnAQPCJAaOHwzJOebeBLoCIgG93MkY7EFtUIaUd8aL/Y2jHSA1Ctj18dqjefGb6cRnBogGMnfrHMbQoJr6Qzh5zPFYQPhadt5NTRHkpwk8+8qkIPVWwcquwk/3T7hXCrqFkOtitD2YuM16e42xnouKVAsyefDdYoxy+9//MP95ylsGoOfhuJxjQLCZihmzRzw361w5ARD941nrfvuGVjDwhUDVwB9ZSCHSfTF6iJUNYmF6fEfWMCe0I/pPUlgJ9W4j1H8gr8db9gTiCfpBC+7QfpxlX44qR0EMhCkZnszEkYsNQAzR/dHPCMSmPnCsismnuz6pZNFDW1vQHqUeBs6il58d2WKXj+H9eZ6WcPWiSMzNZ2MLsF7igwkodljFCriZadCvYbDN2oh8i7hWEBNJTtCGaA/6CrUVd9w81P7QCMb5rP+GrmvSbJmMbiqyqWw6vm5uWZNSloP76td7d0RtB1Q1TC0POaX2Qei7CIbdXwSTVWCmokNJtezvbPezSUZnuo/zbEFUmT0h4ZTMBvNIVH57lT0/hZj/2bH4CRsgxjnEp679SN3baJU5gXZySpYzBoPOYhXt3bbeHPGge/AvNHdnZkv380E+J4Uc53efCIhXdH0Jlf0NrUTXxTwfubGjzVzjfzpBxGI9rFAjLAH7plhZdJi+KKvEehMWbaxYJ/HWd3BgavG0QZ+rquvD5wjZLU5s0yrRyQIq07TKOPfOxmrvcqWqc+GMKKiROVMFIbcNhfkzdUPLDqsDaIB31x4h6EW5JC/XTA8Ac/ckwHAkfOWDqTazZ5NmfKMx6VJ0Z4/BUOAPv+RZVKl7UiSOGdSM//TYM8R5R5OXVw9MHq6t0+90rQgMm6gBvCAkAZVAAAAQUGaeUnhDyZTAl+HAAEx5fFa0JGW7EnYWtBb9fl4GcQFueeDeweMQ3UcLUKH4N89opcnVFjcUYEg/RgA1NJhAGVAAAADVUGamknhDyZTAl+HAAD67/Fa0KOW0QzeBQPYRxn9BdgKoPap06SobSNj49rn3JdMkv9bu3b9TXMTLvjljrXVPjKmBWlCmPjx0zB+SLBUWAxKi8hQi4d6PtNG2rU+gDbP7/o6rx+wM6ejxKyQguis5f3lKcp2GkI4QHxOdCnvrV22MXwrxL45bIpRlOuaexoQNRCeSuR6SaC6WYvoRRJy9NbfTSs2Zema7FE2/blHWQhM5PZtetzMXAt8K8u6snIgOUKflPOqLZqEj0SrCRHJHlxrnvpZLsQcqQXyBKEzvW3+li/Wwdo+ILC2eZoZk4xE+FP0eSxgkbzi4xp/olnGlXX+v+Y+rVeGGZwoAD9hQlz7zidL86RL2CCIkvMu9a7+YZzI6lmGvWWaqNFKoBMqq59t/WgC9InPAWyCDw8zmWxDWL9vdyG6j5KEuBZZdyFIx54QHY4uNkARPjHjnDJzaC4smkH41BGpfgrXM9x8NuT1AV+a95pL5ZTFZAB0RBdt7j5/EJAzor8QbCDSdPbBPYrN37/elCXENBL25EvzRhKca7+6qzbIX9oYf+gNo3F51TC5wyn98Fv3oTJ37dwsrkUnRA8z38H1RWWvv9gLegX2D3NAQmlQQAYSHEtKdKmiOISs1aWwmlxf7Ymp+eCavv7rNbo/YKDIqR4lI5zP1/gR9UnRwD0q24N0z++p7aDjoPWrA4BUVJFk7Zy/OGa0q8ajqvvS5cc3k56gyOlawFx75a0PRRdcHyIQJpJ4KIy2Glwjt+jawNBdYLF7K5GvKap9xi0ZLInq6oNPwhD7emkl0/Psz97CKU/4z4DzUSqhsA0N2DHCD+GojWC2GuRFlFhgQKW0uKEfeZIvVjninGlqnN8fUif8ALywTsm2jzsSnvMvB98ezzQ+RYrMM2xi0rufhYpBFtnIEPZCDVwwkLPMZyGFn9HiYu4fmHsl8JgQrB/rYlyRTg8Lcy/MU23JBXOUwvDacS3a4lLqVujojsil6lBffAaL2wW+Dbkx5TDG/5LqhZXhm0YnY1yvt0yBC6WyMIltryJq2AmDcCRmi/7Dt36KNDLsjXeMdkTW2yAyKYkxJHBNZR8fu+fTRIorB6g5dFK9xdGfa8qlk/IQAEbxmdQA7oEAAABCQZq7SeEPJlMCX4cAAPmdOaf9f7xTwSZKKBECA1IBhWbRxKa98lfQH/Yg4jPV13g2KAz6+0spdb0Gj/6AApqqxAScAAADbkGa3EnhDyZTAl+HAAD67/Fa0J9MspfrBafWqDaZhNDHE0Re+yfRaOAVdxvdgTZrCrST3/xiEUofDe49wHF05lW8uZUfl8DhHmfiuRSk6ZGrPvc5Cs5M8bVIacNLdx4H/03BbSS3yrvMwdXP1QNxFJwlXXCaGyS7P/dR+/NBGdX7OtBITthIb2CYAph0NmpL6RqVOXWl82bh9twAmRNVCtpPnvjYofvX0cTM9cqGOST51vus4LOZGYlr++QkTx/lvRxOkVj7UvYMm7k53MhqHRMes1uQCynaMMfXw2KUJ9j/9LJILENy/Q0Q036L93ExlS889vpbwRyv7mhUWVvCFb5Ixq7jWZ/edL9xICgGe1R7LUbLcSbZw9PsqRNBTUN2SowOUh/K5zQscqEnLXNGh/sxl5VVXpqR44Lan1zC6cAjC34rlgc7CF3jx2fb9plcqxOlPxnt9kKgcpkOKIPgFxVoYEvSIVchBxmTSL6KQ4V9gz2cbl3MH9ERWqxmzZauSsVJVuJuldf7xUMScA2VeAkZXksEYZEl6mumYoQQvH0IGFwYVXgy4oahqBoMX8M2grH/dDcckZ/cSyfQY3ExwKhIWc24H1A2AXcid2yCmrgFfh/EfSNdl3TT5aDzqfB7Njg7n2GzFYAuMnWr1eSFwbJ1lYxACvVptgOsM+wdUFuVUHqfOnA5hM37lQ8NVCZpEHb8AFSUy8QWIuJ7Fed/uisG+VMxeNR+4vgfTR/vBXzdWTL06bg9OIVQAR+8e2XkMd3X0FoDABz42DPpPPlNbw8S+U1HCSe3Ov9ObDfJqw3swePpxXZMqsuesSZSk3+tAecdBKXPOAikBtfBSwsLLW19G5TfI4+uLGi63xIFrNe6kptT/EOvtzGwFckUq/MRTncdZIEGopkYx2vQmjuBl/oT/083XqB2mbVyJx87qSWf4GxmCZ9LO4Z2uHNy50YuVd4n3OwvqvNp1+De+nssBL6nqF6fydjdk3lWzX3zj57ugF/GOnrnhDVt45KQoMO0mg4d01i02XUUVGqbREaxMO6eMc0PILAqSIdn8WavRBSG41rUrsOIW65L4Xc+12dAgqP9WaRcP32dJ3lJ2kOEIV8HUIHfVKy15CCR5mLe4Jh3tF4vegKY4sL0AVkZVcOsiCKh5D87Vt56wU4LAK+BAAAANkGa/UnhDyZTAl+HAAD5nTmme3bQAH4EFvyAnVGUD3EAMlqdNE7BogL20LaKhX+yYVzUNggOOQAAAGNBmx5J4Q8mUwJfhwAA+u/xWtCfTLKX6wWn1qg2mYTQxvNS6lAKu43uzDsn4shM2A40M6ObSRfLd/48tFgpv0pE0Ux+QN8no1wNsQvCmw/mRde+XbSY0Yphv9cBkoVQRSwQHHAAAAM4QZs/SeEPJlMCX4cAAAMB1N/cfPw6qS5mhwaS1NkfgzoSK8RzXA+KB8wsp/AXpYBOaVVnStCN30+9nCrQQbISjZ5fcfjuVlNFO8A7w5xfzfkv/yCWvc7FYvZUuivczIhKMmMJuf6w4g0ToQ3fYjNl+Tbo8b/tmmJvgSLcu64vn5v3csFaiFAlNbu3jGMWerf9KBxq9uzTvCoetBXLZ7xSbsiv1UIf/vj51PVYuL9ZjH74LrNM4QqdtIUpbYH/kypjevhXqfb2PlJ2qYGv6qiy0r2A+ESLYwK0FwTC+L4rEi6YpgO+5cCeCj5YCUne8y7KBRfx1ciNGHDGB8rCYE98rPGZ2grLU4sRmcXXC5Jx4VSkZNlfwlUUyBJ33cJty1tGAi8BE1eIEqbLPJtHG12/emKhQtgKuo8hSLwFHK1Cxf4t0xz99/P6x1Nut8BQGzx8CNvYvUElyWgUADjLCOL31sHzcI7inhja9HUEbEIEbpMFdAQLYIb2AxDCGeAZuxEdVWwl534ORUVy0pskvmu5baXhRH6UlzQdfHWrpbC+o77sbvs5a9RjNyDbpA5wav0pgAnLJ4hF2H3zIwXu//vpXc3NmpDbZdvdj8sNptoPzO0aa81oFhEB8dLood6COLrBa50+Nsg6BETz/0PoYyfvt2u1aalHRHhZpfzZiDbKT1r5kYcLWi5SdB+SY0cQEsOqJ5s23SHRLv5xEcQ+5Bk/HWOZL2R4r1IfkeOkduwJ/HWrdZmBRgsOeC6uRqfu9xgqJtR2PKWGR92bUAqghkwXXB/UEPxr41cWCNSNfjbJVdUvpwEm9xEDxmm/diR03MhYzSE61IugAT0O6IWpLFNvw+UeHg0nkeJzlKMGFcAPsoLIz9vPPft76afrgXX6olADqe/X4E/WpXe8sQZkJ81FGdKCFCLGjfWPCKw2U3+AunDLoqtUpdIXqax6f5hg/o32neOmc/qC4fuv15z4PrLqXlOCgpkDcX6gvY4eKr0u3053FoBatfyDIwhc0qea3hv+xb8IuZW0E4PpaDnUXV5R2qwlEhXFnaz6i+AQqNMtVbMKFHn2KSTo20erl3lnfUB8c+pD4Ivo0XAAAAMyQZtASeEPJlMCX4cAAAMAAcnRAMn0zUkFspvv2W6CDsJbSi5/2rB7XlzcceDiTWI4VI9ij8b9mjpNU1zFaJaLd4snA+2p34pGc2nLpE/DeXg+Vm0fn4QCPQnrH1uzbfHvwgELQP6Yukm+iTQ/KKHsCVVW+YFJoRUSI1APw26wHoOSn1Dv1wlrZ6FJbW1Pp1h+kS8rS0wTUCdfLnNde9f+gEf9Djr4jE6r2/mtP8Vzf+TwY6iwz6FTXBGVYm83wL03zJey4BBjNzPLk71tXwE9/m82dZLrA93RpYuK3UKdvKwG/yPwNQDgXGdXOoyO+trQwilyv7ZZ7NRPEeQha3Xt5UqeH4/ZyMp4AMeqntwab5IMPsaZxi6eVRyls2xHV/z7fCi8dhu5ocQXCi8b5dU8/WtGmRWO8ruXbVw3+f9t8GmKBaptJJPxoFhTCqDKR95gazdkTgXzeUjYTZfNnoQiEMV1DiEAszyiW0Vwz8sKpf+K1i76EWE+0tKYwNjdWzdD4RnoCoFUrgvttntbk0fRJxe3wQ2ejLtiik9sKIKxwrwBHeIB2AuuKgS5OeUCBVgX451cErImggVa+9wGU3hsXK/mqAQuZBY+uHf5sVvb/6jOV7yzCi2Kt5scixY4Jtx+/4bK4iLhYFhC93gSKSK24tJEKqnkrJi3IAZqsva6ExrMjg3aCJ433kz7fG9etOJ1mk3Enfl2Gow/31lcxjmXRxvjv8aXBoESLbaTZ55kH+ejDDuVvXKiYfRrW2Yqql0YUiK8znlgIpfLw2ayfI3S7cPmDqP2q1n+LT8AGSr9l9ZSUFzPgQmhfZEHJcc9ZTYXyJM6XZZBjgQ0rV6s0Ojpy/H7tuDbnJVZ2GeIQYgwwwifTgCHisPGlTA9v0X47DLEqZjgUfoWEHQ/K40rcEWbFcxqe7PEnnrZqsP3af3MkV3n1gwTDEsi4l4KXfKrJGnOGDDEkCjSYj41cwPF7kHMJY3v8ZmtO/+N/GUx3iZ7IwEuZAzWMaEeIcW9+GHvM//alGW4n1mFnMczPk3dne6NuqKV3QAjb5epV5m8Yngqlr7GRPV/D8vjoWRVecio9giMwUMAAANJQZthSeEPJlMCX4cAAAMCI7pgdLfFqUqrOlkwPtfpbHXj7by055JoD7KYpQEaCt/PcgW1DcTNPdZiDDgpGteskAbE/5RYWa1KjRVKgu3fo3XnKB8Zl4w1ISPhFiGgBl1PczB3001mAOsAXLKkCNg4vyScuVd07LeEKgxDdbh9KhGQ7DXTbncpibhLP6sQkSwBAYtyFp8Ynqt7xNIzUrZcaADO9khitD2R8nCqOdkISqpUXgTO/z90oUM3J2R9Fa9OsGLDrjp7B45ox6vbvjVd17vwhNuzRxAlN0eTC+nmGVik3AjQjFUWOYYfRUHq6KJu1UXYCgqudfrayBjf1Nq4B331azlTiuzdpLhxuy50772oolwEnL8RoQmdyYbeR/Cw2vBKYKRgHALVQebCrybeqssBoatEOzP8so9hckzf+TwageWbr5YhaG/ysQFNfobgLY0Ly6GweTwJGqAHnogWzPZyBChLYAY+tPbmP1mH5TVdSQ2DevVoh+Z0dVY/DOErdxUgAxbU6TatnX3gbuMTSETNy2Vb0zqx0ZSToLvZPN432CDmX1dneTUABMIFHSP8mMvRKRgZppSHW5/LCfVYgv6niIOG7eNNRnJLEjUhdZzLWILphWKVH07EGF3Ed4R1K1C3vM0JrFABKu58FhIDSFHeM2RJ/eGLxEfF2FF1y0TU4bz/WCczH2KlREt6IbZCWzslIJOFqEMKOQUY2QGqqNxnsn/7lRRRd6wWbfv3hLPbzc5Jc1F8LrJM8D5mJ7e63kxcOqgIuTBdpmCxQygYdMhcIQ+AN4veoMiCPcindil9yrgn93IwFgQxrZx6iuwaxoeaOBHU52fAOlpIuZduyl1rPwdTToC+clGRaOzibuDjINBHFUEBuuyKNk7sNzzynld/DsCiRHqMMI0W2cqiuM6SW+3pk4027nciMv0v/8io2cfBrx7nj4mADPpuRqZabv/7DL3dRmkiuCNTqoq5eZ/qsmusS+e4FM9Ko1Dgic1539u9NvgjNzAKNcAHBe3qR48CFpKeHOLfFyFPCU+XUPGEOSCQKC9JfSQ5D0fxIqTlkNxmeXT+CjcDnojAenFjk6iDjUWJmBUp3+Tk5gGsABA9GR1VsiQW2gAAAy9Bm4JJ4Q8mUwJfhwABMd0wMaa+FZric/9d/VgrOejOR324uMvTxTL6H//GuYM7gRWPHtQOcpAnludZQVAyegmyRYFnTRG2nWE1pW4yG0+5nh1bUAYh+7pO/b5fkVflAut+1gRIMWfqhpRfp2RE8Abw+psLXHPnFwgZnoD5FsfUZ4spcXghbcAG3tvuekQl3f4LPgpEAPD9BOKtf1Pt//gQQZwEDwiQGjh8MyTnm3gS6AiIBvdzJGOxBbVCGlHfGi/2Nox0gNQrY9fHao3nxm+nEYsI+nmSzX0hnDzmeKwgfC07byamiPJThJ595VIQeqtg5VdhJ/un3CuFXULIdbFaHsxcZr09xtjPRcUqBZk8+G6xRjl97/+Yf7zlLYNQc/DcVvGgWEzFDStSVnC3Fw5ARD941nrfvuGVjDwhUDVwB9ZSCHSfTF6iJUNYmF6fEfWMCe0I/pQCRt7324j1H8gr8db9gTiCfpBC+7QfpxlX44qR0EMhCkZnszEkYxYZsf4tm9yyCMCKyae7Pqlk0UNbW9AepR4GzqKXnx3ZYpeP4f15npZw9aJIzM1nY5a+m7M0kx/E0znwuGE+VJpU9jWogpfxOffn0xeZ1qsoHhEkjzNLD4gsUP0xrsWEPV54Xak02aY6TjhzsqtLlWWoQGG0neleBGz52buhNBBru0T5B84wxQUXEKp2R7YMpT+LyHEmtUlgz6S0EDu0Ar1yuwOaHAr/+/HWgTuNK5TRv0+1oC5DgtBAg7huMa5Rtqu22DkSpI5pJsru0BNxPU/ke2QS7qi9cNQ7fth//r+PoS6FFTc4LbW90w4FrJsgpYKrKMSqFdEqZvLTjcxUAN30c+sjo47JctBFL+Txqix/Nw72tFbe8juuJEfEx+OPuYV39rXzrGAUnTgsOr/1N6RZVwbx0jb9f7gKkV6x1MZsLk70M4a82F4W1+pKvbBXBVbprGIXDDPHm5ixoJLM97HEOi5FmetntHqYbplsYjOXEofVfHyvH6NQCwFCkAYgw1EdheVnXqd76KJmRczWqG1tPHQS2/KBw/DJBqA/5c0MskuCWCL6lqwhyBDgWolzHbQFTQAAAGBBm6NJ4Q8mUwJfhwABMeXxWtCRodNB8VM3Bjn4EO6PFI7xL+W16ASbi4CUf2ufUryHmsiBqdWn9riQPPF+aNiUk+fcKaX8XuDIJ/6o5mZt6QpzFsACKgngQG4g5BxkAlYAAAM3QZvESeEPJlMCX4cAABoN/kzurRx09gD43QvQ/9wSkr933qJiIhP4hv9R/UkFspvv2W6CDsJbSi5/2rB7XlzcceDiTWI4VI9ij8b9mjpNU1zFaJaLd4snA+2p3xABR7DpPE/DeXg+Vm0fn4QCPQnrH1uzbfHvwgELQP6Yukm+iTQ/KKHsCVVW+YFJoRUSI1APw26wHoOSn1Dv1wlrZ6FJbW1Pp1h+kSoMyYmNX41q150cCkf6AR/0OOviMTqu8Wtq045X/5PBjidH75z94iA1GnGAIdN8yXsuAQYzczy5O9bV8BPf5vNnWS6wPd0aWvlt1CnbysBv8j8DUA4FxnVzqMjvra0MIo3WlZE0/rZVKnh+P2cjKeADHqp7cGm+SDD7GmcYunlUcpbNsR1f8+3wovHYbuaHEFwovG07UUPaVo0yKx3ldy7auG/z/tvg0xQLVNpIc1VAgUef3RINWIFKdqA2ULPBj66/PP5Zu3bKUdl9E5GZ16VkYbQBHv5ljM58D91Yu+hFhPtLSmMDY3Vs3Q+EZ6AqBVK4L7bkY69KlXsF165SeD2M8e8vkF3kQOlA2lIgLrioEuTnlAgVYF+OdXBKyJoIFWvvcBlN4bFu0W8tFxLHNYwFAHajJb0p3RGz7cb2suzCkqQexpQPTTVbjmFlU1hB7s39WcPuBq3Q1IhWU+1ZMOgO1t+LiivQzmJleN95M+3xvXrTidZpNxJ35dhqMP99ZXMY5l0cb47/GlwaA6vOPA1m6HIf56MMO5WrctTptG47Os72C7LbgaqkyvFd2p7w2ayfI3S7cPmDqP2q1n+LT8AGMaFrOizQS5n04TQvsiDmYucuIQYa0RSnZZBjgQ0rV6s0Ojpy/H2joRe+opTV70IQYgwwoQUvuygRHt+i/HYZYlTMcBMmTB/8QhsqkwcT1zaE9qerBbpGOVbfI6f3MkV3n1gwTDEsi4l4KXfKrJGnOGDC8GmBRqK418wPF7V661yKv8ZmIy7R+GJ19HvPZGAlzIGaxjQjxDi3vsyxH+/8My8XwdVzNylHcdTd2d7o26opXdACNvl6lXmbxieCqWvsZEuCyCoV1FFnh74UY3DqQQAAAzVBm+VJ4Q8mUwJfhwAAAwAByd/itaEjLdjG/MNH+mPggE5pVWdK0I3fT72cKtBBshKNnl9x+O5WU0U7wDvDnF/N+S//IJa9zsVi9lS6K9zMiEoyYwm5/rDiBUTus32IzZfk26PG/7Zpib4Ei3LuuQpj3D8cfWohQJTW7t4xjFnq3/Sgcavbs07wqHrQVzpAgOgMiv1UIf/vj51PVYuL9ZkqXfcTUlqQU22kKUtsD/yZUxvXwr1Pt7Hyk7VMDX9VRZaV7AfCJFsYFaC4JhfF8ViRmlU4XAlO0dI2f6/dHyL8/FXkPZ3d5jWmldh8rCYE98rPI9XLPrU4sRmcXXC5Ko/c7AiqfU41+GDA7kecXftNDszIyWjAReAiavECVNlnk2jja7fvTFQoWwFXUeQpX6VUYfv/VoGlq+fvv5/WOpt1vgKA2ePgRnNICWfDLxkGdxUji9BFit3mIwJPdk2dJgslgB83SYK6AgWwQ3sBiGEM8AzdiI6qthLzvwciorlpTZJfNG4Pv5IoscpLmg6+OtXS2F9R33Y31AAC8Yq+PTDNyDbpA5wav0pgAnLJ4hF2H3zIwXu//vpXmBcQiG2y7e7H5YbTbQfm5Qhm6/wYRAfHS6KHegji6wWudPjbIOgRE8/9D7Oan77drtWmpR0R4tz4DN+K+lzHH5h3VhhLutlRcpOg/JMaOICWHVE82bbpQRm/9zF8h9yDJ+OscyXsjxXqQ/I8dJId/T+OtW6zMCjByV5ZYLgvDu9xgqJtuoYhrFfWwbk8JdU7YLrg/qCH418bGLRGpGr60aVXVL6cBJvcRA8Zpv3YkdNzIWM0hOtSLoAE9DuiFqSxTb8QfBt4Nl5Hic5SjBhXAD7KCyM/bzz37e+mn8QGwQ6FAHAlwDqe/X4E/WpXe8sQZkJ81FGdKCFCLGjfWPCKw2U2BVpY7dXZA78HWXqax6f5hg/o3v5Ydky47dq3679ec+D6y6l5TgoKZA3Fd6T1OrwR8iyc7BzhIL7f5amndr0E/c7w3/Yt+EXMraCcH0tBzqLq8o7VYSiQriztZ9RfAIVCgLJua55Lh9ikiaWOj1cu8s99QOa3mlFnTy2o/wAAA6VBmgZJ4Q8mUwJfhwAAAwABjN/itaEjLdjE9LPXFWyfXbLrL1XloF6LE06azTqH5miiXgqQiVRX21bMMf/+haap457n//ONell6qcQr8ILSxnveGuW73+dLBeX6upFXwIu3KTNe40Rk13M+783o1wGjvXMu0d9CV/2JeC6faYAeN660MnUq0kCjXdC3/tuywRzkc8Mm4HFH/q1suaw8e/2vdJi1Z4TBLz9GlNaPfUU8uXsM9X5eYiuSJma6aibJHTjzQ4CGcXnwBc+LUx4u7HmIxTRrJPB4ehs6ckFlaNss0V+45z+f1vsuJAfhLQjGWV5TcSTQxyc948cr50Ul7yROHEZne92KbhForN8Cv9el05EyHb4GPwsIP/FWglqw9yqh3yWpL1vsuYwRuy9x6Y7b2PcfpbYkcPRsVg7q0JB+0KB9fD4aBP7CdaFXXvRE2841Rj28sDUPvuoI4hRR9RTsuBQbHmEnZrGAymdwJOl8dNPn/PhNJaxnSkuk6HnVLPKLXFK/9aMAaqJfgpKrgp/gynnMKzvO1iOfCHMZyFwuSeMPogx9sIo7AM+R9IqU3kn8oVYrfIrlFzEYpR8XHiADztrwDNM4+a/A4e8vBHIcd28VY2x+s89oJ9X4eW4A7XtfglXsjUeL8tdy+ZZAEw1kpjRpuURrudooo5AzBU+l7+cVuQUthTi945F4n7/udhNFUFB/TL6epn2bDZ7WaBpiOmPbEJ7dIzMT2KJwnCrB4hVrG5/XxOuG4SgoPGFGakxHy9nsvvM3ZI/u6QISxrvU/OFOwrm52H1+k/Au3bAirvivUob+UnCrsQ5yvdBw3FonhNn246ToYX0oEfvh38/f5kNFLuMtPiH2AaFWbVLBl0bql2hFFqmhkGkfPHxM8UkWlCja7A4nUf7+rF9O30vGntbDcXpPLSiYQmxPztZPHUlcDZNn+s2nLBPShx3KncuesLF7ka+03WHNce1XlRNyN27gGyYvCPCXxCYBj9HPe2l7YRgV3bzlUeXn80EnJ9gBHQRb6Z09Q/iffsoirTMuY4Xg7kV7QuFLudjVCVZOvG15ruPnXrlvU1/k7rufDrtre06JYHsHJLBhFphocspQxEac97f1j5rsxvcY44LmbLjO68pJJ//t66H0Q2VvR7uP8Kl/Jt396gZ/iCDVtPDwbTTanT9ksmpUZPI0w4TXEUpEcrgv3fxFiTq0xRAaWiU77Lr8GDyvOpgbrGSgGQEuiAfYXcEAAAU4QZonSeEPJlMCX4cPYMrKG4H2xkfdsUC8arlLTcnC8e48WT5j9LKB9mHxxBPyEB3+Z7q7ox12LqpdfNjrbZgENvibmBl4MpsJv7g7FHn4eBX1aeFP+gNf2rpBV+hiNc8+9GMYsiXwjZPSgH/W+ydTjFpfO2BkQL+fP//j7K3PO9+/A1cmgvlEnlsRVYkSB1QbFCbg90zyvivPbcCq31t8Ry8tIgnUbo4StXVkYsxif+/ktDfPaBXmVLapGcDPMzNCVe/F+ydeDQU1V//CQv/4O8TeNmDfGm3QqCt3E9hLCLkFJXWgW6TxJSyyHuodRlHIt+qasT35+NGwdDk1ZbQiOrmvTGQNDrfKGxroQurbb/ifFNjoTJ/OvHgYeJjS2xLePjZlyqyEtAvQCi0r1heVvuiStNVw+VPHE+CBvS5NPYiSdoWeT84AiBxFibGUO59PVfv+GARj2PpW8Zj++29wvB8UJm201XXHvR/rFoXamc2BNrPyx4Xw/rOal7OCJaKEsQY41P8lxuoeQbJP8FekaoPQaR05cypAH5rzjbbo8OeRBU9xmIEH6oUygqR37jMMPh/loOxNSja/il6ZGD8ZJZMxL+/l2qEUVCUuFRHzqR41ADTQNtW43raSr0xkq5wrrYU9N//BqXF8RSJCSbnWgNgFmnYVl0gVCwPVE6jY0W/+6lZRrHsX2sQRbeDyI1OUq1KvUNbkOHSeWdFSSaa8H2wSZg2Ch+ZkCsBhhPEmD9fAAhQNlm7RFS1DtU1v5MwDoTdFVyX7jT1YAERlmoKEKUJzkEPMCM7Qh/L/GD4OPn28gPiQ7mwLn/tW9x6e565AjSB9yULHimHVrTh37wM6ufEBwUk2kPRypSAVhJRoAvvjwtbjmyxykFsKILuH+HfUHfYF6t7feMs4czsnVnKQvjyos27e6o9q57rfm6+AKUtEdz1PJjg4pgsaqeDOWISt+WzQSgeA5kB2JsAeyRYCp8xOLeoQIga8fWYKcZ6WzQSX2ernrIyEO0g7IGaTCLskhPFpish5tCbawrvcWJkdqC4+WB0tSpFXA222O87h3jKeOZ2wvGaTP0xylbsx8LNr6PcVhs7G4GL8k5UjrEHnbrdy23Wca/EuM+yYRaeCMHVrv5QDF0WzjNiFZmWK70u+hXVHv15Qc1405tKGiMra9Z3cSlWQZM6BLTJnvRWOR2mUh979Ps7JF6Vj4tXUNhbXFGgu6N1cMSEVpIby4Tn205osOTtuf9h/3ERZ6m1cGUi5dYqfSPn7jqoUbVP30HhLVh/1u/8nD0EJAzAtQBeykdkzNkvUn+CP0pWMGTfM3pW3XVn7CG++WreSb5/ugcIdCYhikxZGd/DrjVKNKdI2D3fj3LJ3ta/pwjeu5XtUv7QOQe6C0WKOPCIdO9xMOQYqBfpJ20FEtvWPvp898RJXlXQwgtY62Ly/WDwDmId+Ly1lYn8AjnDpk0JCnqYqfNHNZvTzTEcGNOm8MWHbO7F1idyztQ0fR90K89CA8NnvNrRESex7ghijb+23gfW7zkjMumzrAsqIGszg5G1BSqyLkwMEWX+deJgRWp9M+ED6rOGjp3Fj/hUGKvHPHXnor5Ologoqy620w3gwMRDym+mx+sSiypcf8lXHWSdfd8Wd9HXuDzbJIH1DDiuM3DYT1s//Q4Tav9IsDIiBv3xMZEupgSWU3uzPU9WLaQgzfWd8mZibBrZsIPUz9YHhIMRIEkHAlguZMUnzktRxbT2CMxIJJldMByDYWzrwdg9U597Q1LQGmYYE4YntQQAAA1hBmkhJ4Q8mUwJfhwAA2miAOlviUz2EcZ/QXYCqD2qdOkqG0jY+Pa59yXTJL/W7t2/U1zEy745Y611T4ypgVvF4kc5lHyvyRYKiwGJUXkKEXDvR9po21an0AbZ/f9HVeP2BnT0eJWSEF0VnL+8pTlOw0hHCA+JzoU9/vAXXsrZIpfHLZFKMp1zT2NCBqITyVyPSTQXSzF9CKJOXprb6aVmzL0zXYom37co6yEWpHLQ61uZi4FvhXl3Vk5EByhT8p51RbNQkeiVYSI5I8uNc99LJdiLSQnmbc52hkeWj4gsLZ5mhmTjET4U/R5LGCRvOLjGn+iWcaVdf6/5j6tV4YZnCgAP2FCXPvOJ0vzpEvYIIiS8y71rv5hnMjqWYa9ZZqo0Y/gD/qrn2396A3c48vLd6ogUQhe11VKX7e7kN1HyUJcCyy7kKRjzwgOxxcbIAifGPHOGTm0FxZNIPxqCNS/BWuZ7j4bcnqAr817zSXyyrlTH47j5/EJAzor8QbCDSdPbBPYrN37/elCXENBL25EvzRhKca7+6qzbIX9oYf+gNo3smkRScDzuR6ZT96Eyd+3cLK5FJ0QPM9/B9UVl/zpDVW8CLn6pt1rJECfaIQ1cqNj9MOes+atLYTS4v9sTU/PBNX391mt0fsFBkVI8SkdQkNE4AUM/GEGqRj2jtS1MH1UwOAVFSPC4zXNQD1aVeNR1X3pcuObyc9QZHStYC498taHoouuD5EIE0k8FEZbDS4R2/RtYGgusFi7EyaAlttjEGLRksierqg0/CEPt6aSXT8+zP3sIpT/jPgPNRKqGwDQ3YMcIP4aiNYLYa5EWUTmWOHt8ioNqg7rknm6MKN5YoWfhyaZi8wSITQDrUDzLwffHs80PkWKzDNsYtK7n4WKQRbZyBD2QeZMvq3rgs5DCz+jxMXcPzD2S+EwIVg/1sS5IpweFuZfmKbbkgrnKYXhtOJbtcSl1JjdI/gvR1KC++A0Xtgt8G3JjymGN/yXVCyvDNoxOxrlfbpkCF0tkYRLbXkTVsBMG4EjNF/2G1JjgoZdka7xjsia22QGRTEmJI4JrKPj93z6aJFFYPUHLopXuLoz7R6XI5vV5hg9HOloTRGN2CmLObjpvZQApgAE4CZo3Ys7rsaAaEAAADR0GaaUnhDyZTAl+HAJPXufIPABCbp9nYZ+eXg32u8XWBq4yxBy/8c+g/hxgdBBz7sqv07DJh012acCN/xCmpnww3Qal4sr5CwIxqi9wON+jY1aEfz/ux7oDNUAu4ulL4gJTOhS7iXuQ6vnUJO312vF5uSVaI6CfbrMKLnRR1pHyI96BZ6i9QP7zdkTZHI9swaqw4WDl64X0OwP9kVPc3Ic0n/EY0DI701l508fr2HXMn+t+/w4Rlq0SE/0VJpBsN+OZjFMHM+stpfTUwn3SYhhS0DAdl6XRdicC2a/q1LUntSjfte6utVcz8X1y0KTwB5IRhlg6Fb5B6NdiO7M0nxEtcg4aK0tcmjLYM+W70OTYe4uyf776Jzcc+Qu2hPRknb1S1L63r7tgjErRKMBA8lR0QdzHRLMtGIxqRv9wJG1g2tURhcQnlBjadIxz8YYG5iur/n64wo9rwkdvQSxidXtK0lut+8k80xH4z01XXxDqB5Y2hIBTzQTWC73n6LnRS2KMxQ+zW/IMZwJLnUmTFs8y6cWlAl1XKMB4o71xxrEVRn4+SLp8G1tmoAVLICGWGoxf7SeBM9GO6OK9GPRa4fy13KKbSDeTlYgT9KIMaiKzDhhdsBwdroH1+V/j7D91Dm4oY7qpGVJ52O5FRtpEUdCuT4X4S50tCdBpDSSL//+f17eRlQNMsclPqBtLTLH9vadFeNyYh002UzbxAtkyp9F84hwdDnJX2Cl+ESA3/pDkM06dkGOwN6T4V7m9Dkn9lMFM/P0SrND2Z1n7KszSgQwI9JD1LsMdKHTSy7yvLNe9BuH+Wdw+gzqnW/FhxDqOiSVSU1NwDLV0Sc3Tk3RuQT/vDm+Ji+wf3qJMyhCTtJdKeu251X6yg9U1s+3Y5QVhzKGTBM4XJyrrJCTgHYlfhFjm/oykmh1DByAeK3ABGgK6vnMlt6Sh7Qy6dTEq2cQL/Tb1V51zPEpgWDptVYcbjEI2VEEDE8vSsur3VDOpCWqeBey3Ux/7iEWRslExj40zgLU0eW2c0hfsTCl7SAEUO8dBYzcZu2slcRYo02TRgs72aAhh9odVDcibxbKTQugBM/qVeK4RRQEQ/DWAHoFAAafu0EGmgABxwAAADPUGaiknhDyZTAl+HAOqiAMaa+FaTC/E/HqFGBBWp6avZdnGueVk0mq//z7mHXIbn4sYICFqW9suCdZWnRocYkGpQlKj5yzB08J6SyIyawcFjZC8I0zk4ttXb3prm2/JY2W4dyHv4OY0/blz2ztOTmSiz7g9Vkk0cu990h6vTH++mt0ocUqmcE0opi8W3xxJq5XZAxsL1zs5AjrvkskTXWohCitGn+A0hR/qD5iKvFz+mZyso7DnMKpvrZPr8LSZ8zYYvP6Ib+MX1Ym6EoUTuSTYmdzhs6d8g9bMoFUvYe5n7GjASMWX4kKikmZoh0xLDxqB/vmH5wLKgC++Rx0IEn4fxECYheYTZHHHs0tl4BJPXqKbeOjiuHBju2RMkuLW4csAqnLfVRKF5EkFwLY3ofLEXTmJh1+c2bgTzRCID1L2Xv//MjCS3CYBJNcU7yLMZHcge7TrLpfk9S7vgX7FvO75PbUR02+7gkTb8xlzgz3EZj2ACifQiwUQBtAZgsVCuF8S9uuGg4HJyZLf6DaLZ+cKMghyHUoGLptcMEqVUOTY/29/7ibsl9ESU96NpjiHb4tNR04IZ8G0C2AqNPQeaA9R15l7OYxju0aBuLQMIAqofZxzN07WHgAmXuIS4HgfLXzeHXZX4DFQEm1KBxrK9u/1MJVfDajTuQiG7AEjy7Sgu6Y8KAB3CLYe60RZpuL7+wAH4w7BcmyKsUp//0gsR0TVsY0klEpCrFC+P8Ux/2c88+lvPsexPFBzi6j8jeyH2+aY52LAFd95s/ArWJ1Acr58Imhttt49pWJCO50om29I2WnhI7BzoRkiT6kLHW3umEIe/x9CmQ0hI9dv7Qd9EFSWoBSZgGqqM69/Fdq1XtLFR1vHaGAGuAnpZ3xJmf2b5+KNwwmAhMMenDJc0lskFo4cfzIGygCV0iyJF0tE6/QoCANmX2Hktpr189QL6JK3prWFXmDc9Qe7+X8DjbKAnwChom3G2ZoqSQg3QYZHsbPTGMZ1eQZTiVmbeJOMEw/tUm7XTSId/wQYSixxIXVs0yiyTuG7VYDy9MN2Z6ckju395ezNAiQd4yAKo7EGUYJcoRYZ5x3C0ADj1oAAABv0AAAMhQZqrSeEPJlMCX4cBm0QDplvzUNr+iCc1SUxO/satTjlsLGPkf/VaYiANay+x9YFif/QLq+1D87WXEICqBnuzH/kkycxVlfimuO9sYWXXVwMwyc3pAZ55kp96KFyyGDDmQOjcmYlZsRBjSllCZ6shRYZCbOqmJUq2/4Bih262u/z8Vf8CTORr1SAHvq3x8ooad6N+jZ6gfgBUrBuTihaAyG4KHDAjemsDob9Kg9Dw4y1YHj2CNMgZ4rxxd7d2XZBAyYkDD0vqfpOj4qM0B5LCg13gvGFAy8gNh55fkjaGtzpTdRWfPdSzoqO7RW+Rui/Hn/4wJFn3mUgoq/sA0b0qw37Yciah5ToPwW9lIHD/HG3N9jSOOruBM7iXLFwNFZ1MmMaS/2TsBEhT21uV6MSBIxcO0ofe/69XtQKmVFdc4lIld0KqAlzqfqd8Tu3/0Q2ogtvQYqm+iYyMU2sKYJXM6o24RVyTK6dWdj6QyQCnMeQ1Lglk7z5S/tDLgspWoafYSyJbzeyAkSoqU14PNSflCkA+JrZvPgdosw+6KlTTjURRGa/72EAZEari1tRlksZlCRBaLBoR7L6egTW5ibwDb6DZrZZdI2GRQLfMHZh7Ra+gpZS3RARgL6osKdfskA7H67F440cGyHk9ACOJTaSIOmz0MSIHPr4efBxmek4f0WFbpsWV+e0oUhty/tKyesuQzIEjXpsu/WRykDtgXQazuLI82huRz9SyxniVK0rDZ5dQLCd/X/Xk9SdhZC9oOi8a0KhdQA3mR//hCz/mb/945NuvmnIxT+9sNszDd5/VcG6dk2dLlG9oNHOI3pCd5WlPh46Lhb1wJkN/ny+4svJKh9VV8Ai7L0l7OOdoE73r4ZD8S8hC8Oxre5c/THMWcGkqAMg8poo96f/HQq724VWvAiNHNgE1vY3GTeCH4k743BkzrWTMl+dCJ/P9YJlmPvSg6hju4D+JqjrTE/VUYDNze2TYCsThTNhTuhp1KAyRhlHmSjFQpE8YUvoQUlRtFyJQw+hIEH79Mqf1x+jcpoo6+0faSWcYPCmuoLLcAAADAHHAAAAAXEGazEnhDyZTAl+HAZt/cfPvdfE7F2NSn+UCE+Adm9XFvSuzuDyrAABZ2vRKFORUY67u9kWVHkgaCEF+UH4aRboaehn7ToTAVbmGMJofIMUuna5BpZPcTAAAAwEHAAADSUGa7UnhDyZTAl+HAOq/xWtB+H+cBwbMn8EAn9Zric/ek7t9rvF1gauMsQcv/HPoP4cYHQQc+7Kr9OwyYdNdmnAjf8QpqZ8MN0GpeLK+QsCMaovcDjfo2NWhH8/7se6AzVAHYqcwMgJTOhS7iXuQ6vnUJO312vF5uSVaI6CfbrMKLnRR1pHyI96BZ6i9QP7zdkTZHI9swaqw4WDl64Xcj5aUlT25uQ5pP+IxoGR3prLzp4/X2iWyf637/DhGWrRIT/RUmkGw345mMUwcz6yyCjxVfy6TEMKWgYDsvS6LsTgWzX9Wpak9qUb9r3V1qrmfi+uWhSeAPJCMMsHQrfIPRrsR3Zmk+IlrkAR7aZzgU86j7poy2DPlu9Dk2HuLsn+++ic3HPkLtoT0ZJ29UtS+t6+7M6yXdYWgZ3dsO9YnCi+x3IB+rgXZYdpMsXhYH2DiE8oMbTpGOfjDA3MV1f8/XGFHMSH5b0EsYnPBRPJ1d+8k80xH4z01XXxDqB5Y2hIBTzQTWC73n6LnRS2KMxQ/B7CzzGcCS51JkxbPMunFpQJdVyjAeKO9ccaxFUZ+PjMlUCCLpLO5hQKy4NO8wWGoxf7SeBM9GO6N/8ws7gD8RVbnaY8yhX8+Mn9KIMaiKzDd5fCAl7oH1+V/j7D91Dm4oY7qpHPG259k2yE0POOhXJ8L8Jc6WhOg0hpJF///P69vIyoGmWOSnocBe3Nu9Y3h3tOivG5MQ6abKZt4gWyZU+i+cQ4Ohzkr7BS/CJAb/0hyGadOyDHYG9J8K9zehyT+ymCmfn6JVmh7M6z9lWZpQIYEekh6l2GOlDppZd5XlmveV6pZLjbhx8k65Wwl1uARGrL1nkHAMtXRJzdOTdG5BP+8Ob4mL7B/eokzKEJO0l0p67bnVfrKD1TWz7djlBWHMoZMEzhcnKuskJOAdiV+EWOb+jKSaHUMHIB4rcAEaBSkNUpc5oHRpKHtDQhxwfdpbUF/pt6q865niUwLB02qsONxiEbKiCBieXpWXV7qhnUhLVPAvZbqY/9xCLI2Sia0+ZZ7sO9aNJd48/0V6S9pACKHeOgsZuM3bWSuIsUabJowWd7NAQw+0OqhuRVRprp4XQAmeFoAAAMAb8EAAANQQZsOSeEPJlMCX4cAkfFtSq+whzNdELi4nozVXJKC2PuGABi+AjYJO6VPmnekRJTz9c/u6y1eNFlWrIhBtI2Pj2ufcl0yS/1u7dv1NcxMu+OWOtdU+MqYFUGcKuruw5I/JFgqLAYlReQoRcO9H2mjbVqfQBtn9/0dV4/YGdPR4lZIQX1KzW8pTlOw0hHCbvhD4U9zN/peyIJcS+OWyKUZTrmnsaEDUQnkrkekmgulmL6EUScqDgGY1LNmXtdS/MhMhOtccDWf/auRFKvFwLfCvLurJyIDlCn5Tzqi0Oy776O1+XI9G9qYN4dKN48mJ5m3OgQdSizgQtORnmaGZOMRPhT9HksYJG84uMaf6JZxpV1/r/mPq1XhhmcKAA/YUJc6Kfzo66aS64QiJNMjFa8/qY5kdS17ljLNVGJ188tSc8WxQSJFHl5bvTX1mmOZdVSl+3u5DdR8lCXAssu5CkY88IDscXGyAInxjxzhk5tBcWQP46kiqC6BI7me5ApKp6gK/NfeCUyKU2Qc/BfftKISBnRX4g2EGk6e2CexWbv3+9KEuIaCXtyJeu+zLA14DaCU/GPls57MVDo3IWoxTzW6r/W6YSoRxB7dwsrfknRA8z38H1RWXFPjO0zUQ4Tk2hCaVBABhIcS0p0qaI4hKzVpbCaXF/pyqzZ4Jq/CEs1uj9goMiwRiUi1HL7fgH5Vtwbpn99T20CJIetWBwCsqSIp4+ZdMZrSrxqOq+9LlxzeTnqDI6VrAXHvlrQ9FF1xhsKRTturdJLYtq6O36NrBBnJVzsyojPgFpKdYTbdUjDGlJvEk1F1w4DHRakMI6cRyzOiraPMLn6M7+Q3YMcIfoaaNYLYhaOWUV7fX4N8ioNqg7rknm6LuN5YoWf+rxth2CRIlDo9bdPMH3x7PND5FiswzbCrjG5+7gkEW2cgQ9kH/9C1c55jOQws/o8TF3D8w9kvhMCFYP9bEuSKcCjRvzdim25IK5y9N4bTiW7Yar2Ja4rh1iy9SgvvgNF7YLfBtyY8phjf8l1QsrwzaMTsa5X26ZAfOHuntS215E1bAVomBI78r9hwPY8FDLsjXeMdkTW2yAyKYkxJHBNZR8fu+ezQswfx6g5dFg9xdGfaDWAAHTEAAAN0QZsvSeEPJlMCX4cAhGXyXewwp0wO4mGE2S24k75FDypfQCFAWCw6wnyIF8CjyhO3+CkrpS0xMwcDprZ03Hk34oUSnnYv4+w9Vs4OmFrge43srdvSaO3mbUidTE6Q8Izo6fEWRgkKi+qFYjvxyrWevGAqXB31PdxdkhlS8LVDOSqs0kNSiCjYGM/ZAg8m4UsR2rsmNoFPzHfGyRLg1SBlwvCiUqxCaOHWpm7gYduraRMlBVleQefH/G5gBX9fsI/+gdJmRLR5MGmsg/1B6AWit7+45hKNwAI8Oxii/mqzt7ENwlXpbJh92FAfklgaKjYqsHHevWtRdZRjofzQ+bnrFVaxqQIOsKTNnxsSAgbqZi5xVuWPYZU/rACJCmipybDeQemmS4WOYLWU3/APINMwaC98y0tsBaAIdRmlfBAqgA31doipIlgLfM5+o3mqEt4KiDiMJC8ua63HITioZRVfwASgvQh/L/GBYLks+3kB8SB70g0+1YfWxfxbHCUpVOC3xoSbsOrckKp97VUoT2QpaONVg1Xql2LsplcPgFZmEtloMgUUOfTdKcSYdcEFbHytA0k1lqfWvQmdk6s5SF6+ftR+8Jh1/Vz4cfPGjYR4uO+vAo6+RTAttTzjOWISt8RRhGvqifK0i3TlCTfTAVSVUKfCbjYsyJp2CnGelr9oGxn43DMOJ1+Z6gI1cEe1ATrMjO73fhNbQk8KQ58eJoa4nzqnOHuKFUedc5oCdOAAW1w6HHTix/tkl9QCemNby006bMZIwtj3451tSKUjHu671KCqVLZXQT9MSnYxyNnsFBSne8ASiNvLmiqdsddO3FVHv/XOFuwKcUG5TSMnAjgEp8sfRnvCvkal9/gRHlceEWt1jsdFyj00TMOqEPKhoT/ICI3iQO6Cxvm2yhOe8o9EISWB2e0t6s5YacNZaljuTH4O+nBKLVRajg8+G0deh2mimvz2kYM5mKElMHN/L9JSsM2S9ShAToYvdp2YnnqK/8bSl1I/Ci1gJJps++3Nsx2YhikxSsx9OrjVJcNqvw4XHOnZ3B33vmTinh5M1MHDnlJ8+CGbFJPoZjaM78G6gJFIxUeaFEtvF6u+T4qkKadLcGF6sQuEB7w23vfgZPxaA9zwH8trMk6ZNCQp6h16LlVanu5IIV7+tmKOflceJG5UzXDgE7EAAAB9QZtQSeEPJlMCX4cANVsdGEON06iRR2cnTwPKPiQodesYrGd8FMldZsf9QIY8TjkLGs4eNXTNzXCjAFEgP3BLGTR4s8bUiZ7tBfaimkjTDDariyxqKDgC0ZbIMBCuwLa2rXVZEAApenWpeeiYTwzMFOVbDgABjAE795hAGfAAAAMxQZtxSeEPJlMCX4cANVsdGEON06mA8D15F1mAE5qE7f4Kaa95DouddwD+4Jmj8Eey7zzk+s+/8QOWzzyGneg1O/fiv+u4QI+kGGJQ/ZsjmEoAFK49NuVd/2A3uPVRn+12dF/GYK1F0ZDcsFoQwr1lnMqeGqdGxH4kcmTFrOxM9O+791rzWm2BAJ596txR4MNl9QKLc5feh50NWTPT6egm4+EGbGLupYZet5dlz4+hio62BOO+NFnkUp8OPUMotRhXU2VMTvO7I6h7zqJMB/5QNqhwSMqnKfNGyh2e2M+o7oRbKnUlgu8rQ9d01DtHtsNAx6L1uAV/USE5MruyoADJMmJ4bb8p9TJc8KQc7aW+kj/q4/W5rC46wy/v6bA/0BtxkD7keNildGgw8Q4HzfOrf1ZH1yPo/ighEau38QMkMCO13uF9q3fkWjUsvTr5qUk4n5meAVWT1lt8q7DTHIcxG+kItgEb/AE7Wvh3bhj/o6wMi6yQGA1NC2LDsEEM9g6wAAEKITzK6dYVSAhDMnl2ZwcK0RfsrI4G1UvMWCjuqfza0it1GSupKHaZFTbM0efNU4DCFlyJp+PV7ggaIkmLWAWIMmOvipR7yYVjcncyxSpXjMuDL/8Hr3+CoZSduABQz3sfx/YY+tzHTs0cVlI9FB02yL0FTkQihJVAQQY8aMKj9aoDsLPDxVwkFW4HxHm9lgUROPS4TEFLWOfAgIzwSt6rXAsVMjRf86Qifvv1WXKX7f2RE0YKL5hw/j1+GDT0GYADK24QAjICdtEbv51gv68STiVJvpKYeT8L59ElZICMhS8zVzQj6jfdhclig/MArFwUnZ20glvpOtee1/gHgQaf4LBgsGJNCsOmEkRd0Xvrgofz/GIpSjszT5b74SUdYlpzRDL/Ti+fS/v3x9KXSrXX1yTNHs36OjGAEphIOb2DZvMGfDmgr/ZPb5zjl+86+gM4q55mosxZqT0RJYHz5W4DuDNy2lHpkUXlK6UTzqeUAdU9phakv2nxd4PlcZrjPStb0VawiGwPgF0EaWq2Iz6qXSIECM7odLD0rT6DIDVoDS5gAGzNUovZ4r4AAAMB6QAAAEVBm5JJ4Q8mUwJfhwA1Wx0YQ43TqYH8yYNxLblQL8wtiGjDJeS+oA3QkBwFc5nxeXTiYcV3dns0VcTfpE/F7nYWAAADAZUAAANEQZuzSeEPJlMCX4cAk9e58g8AEJun2dhn55eDfa7xdYGrjLEHL/xz6D+HGB0EHPuyq/TsMmHTXZpwI3/EKamfDDdBqXiyvkLAjGqL3A436NjVoR/P+7HugM1QC7i6UviAlM6FLuJe5Dq+dQk7fXa8Xm5JVojoJ9uswoudFHWkfIj3oFnqL1A/vN2RNkcj2zBqrDhYOXrhfQ7A/2RU9zchzSf8RjQMjvTWXnTx+vYdcyf637/DhGWrRIT/RUmkGw345mMUwcz6y2l9NTCfdJiGFLQMB2XpdF2JwLZr+rUtSe1KN+17q61VzPxfXLQpPAHkhGGWDoVvkHo12I7szSfES1yDhorS1yaMtgz5bvQ5Nh7i7J/vvonNxz5C7aE9GSdvVLUvrevu2CMStEowEDyVHRB3MdEsy0YjGpG/3AkbWDa1RGFxCeUGNp0jHPxhgbmK6v+frjCj2vCR29BLGJ1e0rSW637yTzTEfjPTVdfEOoHljaEgFPNBNYLvefoudFLYozFD7Nb8gxnAkudSZMWzzLpxaUCXVcowHijvXHGsRVGfj5IunwbW2agBUsgIZYajF/tJ4Ez0Y7o4r0Y9Frh/LXcoptIN5OViBP0ogxqIrMOGF2wHB2ugfX5X+PsP3UObihjuqkZUnnY7kVG2kRR0K5PhfhLnS0J0GkNJIv//5/Xt5GVA0yxyU+oG0tMsf29p0V43JiHTTZTNvEC2TKn0XziHB0OclfYKX4RIDf+kOQzTp2QY7A3pPhXub0OSf2UwUz8/RKs0PZnWfsqzNKBDAj0kPUuwx0odNLLvK8s170G4f5Z3D6DOqdb8WHEOo6JJVJTU3AMtXRJzdOTdG5BP+8Ob4mL7B/eokzKEJO0l0p67bnVfrKD1TWz7djlBWHMoZMEzhcnKuskJOAdiV+EWOb+jKSaHUMHIB4rcAEaArq+cyW3pKHtDLp1MSrZxAv9NvVXnXM8SmBYOm1VhxuMQjZUQQMTy9Ky6vdUM6kJap4F7LdTH/uIRZGyUTGPjTOAtTR5bZzSF+xMKXtIARQ7x0FjNxm7ayVxFijTZNGCzvZoCGH2h1UNyJvBspNC6AEz+pV5I82qD5R11sAETAjYD4kAAMqAAAAA+QZvUSeEPJlMC/wABCQsD5SYglP2iRuj5LDoQsryJqscgAe3h9enHh4U14q6EI6sdH4XyQCFiCIDjBIAAZUAAAABvQZv1SeEPJlMC/wABCQRc6vSBn7m7hN8WIV+12YLsA+ARK6O54Pw2ECrUbS8WKXsVgy8a/Vl7/tB//rJzk0Bxdo09M1nFq1GS8LF4xWvOT3YtDc4odsV/4HpdtE+3lMliJgvAtd3SgkByqeWIAAOnAAADY0GaFknhDyZTAv8AAQkEcn+cVbfRa3tvR5O3CIMvNnLG9OdlPr6fFwDYfH1NAkZ7/zqt84o7IevH3Y6XpN0O/w6eLxAd8arX0VNfpkoIQ3hRF+YRYHdrtqMadyjkxzcAeoAbjLuQnBwFzAlvByvzcw1MGwWBwyn4e6j7Q7sA7j9wHSveXGjY2gxaEpU24rejm1mDyuKt8gfNrqXucMeaSiy1Eq7jRv1TWt0E2iGnwK5VimCzhLbepl7TPc4GBGyJsxrD/M8DBwykY0DWxg21SZ0Lz/PCeVaHWfRMNP3CA1tuO+Ylb6R7corIeGCWSKKeW6Mh0uVou9viAXjFIN1pjaDhvJib71oxn7TkwXuYv6KoHeSpjT8ofkB1D3OeJPmcLp0F01oS2euW6ARcTQxiQNBjtb5Y2QjBSUmyQ1JSkyJ1K0tMeQIymrbbr7oulu3ODgi3sfiygqlgkB5khbp0dlmRe656RyTKCaQOYcmkMvIJiEzsdOrmK+u6aQKz4kZBkq5j+dJbsqLGscaFGS/Kgcb9rN4AbraO5PCHNE6On3KuHPnLauM83aJsljywhMT2Zerl7OvJ4cPRq+ck6Rj3iuvtdbRWZseZFplhUSSnCmR9Q0hhAAxYIJZXQicz9NPA69A68dJzS8hEg5vrp/ekdsnA14nT2b80t5c9gPeQPoX0cNA3gMUC069+Fi9iSHVSBpFwp+iyPSYcSBXbV4APRP3BL0U+lsLT4iupkdtVjCMllwN7pIywEwMITd5rfpFQLiblb2cEJ6aVn5hOTTFJq3CzjKVUI/uC6+vd3n/qL7xdyh80+CJudPNRn2rM68deZIZ2AS7VfBeuytIN0jho9T30nh059H92IDdLLZtMNYbzcz/BAeus78MNxSZdQKQ4Scbrs1Bq3xvLf/yHilbwqX/h71YaTzJ8qaYniPwGKr8p9xPZRotKIC1pV+gsLeBmgHE1KCWXzwEpqtxjPq9IFr+SulX6rmI2F3FR3j8ApO6s/FozJTiBGuv2XYF1EBwQmNBpQcj2SeMRXBQQa3L+u95lBNA3pCONetCa24V+LNlMQIR27PCaR1jt0699UJG8bL9wQZfgxcfFTFZQcOI6rjGjSmn6Uw6WrDfjnaXVzY4bEwLKAndFdqzR6EvIXQAAAwB8wAAABKhBmjdJ4Q8mUwL/ABjnV5Q2C/VUz6ZQRt2Ye+wsP0566kpVlMcTSfOib8p4VyLIaBvj+ZIxM912yJHiBMXV77sEKmQb4c7rewoAPXeiNURwCIifAFLnCFbv+T3kQfpzT5Dh+CYerzOaVDZxRbHH/NE7lfmVtVGe/3hzNE5UESJpZ/8EKx5MOgnWDsXBZWHCvK+n8zwIg5gf3+7CWiE9bBb8KakI88s7cwgC3C2gHkya/LlXuv/FROgnKrU0ckrChFnZykWEwOtxPzGMJd+jg7LCKnuJOHsJA1kruzr82OWVlVVMJm0Cj0f2j+bEVC5Iu/8oPavMjDLofRT6C6Mj9+KOdai6+rzKlVzMNcRoF9EMMnhjmHzZJGc6PRVn+teRNe4R7CWWNEls2Lf3DReGO/dpjWemnWLnm2SUAFgpN7LfFgOgf0qScYir6ojccR1hBjhD6JA5ApI0WcmfVAdK5qdDDT4XsVGppuPWkPCLRBH9HyvnvJwPfDtUGUBIFIVSkxvOZ2MTifxucCbu2z0HWKKEKhCqi/d/3FPMnck5dt7ldkjn7QhMIT4D5U62OlPSHDe6GLUtKGjdz+LCD3O1Vf0sE8lgUVKVbrbCeT2GKLmKW9fA5daDJZv6tQQq/738L1bh3WNAmoMCXTuP4okRZvAD3eBqKW6l9HxMPg9ewex4McLnaTToSvG19XC8egkFsxkYKv8KLaNVWlrXsB3Lh+tKmYIvuI2DvTI+TJyWzNKLtptXzsHgO+XyWRyE5h7i5V3mIBTfSCrrzj4F3IUSVsAY1aqPFg/LNnYhvQj38dUc+MRIuTShP8uad96wLB/jzuUfCpA7SmBfLVcxQWf9YYkQZmVjQW0BfNptQHTk3cqbmBpCAD+Rv/FfekjRCi+LB1xg2PpBqjWe7cck4JQQCAkRrX5jVDeM8fHUxtlaUj/OprLhXj0ZpO4Nl1tq3DXmaVQlkIjJioAOB0XBjspDnivJC9gAO6zpEXYN13l5hUkJx7rp6ITvRYuevudFap+5pqgsoC6MhVnxKQ4p4vFYctJ3/OoipC0q8wSP7hlZW0j5fGeQzujzyp1ABNhB3Z6J9QMqUKBrLrPtxJiWFms7AEqPBbXfvfIKnk6ARirYpjzo4hysIhAyXdNS1iN50iqHgtXsp1LMuXw/dxbvAd5NfAjhQBZyhiwts4RBp/AQbkmvToimFwDOpNI4rYs6ShdFn4IyopR5SKWFfb1llOPb2erJPjp28GsCgwk4W0bJ4oJHYPd5J7yZuqxAFOYet8L945P4zTv02blMkUjaDhmNP0BOjNAVt9HFoUZh6/cQgBvWAxX33C8rt5moBEaS7yIwyvyJepa+ynrG4pVjdQcuTTlBmr93WlLwmsAN33klo8O7f5vxqCQHULdSe06pcBoMPFuQWvnI/jlVbmrwljimlAoHN8Ax7U71bZ8ICnVC1Go1DO++QHuXgwrNicylAhpZ0OaTvCz+IptSWXzjtOg5I2etLzlS8Aj4zxqtAm7lycjzSxb39f3eN/jMa4Nj/BaoQ57nfioXQsiIdlN+6MmcKALrIqZltSLTaWvsZDPn67ScGRd5XnJA0AK3AAADVEGaWEnhDyZTA/8AAmv/3N0njSU+/aSg/juX3KVXZ2198MBw39Z8qJSGlsdePmItIP1iqszRW3srXdXrYa8RvhdgxDTTHDCQTutidQ6GL/yiws1qVakvRWJYxNXr2Gg2SgsY9jAvIGkK93zDk3OecGHxYUBjIZmSqJzFyEdPeOpSXlMtGEqDEN1uH1BHjyM2uCRP/zN8JY3EFs3LvQGLnouuuZtayAPm4VzbLjPudf3Cvu/JIAoST5qdwUuYqg43jy+b7pQoZuewBuf/O8Egb4DthkiTVyaZfbvjv92VH4QYjzyjAajzRot0KYNr64uwVdOeDNA6fliy/+k/b5BfkLNj7k3dfW1X3QX9VZ/L/Q3wnsd9dcJFc4W8qHOneG1EZokhv50NCEzty+C1H8K89hidwaGAAZIvvA8bTsCB/zTLAWo/ezrvYd3Pv8kzf+Zx2i33IA1ZTKQ/ysQFNfo7gOxYxkfArXyASzKATlqAbEMswDunHSAS4CLtzH6zEKZK3ph+eExx/4MasWN5v4Q9kPrCcAE7aoJqvMC48DdtkIeokyemY0mt5NhkvbM0OUIOpB3ARwlWiJHl9ZAwrxBFT48hQEBp8277e+e+fywn1W7JJ08RBw3ZMCrwNamyKNCfCqgEF0wr6o46diDC7iVEqylahb5iUFLO0AXESwA4NP6r8lUBuZfQNjY+6a8M2QRrLeRsW/dOZSdHFniXGiiUuhn2vBAtGq+SBZGXKMbIC/+S1i0gvBzopQz28WTi3o5LPb7lgZdfuXRRi/LAsIJ7e63krdFdI+ISBdpmCxZr/5BPYgnuRiyUrZUHWEFvNB1jnhYq4J/dyMBZD9bK8eorsF4JSuy3RxfJ36q4/OzPQ5s3v8H1Hr35ZbWAuIUgvFWTsVo6TQRmpP2AsAxRsndhubjBqbDQ7OANe1RhhGi7VrBXfbylK3XQ+NNu52/Iz5E//UTB+uSNeJ84CGQ2zzVzSvYSx/+wy+YDmAorgjRpKJJj8leQ79QLKGaJq50dhEOCJzXnf28N8JBdptGQu4ATFB/UH9y2tQp4c4t3jIU8Mx3x+jgVziMkoNN7jSHIejORmocsjzk3xMcQUbgc9iYNp16Ked9l8W5j7T/rMACNg+hzll6b0QAAA6NBmnlJ4Q8mUwP/AACo/a6aeEZfnLUbsIgRDAKufic0i8UEvCdZSIxkRKCq4PFlePQpFifUQL6a0YszoPEhFCBongGB5opnxAHpU6FJPjNgQ/8I2zEgVYJ2dn38PcIGMCFrXPAkg9/Oq3V+ILZ0kCZGs+ovItlSMS1vBtsL23vYsAxI/baDefaSaqKUkhQq9/+b2+lbHbzJpx7TtghhEYfdn7WpngU/GplaF2Lrz5uqUosgg8txDUsbsAwil5msv1Q6t72au/lkReKjKA6cpQsZoxZH/n1zf3d+AFHBP6MvEVl6cqBH5zAwwGPabmVj1xG5Fip7o3shlGkS8V5hISkWuNOOFXgDTy2S+VnxXBrLalsm0AKqan3LeWp4SxBhYRopfuEUV2YoLTUySWzxY4FMsYVwfXmKpVn5cWT6pL9OnuM6PcSb+KRyH+VvZW6Je4DRcwLZBzWFvY1qW4gYIuSfGwbAPu1t8ngMPzNKltvgn+g5NNntzfkY6oKolYR9J6W4UZIxBWgAHmhOdg6w94aiO7rhjuAgifwxKJrp84dt7Vpm8eKxYIruRZkpvbBg2rfB8M+oLcThVrsh9gE3uV+LrcgZw7EQJO/tdGts4NjW6V5Xcq3YOkGXYLT2meuM9+UB2c42YACuytsbL1dghs7ahjOCpM2KgQSd8pcoxh4CsjIyIA6r13cHAAkA6FdJK3D71JuiwWeO5QFUlNWT5eHmPWaJ7LtTw81y0VVlvGx6hXuhnYVN6+l9a5sZrdfvheqY9svomLAOV2WFO7eFSWUNdI4pMsAF8In+QO3AjWWQweXoYElXG4DucC7Tnh4zbANQ9v6erCLvM2fWqULKvnVMtwesJY6AVGhy/G/yMw4Nn2cWlLH5xcDyN9/PcdJhPXoGcjqx4bESXAH2EnZDsFI4mhtGu3kRQh5uP9NrfTbuvBqsmU+ikQWiLey0ADpZ7/4XXfw/HOGRJQiN0qBcBfiTFBmXET2QVal8MdlZqqU4sWA48oZczwUvicBiEx7PDtcTtQvfvD8/pVeonnzQuYm6DB3RtqTPpwm6aNuH34xT3cfrqBjlF/zJOAQR9WvQyXbe956Kc5tK4IQRjFFGDSkb+vektzJr6wHR9Kos5K/Mq1KS+Zda/NsAmVl+s8g+HvLVr9KueaznmkGa6WGsI9InD0Z5k+WTHZjIY7IkOxTqNHw1Kh3YNDLMjV0hO6eJoel/xaN4OTknXv/5VSdYCfi7gDUgAAAE5EGam0nhDyZTBRE9fwAGA6mJwSf0eNRT/qd3WWMK8sq1ZECYkb9ywgBike0sTDAf2+Rqv+eHtg9lsyU4R0aur8exGRE3aqq2hk/AOcMq20in+3xaTLBMHAb2/KQJHNydjwgmnSnd1hr3g/UnKOrJT+zovUkbIKTC0L4iah2SGfX9/NFHqlHxZA3PbG4bl9LNhNrNfJ8UZemOlDHJCxg964HAMr8GyPnfE9alfQvPwr5TbBxwOlMLquFUCUZZ8UupTgpfTrahOdemx/2exB59tfLDsQOKqOWMBlzFuY/NMBz5bQZBnMZfXJLlFJXuQTF38D7io3BtTcfb5V7NUSGZ//ZaDPAw+uVLIdthK+GN0wg+ell1Lz5rYDJAwo7nnTCnxfA85d+rEFHwp5gBSXZi+A87mtDAA3a5JbQt3voJlBnPlJpqtEijbwhwEYIox3LQAPcR80+Ke2c/LpIytUqOsu+UMwXT6WCDUdoe4sMeSzpBMD1o2+ImvZ1BxNHLrXMr0dLRuwWBu641uOE0pcDZS4oSncmP6jWbkUQ/lrF5FxHIQDSLvJ9Jg+/LVq6FP8ZsOeA2y3Qd+z7PFBjXBmyEqyrjnnGm+fb9P+Ycc4nxj2cDfdLzEoUDMjVyUzcGnRg0rh/UtyQ3c7GsIP2ZWqwa8121D/dm4m3n1x0bPnkta8S+OvHqgMAGfyeYKzA44C3v1ov4dil8eEz6d51Dox+gt3C/P1tLWCpNup6gzCosEiMblPZNVPGfSbiRIKkvdKJyXZEdbbvrTuZPkBtwRdzgkmqwW+WnSKi7pKWvjh1yOv3PfbG6KcUgQBIHiD4Jo7U5xa7ocBCYDuIhmCJTq6FFIy+gOGbzPVel5FbRtRLaegXwV6Tad8KCPjV6qkpPGRH5OR177xs56PmiAclnUx/SjXMpHrhAv13dqhoDXdxC5PyXuSYe/Qag60B9mVD61ckO5hntLw3ogLVFyQfsXvKlcQww6bF34ZSTS3oJt4HldikCCOcKEQ7S/p6DNDUHiYnuavvmZJs7kq+1eA/L5ryWo82/LwOV1UsU+aGDpe8e6upOd1/l2QZal3ZrOq6AZjIsfBXlK8COjvvWcctZiLf4l//8v/DtrDG577VHyLOCW8rCwal5bpr/V2EDEFPE0YObfhG/j+dPhhOOEcXtx+jhxawT4oQMEwBdoGJOOdM5fVCxY9N8I+Luo786FEH53po2xf/owddaBWD667BPwlsxdUEOc3pLZjer9GBrZsRDoLYef7CYfrdHqVshwOStKUIeboVCNwbvuTz874Q8bo+D78mDuxrg9OoDR6UmFahRKJJ2f9bUIACOD8P5RvC6MGEOLu1IS/y7J4F1vVKFnCGKv/KwI1Kg2t7pyE54+23T9KNoPJJCmbX1ljZxKhPBOzZcG8gBsUNddkyD8jymXyRKmovHgMtqiBxZz+aqsUonH91jha1IC1FlIUb4JlYueYdYBl0hhAucPoQUUZeupoOdLFbvQqrm8QvSFBL9AM2l+YGHx3zsJcDekb7GG/fwlsys+1mobU4Q/Wz+Hiwu2GhqinvZvMSAADJZW8aXL4fJYgJETalcGxQEFSLE7FatwUSw6Utn7DdkLZ6uoDuMC9cA856KlZVCzVEGmM4nr5IadgBTdjRJLJQKH+vrd3FLB4CTXuIADukAAAB1AZ66akZ/Hbee53nR4ABn0pCVzq9oCRj3rSaDA1WsN+i4SGNxzh66Bn0Nxr2iuf7s+2zWjTh/XY+z1mkaspys3mYIzrSpONBvQIQgBgSpweBKcdHWHWNeCYwF5A84gb1BtypV/3Ka1KH+ivYqwyFZOXtgrY1wAAADbkGavEnhDyZTAr8ABgP+l1l86nDyNaBJG+lpqeB9u4W4ARTkA1I6vdT++XMv3xVj77f1L6owCvQ5hUukAm4fL2QOxJ441t2uwD6dJLGL9KQ838pbr135BO14mLM0Acv4A09htzOXi6c5AGM/MQTH8HBP2kCPtbDbLd+/jyYBPxOJAKlHZ3y5YwGn25vV1FdDg1fCXdkrSKxysCNgD+144ZyqdcaxUGp+56gah44ORxAgvc3h2bRPlt5obPzHqvlAFrO6GNgsA5fJoHbFo2EYdcMKbtqw/2s2b26C8dqZh9XbMcC/2QkGAaLoc6ogt5MZXs/GZ2V1cQoYj5y0tWhxsdk3XWW9iJmPSAz6c3iGc/CIArr8/Kqg7DLbl8Kk5/XBQX5xl4/mfPr5dhwv9UXo7WKN8A6JR3XAhDVdFi4urUO9ZXojm02gh+V4K5F+9grKw2opUpxYTyTtFpVgQmbbl1YaLNaqF8P2Dbsyglzn3XtIi0dRn7iA9fqbT2Ig+9ehDmasaxCdZWyn3oHAbBGSQlMQ1abiPv416LvfUkdFQePEFdOQ0YQ0Q04daEOBXitg+pE6X98djTItfZ635EM49unKifXgnLbEmBEorheCCQiL4h+6qqWcupAigxhu9CH4+f965Irmse8AaFy+esc/stQY1o/CuAcr6CH8kuoflMPGhwjzSvLE3U8h6vXpfS4sqkGvfoZdtFhMpPWIhJngrZbZFLydtNJnaqZyKwifN3cILjmE0TC0+EfLEQhkwXW+zQerS2fRX/Fi+LD2gxors42z9Y7jq1Zo5t4cqHpBswxllHYO0KoAzk//ZzCfCZK1ZLvA3doztVSSW9+eUTkZBn7HCW2F8BM1WKgynEm9U7/rIz0mVbHLGx7Cgs6hr0JZY0naJF3P3+vLA3JS00ItCEIakQxVRgjC/Pw2fe25FM59J4/WRx3IoaABRV8XLMNCjp/XLfzE4VBzWv+T75ymqj07Jiu98ZOX3ImuR22W0CcmuUxbz3QxJGx+6hEa0yfsd5ylC8Quj2tW6b4cQPuSvj+1J8/8mWGFDNb008QVZtWtsgcqCYbQw7cadXvwd8HTp4XIlUC0Ta7k1PAYw+EdSWpPRN5yT4ee1yy8swlocbz1aFq/JWf5einx9FNDot3hWvhnsSv4Ieu8nxs/gB1RAAAAZ0Ga3UnhDyZTAk8ACvuHviFP/pCM3+nSqqCbGcUNoCz66PwCs26SAs+FSuIz7rzYUQ06kGwllLp26VfRhA+9GU9yvtQPHsiIEUcIRriulGzmkp/r/MXflKuUwgT46MjyqjYAf6gAA7sAAABWQZr+SeEPJlMCbwAVz9DbaBc1AgXLKks8guRxB3i6ioGpat/Nupb+nnx/1TtpIFICdG/6PxzhLbhv8Mf+1Wg/yAyGEPZEQzTPRFO1F/wzKN3TUQAADFgAAANQQZsfSeEPJlMCI/8ACXfVPLuBfLq8PEyMupse+Ktl/8/1KU7T24YzmTT4qOd/9pWAVQItUuz5yyYb/1q1KmT5KvHWotAv+QCi8RH7AJXS/+VbhCI3ljcx8Eys3oDnEf8ALnxU3CboyD74KrxjR/xtERWsJjZ0ATCu9aKB7Tq1CuU80MH9XfZjzqDsKty3yCLdQM0KCIhRB8k94p3yj1BDdXTK+iRscRyFgfCn31mLXRinRZsu5kzSElAHWFx+ygdsC/ecrLiz41PyfXU2SypvYIwaB7c/uPSGws0ap82GQJKB8e/8zKE6+PmKAic9daGa/UBJQ/HUrc1ZTxOT1X5EFKz56X+szCYxsDMOKMMUm2yinQtDK8gL1NtDf2kTs39vvy5153c05GOInTYrRQpoGJdR7vJZCt+ENW6dQlgqx+/wZA2pD2R9wGUZM74mLIKi3w31JD36SJupKijid01YiKvUirWSB1VuGRCsCFZfLuPzGmqFvvtB4P7Wrpw3XJ1Hc8XK/zknXC6M7CSKsUgXzGn9t+OTfb9C8ELPsAAIuL9zqpAaOb9KnfyvW2Ln0TFaQdrxfBvYgV9O053nB3L4H5OXHcch4DhM7AqkZhZAtWkla47+Mg8/yovRqqxJkaZ8PWzIxsk8MOvxeZvZ8xD34jJetAW0neGXaJ/fej386RvrZKDq+0PDcqLqvh9TsA0ws2y3AYBmKUZKBDrdRD16sdpKK8qRzc98rfvMJtW223ImzCTjUWAqOfuNRLprV8NFN8kX3cC5GTdGce7OHgcnxRQuz8WKrven6PmaqRWgb5Cg4Co2f6j6V7K6kNfQNU2lPDEaPzor0IpIwQmWkxsg3lIMa6+EDr/JLmgBiu8coKxVpjWS4D8fog6BgJ7/nvbrl/Ootdvoo9slEdGm6Z2/Ugf9BwVEsFJELEGlso+n+sdGXBksUw9+wjSxTWSzBI2zptfcbTy+NuMkBfC326TbwbRBEqfeAnQUmUZ0FVQc/uyf4T6xB8oQPJge2Ezs26Fho3LHGJE5a7vFxX22uUR6sfrEhtrsBDKDLyGMdrhHsDHHn4hP6ch4+TkUPEKs/wViYjF7Nqd11vFhKdviq8XJGhxBSTOKmAYVmPrDdAAAakAAAAO3QZsgSeEPJlMCM/8AHU//9lINrgxZAzryq1CsdBrDVx4DWDoT1C9QBnMMoye4F4kxeqct534YGgW/Wtbb0SUGwfIo63A3Nexg+9U21lHJ4KvoH/wMAAKDI+tHDazMmopgNpksW90cNUZaJZBnqnItzW4z7jIGBJxKzvlg1huMaf9KgWC1tEahvX+qCiyn72X/xpA2fJJcz83WOlN5Xo+Ohe9RvV4+Vc4XBv7hPov5MSql6gjffOjbtboMVjUZoNvIpXE2a3/rU5aFfmk96IokDQNFSovbJV9MSR5OnClLbgH8vH1l5MmSpJ5PU/yQk61Ga+p33Dl4KfE2ndQ6XYMkbbG7w/HGbclRtbKW4QGk6jejZT7Lw8RFPzJ5vRupXG1Y2FCEpEfCmA2X4l0kF6/KgLS8Ul7AF7otiiPwJyWXUxt8ogWfICG0v/4yfWUlJtPhOHCCh6YLrfIat7G1Ug5wC0LPhrZse5JpVKNjsvyYYc463RV0jK5U2doBrQtn6K3n3yQMnhsFLj66m+LyhJrtHxaE5OidZlk0BUk6P8qG33qY1MRLOaMVH2QA/Vp39mDO2VOXAtY6g2YpuewMljlLBTvmVmmb/oifCCkl+5j2HFz4ZrifDpzLQIsW6wr4O/ys7u9bW6zA347eh3kohYlNtcd4qh/J95KPnG4OhI1IZfZzmXKTw2VE+3qznUveZLalTlxuPTUAq6nBUYxeNHYX+Di81T8fEhELz3HgWdMPeDKxsTK1f9O2Wrd5t7Q1Wvnldg2Ezg+3XMajA4S5UHFmI15ZrUFtTr/6cgIOy2A/F0tMH6JDB7ZPpfLyroSrAjFYvpjeGeZCaqOmaiaJd1ClVlmbuiKqMix/X9QEJXJ8KGIok7pxn4Yo2WrZrQ9q5CZar1UI8itkoKowpNqDVlDb9wjnP4zv1oVyBKcMAT7zV+jYPmOt975GW64FVXegfVxs31q5+NsWDBoow2y2xM82spR1K83W1z8yZMeCplJ20ir4NsUg65ada8hBHS9xWqBDC9hiJfd/HyTtT7WQgfYRtHXwbwplA+RK8tydZUh4h7ODtN+rc9gMcPZP/xgsmgmWw0RSAXxWGl7YbyU09hVh4iMTQKxao12imOpQvtD3WJRLvjJeOwTdpWcVz8+OPB0uNNdCvCahUgi6j35aEEVZiopj3HBs0Hf4R4SgYSbc2/yf1X4TsXXn1unmaRKKU6kAp9oNNtnygfFP099ke9ER7AL1tRzsXNsaca5Yt01b8OwpVULAALaBAAAFT21vb3YAAABsbXZoZAAAAAAAAAAAAAAAAAAAA+gAAF66AAEAAAEAAAAAAAAAAAAAAAABAAAAAAAAAAAAAAAAAAAAAQAAAAAAAAAAAAAAAAAAQAAAAAAAAAAAAAAAAAAAAAAAAAAAAAAAAAAAAAAAAAIAAAR5dHJhawAAAFx0a2hkAAAAAwAAAAAAAAAAAAAAAQAAAAAAAF66AAAAAAAAAAAAAAAAAAAAAAABAAAAAAAAAAAAAAAAAAAAAQAAAAAAAAAAAAAAAAAAQAAAAAIAAAACAAAAAAAAJGVkdHMAAAAcZWxzdAAAAAAAAAABAABeugAAIAAAAQAAAAAD8W1kaWEAAAAgbWRoZAAAAAAAAAAAAAAAAAAAQAAABhAAVcQAAAAAAC1oZGxyAAAAAAAAAAB2aWRlAAAAAAAAAAAAAAAAVmlkZW9IYW5kbGVyAAAAA5xtaW5mAAAAFHZtaGQAAAABAAAAAAAAAAAAAAAkZGluZgAAABxkcmVmAAAAAAAAAAEAAAAMdXJsIAAAAAEAAANcc3RibAAAALBzdHNkAAAAAAAAAAEAAACgYXZjMQAAAAAAAAABAAAAAAAAAAAAAAAAAAAAAAIAAgAASAAAAEgAAAAAAAAAAQAAAAAAAAAAAAAAAAAAAAAAAAAAAAAAAAAAAAAAAAAAABj//wAAADZhdmNDAWQAFv/hABlnZAAWrNlAgBBoQAAAAwBAAAADAgPFi2WAAQAGaOvjyyLA/fj4AAAAABRidHJ0AAAAAAAAVzwAAFc8AAAAGHN0dHMAAAAAAAAAAQAAAGEAABAAAAAAFHN0c3MAAAAAAAAAAQAAAAEAAACwY3R0cwAAAAAAAAAUAAAABAAAIAAAAAABAAAwAAAAAAEAABAAAAAAEgAAIAAAAAABAAAwAAAAAAEAABAAAAAACQAAIAAAAAABAAAwAAAAAAEAABAAAAAAAQAAIAAAAAABAAAwAAAAAAEAABAAAAAAAQAAMAAAAAABAAAQAAAAAAEAADAAAAAAAQAAEAAAAAAuAAAgAAAAAAEAADAAAAAAAQAAEAAAAAAFAAAgAAAAABxzdHNjAAAAAAAAAAEAAAABAAAAYQAAAAEAAAGYc3RzegAAAAAAAAAAAAAAYQAAC70AAAN2AAADVwAAA3YAAASYAAAAXwAAA1kAAANBAAADhAAABLIAAAM4AAADhQAAAhwAAAN4AAAASAAAAy4AAAMqAAADPgAAA1YAAANHAAADPAAAAyIAAAM/AAADdwAAA00AAABdAAADJQAAAGsAAANyAAADNQAAAHEAAANJAAADRQAAA8QAAATqAAADUgAAAFIAAANZAAADRQAAADkAAAMfAAAAcgAAAHUAAAAoAAADpAAABPEAAAM3AAAAcwAAAzsAAABfAAADeAAAA3YAAAOzAAADMgAAA3IAAABfAAADMwAAAEUAAANZAAAARgAAA3IAAAA6AAAAZwAAAzwAAAM2AAADTQAAAzMAAABkAAADOwAAAzkAAAOpAAAFPAAAA1wAAANLAAADQQAAAyUAAABgAAADTQAAA1QAAAN4AAAAgQAAAzUAAABJAAADSAAAAEIAAABzAAADZwAABKwAAANYAAADpwAABOgAAAB5AAADcgAAAGsAAABaAAADVAAAA7sAAAAUc3RjbwAAAAAAAAABAAAAMAAAAGJ1ZHRhAAAAWm1ldGEAAAAAAAAAIWhkbHIAAAAAAAAAAG1kaXJhcHBsAAAAAAAAAAAAAAAALWlsc3QAAAAlqXRvbwAAAB1kYXRhAAAAAQAAAABMYXZmNTguNzYuMTAw\" type=\"video/mp4\">\n",
              "</video>\n"
            ],
            "text/plain": [
              "<IPython.core.display.HTML object>"
            ]
          },
          "execution_count": 28,
          "metadata": {},
          "output_type": "execute_result"
        }
      ],
      "source": [
        "from IPython.display import HTML\n",
        "from base64 import b64encode\n",
        "mp4 = open('./video/rl-video-episode-0.mp4','rb').read()\n",
        "data_url = \"data:video/mp4;base64,\" + b64encode(mp4).decode()\n",
        "HTML(\"\"\"\n",
        "<video width=500 controls>\n",
        "      <source src=\"%s\" type=\"video/mp4\">\n",
        "</video>\n",
        "\"\"\" % data_url)"
      ]
    },
    {
      "cell_type": "code",
      "execution_count": null,
      "id": "tZUWcxcQk23i",
      "metadata": {
        "id": "tZUWcxcQk23i"
      },
      "outputs": [],
      "source": []
    }
  ],
  "metadata": {
    "accelerator": "GPU",
    "colab": {
      "gpuType": "T4",
      "include_colab_link": true,
      "provenance": []
    },
    "kernelspec": {
      "display_name": "Python 3",
      "name": "python3"
    },
    "language_info": {
      "codemirror_mode": {
        "name": "ipython",
        "version": 3
      },
      "file_extension": ".py",
      "mimetype": "text/x-python",
      "name": "python",
      "nbconvert_exporter": "python",
      "pygments_lexer": "ipython3",
      "version": "3.8.10"
    }
  },
  "nbformat": 4,
  "nbformat_minor": 5
}
