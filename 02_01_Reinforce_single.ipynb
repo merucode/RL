{
  "cells": [
    {
      "cell_type": "markdown",
      "metadata": {
        "id": "view-in-github",
        "colab_type": "text"
      },
      "source": [
        "<a href=\"https://colab.research.google.com/github/merucode/RL/blob/93-Project-Trader-Custom_enviromnet/02_Reinforce.ipynb\" target=\"_parent\"><img src=\"https://colab.research.google.com/assets/colab-badge.svg\" alt=\"Open In Colab\"/></a>"
      ]
    },
    {
      "cell_type": "markdown",
      "source": [
        "# To Do List"
      ],
      "metadata": {
        "id": "w0WrUPiyn7P_"
      },
      "id": "w0WrUPiyn7P_"
    },
    {
      "cell_type": "markdown",
      "source": [
        "### 23.08.14"
      ],
      "metadata": {
        "id": "yBHUrvn0Ntna"
      },
      "id": "yBHUrvn0Ntna"
    },
    {
      "cell_type": "markdown",
      "source": [
        "* [X] Make df and df_render\n",
        "* [X] Observation Normalizatio(distinguish ohcl with volume)\n",
        "* [X] Reward(profit) is extrected from df_render which is not normalization)\n",
        "  * trade_world.py is changed\n",
        "* [_] Add balance information\n",
        "* [X] Add more holding action  \n",
        "  * trade_world.py is changed"
      ],
      "metadata": {
        "id": "namd82V7NzO8"
      },
      "id": "namd82V7NzO8"
    },
    {
      "cell_type": "markdown",
      "source": [
        "# Install Dependency and Test"
      ],
      "metadata": {
        "id": "MLB979Vs-2J1"
      },
      "id": "MLB979Vs-2J1"
    },
    {
      "cell_type": "code",
      "source": [
        "!git clone -b 93-Project-Trader-Custom_enviromnet https://github.com/merucode/RL.git\n",
        "!cd RL && mv * ../"
      ],
      "metadata": {
        "collapsed": true,
        "id": "bMkFjiRc-i71",
        "outputId": "c6aa879c-b973-4c9b-e445-18cc81d977af",
        "colab": {
          "base_uri": "https://localhost:8080/"
        }
      },
      "id": "bMkFjiRc-i71",
      "execution_count": 1,
      "outputs": [
        {
          "output_type": "stream",
          "name": "stdout",
          "text": [
            "Cloning into 'RL'...\n",
            "remote: Enumerating objects: 258, done.\u001b[K\n",
            "remote: Counting objects: 100% (178/178), done.\u001b[K\n",
            "remote: Compressing objects: 100% (177/177), done.\u001b[K\n",
            "remote: Total 258 (delta 78), reused 0 (delta 0), pack-reused 80\u001b[K\n",
            "Receiving objects: 100% (258/258), 17.15 MiB | 6.21 MiB/s, done.\n",
            "Resolving deltas: 100% (105/105), done.\n"
          ]
        }
      ]
    },
    {
      "cell_type": "code",
      "source": [
        "!pip install gym==0.25.2\n",
        "!pip install -e gym-examples"
      ],
      "metadata": {
        "id": "-fCSwqlbr0G0",
        "outputId": "0b9bf3bb-2605-477f-9f7c-38bd8ffbdb3c",
        "colab": {
          "base_uri": "https://localhost:8080/"
        },
        "collapsed": true
      },
      "id": "-fCSwqlbr0G0",
      "execution_count": 16,
      "outputs": [
        {
          "output_type": "stream",
          "name": "stdout",
          "text": [
            "Requirement already satisfied: gym==0.25.2 in /usr/local/lib/python3.10/dist-packages (0.25.2)\n",
            "Requirement already satisfied: numpy>=1.18.0 in /usr/local/lib/python3.10/dist-packages (from gym==0.25.2) (1.23.5)\n",
            "Requirement already satisfied: cloudpickle>=1.2.0 in /usr/local/lib/python3.10/dist-packages (from gym==0.25.2) (2.2.1)\n",
            "Requirement already satisfied: gym-notices>=0.0.4 in /usr/local/lib/python3.10/dist-packages (from gym==0.25.2) (0.0.8)\n",
            "Obtaining file:///content/gym-examples\n",
            "  Preparing metadata (setup.py) ... \u001b[?25l\u001b[?25hdone\n",
            "Requirement already satisfied: gym==0.25.2 in /usr/local/lib/python3.10/dist-packages (from gym-examples==0.0.1) (0.25.2)\n",
            "Requirement already satisfied: pygame==2.1.0 in /usr/local/lib/python3.10/dist-packages (from gym-examples==0.0.1) (2.1.0)\n",
            "Requirement already satisfied: numpy>=1.18.0 in /usr/local/lib/python3.10/dist-packages (from gym==0.25.2->gym-examples==0.0.1) (1.23.5)\n",
            "Requirement already satisfied: cloudpickle>=1.2.0 in /usr/local/lib/python3.10/dist-packages (from gym==0.25.2->gym-examples==0.0.1) (2.2.1)\n",
            "Requirement already satisfied: gym-notices>=0.0.4 in /usr/local/lib/python3.10/dist-packages (from gym==0.25.2->gym-examples==0.0.1) (0.0.8)\n",
            "Installing collected packages: gym-examples\n",
            "  Attempting uninstall: gym-examples\n",
            "    Found existing installation: gym-examples 0.0.1\n",
            "    Uninstalling gym-examples-0.0.1:\n",
            "      Successfully uninstalled gym-examples-0.0.1\n",
            "  Running setup.py develop for gym-examples\n",
            "Successfully installed gym-examples-0.0.1\n"
          ]
        }
      ]
    },
    {
      "cell_type": "markdown",
      "source": [
        "### NOTE: After inistall gym-examples, Restart runtime"
      ],
      "metadata": {
        "id": "aI9PkFlbBds1"
      },
      "id": "aI9PkFlbBds1"
    },
    {
      "cell_type": "markdown",
      "source": [
        "# STEP. Ready Data"
      ],
      "metadata": {
        "id": "wnV10JVAuKkv"
      },
      "id": "wnV10JVAuKkv"
    },
    {
      "cell_type": "code",
      "source": [
        "import pandas as pd\n",
        "\n",
        "df1 = pd.read_csv('KRW-BTC_5m_171001_200903_upbit.csv')\n",
        "df2 = pd.read_csv('KRW-BTC_5m_200904_230810_upbit.csv')\n",
        "\n",
        "df = pd.concat([df1, df2], ignore_index=True)\n",
        "df = df[df.columns[1:]]\n",
        "print(df.tail(3))"
      ],
      "metadata": {
        "colab": {
          "base_uri": "https://localhost:8080/"
        },
        "id": "lIdCfqT8uVFV",
        "outputId": "cd5abe2a-07e1-4ca6-f613-1d421999346b"
      },
      "id": "lIdCfqT8uVFV",
      "execution_count": 19,
      "outputs": [
        {
          "output_type": "stream",
          "name": "stdout",
          "text": [
            "              open        high         low       close    volume\n",
            "492909  39190000.0  39231000.0  39190000.0  39212000.0  2.929709\n",
            "492910  39212000.0  39214000.0  39188000.0  39191000.0  3.407502\n",
            "492911  39191000.0  39210000.0  39188000.0  39188000.0  3.884740\n"
          ]
        }
      ]
    },
    {
      "cell_type": "code",
      "source": [
        "# Preporcessing df_render\n",
        "df = df[:100000] #Temp : TEST\n",
        "df_ohlc = df[df.columns[:4]] / 10000\n",
        "df_v = df[df.columns[-1:]]\n",
        "df = pd.concat([df_ohlc, df_v], axis=1)\n",
        "df_render = df\n",
        "print(df_render)"
      ],
      "metadata": {
        "colab": {
          "base_uri": "https://localhost:8080/"
        },
        "id": "Z-q3j3mOuX8U",
        "outputId": "b6380665-21bf-4e5f-c422-22be91a65308"
      },
      "id": "Z-q3j3mOuX8U",
      "execution_count": 20,
      "outputs": [
        {
          "output_type": "stream",
          "name": "stdout",
          "text": [
            "        open   high    low  close      volume\n",
            "0      479.7  480.0  479.3  480.0    0.013444\n",
            "1      479.8  479.9  479.2  479.3    0.013597\n",
            "2      479.5  480.2  479.5  479.5    0.016304\n",
            "3      480.1  480.2  479.5  480.1    0.017136\n",
            "4      479.7  479.9  479.1  479.9    0.007615\n",
            "...      ...    ...    ...    ...         ...\n",
            "99995  377.0  377.1  374.5  376.1  132.139499\n",
            "99996  376.9  377.8  376.1  377.1   41.992179\n",
            "99997  377.1  378.6  376.6  378.1   28.228527\n",
            "99998  378.1  378.5  377.1  378.3   14.609872\n",
            "99999  378.3  378.3  377.4  378.3    9.547118\n",
            "\n",
            "[100000 rows x 5 columns]\n"
          ]
        },
        {
          "output_type": "stream",
          "name": "stderr",
          "text": [
            "/usr/local/lib/python3.10/dist-packages/ipykernel/ipkernel.py:283: DeprecationWarning: `should_run_async` will not call `transform_cell` automatically in the future. Please pass the result to `transformed_cell` argument and any exception that happen during thetransform in `preprocessing_exc_tuple` in IPython 7.17 and above.\n",
            "  and should_run_async(code)\n"
          ]
        }
      ]
    },
    {
      "cell_type": "code",
      "source": [
        "# Preporcessing df\n",
        "df_ohlc = df[df.columns[:4]]\n",
        "df_ohlc_normalization = (df_ohlc - df_ohlc.mean())/df_ohlc.std()\n",
        "df_v = df[df.columns[-1:]]\n",
        "df_v_normalization =  (df_v - df_v.mean())/df_v.std()\n",
        "df = pd.concat([df_ohlc_normalization, df_v_normalization], axis=1)\n",
        "print(df)"
      ],
      "metadata": {
        "colab": {
          "base_uri": "https://localhost:8080/"
        },
        "id": "vwYc-64UCFMB",
        "outputId": "058780e7-3628-4178-a45b-af1557fe5ed0"
      },
      "id": "vwYc-64UCFMB",
      "execution_count": 21,
      "outputs": [
        {
          "output_type": "stream",
          "name": "stdout",
          "text": [
            "           open      high       low     close    volume\n",
            "0     -1.130006 -1.128865 -1.131437 -1.129248 -0.615352\n",
            "1     -1.129765 -1.129104 -1.131679 -1.130931 -0.615350\n",
            "2     -1.130487 -1.128387 -1.130954 -1.130451 -0.615316\n",
            "3     -1.129044 -1.128387 -1.130954 -1.129008 -0.615306\n",
            "4     -1.130006 -1.129104 -1.131921 -1.129489 -0.615426\n",
            "...         ...       ...       ...       ...       ...\n",
            "99995 -1.376931 -1.375010 -1.384710 -1.379046  1.047038\n",
            "99996 -1.377172 -1.373336 -1.380843 -1.376641 -0.087182\n",
            "99997 -1.376691 -1.371422 -1.379635 -1.374237 -0.260354\n",
            "99998 -1.374286 -1.371661 -1.378427 -1.373756 -0.431702\n",
            "99999 -1.373806 -1.372140 -1.377702 -1.373756 -0.495401\n",
            "\n",
            "[100000 rows x 5 columns]\n"
          ]
        },
        {
          "output_type": "stream",
          "name": "stderr",
          "text": [
            "/usr/local/lib/python3.10/dist-packages/ipykernel/ipkernel.py:283: DeprecationWarning: `should_run_async` will not call `transform_cell` automatically in the future. Please pass the result to `transformed_cell` argument and any exception that happen during thetransform in `preprocessing_exc_tuple` in IPython 7.17 and above.\n",
            "  and should_run_async(code)\n"
          ]
        }
      ]
    },
    {
      "cell_type": "markdown",
      "source": [
        "### Check env"
      ],
      "metadata": {
        "id": "uDtueZp92Lyu"
      },
      "id": "uDtueZp92Lyu"
    },
    {
      "cell_type": "code",
      "source": [
        "import time\n",
        "import matplotlib.pyplot as plt\n",
        "import gym\n",
        "import numpy as np"
      ],
      "metadata": {
        "collapsed": true,
        "id": "qbiGRhuOuykv"
      },
      "id": "qbiGRhuOuykv",
      "execution_count": 5,
      "outputs": []
    },
    {
      "cell_type": "code",
      "source": [
        "env = gym.make(\"gym_examples:TradeWorld-v0\", df=df, obs_len=2016)\n",
        "# 5m ohlcv obs_len=2016 is mean 7 days\n",
        "\n",
        "# single env\n",
        "print(f'observation space : {env.observation_space}')\n",
        "print(f'action space      : {env.action_space}')\n",
        "print(f'observation shape : {env.observation_space.shape[0]}')\n",
        "print(f'action shape      : {env.action_space.n}')\n",
        "\n",
        "obs = env.reset()\n",
        "action = 10\n",
        "env.step(action)"
      ],
      "metadata": {
        "id": "gHL6DZK1o9bD",
        "outputId": "f20bb3cb-b4c7-4d04-8e91-b937e2753725",
        "colab": {
          "base_uri": "https://localhost:8080/"
        }
      },
      "id": "gHL6DZK1o9bD",
      "execution_count": 6,
      "outputs": [
        {
          "output_type": "stream",
          "name": "stderr",
          "text": [
            "/usr/local/lib/python3.10/dist-packages/ipykernel/ipkernel.py:283: DeprecationWarning: `should_run_async` will not call `transform_cell` automatically in the future. Please pass the result to `transformed_cell` argument and any exception that happen during thetransform in `preprocessing_exc_tuple` in IPython 7.17 and above.\n",
            "  and should_run_async(code)\n"
          ]
        },
        {
          "output_type": "stream",
          "name": "stdout",
          "text": [
            "observation space : Box(0.0, inf, (10080,), float64)\n",
            "action space      : Discrete(16)\n",
            "observation shape : 10080\n",
            "action shape      : 16\n"
          ]
        },
        {
          "output_type": "stream",
          "name": "stderr",
          "text": [
            "/usr/local/lib/python3.10/dist-packages/gym/core.py:317: DeprecationWarning: \u001b[33mWARN: Initializing wrapper in old step API which returns one bool instead of two. It is recommended to set `new_step_api=True` to use new step API. This will be the default behaviour in future.\u001b[0m\n",
            "  deprecation(\n",
            "/usr/local/lib/python3.10/dist-packages/gym/wrappers/step_api_compatibility.py:39: DeprecationWarning: \u001b[33mWARN: Initializing environment in old step API which returns one bool instead of two. It is recommended to set `new_step_api=True` to use new step API. This will be the default behaviour in future.\u001b[0m\n",
            "  deprecation(\n",
            "/usr/local/lib/python3.10/dist-packages/gym/utils/passive_env_checker.py:141: UserWarning: \u001b[33mWARN: The obs returned by the `reset()` method was expecting numpy array dtype to be float64, actual type: float32\u001b[0m\n",
            "  logger.warn(\n",
            "/usr/local/lib/python3.10/dist-packages/gym/utils/passive_env_checker.py:165: UserWarning: \u001b[33mWARN: The obs returned by the `reset()` method is not within the observation space.\u001b[0m\n",
            "  logger.warn(f\"{pre} is not within the observation space.\")\n",
            "/usr/local/lib/python3.10/dist-packages/gym/utils/passive_env_checker.py:141: UserWarning: \u001b[33mWARN: The obs returned by the `step()` method was expecting numpy array dtype to be float64, actual type: float32\u001b[0m\n",
            "  logger.warn(\n",
            "/usr/local/lib/python3.10/dist-packages/gym/utils/passive_env_checker.py:165: UserWarning: \u001b[33mWARN: The obs returned by the `step()` method is not within the observation space.\u001b[0m\n",
            "  logger.warn(f\"{pre} is not within the observation space.\")\n"
          ]
        },
        {
          "output_type": "execute_result",
          "data": {
            "text/plain": [
              "(array([-0.01231618, -0.01241297, -0.01223485, ..., -0.00929192,\n",
              "        -0.00940871, -0.02168003], dtype=float32),\n",
              " 0.03320494935282303,\n",
              " False,\n",
              " {'balance': 1000.0332049493528, 'time_step': 0, 'time_step_limit': 7968})"
            ]
          },
          "metadata": {},
          "execution_count": 6
        }
      ]
    },
    {
      "cell_type": "code",
      "source": [
        "envs = gym.vector.make(\"gym_examples:TradeWorld-v0\", num_envs=2, df=df, obs_len=180)\n",
        "obs_b = envs.reset()\n",
        "actions = np.array([10, 5])\n",
        "envs.step(actions)"
      ],
      "metadata": {
        "id": "0d8jxMPAo5O7",
        "outputId": "8f99f283-0245-48fc-d767-7d8b84457f8b",
        "colab": {
          "base_uri": "https://localhost:8080/"
        }
      },
      "id": "0d8jxMPAo5O7",
      "execution_count": null,
      "outputs": [
        {
          "output_type": "stream",
          "name": "stderr",
          "text": [
            "/usr/local/lib/python3.10/dist-packages/gym/vector/vector_env.py:56: DeprecationWarning: \u001b[33mWARN: Initializing vector env in old step API which returns one bool array instead of two. It is recommended to set `new_step_api=True` to use new step API. This will be the default behaviour in future.\u001b[0m\n",
            "  deprecation(\n"
          ]
        },
        {
          "output_type": "execute_result",
          "data": {
            "text/plain": [
              "(array([[-1.61010718, -1.62276101, -1.59947574, ..., -1.53131783,\n",
              "         -1.54626179, -0.32697502],\n",
              "        [-1.61010718, -1.62276101, -1.59947574, ..., -1.53131783,\n",
              "         -1.54626179, -0.32697502]]),\n",
              " array([0.02122165, 0.01673758]),\n",
              " array([False, False]),\n",
              " {'balance': array([1000.02122165, 1000.01673758]),\n",
              "  '_balance': array([ True,  True])})"
            ]
          },
          "metadata": {},
          "execution_count": 8
        }
      ]
    },
    {
      "cell_type": "markdown",
      "source": [
        "# STEP. Reinforce"
      ],
      "metadata": {
        "id": "DggpsStIuY_q"
      },
      "id": "DggpsStIuY_q"
    },
    {
      "cell_type": "code",
      "source": [
        "import gym\n",
        "import torch\n",
        "import torch.nn as nn\n",
        "import torch.nn.functional as F\n",
        "import torch.optim as optim\n",
        "from torch.distributions import Categorical\n",
        "import numpy as np\n",
        "\n",
        "#Device\n",
        "device = device = 'cuda' if torch.cuda.is_available() else 'cpu'\n",
        "\n",
        "#Hyperparameters\n",
        "learning_rate = 0.0002\n",
        "gamma         = 0.98\n",
        "\n",
        "class Policy(nn.Module):\n",
        "    def __init__(self):\n",
        "        super(Policy, self).__init__()\n",
        "        self.data = []\n",
        "\n",
        "        self.fc1 = nn.Linear(10080, 5040)\n",
        "        self.fc2 = nn.Linear(5040, 2520)\n",
        "        self.fc3 = nn.Linear(2520, 1260)\n",
        "        self.fc4 = nn.Linear(1260, 16)\n",
        "        self.optimizer = optim.Adam(self.parameters(), lr=learning_rate)\n",
        "\n",
        "    def forward(self, x):\n",
        "        #print(f\"DEBUG 0: {x}\")\n",
        "        x = F.relu(self.fc1(x))\n",
        "        #print(f\"DEBUG 1: {x}\")\n",
        "        x = F.relu(self.fc2(x))\n",
        "        #print(f\"DEBUG 2: {x}\")\n",
        "        x = F.relu(self.fc3(x))\n",
        "        x = F.softmax(self.fc4(x), dim=0)\n",
        "        #print(f\"DEBUG 3: {x}\")\n",
        "        return x\n",
        "\n",
        "    def put_data(self, item):\n",
        "        self.data.append(item)\n",
        "\n",
        "    def train_net(self):\n",
        "        R = 0\n",
        "        self.optimizer.zero_grad()\n",
        "        for r, prob in self.data[::-1]:\n",
        "            R = r + gamma * R\n",
        "            loss = -torch.log(prob + 1e-6) * R    # nan error handling : + 1e-6\n",
        "            loss.backward()\n",
        "        self.optimizer.step()\n",
        "        self.data = []"
      ],
      "metadata": {
        "id": "Gol_hOoI5Y9y"
      },
      "id": "Gol_hOoI5Y9y",
      "execution_count": 22,
      "outputs": []
    },
    {
      "cell_type": "code",
      "source": [
        "import random\n",
        "\n",
        "def action_eps(action, eps):\n",
        "    coin = random.random()\n",
        "    if coin < eps:\n",
        "        action_e = random.randint(1,12)\n",
        "    else:\n",
        "        action_e = action\n",
        "    return action_e"
      ],
      "metadata": {
        "id": "q4oVqgAeDk9s"
      },
      "id": "q4oVqgAeDk9s",
      "execution_count": 23,
      "outputs": []
    },
    {
      "cell_type": "code",
      "source": [
        "def main():\n",
        "    env = gym.make(\"gym_examples:TradeWorld-v0\", df=df, df_render=df_render, obs_len=2016)\n",
        "    pi = Policy()\n",
        "    score = 0.0\n",
        "    max_score = -2000.0\n",
        "    print_interval = 10\n",
        "    eps = 0.5\n",
        "    pi.to(device)\n",
        "\n",
        "    for n_epi in range(3000):\n",
        "        s = env.reset()\n",
        "        done = False\n",
        "\n",
        "        #print(f\"DEBUG: episode:{n_epi}\")\n",
        "        while not done:\n",
        "            #print(f\"DEBUG: {s.shape}\")\n",
        "            prob = pi(torch.from_numpy(s).float().to(device))\n",
        "            #print(f\"DEBUG prob: {prob}\")\n",
        "            m = Categorical(prob)\n",
        "\n",
        "            a = m.sample()\n",
        "            a = action_eps(a.item(),eps)\n",
        "            a = torch.tensor(a)\n",
        "\n",
        "            s_prime, r, done, info = env.step(a.item())\n",
        "            pi.put_data((r,prob[a]))\n",
        "            s = s_prime\n",
        "            score += r\n",
        "            #print(f\"DEBUG time step: {info['time_step']} / {info['time_step_limit']}\")\n",
        "            #print(f\"DEBUG action: {a.item()}\")\n",
        "            #print(f\"DEBUG reward: {r}\")\n",
        "\n",
        "\n",
        "        pi.train_net()\n",
        "\n",
        "        if n_epi%print_interval==0 and n_epi!=0:\n",
        "            print(\"# of episode :{}, avg score : {}\".format(n_epi, score/print_interval))\n",
        "            if score/print_interval > max_score:\n",
        "                torch.save(pi.state_dict(), 'model_weights.pth')\n",
        "                print(f\"# max avg balance : {1000 + score/print_interval}, and save model_weights.pth\")\n",
        "                max_score = score/print_interval\n",
        "            score = 0.0\n",
        "        if eps >= 0:\n",
        "            eps = eps - 0.001\n",
        "\n",
        "    env.close()"
      ],
      "metadata": {
        "id": "MotMEDA85_Wu"
      },
      "id": "MotMEDA85_Wu",
      "execution_count": 24,
      "outputs": []
    },
    {
      "cell_type": "code",
      "source": [
        "if __name__ == '__main__':\n",
        "    main()"
      ],
      "metadata": {
        "colab": {
          "base_uri": "https://localhost:8080/",
          "height": 1000
        },
        "id": "2djGfV7H6h0F",
        "outputId": "618345e7-76ee-4bc0-ef8f-d85e6bcd8c82"
      },
      "id": "2djGfV7H6h0F",
      "execution_count": 25,
      "outputs": [
        {
          "output_type": "stream",
          "name": "stderr",
          "text": [
            "/usr/local/lib/python3.10/dist-packages/gym/core.py:317: DeprecationWarning: \u001b[33mWARN: Initializing wrapper in old step API which returns one bool instead of two. It is recommended to set `new_step_api=True` to use new step API. This will be the default behaviour in future.\u001b[0m\n",
            "  deprecation(\n",
            "/usr/local/lib/python3.10/dist-packages/gym/wrappers/step_api_compatibility.py:39: DeprecationWarning: \u001b[33mWARN: Initializing environment in old step API which returns one bool instead of two. It is recommended to set `new_step_api=True` to use new step API. This will be the default behaviour in future.\u001b[0m\n",
            "  deprecation(\n",
            "/usr/local/lib/python3.10/dist-packages/gym/utils/passive_env_checker.py:141: UserWarning: \u001b[33mWARN: The obs returned by the `reset()` method was expecting numpy array dtype to be float64, actual type: float32\u001b[0m\n",
            "  logger.warn(\n",
            "/usr/local/lib/python3.10/dist-packages/gym/utils/passive_env_checker.py:165: UserWarning: \u001b[33mWARN: The obs returned by the `reset()` method is not within the observation space.\u001b[0m\n",
            "  logger.warn(f\"{pre} is not within the observation space.\")\n",
            "/usr/local/lib/python3.10/dist-packages/gym/utils/passive_env_checker.py:141: UserWarning: \u001b[33mWARN: The obs returned by the `step()` method was expecting numpy array dtype to be float64, actual type: float32\u001b[0m\n",
            "  logger.warn(\n",
            "/usr/local/lib/python3.10/dist-packages/gym/utils/passive_env_checker.py:165: UserWarning: \u001b[33mWARN: The obs returned by the `step()` method is not within the observation space.\u001b[0m\n",
            "  logger.warn(f\"{pre} is not within the observation space.\")\n"
          ]
        },
        {
          "output_type": "stream",
          "name": "stdout",
          "text": [
            "# of episode :10, avg score : -1105.5699999999995\n",
            "# max avg balance : -105.56999999999948, and save model_weights.pth\n",
            "# of episode :20, avg score : -1016.3200000000004\n",
            "# max avg balance : -16.32000000000039, and save model_weights.pth\n",
            "# of episode :30, avg score : -1005.3199999999988\n",
            "# max avg balance : -5.3199999999987995, and save model_weights.pth\n",
            "# of episode :40, avg score : -1005.5899999999981\n",
            "# of episode :50, avg score : -1005.2799999999972\n",
            "# max avg balance : -5.279999999997244, and save model_weights.pth\n",
            "# of episode :60, avg score : -1027.7500000000018\n",
            "# of episode :70, avg score : -1006.0399999999978\n",
            "# of episode :80, avg score : -1010.6899999999989\n",
            "# of episode :90, avg score : -1005.370000000002\n",
            "# of episode :100, avg score : -1015.0299999999974\n",
            "# of episode :110, avg score : -1010.5299999999972\n",
            "# of episode :120, avg score : -1034.5199999999993\n",
            "# of episode :130, avg score : -1038.899999999999\n",
            "# of episode :140, avg score : -1026.0899999999976\n",
            "# of episode :150, avg score : -1021.5799999999966\n",
            "# of episode :160, avg score : -1037.2100000000005\n",
            "# of episode :170, avg score : -1049.849999999999\n",
            "# of episode :180, avg score : -1019.8899999999974\n",
            "# of episode :190, avg score : -1048.6400000000015\n",
            "# of episode :200, avg score : -1021.089999999999\n",
            "# of episode :210, avg score : -1025.2299999999987\n",
            "# of episode :220, avg score : -1036.1899999999969\n",
            "# of episode :230, avg score : -1056.389999999999\n",
            "# of episode :240, avg score : -1039.4999999999975\n",
            "# of episode :250, avg score : -1030.6600000000012\n",
            "# of episode :260, avg score : -1071.4699999999987\n",
            "# of episode :270, avg score : -1050.0500000000022\n",
            "# of episode :280, avg score : -1052.6699999999994\n",
            "# of episode :290, avg score : -1043.4600000000007\n",
            "# of episode :300, avg score : -1043.5800000000013\n",
            "# of episode :310, avg score : -1034.9399999999994\n",
            "# of episode :320, avg score : -1040.2099999999996\n",
            "# of episode :330, avg score : -1031.8299999999986\n",
            "# of episode :340, avg score : -1049.4800000000007\n"
          ]
        },
        {
          "output_type": "error",
          "ename": "KeyboardInterrupt",
          "evalue": "ignored",
          "traceback": [
            "\u001b[0;31m---------------------------------------------------------------------------\u001b[0m",
            "\u001b[0;31mKeyboardInterrupt\u001b[0m                         Traceback (most recent call last)",
            "\u001b[0;32m<ipython-input-25-c7bc734e5e35>\u001b[0m in \u001b[0;36m<cell line: 1>\u001b[0;34m()\u001b[0m\n\u001b[1;32m      1\u001b[0m \u001b[0;32mif\u001b[0m \u001b[0m__name__\u001b[0m \u001b[0;34m==\u001b[0m \u001b[0;34m'__main__'\u001b[0m\u001b[0;34m:\u001b[0m\u001b[0;34m\u001b[0m\u001b[0;34m\u001b[0m\u001b[0m\n\u001b[0;32m----> 2\u001b[0;31m     \u001b[0mmain\u001b[0m\u001b[0;34m(\u001b[0m\u001b[0;34m)\u001b[0m\u001b[0;34m\u001b[0m\u001b[0;34m\u001b[0m\u001b[0m\n\u001b[0m",
            "\u001b[0;32m<ipython-input-24-c4de1eb7b303>\u001b[0m in \u001b[0;36mmain\u001b[0;34m()\u001b[0m\n\u001b[1;32m     32\u001b[0m \u001b[0;34m\u001b[0m\u001b[0m\n\u001b[1;32m     33\u001b[0m \u001b[0;34m\u001b[0m\u001b[0m\n\u001b[0;32m---> 34\u001b[0;31m         \u001b[0mpi\u001b[0m\u001b[0;34m.\u001b[0m\u001b[0mtrain_net\u001b[0m\u001b[0;34m(\u001b[0m\u001b[0;34m)\u001b[0m\u001b[0;34m\u001b[0m\u001b[0;34m\u001b[0m\u001b[0m\n\u001b[0m\u001b[1;32m     35\u001b[0m \u001b[0;34m\u001b[0m\u001b[0m\n\u001b[1;32m     36\u001b[0m         \u001b[0;32mif\u001b[0m \u001b[0mn_epi\u001b[0m\u001b[0;34m%\u001b[0m\u001b[0mprint_interval\u001b[0m\u001b[0;34m==\u001b[0m\u001b[0;36m0\u001b[0m \u001b[0;32mand\u001b[0m \u001b[0mn_epi\u001b[0m\u001b[0;34m!=\u001b[0m\u001b[0;36m0\u001b[0m\u001b[0;34m:\u001b[0m\u001b[0;34m\u001b[0m\u001b[0;34m\u001b[0m\u001b[0m\n",
            "\u001b[0;32m<ipython-input-22-4df5898ebd49>\u001b[0m in \u001b[0;36mtrain_net\u001b[0;34m(self)\u001b[0m\n\u001b[1;32m     44\u001b[0m         \u001b[0;32mfor\u001b[0m \u001b[0mr\u001b[0m\u001b[0;34m,\u001b[0m \u001b[0mprob\u001b[0m \u001b[0;32min\u001b[0m \u001b[0mself\u001b[0m\u001b[0;34m.\u001b[0m\u001b[0mdata\u001b[0m\u001b[0;34m[\u001b[0m\u001b[0;34m:\u001b[0m\u001b[0;34m:\u001b[0m\u001b[0;34m-\u001b[0m\u001b[0;36m1\u001b[0m\u001b[0;34m]\u001b[0m\u001b[0;34m:\u001b[0m\u001b[0;34m\u001b[0m\u001b[0;34m\u001b[0m\u001b[0m\n\u001b[1;32m     45\u001b[0m             \u001b[0mR\u001b[0m \u001b[0;34m=\u001b[0m \u001b[0mr\u001b[0m \u001b[0;34m+\u001b[0m \u001b[0mgamma\u001b[0m \u001b[0;34m*\u001b[0m \u001b[0mR\u001b[0m\u001b[0;34m\u001b[0m\u001b[0;34m\u001b[0m\u001b[0m\n\u001b[0;32m---> 46\u001b[0;31m             \u001b[0mloss\u001b[0m \u001b[0;34m=\u001b[0m \u001b[0;34m-\u001b[0m\u001b[0mtorch\u001b[0m\u001b[0;34m.\u001b[0m\u001b[0mlog\u001b[0m\u001b[0;34m(\u001b[0m\u001b[0mprob\u001b[0m \u001b[0;34m+\u001b[0m \u001b[0;36m1e-6\u001b[0m\u001b[0;34m)\u001b[0m \u001b[0;34m*\u001b[0m \u001b[0mR\u001b[0m    \u001b[0;31m# nan error handling : + 1e-6\u001b[0m\u001b[0;34m\u001b[0m\u001b[0;34m\u001b[0m\u001b[0m\n\u001b[0m\u001b[1;32m     47\u001b[0m             \u001b[0mloss\u001b[0m\u001b[0;34m.\u001b[0m\u001b[0mbackward\u001b[0m\u001b[0;34m(\u001b[0m\u001b[0;34m)\u001b[0m\u001b[0;34m\u001b[0m\u001b[0;34m\u001b[0m\u001b[0m\n\u001b[1;32m     48\u001b[0m         \u001b[0mself\u001b[0m\u001b[0;34m.\u001b[0m\u001b[0moptimizer\u001b[0m\u001b[0;34m.\u001b[0m\u001b[0mstep\u001b[0m\u001b[0;34m(\u001b[0m\u001b[0;34m)\u001b[0m\u001b[0;34m\u001b[0m\u001b[0;34m\u001b[0m\u001b[0m\n",
            "\u001b[0;31mKeyboardInterrupt\u001b[0m: "
          ]
        }
      ]
    },
    {
      "cell_type": "markdown",
      "source": [
        "# STEP. Render"
      ],
      "metadata": {
        "id": "vbjOC1aG60ss"
      },
      "id": "vbjOC1aG60ss"
    },
    {
      "cell_type": "code",
      "source": [
        "def model_render(env_name, **kwargs):\n",
        "    env = gym.make(env_name, **kwargs)\n",
        "    episode_trigger=lambda e: True  # all Episode Recode\n",
        "\n",
        "    env = gym.wrappers.RecordVideo(env, \"./video\", episode_trigger=episode_trigger, video_length=100000)\n",
        "\n",
        "    for episode in range(1):\n",
        "        s = env.reset()\n",
        "        done = False\n",
        "        score = 0\n",
        "\n",
        "        pi = Policy()\n",
        "        pi.load_state_dict(torch.load('model_weights.pth'))\n",
        "        pi.eval()\n",
        "\n",
        "        pi.to(device)\n",
        "\n",
        "        while not done:\n",
        "            prob = pi(torch.from_numpy(s).float().to(device))\n",
        "            m = Categorical(prob)\n",
        "            a = m.sample()\n",
        "            s_prime, r, done, info = env.step(a.item())\n",
        "            done_mask = 0.0 if done else 1.0\n",
        "            s = s_prime\n",
        "            score += r\n",
        "\n",
        "        print(f\"# of episode {episode}:, avg score : {score}\")\n",
        "    env.close()"
      ],
      "metadata": {
        "id": "T2HdDgxC63Bp"
      },
      "id": "T2HdDgxC63Bp",
      "execution_count": 26,
      "outputs": []
    },
    {
      "cell_type": "code",
      "source": [
        "model_render(\"gym_examples:TradeWorld-v0\", df=df, df_render=df_render, obs_len=2016)"
      ],
      "metadata": {
        "colab": {
          "base_uri": "https://localhost:8080/"
        },
        "id": "kEE622ejAzBu",
        "outputId": "f5fb55bb-1779-4fee-9024-3dfc441bafa1"
      },
      "id": "kEE622ejAzBu",
      "execution_count": 27,
      "outputs": [
        {
          "output_type": "stream",
          "name": "stderr",
          "text": [
            "/usr/local/lib/python3.10/dist-packages/gym/wrappers/monitoring/video_recorder.py:78: DeprecationWarning: \u001b[33mWARN: Recording ability for environment TradeWorld-v0 initialized with `render_mode=None` is marked as deprecated and will be removed in the future.\u001b[0m\n",
            "  logger.deprecation(\n",
            "/usr/local/lib/python3.10/dist-packages/gym/core.py:43: DeprecationWarning: \u001b[33mWARN: The argument mode in render method is deprecated; use render_mode during environment initialization instead.\n",
            "See here for more information: https://www.gymlibrary.ml/content/api/\u001b[0m\n",
            "  deprecation(\n",
            "/usr/local/lib/python3.10/dist-packages/gym/utils/passive_env_checker.py:141: UserWarning: \u001b[33mWARN: The obs returned by the `step()` method was expecting numpy array dtype to be float64, actual type: float32\u001b[0m\n",
            "  logger.warn(\n",
            "/usr/local/lib/python3.10/dist-packages/gym/utils/passive_env_checker.py:165: UserWarning: \u001b[33mWARN: The obs returned by the `step()` method is not within the observation space.\u001b[0m\n",
            "  logger.warn(f\"{pre} is not within the observation space.\")\n",
            "/usr/local/lib/python3.10/dist-packages/gym/core.py:43: DeprecationWarning: \u001b[33mWARN: The argument mode in render method is deprecated; use render_mode during environment initialization instead.\n",
            "See here for more information: https://www.gymlibrary.ml/content/api/\u001b[0m\n",
            "  deprecation(\n"
          ]
        },
        {
          "output_type": "stream",
          "name": "stdout",
          "text": [
            "# of episode 0:, avg score : -1001.8000000000006\n"
          ]
        }
      ]
    },
    {
      "cell_type": "code",
      "source": [
        "from IPython.display import HTML\n",
        "from base64 import b64encode\n",
        "mp4 = open('./video/rl-video-episode-0.mp4','rb').read()\n",
        "data_url = \"data:video/mp4;base64,\" + b64encode(mp4).decode()\n",
        "HTML(\"\"\"\n",
        "<video width=500 controls>\n",
        "      <source src=\"%s\" type=\"video/mp4\">\n",
        "</video>\n",
        "\"\"\" % data_url)"
      ],
      "metadata": {
        "id": "AU3x9mfiA0tO"
      },
      "id": "AU3x9mfiA0tO",
      "execution_count": 28,
      "outputs": []
    },
    {
      "cell_type": "markdown",
      "source": [
        "# Test Code"
      ],
      "metadata": {
        "id": "nZLCQcp-AJsG"
      },
      "id": "nZLCQcp-AJsG"
    }
  ],
  "metadata": {
    "kernelspec": {
      "display_name": "Python 3",
      "name": "python3"
    },
    "language_info": {
      "codemirror_mode": {
        "name": "ipython",
        "version": 3
      },
      "file_extension": ".py",
      "mimetype": "text/x-python",
      "name": "python",
      "nbconvert_exporter": "python",
      "pygments_lexer": "ipython3",
      "version": "3.8.10"
    },
    "colab": {
      "provenance": [],
      "gpuType": "T4",
      "include_colab_link": true
    },
    "accelerator": "GPU"
  },
  "nbformat": 4,
  "nbformat_minor": 5
}