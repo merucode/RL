{
  "nbformat": 4,
  "nbformat_minor": 0,
  "metadata": {
    "colab": {
      "provenance": [],
      "authorship_tag": "ABX9TyPYA2iN6nWs3F0e17QjY9ri",
      "include_colab_link": true
    },
    "kernelspec": {
      "name": "python3",
      "display_name": "Python 3"
    },
    "language_info": {
      "name": "python"
    }
  },
  "cells": [
    {
      "cell_type": "markdown",
      "metadata": {
        "id": "view-in-github",
        "colab_type": "text"
      },
      "source": [
        "<a href=\"https://colab.research.google.com/github/merucode/RL/blob/91-Proejct-Trader-Custom_ENV/11_develop_base_env.ipynb\" target=\"_parent\"><img src=\"https://colab.research.google.com/assets/colab-badge.svg\" alt=\"Open In Colab\"/></a>"
      ]
    },
    {
      "cell_type": "markdown",
      "source": [
        "# Setup ENV and Test"
      ],
      "metadata": {
        "id": "P7ZKOp96kqPV"
      }
    },
    {
      "cell_type": "code",
      "source": [
        "!git clone -b 31-Colab-Study-Udemy-Custom_ENV_snake_game https://github.com/merucode/RL.git\n",
        "!cd RL && mv * ../\n",
        "!pip install -e snake"
      ],
      "metadata": {
        "colab": {
          "base_uri": "https://localhost:8080/"
        },
        "id": "JqB3KbbFChk8",
        "outputId": "2e3200b4-0791-4c93-bb76-c646202b499f"
      },
      "execution_count": 6,
      "outputs": [
        {
          "output_type": "stream",
          "name": "stdout",
          "text": [
            "fatal: destination path 'RL' already exists and is not an empty directory.\n",
            "mv: cannot stat '*': No such file or directory\n",
            "Obtaining file:///content/snake\n",
            "  Preparing metadata (setup.py) ... \u001b[?25l\u001b[?25hdone\n",
            "Requirement already satisfied: gym in /usr/local/lib/python3.10/dist-packages (from gymsnake==0.0.1) (0.25.2)\n",
            "Requirement already satisfied: numpy>=1.18.0 in /usr/local/lib/python3.10/dist-packages (from gym->gymsnake==0.0.1) (1.23.5)\n",
            "Requirement already satisfied: cloudpickle>=1.2.0 in /usr/local/lib/python3.10/dist-packages (from gym->gymsnake==0.0.1) (2.2.1)\n",
            "Requirement already satisfied: gym-notices>=0.0.4 in /usr/local/lib/python3.10/dist-packages (from gym->gymsnake==0.0.1) (0.0.8)\n",
            "Installing collected packages: gymsnake\n",
            "  Attempting uninstall: gymsnake\n",
            "    Found existing installation: gymsnake 0.0.1\n",
            "    Uninstalling gymsnake-0.0.1:\n",
            "      Successfully uninstalled gymsnake-0.0.1\n",
            "  Running setup.py develop for gymsnake\n",
            "Successfully installed gymsnake-0.0.1\n"
          ]
        }
      ]
    },
    {
      "cell_type": "code",
      "source": [
        "import time\n",
        "import matplotlib.pyplot as plt\n",
        "import gym"
      ],
      "metadata": {
        "id": "0icHEBSjChak"
      },
      "execution_count": 1,
      "outputs": []
    },
    {
      "cell_type": "code",
      "source": [
        "env = gym.make(\"snake:snake-v0\", df=df, obs_len=30)"
      ],
      "metadata": {
        "colab": {
          "base_uri": "https://localhost:8080/"
        },
        "id": "dQebNOB8ChL4",
        "outputId": "5a9225ea-9e42-4835-e391-9de89f6045cd"
      },
      "execution_count": 3,
      "outputs": [
        {
          "output_type": "stream",
          "name": "stderr",
          "text": [
            "/usr/local/lib/python3.10/dist-packages/gym/core.py:317: DeprecationWarning: \u001b[33mWARN: Initializing wrapper in old step API which returns one bool instead of two. It is recommended to set `new_step_api=True` to use new step API. This will be the default behaviour in future.\u001b[0m\n",
            "  deprecation(\n",
            "/usr/local/lib/python3.10/dist-packages/gym/wrappers/step_api_compatibility.py:39: DeprecationWarning: \u001b[33mWARN: Initializing environment in old step API which returns one bool instead of two. It is recommended to set `new_step_api=True` to use new step API. This will be the default behaviour in future.\u001b[0m\n",
            "  deprecation(\n"
          ]
        }
      ]
    },
    {
      "cell_type": "code",
      "source": [
        "img = env.reset()\n",
        "# plt.figure()\n",
        "# plt.imshow(img)"
      ],
      "metadata": {
        "colab": {
          "base_uri": "https://localhost:8080/"
        },
        "id": "G5J7KtPiDEur",
        "outputId": "e4fb4533-e1cd-41f2-ec22-bd7476c18d00"
      },
      "execution_count": 4,
      "outputs": [
        {
          "output_type": "stream",
          "name": "stderr",
          "text": [
            "/usr/local/lib/python3.10/dist-packages/gym/utils/passive_env_checker.py:174: UserWarning: \u001b[33mWARN: Future gym versions will require that `Env.reset` can be passed a `seed` instead of using `Env.seed` for resetting the environment random number generator.\u001b[0m\n",
            "  logger.warn(\n",
            "/usr/local/lib/python3.10/dist-packages/gym/utils/passive_env_checker.py:190: UserWarning: \u001b[33mWARN: Future gym versions will require that `Env.reset` can be passed `return_info` to return information from the environment resetting.\u001b[0m\n",
            "  logger.warn(\n",
            "/usr/local/lib/python3.10/dist-packages/gym/utils/passive_env_checker.py:195: UserWarning: \u001b[33mWARN: Future gym versions will require that `Env.reset` can be passed `options` to allow the environment initialisation to be passed additional information.\u001b[0m\n",
            "  logger.warn(\n",
            "/usr/local/lib/python3.10/dist-packages/gym/utils/passive_env_checker.py:133: UserWarning: \u001b[33mWARN: The obs returned by the `reset()` method should be an int or np.int64, actual type: <class 'numpy.ndarray'>\u001b[0m\n",
            "  logger.warn(f\"{pre} should be an int or np.int64, actual type: {type(obs)}\")\n",
            "/usr/local/lib/python3.10/dist-packages/gym/utils/passive_env_checker.py:165: UserWarning: \u001b[33mWARN: The obs returned by the `reset()` method is not within the observation space.\u001b[0m\n",
            "  logger.warn(f\"{pre} is not within the observation space.\")\n"
          ]
        }
      ]
    },
    {
      "cell_type": "code",
      "source": [
        "env.reset()\n",
        "env.render(mode=\"human\")\n",
        "action = env.action_space.sample()\n",
        "img, reward, done, info = env.step(1)\n",
        "print(reward, done, info)\n",
        "plt.figure()\n",
        "plt.imshow(img)"
      ],
      "metadata": {
        "colab": {
          "base_uri": "https://localhost:8080/",
          "height": 694
        },
        "id": "rXLMystVCyIA",
        "outputId": "a5ca0975-ed27-460e-ecc7-eddf791312cb"
      },
      "execution_count": 5,
      "outputs": [
        {
          "output_type": "stream",
          "name": "stdout",
          "text": [
            "0 False {'score': 0}\n"
          ]
        },
        {
          "output_type": "stream",
          "name": "stderr",
          "text": [
            "/usr/local/lib/python3.10/dist-packages/gym/core.py:43: DeprecationWarning: \u001b[33mWARN: The argument mode in render method is deprecated; use render_mode during environment initialization instead.\n",
            "See here for more information: https://www.gymlibrary.ml/content/api/\u001b[0m\n",
            "  deprecation(\n",
            "/usr/local/lib/python3.10/dist-packages/gym/utils/passive_env_checker.py:280: UserWarning: \u001b[33mWARN: No render modes was declared in the environment (env.metadata['render_modes'] is None or not defined), you may have trouble when calling `.render()`.\u001b[0m\n",
            "  logger.warn(\n",
            "/usr/local/lib/python3.10/dist-packages/gym/utils/passive_env_checker.py:227: DeprecationWarning: \u001b[33mWARN: Core environment is written in old step API which returns one bool instead of two. It is recommended to rewrite the environment with new step API. \u001b[0m\n",
            "  logger.deprecation(\n",
            "/usr/local/lib/python3.10/dist-packages/gym/utils/passive_env_checker.py:133: UserWarning: \u001b[33mWARN: The obs returned by the `step()` method should be an int or np.int64, actual type: <class 'numpy.ndarray'>\u001b[0m\n",
            "  logger.warn(f\"{pre} should be an int or np.int64, actual type: {type(obs)}\")\n",
            "/usr/local/lib/python3.10/dist-packages/gym/utils/passive_env_checker.py:165: UserWarning: \u001b[33mWARN: The obs returned by the `step()` method is not within the observation space.\u001b[0m\n",
            "  logger.warn(f\"{pre} is not within the observation space.\")\n"
          ]
        },
        {
          "output_type": "execute_result",
          "data": {
            "text/plain": [
              "<matplotlib.image.AxesImage at 0x78ae8b09c880>"
            ]
          },
          "metadata": {},
          "execution_count": 5
        },
        {
          "output_type": "display_data",
          "data": {
            "text/plain": [
              "<Figure size 640x480 with 1 Axes>"
            ],
            "image/png": "[encoded data removed]"
          },
          "metadata": {}
        }
      ]
    },
    {
      "cell_type": "markdown",
      "source": [
        "# STEP. Ready Data"
      ],
      "metadata": {
        "id": "2Wb-zqUQ-CJS"
      }
    },
    {
      "cell_type": "code",
      "execution_count": 12,
      "metadata": {
        "id": "1sIS-a2zDpi4",
        "colab": {
          "base_uri": "https://localhost:8080/"
        },
        "collapsed": true,
        "outputId": "59692510-f590-4b1f-b434-98773453148b"
      },
      "outputs": [
        {
          "output_type": "stream",
          "name": "stdout",
          "text": [
            "Requirement already satisfied: pykrx in /usr/local/lib/python3.10/dist-packages (1.0.45)\n",
            "Requirement already satisfied: requests in /usr/local/lib/python3.10/dist-packages (from pykrx) (2.31.0)\n",
            "Requirement already satisfied: pandas in /usr/local/lib/python3.10/dist-packages (from pykrx) (1.5.3)\n",
            "Requirement already satisfied: datetime in /usr/local/lib/python3.10/dist-packages (from pykrx) (5.2)\n",
            "Requirement already satisfied: numpy in /usr/local/lib/python3.10/dist-packages (from pykrx) (1.23.5)\n",
            "Requirement already satisfied: xlrd in /usr/local/lib/python3.10/dist-packages (from pykrx) (2.0.1)\n",
            "Requirement already satisfied: deprecated in /usr/local/lib/python3.10/dist-packages (from pykrx) (1.2.14)\n",
            "Requirement already satisfied: multipledispatch in /usr/local/lib/python3.10/dist-packages (from pykrx) (1.0.0)\n",
            "Requirement already satisfied: matplotlib in /usr/local/lib/python3.10/dist-packages (from pykrx) (3.7.1)\n",
            "Requirement already satisfied: zope.interface in /usr/local/lib/python3.10/dist-packages (from datetime->pykrx) (6.0)\n",
            "Requirement already satisfied: pytz in /usr/local/lib/python3.10/dist-packages (from datetime->pykrx) (2022.7.1)\n",
            "Requirement already satisfied: wrapt<2,>=1.10 in /usr/local/lib/python3.10/dist-packages (from deprecated->pykrx) (1.14.1)\n",
            "Requirement already satisfied: contourpy>=1.0.1 in /usr/local/lib/python3.10/dist-packages (from matplotlib->pykrx) (1.1.0)\n",
            "Requirement already satisfied: cycler>=0.10 in /usr/local/lib/python3.10/dist-packages (from matplotlib->pykrx) (0.11.0)\n",
            "Requirement already satisfied: fonttools>=4.22.0 in /usr/local/lib/python3.10/dist-packages (from matplotlib->pykrx) (4.42.0)\n",
            "Requirement already satisfied: kiwisolver>=1.0.1 in /usr/local/lib/python3.10/dist-packages (from matplotlib->pykrx) (1.4.4)\n",
            "Requirement already satisfied: packaging>=20.0 in /usr/local/lib/python3.10/dist-packages (from matplotlib->pykrx) (23.1)\n",
            "Requirement already satisfied: pillow>=6.2.0 in /usr/local/lib/python3.10/dist-packages (from matplotlib->pykrx) (9.4.0)\n",
            "Requirement already satisfied: pyparsing>=2.3.1 in /usr/local/lib/python3.10/dist-packages (from matplotlib->pykrx) (3.1.1)\n",
            "Requirement already satisfied: python-dateutil>=2.7 in /usr/local/lib/python3.10/dist-packages (from matplotlib->pykrx) (2.8.2)\n",
            "Requirement already satisfied: charset-normalizer<4,>=2 in /usr/local/lib/python3.10/dist-packages (from requests->pykrx) (3.2.0)\n",
            "Requirement already satisfied: idna<4,>=2.5 in /usr/local/lib/python3.10/dist-packages (from requests->pykrx) (3.4)\n",
            "Requirement already satisfied: urllib3<3,>=1.21.1 in /usr/local/lib/python3.10/dist-packages (from requests->pykrx) (1.26.16)\n",
            "Requirement already satisfied: certifi>=2017.4.17 in /usr/local/lib/python3.10/dist-packages (from requests->pykrx) (2023.7.22)\n",
            "Requirement already satisfied: six>=1.5 in /usr/local/lib/python3.10/dist-packages (from python-dateutil>=2.7->matplotlib->pykrx) (1.16.0)\n",
            "Requirement already satisfied: setuptools in /usr/local/lib/python3.10/dist-packages (from zope.interface->datetime->pykrx) (67.7.2)\n"
          ]
        }
      ],
      "source": [
        "!pip install pykrx"
      ]
    },
    {
      "cell_type": "code",
      "source": [
        "### DATA\n",
        "from pykrx import stock\n",
        "import pandas as pd\n",
        "\n",
        "df = stock.get_market_ohlcv(\"20210720\", \"20221010\", \"005930\")\n",
        "df = df[df.columns.tolist()[:-1]]\n",
        "df.columns = ['open', 'high', 'low', 'close', 'volume']\n",
        "\n",
        "df = df.reset_index(drop=True)\n",
        "print(df.head(3))"
      ],
      "metadata": {
        "colab": {
          "base_uri": "https://localhost:8080/"
        },
        "id": "NSrcayMO9fTv",
        "outputId": "c774c0ab-eae9-48df-ab9d-fa77224fc63b"
      },
      "execution_count": 2,
      "outputs": [
        {
          "output_type": "stream",
          "name": "stderr",
          "text": [
            "/usr/local/lib/python3.10/dist-packages/ipykernel/ipkernel.py:283: DeprecationWarning: `should_run_async` will not call `transform_cell` automatically in the future. Please pass the result to `transformed_cell` argument and any exception that happen during thetransform in `preprocessing_exc_tuple` in IPython 7.17 and above.\n",
            "  and should_run_async(code)\n"
          ]
        },
        {
          "output_type": "stream",
          "name": "stdout",
          "text": [
            "    open   high    low  close    volume\n",
            "0  78500  79000  78400  79000  12456646\n",
            "1  79000  79100  78500  78500  12355296\n",
            "2  79000  79800  78900  79700  12618790\n"
          ]
        }
      ]
    },
    {
      "cell_type": "code",
      "source": [
        "### init\n",
        "time_step = 0\n",
        "list_df = []\n",
        "\n",
        "for i in range(7):\n",
        "    list_df.append(df.iloc[i].tolist())\n",
        "\n",
        "print(list_df[0])"
      ],
      "metadata": {
        "colab": {
          "base_uri": "https://localhost:8080/"
        },
        "id": "p3U21haRHYsU",
        "outputId": "88d84202-54ce-4f65-e277-9a1357d71436"
      },
      "execution_count": 7,
      "outputs": [
        {
          "output_type": "stream",
          "name": "stdout",
          "text": [
            "[78500, 79000, 78400, 79000, 12456646]\n"
          ]
        },
        {
          "output_type": "stream",
          "name": "stderr",
          "text": [
            "/usr/local/lib/python3.10/dist-packages/ipykernel/ipkernel.py:283: DeprecationWarning: `should_run_async` will not call `transform_cell` automatically in the future. Please pass the result to `transformed_cell` argument and any exception that happen during thetransform in `preprocessing_exc_tuple` in IPython 7.17 and above.\n",
            "  and should_run_async(code)\n"
          ]
        }
      ]
    },
    {
      "cell_type": "code",
      "source": [
        "def loop_obs_df(list_df, time_step):\n",
        "    list_df.pop(0)\n",
        "    list_df.append(df.iloc[time_step + 7].tolist())\n",
        "    time_step += 1\n",
        "    return list_df, time_step"
      ],
      "metadata": {
        "id": "-1U6H1TDGgPk"
      },
      "execution_count": 52,
      "outputs": []
    },
    {
      "cell_type": "code",
      "source": [
        "list_df, time_step = loop_obs_df(list_df, time_step)\n",
        "print(list_df)"
      ],
      "metadata": {
        "colab": {
          "base_uri": "https://localhost:8080/"
        },
        "id": "x4oS5yYjHLW6",
        "outputId": "556b986a-6a7c-4e39-d971-4a7cbce4d3b9"
      },
      "execution_count": 35,
      "outputs": [
        {
          "output_type": "stream",
          "name": "stdout",
          "text": [
            "[[79000, 79100, 78500, 78500, 12355296], [79000, 79800, 78900, 79700, 12618790], [79700, 79900, 79200, 79300, 9098910], [79400, 79500, 78800, 78800, 10040975], [79200, 79400, 78500, 78500, 11427693], [78300, 79200, 78100, 79200, 12743417]]\n"
          ]
        },
        {
          "output_type": "stream",
          "name": "stderr",
          "text": [
            "/usr/local/lib/python3.10/dist-packages/ipykernel/ipkernel.py:283: DeprecationWarning: `should_run_async` will not call `transform_cell` automatically in the future. Please pass the result to `transformed_cell` argument and any exception that happen during thetransform in `preprocessing_exc_tuple` in IPython 7.17 and above.\n",
            "  and should_run_async(code)\n"
          ]
        }
      ]
    },
    {
      "cell_type": "code",
      "source": [
        "len(list_df)"
      ],
      "metadata": {
        "colab": {
          "base_uri": "https://localhost:8080/"
        },
        "id": "W6hqOLHuV6Iw",
        "outputId": "a44d8ac3-0740-42c6-868d-a56348de930f"
      },
      "execution_count": 56,
      "outputs": [
        {
          "output_type": "stream",
          "name": "stderr",
          "text": [
            "/usr/local/lib/python3.10/dist-packages/ipykernel/ipkernel.py:283: DeprecationWarning: `should_run_async` will not call `transform_cell` automatically in the future. Please pass the result to `transformed_cell` argument and any exception that happen during thetransform in `preprocessing_exc_tuple` in IPython 7.17 and above.\n",
            "  and should_run_async(code)\n"
          ]
        },
        {
          "output_type": "execute_result",
          "data": {
            "text/plain": [
              "7"
            ]
          },
          "metadata": {},
          "execution_count": 56
        }
      ]
    },
    {
      "cell_type": "code",
      "source": [
        "\n",
        "\n",
        "print(list_df)\n",
        "list_df.pop(0)\n",
        "print(list_df)"
      ],
      "metadata": {
        "id": "y5wEL5wYHTq8"
      },
      "execution_count": null,
      "outputs": []
    },
    {
      "cell_type": "markdown",
      "source": [
        "# STEP. ENV Code Test"
      ],
      "metadata": {
        "id": "QTOOHJNI9_Lg"
      }
    },
    {
      "cell_type": "code",
      "source": [
        "import time\n",
        "\n",
        "import numpy as np\n",
        "\n",
        "import gym\n",
        "from gym import error, spaces, utils\n",
        "from gym.utils import seeding\n",
        "\n",
        "import pygame, sys, time, random\n",
        "from pygame.surfarray import array3d\n",
        "from pygame import display"
      ],
      "metadata": {
        "id": "C0IfIFrX-qJp"
      },
      "execution_count": 8,
      "outputs": []
    },
    {
      "cell_type": "code",
      "source": [
        "BLACK = pygame.Color(0, 0, 0)\n",
        "WHITE = pygame.Color(255, 255, 255)\n",
        "RED = pygame.Color(255, 0, 0)\n",
        "GREEN = pygame.Color(0, 255, 0)\n",
        "BLUE = pygame.Color(0, 0, 255)"
      ],
      "metadata": {
        "id": "5vcgJ00y_JKy"
      },
      "execution_count": 9,
      "outputs": []
    },
    {
      "cell_type": "code",
      "source": [
        "class SnakeEnv(gym.Env):\n",
        "    metadata = {'render.modes': ['human']}\n",
        "\n",
        "    def __init__(self, df, obs_len=30):\n",
        "        self.df = df\n",
        "        self.obs_len=obs_len\n",
        "\n",
        "        self.action_space = spaces.Discrete(4)\n",
        "        self.observation_space = spaces.Discrete(4) # Not use observation space(Handling Error) # We observate images\n",
        "        self.frame_size_x = 900\n",
        "        self.frame_size_y = 900\n",
        "        self.game_window = pygame.display.set_mode((self.frame_size_x, self.frame_size_y))\n",
        "        self.reset()\n",
        "        self.STEP_LIMIT = 1000\n",
        "        self.sleep = 0\n",
        "\n",
        "        self.candle_width = self.frame_size_x // self.obs_len\n",
        "\n",
        "    def get_obs_df_init(self):\n",
        "        list_df = []\n",
        "\n",
        "        for i in range(self.obs_len):\n",
        "            list_df.append(self.df.iloc[i].tolist())\n",
        "\n",
        "        return list_df\n",
        "\n",
        "\n",
        "    def reset(self):\n",
        "        self.game_window.fill(BLACK)\n",
        "        self.snake_pos = [100, 50]\n",
        "        self.snake_body = [[100, 50], [100-10, 50], [100-(2*10), 50]]\n",
        "        #self.food_pos = self.spawn_food()\n",
        "        self.food_spawn = True\n",
        "\n",
        "        self.direction = \"RIGHT\"\n",
        "        self.change_to = self.direction\n",
        "        self.score = 0\n",
        "        self.steps = 0\n",
        "\n",
        "        img = array3d(display.get_surface())\n",
        "        img = np.swapaxes(img, 0, 1)\n",
        "\n",
        "        ###\n",
        "        self.list_df = self.get_obs_df_init()\n",
        "\n",
        "\n",
        "        return img"
      ],
      "metadata": {
        "id": "5dulD2W3-skp"
      },
      "execution_count": 33,
      "outputs": []
    },
    {
      "cell_type": "code",
      "source": [
        "env = SnakeEnv(df=df,obs_len=30)"
      ],
      "metadata": {
        "id": "tnK72yYaeGrn"
      },
      "execution_count": 34,
      "outputs": []
    },
    {
      "cell_type": "markdown",
      "source": [
        "# snake_env.py"
      ],
      "metadata": {
        "id": "S7gwvPvahsMI"
      }
    },
    {
      "cell_type": "code",
      "source": [
        "import time\n",
        "\n",
        "import numpy as np\n",
        "\n",
        "import gym\n",
        "from gym import error, spaces, utils\n",
        "from gym.utils import seeding\n",
        "\n",
        "import pygame, sys, time, random\n",
        "from pygame.surfarray import array3d\n",
        "from pygame import display\n",
        "\n",
        "BLACK = pygame.Color(0, 0, 0)\n",
        "WHITE = pygame.Color(255, 255, 255)\n",
        "RED = pygame.Color(255, 0, 0)\n",
        "GREEN = pygame.Color(0, 255, 0)\n",
        "BLUE = pygame.Color(0, 0, 255)\n",
        "\n",
        "\"\"\"\n",
        "df : pd.DataFrame whcich consist of columns(open, high, low, close, volume)\n",
        "obs_len : What you want observate lenth from df\n",
        "\n",
        "action_space : 3\n",
        "\n",
        "\n",
        "obs_df : list of df(obs lenth)\n",
        "get_obs_df_init : initiate obs_df\n",
        "\"\"\"\n",
        "class SnakeEnv(gym.Env):\n",
        "    metadata = {'render.modes': ['human']}\n",
        "\n",
        "    def __init__(self, df, obs_len=30):\n",
        "        self.df = df  ###\n",
        "        self.obs_len = obs_len  ###\n",
        "\n",
        "        self.action_space = spaces.Discrete(4)\n",
        "        self.observation_space = spaces.Discrete(4) # Not use observation space(Handling Error) # We observate images\n",
        "        self.frame_size_x = 900\n",
        "        self.frame_size_y = 900\n",
        "        self.game_window = pygame.display.set_mode((self.frame_size_x, self.frame_size_y))\n",
        "        self.reset()\n",
        "        self.STEP_LIMIT = 1000\n",
        "        self.sleep = 0\n",
        "\n",
        "        self.candle_width = self.frame_size_x // self.obs_len ###\n",
        "\n",
        "\n",
        "    def step(self, action):\n",
        "        scoreholder = self.score\n",
        "        reward = 0\n",
        "        self.direction = SnakeEnv.change_direction(action, self.direction)\n",
        "        self.snake_pos = SnakeEnv.move(self.direction, self.snake_pos)\n",
        "        self.snake_body.insert(0, list(self.snake_pos))\n",
        "\n",
        "        reward = self.food_handler()\n",
        "\n",
        "        self.update_game_state()\n",
        "\n",
        "        reward, done = self.game_over(reward)\n",
        "\n",
        "        img = self.get_image_array_from_game()\n",
        "        info = {\"score\": self.score}\n",
        "        self.steps += 1\n",
        "        time.sleep(self.sleep)\n",
        "        return img, reward, done, info\n",
        "\n",
        "\n",
        "    @staticmethod\n",
        "    def change_direction(action, direction):\n",
        "        if action == 0 and direction != \"DOWN\":\n",
        "            direction = 'UP'\n",
        "        if action==1 and direction != \"UP\":\n",
        "            direction = 'DOWN'\n",
        "        if action==2 and direction != \"RIGHT\":\n",
        "            direction = 'LEFT'\n",
        "        if action==3 and direction != \"LEFT\":\n",
        "            direction = 'RIGHT'\n",
        "        return direction\n",
        "\n",
        "    @staticmethod\n",
        "    def move(direction, snake_pos):\n",
        "        if direction == 'UP':\n",
        "            snake_pos[1] -= 10\n",
        "        if direction == 'DOWN':\n",
        "            snake_pos[1] += 10\n",
        "        if direction == 'LEFT':\n",
        "            snake_pos[0] -= 10\n",
        "        if direction == 'RIGHT':\n",
        "            snake_pos[0] += 10\n",
        "        return snake_pos\n",
        "\n",
        "\n",
        "    def eat(self):\n",
        "        return self.snake_pos[0] == self.food_pos[0] and self.snake_pos[1] == self.food_pos[1]\n",
        "\n",
        "    def spawn_food(self):\n",
        "        return [random.randrange(1, (self.frame_size_x//10)) * 10, random.randrange(1, (self.frame_size_y//10)) * 10]\n",
        "\n",
        "    def food_handler(self):\n",
        "        if self.eat():\n",
        "            self.score += 1\n",
        "            reward = 1\n",
        "            self.food_spawn = False\n",
        "        else:\n",
        "            self.snake_body.pop()\n",
        "            reward = 0\n",
        "\n",
        "        if not self.food_spawn:\n",
        "            self.food_pos = self.spawn_food()\n",
        "        self.food_spawn = True\n",
        "\n",
        "        return reward\n",
        "\n",
        "\n",
        "    ###\n",
        "    def update_game_state(self):\n",
        "        self.game_window.fill(BLACK)\n",
        "        for pos in self.snake_body:\n",
        "            pygame.draw.rect(self.game_window, GREEN, pygame.Rect(pos[0], pos[1], 10, 10))\n",
        "\n",
        "        pygame.draw.rect(self.game_window, WHITE, pygame.Rect(self.food_pos[0], self.food_pos[1], 10, 10))\n",
        "\n",
        "        ###\n",
        "        for idx in range(len(self.obs_df)):\n",
        "            if self.obs_df[idx][0] <= self.obs_df[idx][3]:\n",
        "                pygame.draw.rect(self.game_window, RED, pygame.Rect(idx*self.candle_width, idx*20, self.candle_width, 50))\n",
        "            else:\n",
        "                pygame.draw.rect(self.game_window, BLUE, pygame.Rect(idx*self.candle_width, idx*20, self.candle_width, 50))\n",
        "\n",
        "\n",
        "\n",
        "    def get_image_array_from_game(self):\n",
        "        img = array3d(display.get_surface())\n",
        "        img = np.swapaxes(img, 0, 1)\n",
        "        return img\n",
        "\n",
        "    def game_over(self, reward):\n",
        "        if self.snake_pos[0] < 0 or self.snake_pos[0] > self.frame_size_x-10:\n",
        "            return -1, True\n",
        "        if self.snake_pos[1] < 0 or self.snake_pos[1] > self.frame_size_y-10:\n",
        "            return -1, True\n",
        "\n",
        "        for block in self.snake_body[1:]:\n",
        "            if self.snake_pos[0] == block[0] and self.snake_pos[1] == block[1]:\n",
        "                return -1, True\n",
        "        if self.steps >= 1000:\n",
        "            return 0, True\n",
        "\n",
        "        return reward, False\n",
        "\n",
        "\n",
        "    ###\n",
        "    def get_obs_df_init(self):\n",
        "        obs_df = []\n",
        "\n",
        "        for i in range(self.obs_len):\n",
        "            obs_df.append(self.df.iloc[i].tolist())\n",
        "\n",
        "        return obs_df\n",
        "\n",
        "\n",
        "\n",
        "    def reset(self):\n",
        "        self.game_window.fill(BLACK)\n",
        "        self.snake_pos = [100, 50]\n",
        "        self.snake_body = [[100, 50], [100-10, 50], [100-(2*10), 50]]\n",
        "        self.food_pos = self.spawn_food()\n",
        "        self.food_spawn = True\n",
        "\n",
        "        self.direction = \"RIGHT\"\n",
        "        self.change_to = self.direction\n",
        "        self.score = 0\n",
        "        self.steps = 0\n",
        "\n",
        "        img = array3d(display.get_surface())\n",
        "        img = np.swapaxes(img, 0, 1)\n",
        "\n",
        "        ###\n",
        "        self.obs_df = self.get_obs_df_init()\n",
        "\n",
        "\n",
        "        return img\n",
        "\n",
        "\n",
        "    def render(self, mode='human'):\n",
        "        if mode == \"human\":\n",
        "            display.update()\n",
        "\n",
        "    def close(self):\n",
        "        pass"
      ],
      "metadata": {
        "id": "kDFc41KTkoQr"
      },
      "execution_count": null,
      "outputs": []
    }
  ]
}