{
  "nbformat": 4,
  "nbformat_minor": 0,
  "metadata": {
    "colab": {
      "provenance": [],
      "authorship_tag": "ABX9TyP8EJQ3vIMGp3U7xAjQ6eO+",
      "include_colab_link": true
    },
    "kernelspec": {
      "name": "python3",
      "display_name": "Python 3"
    },
    "language_info": {
      "name": "python"
    }
  },
  "cells": [
    {
      "cell_type": "markdown",
      "metadata": {
        "id": "view-in-github",
        "colab_type": "text"
      },
      "source": [
        "<a href=\"https://colab.research.google.com/github/merucode/RL/blob/91-Proejct-Trader-Custom_ENV/11_develop_base_env.ipynb\" target=\"_parent\"><img src=\"https://colab.research.google.com/assets/colab-badge.svg\" alt=\"Open In Colab\"/></a>"
      ]
    },
    {
      "cell_type": "markdown",
      "source": [
        "# Setup ENV and Test"
      ],
      "metadata": {
        "id": "P7ZKOp96kqPV"
      }
    },
    {
      "cell_type": "code",
      "source": [
        "!git clone -b 31-Study-Udemy-Custom_ENV_snake_game https://github.com/merucode/RL.git\n",
        "!cd RL && mv * ../"
      ],
      "metadata": {
        "colab": {
          "base_uri": "https://localhost:8080/"
        },
        "id": "JqB3KbbFChk8",
        "outputId": "f21481a0-3681-424f-f362-e1532552590c",
        "collapsed": true
      },
      "execution_count": 3,
      "outputs": [
        {
          "output_type": "stream",
          "name": "stdout",
          "text": [
            "fatal: destination path 'RL' already exists and is not an empty directory.\n",
            "mv: cannot stat '*': No such file or directory\n",
            "Obtaining file:///content/snake\n",
            "  Preparing metadata (setup.py) ... \u001b[?25l\u001b[?25hdone\n",
            "Requirement already satisfied: gym in /usr/local/lib/python3.10/dist-packages (from gymsnake==0.0.1) (0.25.2)\n",
            "Requirement already satisfied: numpy>=1.18.0 in /usr/local/lib/python3.10/dist-packages (from gym->gymsnake==0.0.1) (1.23.5)\n",
            "Requirement already satisfied: cloudpickle>=1.2.0 in /usr/local/lib/python3.10/dist-packages (from gym->gymsnake==0.0.1) (2.2.1)\n",
            "Requirement already satisfied: gym-notices>=0.0.4 in /usr/local/lib/python3.10/dist-packages (from gym->gymsnake==0.0.1) (0.0.8)\n",
            "Installing collected packages: gymsnake\n",
            "  Attempting uninstall: gymsnake\n",
            "    Found existing installation: gymsnake 0.0.1\n",
            "    Uninstalling gymsnake-0.0.1:\n",
            "      Successfully uninstalled gymsnake-0.0.1\n",
            "  Running setup.py develop for gymsnake\n",
            "Successfully installed gymsnake-0.0.1\n"
          ]
        }
      ]
    },
    {
      "cell_type": "code",
      "source": [
        "!pip install -e snake"
      ],
      "metadata": {
        "id": "1X00PybmPhAe",
        "outputId": "c9f3f816-1213-4f3c-a266-d70cd5e33398",
        "colab": {
          "base_uri": "https://localhost:8080/"
        }
      },
      "execution_count": 6,
      "outputs": [
        {
          "output_type": "stream",
          "name": "stdout",
          "text": [
            "Obtaining file:///content/snake\n",
            "  Preparing metadata (setup.py) ... \u001b[?25l\u001b[?25hdone\n",
            "Requirement already satisfied: gym in /usr/local/lib/python3.10/dist-packages (from gymsnake==0.0.1) (0.25.2)\n",
            "Requirement already satisfied: numpy>=1.18.0 in /usr/local/lib/python3.10/dist-packages (from gym->gymsnake==0.0.1) (1.23.5)\n",
            "Requirement already satisfied: cloudpickle>=1.2.0 in /usr/local/lib/python3.10/dist-packages (from gym->gymsnake==0.0.1) (2.2.1)\n",
            "Requirement already satisfied: gym-notices>=0.0.4 in /usr/local/lib/python3.10/dist-packages (from gym->gymsnake==0.0.1) (0.0.8)\n",
            "Installing collected packages: gymsnake\n",
            "  Attempting uninstall: gymsnake\n",
            "    Found existing installation: gymsnake 0.0.1\n",
            "    Uninstalling gymsnake-0.0.1:\n",
            "      Successfully uninstalled gymsnake-0.0.1\n",
            "  Running setup.py develop for gymsnake\n",
            "Successfully installed gymsnake-0.0.1\n"
          ]
        }
      ]
    },
    {
      "cell_type": "code",
      "source": [
        "import time\n",
        "import matplotlib.pyplot as plt\n",
        "import gym"
      ],
      "metadata": {
        "id": "0icHEBSjChak"
      },
      "execution_count": 1,
      "outputs": []
    },
    {
      "cell_type": "code",
      "source": [
        "env = gym.make(\"snake:snake-v0\", df=df, obs_len=30)"
      ],
      "metadata": {
        "colab": {
          "base_uri": "https://localhost:8080/"
        },
        "id": "dQebNOB8ChL4",
        "outputId": "2e625698-1cb7-40ad-e553-1b01c88c60b1"
      },
      "execution_count": 4,
      "outputs": [
        {
          "output_type": "stream",
          "name": "stderr",
          "text": [
            "/usr/local/lib/python3.10/dist-packages/gym/utils/passive_env_checker.py:20: UserWarning: \u001b[33mWARN: It seems a Box observation space is an image but the `dtype` is not `np.uint8`, actual type: float32. If the Box observation space is not an image, we recommend flattening the observation to have only a 1D vector.\u001b[0m\n",
            "  logger.warn(\n",
            "/usr/local/lib/python3.10/dist-packages/gym/core.py:317: DeprecationWarning: \u001b[33mWARN: Initializing wrapper in old step API which returns one bool instead of two. It is recommended to set `new_step_api=True` to use new step API. This will be the default behaviour in future.\u001b[0m\n",
            "  deprecation(\n",
            "/usr/local/lib/python3.10/dist-packages/gym/wrappers/step_api_compatibility.py:39: DeprecationWarning: \u001b[33mWARN: Initializing environment in old step API which returns one bool instead of two. It is recommended to set `new_step_api=True` to use new step API. This will be the default behaviour in future.\u001b[0m\n",
            "  deprecation(\n"
          ]
        }
      ]
    },
    {
      "cell_type": "code",
      "source": [
        "img = env.reset()\n",
        "# plt.figure()\n",
        "# plt.imshow(img)\n",
        "print(img.shape)"
      ],
      "metadata": {
        "colab": {
          "base_uri": "https://localhost:8080/"
        },
        "id": "G5J7KtPiDEur",
        "outputId": "5e1182b7-29a4-40ed-bbb7-7c81989a3c88"
      },
      "execution_count": 5,
      "outputs": [
        {
          "output_type": "stream",
          "name": "stdout",
          "text": [
            "(1600, 900, 3)\n"
          ]
        },
        {
          "output_type": "stream",
          "name": "stderr",
          "text": [
            "/usr/local/lib/python3.10/dist-packages/gym/utils/passive_env_checker.py:174: UserWarning: \u001b[33mWARN: Future gym versions will require that `Env.reset` can be passed a `seed` instead of using `Env.seed` for resetting the environment random number generator.\u001b[0m\n",
            "  logger.warn(\n",
            "/usr/local/lib/python3.10/dist-packages/gym/utils/passive_env_checker.py:190: UserWarning: \u001b[33mWARN: Future gym versions will require that `Env.reset` can be passed `return_info` to return information from the environment resetting.\u001b[0m\n",
            "  logger.warn(\n",
            "/usr/local/lib/python3.10/dist-packages/gym/utils/passive_env_checker.py:195: UserWarning: \u001b[33mWARN: Future gym versions will require that `Env.reset` can be passed `options` to allow the environment initialisation to be passed additional information.\u001b[0m\n",
            "  logger.warn(\n",
            "/usr/local/lib/python3.10/dist-packages/gym/utils/passive_env_checker.py:141: UserWarning: \u001b[33mWARN: The obs returned by the `reset()` method was expecting numpy array dtype to be float32, actual type: uint8\u001b[0m\n",
            "  logger.warn(\n",
            "/usr/local/lib/python3.10/dist-packages/gym/utils/passive_env_checker.py:165: UserWarning: \u001b[33mWARN: The obs returned by the `reset()` method is not within the observation space.\u001b[0m\n",
            "  logger.warn(f\"{pre} is not within the observation space.\")\n"
          ]
        }
      ]
    },
    {
      "cell_type": "code",
      "source": [
        "env.reset()\n",
        "env.render(mode=\"human\")\n",
        "action = env.action_space.sample()\n",
        "img, reward, done, info = env.step(1)\n",
        "print(reward, done, info)\n",
        "plt.figure()\n",
        "plt.imshow(img)"
      ],
      "metadata": {
        "colab": {
          "base_uri": "https://localhost:8080/",
          "height": 694
        },
        "id": "rXLMystVCyIA",
        "outputId": "08d4372a-4d30-466c-e60f-ff42e6dd7dbc"
      },
      "execution_count": 6,
      "outputs": [
        {
          "output_type": "stream",
          "name": "stdout",
          "text": [
            "0 False {'score': 0}\n"
          ]
        },
        {
          "output_type": "stream",
          "name": "stderr",
          "text": [
            "/usr/local/lib/python3.10/dist-packages/gym/core.py:43: DeprecationWarning: \u001b[33mWARN: The argument mode in render method is deprecated; use render_mode during environment initialization instead.\n",
            "See here for more information: https://www.gymlibrary.ml/content/api/\u001b[0m\n",
            "  deprecation(\n",
            "/usr/local/lib/python3.10/dist-packages/gym/utils/passive_env_checker.py:280: UserWarning: \u001b[33mWARN: No render modes was declared in the environment (env.metadata['render_modes'] is None or not defined), you may have trouble when calling `.render()`.\u001b[0m\n",
            "  logger.warn(\n",
            "/usr/local/lib/python3.10/dist-packages/gym/utils/passive_env_checker.py:227: DeprecationWarning: \u001b[33mWARN: Core environment is written in old step API which returns one bool instead of two. It is recommended to rewrite the environment with new step API. \u001b[0m\n",
            "  logger.deprecation(\n",
            "/usr/local/lib/python3.10/dist-packages/gym/utils/passive_env_checker.py:141: UserWarning: \u001b[33mWARN: The obs returned by the `step()` method was expecting numpy array dtype to be float32, actual type: uint8\u001b[0m\n",
            "  logger.warn(\n",
            "/usr/local/lib/python3.10/dist-packages/gym/utils/passive_env_checker.py:165: UserWarning: \u001b[33mWARN: The obs returned by the `step()` method is not within the observation space.\u001b[0m\n",
            "  logger.warn(f\"{pre} is not within the observation space.\")\n"
          ]
        },
        {
          "output_type": "execute_result",
          "data": {
            "text/plain": [
              "<matplotlib.image.AxesImage at 0x7a295ae70c40>"
            ]
          },
          "metadata": {},
          "execution_count": 6
        },
        {
          "output_type": "display_data",
          "data": {
            "text/plain": [
              "<Figure size 640x480 with 1 Axes>"
            ],
            "image/png": "[encoded data removed]"
          },
          "metadata": {}
        }
      ]
    },
    {
      "cell_type": "code",
      "source": [
        "df[:30]"
      ],
      "metadata": {
        "id": "6eKxJkDneYgG",
        "outputId": "b88679c1-b226-4697-ac7e-92bf25e1ce97",
        "colab": {
          "base_uri": "https://localhost:8080/",
          "height": 990
        }
      },
      "execution_count": 8,
      "outputs": [
        {
          "output_type": "execute_result",
          "data": {
            "text/plain": [
              "     open   high    low  close    volume\n",
              "0   78500  79000  78400  79000  12456646\n",
              "1   79000  79100  78500  78500  12355296\n",
              "2   79000  79800  78900  79700  12618790\n",
              "3   79700  79900  79200  79300   9098910\n",
              "4   79400  79500  78800  78800  10040975\n",
              "5   79200  79400  78500  78500  11427693\n",
              "6   78300  79200  78100  79200  12743417\n",
              "7   78800  79400  78800  79000  14360453\n",
              "8   78900  78900  78500  78500  13823411\n",
              "9   79200  79500  78700  79300  11739124\n",
              "10  79400  81400  79300  81400  24339360\n",
              "11  82200  83100  81800  82900  25642368\n",
              "12  83300  83300  82000  82100  18485469\n",
              "13  81900  82500  81300  81500  13342623\n",
              "14  81500  82300  80900  81500  15522581\n",
              "15  82300  82400  80100  80200  20362639\n",
              "16  79600  79800  78500  78500  30241137\n",
              "17  77100  78200  76900  77000  42365223\n",
              "18  75800  76000  74100  74400  61270643\n",
              "19  74000  75100  74000  74200  30944847\n",
              "20  73900  74600  73100  73900  29192631\n",
              "21  73500  74400  73100  73100  22166298\n",
              "22  73500  73900  72500  72700  22364803\n",
              "23  73300  74000  73000  73300  19384648\n",
              "24  73900  75700  73900  75600  21016913\n",
              "25  76200  76600  74900  75700  22319664\n",
              "26  76100  76200  74600  74600  16671494\n",
              "27  74300  75000  73800  74300  15172748\n",
              "28  75400  75500  74200  74600  12686999\n",
              "29  74900  76700  74300  76700  24630370"
            ],
            "text/html": [
              "\n",
              "\n",
              "  <div id=\"df-73521df7-b36e-417d-8974-5ccd2ff08c7e\">\n",
              "    <div class=\"colab-df-container\">\n",
              "      <div>\n",
              "<style scoped>\n",
              "    .dataframe tbody tr th:only-of-type {\n",
              "        vertical-align: middle;\n",
              "    }\n",
              "\n",
              "    .dataframe tbody tr th {\n",
              "        vertical-align: top;\n",
              "    }\n",
              "\n",
              "    .dataframe thead th {\n",
              "        text-align: right;\n",
              "    }\n",
              "</style>\n",
              "<table border=\"1\" class=\"dataframe\">\n",
              "  <thead>\n",
              "    <tr style=\"text-align: right;\">\n",
              "      <th></th>\n",
              "      <th>open</th>\n",
              "      <th>high</th>\n",
              "      <th>low</th>\n",
              "      <th>close</th>\n",
              "      <th>volume</th>\n",
              "    </tr>\n",
              "  </thead>\n",
              "  <tbody>\n",
              "    <tr>\n",
              "      <th>0</th>\n",
              "      <td>78500</td>\n",
              "      <td>79000</td>\n",
              "      <td>78400</td>\n",
              "      <td>79000</td>\n",
              "      <td>12456646</td>\n",
              "    </tr>\n",
              "    <tr>\n",
              "      <th>1</th>\n",
              "      <td>79000</td>\n",
              "      <td>79100</td>\n",
              "      <td>78500</td>\n",
              "      <td>78500</td>\n",
              "      <td>12355296</td>\n",
              "    </tr>\n",
              "    <tr>\n",
              "      <th>2</th>\n",
              "      <td>79000</td>\n",
              "      <td>79800</td>\n",
              "      <td>78900</td>\n",
              "      <td>79700</td>\n",
              "      <td>12618790</td>\n",
              "    </tr>\n",
              "    <tr>\n",
              "      <th>3</th>\n",
              "      <td>79700</td>\n",
              "      <td>79900</td>\n",
              "      <td>79200</td>\n",
              "      <td>79300</td>\n",
              "      <td>9098910</td>\n",
              "    </tr>\n",
              "    <tr>\n",
              "      <th>4</th>\n",
              "      <td>79400</td>\n",
              "      <td>79500</td>\n",
              "      <td>78800</td>\n",
              "      <td>78800</td>\n",
              "      <td>10040975</td>\n",
              "    </tr>\n",
              "    <tr>\n",
              "      <th>5</th>\n",
              "      <td>79200</td>\n",
              "      <td>79400</td>\n",
              "      <td>78500</td>\n",
              "      <td>78500</td>\n",
              "      <td>11427693</td>\n",
              "    </tr>\n",
              "    <tr>\n",
              "      <th>6</th>\n",
              "      <td>78300</td>\n",
              "      <td>79200</td>\n",
              "      <td>78100</td>\n",
              "      <td>79200</td>\n",
              "      <td>12743417</td>\n",
              "    </tr>\n",
              "    <tr>\n",
              "      <th>7</th>\n",
              "      <td>78800</td>\n",
              "      <td>79400</td>\n",
              "      <td>78800</td>\n",
              "      <td>79000</td>\n",
              "      <td>14360453</td>\n",
              "    </tr>\n",
              "    <tr>\n",
              "      <th>8</th>\n",
              "      <td>78900</td>\n",
              "      <td>78900</td>\n",
              "      <td>78500</td>\n",
              "      <td>78500</td>\n",
              "      <td>13823411</td>\n",
              "    </tr>\n",
              "    <tr>\n",
              "      <th>9</th>\n",
              "      <td>79200</td>\n",
              "      <td>79500</td>\n",
              "      <td>78700</td>\n",
              "      <td>79300</td>\n",
              "      <td>11739124</td>\n",
              "    </tr>\n",
              "    <tr>\n",
              "      <th>10</th>\n",
              "      <td>79400</td>\n",
              "      <td>81400</td>\n",
              "      <td>79300</td>\n",
              "      <td>81400</td>\n",
              "      <td>24339360</td>\n",
              "    </tr>\n",
              "    <tr>\n",
              "      <th>11</th>\n",
              "      <td>82200</td>\n",
              "      <td>83100</td>\n",
              "      <td>81800</td>\n",
              "      <td>82900</td>\n",
              "      <td>25642368</td>\n",
              "    </tr>\n",
              "    <tr>\n",
              "      <th>12</th>\n",
              "      <td>83300</td>\n",
              "      <td>83300</td>\n",
              "      <td>82000</td>\n",
              "      <td>82100</td>\n",
              "      <td>18485469</td>\n",
              "    </tr>\n",
              "    <tr>\n",
              "      <th>13</th>\n",
              "      <td>81900</td>\n",
              "      <td>82500</td>\n",
              "      <td>81300</td>\n",
              "      <td>81500</td>\n",
              "      <td>13342623</td>\n",
              "    </tr>\n",
              "    <tr>\n",
              "      <th>14</th>\n",
              "      <td>81500</td>\n",
              "      <td>82300</td>\n",
              "      <td>80900</td>\n",
              "      <td>81500</td>\n",
              "      <td>15522581</td>\n",
              "    </tr>\n",
              "    <tr>\n",
              "      <th>15</th>\n",
              "      <td>82300</td>\n",
              "      <td>82400</td>\n",
              "      <td>80100</td>\n",
              "      <td>80200</td>\n",
              "      <td>20362639</td>\n",
              "    </tr>\n",
              "    <tr>\n",
              "      <th>16</th>\n",
              "      <td>79600</td>\n",
              "      <td>79800</td>\n",
              "      <td>78500</td>\n",
              "      <td>78500</td>\n",
              "      <td>30241137</td>\n",
              "    </tr>\n",
              "    <tr>\n",
              "      <th>17</th>\n",
              "      <td>77100</td>\n",
              "      <td>78200</td>\n",
              "      <td>76900</td>\n",
              "      <td>77000</td>\n",
              "      <td>42365223</td>\n",
              "    </tr>\n",
              "    <tr>\n",
              "      <th>18</th>\n",
              "      <td>75800</td>\n",
              "      <td>76000</td>\n",
              "      <td>74100</td>\n",
              "      <td>74400</td>\n",
              "      <td>61270643</td>\n",
              "    </tr>\n",
              "    <tr>\n",
              "      <th>19</th>\n",
              "      <td>74000</td>\n",
              "      <td>75100</td>\n",
              "      <td>74000</td>\n",
              "      <td>74200</td>\n",
              "      <td>30944847</td>\n",
              "    </tr>\n",
              "    <tr>\n",
              "      <th>20</th>\n",
              "      <td>73900</td>\n",
              "      <td>74600</td>\n",
              "      <td>73100</td>\n",
              "      <td>73900</td>\n",
              "      <td>29192631</td>\n",
              "    </tr>\n",
              "    <tr>\n",
              "      <th>21</th>\n",
              "      <td>73500</td>\n",
              "      <td>74400</td>\n",
              "      <td>73100</td>\n",
              "      <td>73100</td>\n",
              "      <td>22166298</td>\n",
              "    </tr>\n",
              "    <tr>\n",
              "      <th>22</th>\n",
              "      <td>73500</td>\n",
              "      <td>73900</td>\n",
              "      <td>72500</td>\n",
              "      <td>72700</td>\n",
              "      <td>22364803</td>\n",
              "    </tr>\n",
              "    <tr>\n",
              "      <th>23</th>\n",
              "      <td>73300</td>\n",
              "      <td>74000</td>\n",
              "      <td>73000</td>\n",
              "      <td>73300</td>\n",
              "      <td>19384648</td>\n",
              "    </tr>\n",
              "    <tr>\n",
              "      <th>24</th>\n",
              "      <td>73900</td>\n",
              "      <td>75700</td>\n",
              "      <td>73900</td>\n",
              "      <td>75600</td>\n",
              "      <td>21016913</td>\n",
              "    </tr>\n",
              "    <tr>\n",
              "      <th>25</th>\n",
              "      <td>76200</td>\n",
              "      <td>76600</td>\n",
              "      <td>74900</td>\n",
              "      <td>75700</td>\n",
              "      <td>22319664</td>\n",
              "    </tr>\n",
              "    <tr>\n",
              "      <th>26</th>\n",
              "      <td>76100</td>\n",
              "      <td>76200</td>\n",
              "      <td>74600</td>\n",
              "      <td>74600</td>\n",
              "      <td>16671494</td>\n",
              "    </tr>\n",
              "    <tr>\n",
              "      <th>27</th>\n",
              "      <td>74300</td>\n",
              "      <td>75000</td>\n",
              "      <td>73800</td>\n",
              "      <td>74300</td>\n",
              "      <td>15172748</td>\n",
              "    </tr>\n",
              "    <tr>\n",
              "      <th>28</th>\n",
              "      <td>75400</td>\n",
              "      <td>75500</td>\n",
              "      <td>74200</td>\n",
              "      <td>74600</td>\n",
              "      <td>12686999</td>\n",
              "    </tr>\n",
              "    <tr>\n",
              "      <th>29</th>\n",
              "      <td>74900</td>\n",
              "      <td>76700</td>\n",
              "      <td>74300</td>\n",
              "      <td>76700</td>\n",
              "      <td>24630370</td>\n",
              "    </tr>\n",
              "  </tbody>\n",
              "</table>\n",
              "</div>\n",
              "      <button class=\"colab-df-convert\" onclick=\"convertToInteractive('df-73521df7-b36e-417d-8974-5ccd2ff08c7e')\"\n",
              "              title=\"Convert this dataframe to an interactive table.\"\n",
              "              style=\"display:none;\">\n",
              "\n",
              "  <svg xmlns=\"http://www.w3.org/2000/svg\" height=\"24px\"viewBox=\"0 0 24 24\"\n",
              "       width=\"24px\">\n",
              "    <path d=\"M0 0h24v24H0V0z\" fill=\"none\"/>\n",
              "    <path d=\"M18.56 5.44l.94 2.06.94-2.06 2.06-.94-2.06-.94-.94-2.06-.94 2.06-2.06.94zm-11 1L8.5 8.5l.94-2.06 2.06-.94-2.06-.94L8.5 2.5l-.94 2.06-2.06.94zm10 10l.94 2.06.94-2.06 2.06-.94-2.06-.94-.94-2.06-.94 2.06-2.06.94z\"/><path d=\"M17.41 7.96l-1.37-1.37c-.4-.4-.92-.59-1.43-.59-.52 0-1.04.2-1.43.59L10.3 9.45l-7.72 7.72c-.78.78-.78 2.05 0 2.83L4 21.41c.39.39.9.59 1.41.59.51 0 1.02-.2 1.41-.59l7.78-7.78 2.81-2.81c.8-.78.8-2.07 0-2.86zM5.41 20L4 18.59l7.72-7.72 1.47 1.35L5.41 20z\"/>\n",
              "  </svg>\n",
              "      </button>\n",
              "\n",
              "\n",
              "\n",
              "    <div id=\"df-fca3e12b-9c14-410d-b835-e50c7f97d7a6\">\n",
              "      <button class=\"colab-df-quickchart\" onclick=\"quickchart('df-fca3e12b-9c14-410d-b835-e50c7f97d7a6')\"\n",
              "              title=\"Suggest charts.\"\n",
              "              style=\"display:none;\">\n",
              "\n",
              "<svg xmlns=\"http://www.w3.org/2000/svg\" height=\"24px\"viewBox=\"0 0 24 24\"\n",
              "     width=\"24px\">\n",
              "    <g>\n",
              "        <path d=\"M19 3H5c-1.1 0-2 .9-2 2v14c0 1.1.9 2 2 2h14c1.1 0 2-.9 2-2V5c0-1.1-.9-2-2-2zM9 17H7v-7h2v7zm4 0h-2V7h2v10zm4 0h-2v-4h2v4z\"/>\n",
              "    </g>\n",
              "</svg>\n",
              "      </button>\n",
              "    </div>\n",
              "\n",
              "<style>\n",
              "  .colab-df-quickchart {\n",
              "    background-color: #E8F0FE;\n",
              "    border: none;\n",
              "    border-radius: 50%;\n",
              "    cursor: pointer;\n",
              "    display: none;\n",
              "    fill: #1967D2;\n",
              "    height: 32px;\n",
              "    padding: 0 0 0 0;\n",
              "    width: 32px;\n",
              "  }\n",
              "\n",
              "  .colab-df-quickchart:hover {\n",
              "    background-color: #E2EBFA;\n",
              "    box-shadow: 0px 1px 2px rgba(60, 64, 67, 0.3), 0px 1px 3px 1px rgba(60, 64, 67, 0.15);\n",
              "    fill: #174EA6;\n",
              "  }\n",
              "\n",
              "  [theme=dark] .colab-df-quickchart {\n",
              "    background-color: #3B4455;\n",
              "    fill: #D2E3FC;\n",
              "  }\n",
              "\n",
              "  [theme=dark] .colab-df-quickchart:hover {\n",
              "    background-color: #434B5C;\n",
              "    box-shadow: 0px 1px 3px 1px rgba(0, 0, 0, 0.15);\n",
              "    filter: drop-shadow(0px 1px 2px rgba(0, 0, 0, 0.3));\n",
              "    fill: #FFFFFF;\n",
              "  }\n",
              "</style>\n",
              "\n",
              "    <script>\n",
              "      async function quickchart(key) {\n",
              "        const containerElement = document.querySelector('#' + key);\n",
              "        const charts = await google.colab.kernel.invokeFunction(\n",
              "            'suggestCharts', [key], {});\n",
              "      }\n",
              "    </script>\n",
              "\n",
              "      <script>\n",
              "\n",
              "function displayQuickchartButton(domScope) {\n",
              "  let quickchartButtonEl =\n",
              "    domScope.querySelector('#df-fca3e12b-9c14-410d-b835-e50c7f97d7a6 button.colab-df-quickchart');\n",
              "  quickchartButtonEl.style.display =\n",
              "    google.colab.kernel.accessAllowed ? 'block' : 'none';\n",
              "}\n",
              "\n",
              "        displayQuickchartButton(document);\n",
              "      </script>\n",
              "      <style>\n",
              "    .colab-df-container {\n",
              "      display:flex;\n",
              "      flex-wrap:wrap;\n",
              "      gap: 12px;\n",
              "    }\n",
              "\n",
              "    .colab-df-convert {\n",
              "      background-color: #E8F0FE;\n",
              "      border: none;\n",
              "      border-radius: 50%;\n",
              "      cursor: pointer;\n",
              "      display: none;\n",
              "      fill: #1967D2;\n",
              "      height: 32px;\n",
              "      padding: 0 0 0 0;\n",
              "      width: 32px;\n",
              "    }\n",
              "\n",
              "    .colab-df-convert:hover {\n",
              "      background-color: #E2EBFA;\n",
              "      box-shadow: 0px 1px 2px rgba(60, 64, 67, 0.3), 0px 1px 3px 1px rgba(60, 64, 67, 0.15);\n",
              "      fill: #174EA6;\n",
              "    }\n",
              "\n",
              "    [theme=dark] .colab-df-convert {\n",
              "      background-color: #3B4455;\n",
              "      fill: #D2E3FC;\n",
              "    }\n",
              "\n",
              "    [theme=dark] .colab-df-convert:hover {\n",
              "      background-color: #434B5C;\n",
              "      box-shadow: 0px 1px 3px 1px rgba(0, 0, 0, 0.15);\n",
              "      filter: drop-shadow(0px 1px 2px rgba(0, 0, 0, 0.3));\n",
              "      fill: #FFFFFF;\n",
              "    }\n",
              "  </style>\n",
              "\n",
              "      <script>\n",
              "        const buttonEl =\n",
              "          document.querySelector('#df-73521df7-b36e-417d-8974-5ccd2ff08c7e button.colab-df-convert');\n",
              "        buttonEl.style.display =\n",
              "          google.colab.kernel.accessAllowed ? 'block' : 'none';\n",
              "\n",
              "        async function convertToInteractive(key) {\n",
              "          const element = document.querySelector('#df-73521df7-b36e-417d-8974-5ccd2ff08c7e');\n",
              "          const dataTable =\n",
              "            await google.colab.kernel.invokeFunction('convertToInteractive',\n",
              "                                                     [key], {});\n",
              "          if (!dataTable) return;\n",
              "\n",
              "          const docLinkHtml = 'Like what you see? Visit the ' +\n",
              "            '<a target=\"_blank\" href=https://colab.research.google.com/notebooks/data_table.ipynb>data table notebook</a>'\n",
              "            + ' to learn more about interactive tables.';\n",
              "          element.innerHTML = '';\n",
              "          dataTable['output_type'] = 'display_data';\n",
              "          await google.colab.output.renderOutput(dataTable, element);\n",
              "          const docLink = document.createElement('div');\n",
              "          docLink.innerHTML = docLinkHtml;\n",
              "          element.appendChild(docLink);\n",
              "        }\n",
              "      </script>\n",
              "    </div>\n",
              "  </div>\n"
            ]
          },
          "metadata": {},
          "execution_count": 8
        }
      ]
    },
    {
      "cell_type": "markdown",
      "source": [
        "# STEP. Ready Data"
      ],
      "metadata": {
        "id": "2Wb-zqUQ-CJS"
      }
    },
    {
      "cell_type": "code",
      "execution_count": 3,
      "metadata": {
        "id": "1sIS-a2zDpi4",
        "colab": {
          "base_uri": "https://localhost:8080/"
        },
        "collapsed": true,
        "outputId": "744a60ff-af16-4343-e3e8-cd7969978a7f"
      },
      "outputs": [
        {
          "output_type": "stream",
          "name": "stderr",
          "text": [
            "/usr/local/lib/python3.10/dist-packages/ipykernel/ipkernel.py:283: DeprecationWarning: `should_run_async` will not call `transform_cell` automatically in the future. Please pass the result to `transformed_cell` argument and any exception that happen during thetransform in `preprocessing_exc_tuple` in IPython 7.17 and above.\n",
            "  and should_run_async(code)\n"
          ]
        },
        {
          "output_type": "stream",
          "name": "stdout",
          "text": [
            "Collecting pykrx\n",
            "  Downloading pykrx-1.0.45-py3-none-any.whl (2.2 MB)\n",
            "\u001b[2K     \u001b[90m━━━━━━━━━━━━━━━━━━━━━━━━━━━━━━━━━━━━━━━━\u001b[0m \u001b[32m2.2/2.2 MB\u001b[0m \u001b[31m8.5 MB/s\u001b[0m eta \u001b[36m0:00:00\u001b[0m\n",
            "\u001b[?25hRequirement already satisfied: requests in /usr/local/lib/python3.10/dist-packages (from pykrx) (2.31.0)\n",
            "Requirement already satisfied: pandas in /usr/local/lib/python3.10/dist-packages (from pykrx) (1.5.3)\n",
            "Collecting datetime (from pykrx)\n",
            "  Downloading DateTime-5.2-py3-none-any.whl (52 kB)\n",
            "\u001b[2K     \u001b[90m━━━━━━━━━━━━━━━━━━━━━━━━━━━━━━━━━━━━━━━━\u001b[0m \u001b[32m52.2/52.2 kB\u001b[0m \u001b[31m3.8 MB/s\u001b[0m eta \u001b[36m0:00:00\u001b[0m\n",
            "\u001b[?25hRequirement already satisfied: numpy in /usr/local/lib/python3.10/dist-packages (from pykrx) (1.23.5)\n",
            "Requirement already satisfied: xlrd in /usr/local/lib/python3.10/dist-packages (from pykrx) (2.0.1)\n",
            "Collecting deprecated (from pykrx)\n",
            "  Downloading Deprecated-1.2.14-py2.py3-none-any.whl (9.6 kB)\n",
            "Requirement already satisfied: multipledispatch in /usr/local/lib/python3.10/dist-packages (from pykrx) (1.0.0)\n",
            "Requirement already satisfied: matplotlib in /usr/local/lib/python3.10/dist-packages (from pykrx) (3.7.1)\n",
            "Collecting zope.interface (from datetime->pykrx)\n",
            "  Downloading zope.interface-6.0-cp310-cp310-manylinux_2_5_x86_64.manylinux1_x86_64.manylinux_2_17_x86_64.manylinux2014_x86_64.whl (246 kB)\n",
            "\u001b[2K     \u001b[90m━━━━━━━━━━━━━━━━━━━━━━━━━━━━━━━━━━━━━━\u001b[0m \u001b[32m247.0/247.0 kB\u001b[0m \u001b[31m11.8 MB/s\u001b[0m eta \u001b[36m0:00:00\u001b[0m\n",
            "\u001b[?25hRequirement already satisfied: pytz in /usr/local/lib/python3.10/dist-packages (from datetime->pykrx) (2022.7.1)\n",
            "Requirement already satisfied: wrapt<2,>=1.10 in /usr/local/lib/python3.10/dist-packages (from deprecated->pykrx) (1.14.1)\n",
            "Requirement already satisfied: contourpy>=1.0.1 in /usr/local/lib/python3.10/dist-packages (from matplotlib->pykrx) (1.1.0)\n",
            "Requirement already satisfied: cycler>=0.10 in /usr/local/lib/python3.10/dist-packages (from matplotlib->pykrx) (0.11.0)\n",
            "Requirement already satisfied: fonttools>=4.22.0 in /usr/local/lib/python3.10/dist-packages (from matplotlib->pykrx) (4.42.0)\n",
            "Requirement already satisfied: kiwisolver>=1.0.1 in /usr/local/lib/python3.10/dist-packages (from matplotlib->pykrx) (1.4.4)\n",
            "Requirement already satisfied: packaging>=20.0 in /usr/local/lib/python3.10/dist-packages (from matplotlib->pykrx) (23.1)\n",
            "Requirement already satisfied: pillow>=6.2.0 in /usr/local/lib/python3.10/dist-packages (from matplotlib->pykrx) (9.4.0)\n",
            "Requirement already satisfied: pyparsing>=2.3.1 in /usr/local/lib/python3.10/dist-packages (from matplotlib->pykrx) (3.1.1)\n",
            "Requirement already satisfied: python-dateutil>=2.7 in /usr/local/lib/python3.10/dist-packages (from matplotlib->pykrx) (2.8.2)\n",
            "Requirement already satisfied: charset-normalizer<4,>=2 in /usr/local/lib/python3.10/dist-packages (from requests->pykrx) (3.2.0)\n",
            "Requirement already satisfied: idna<4,>=2.5 in /usr/local/lib/python3.10/dist-packages (from requests->pykrx) (3.4)\n",
            "Requirement already satisfied: urllib3<3,>=1.21.1 in /usr/local/lib/python3.10/dist-packages (from requests->pykrx) (1.26.16)\n",
            "Requirement already satisfied: certifi>=2017.4.17 in /usr/local/lib/python3.10/dist-packages (from requests->pykrx) (2023.7.22)\n",
            "Requirement already satisfied: six>=1.5 in /usr/local/lib/python3.10/dist-packages (from python-dateutil>=2.7->matplotlib->pykrx) (1.16.0)\n",
            "Requirement already satisfied: setuptools in /usr/local/lib/python3.10/dist-packages (from zope.interface->datetime->pykrx) (67.7.2)\n",
            "Installing collected packages: zope.interface, deprecated, datetime, pykrx\n",
            "Successfully installed datetime-5.2 deprecated-1.2.14 pykrx-1.0.45 zope.interface-6.0\n"
          ]
        }
      ],
      "source": [
        "!pip install pykrx"
      ]
    },
    {
      "cell_type": "code",
      "source": [
        "### DATA\n",
        "from pykrx import stock\n",
        "import pandas as pd\n",
        "\n",
        "df = stock.get_market_ohlcv(\"20210720\", \"20221010\", \"005930\")\n",
        "df = df[df.columns.tolist()[:-1]]\n",
        "df.columns = ['open', 'high', 'low', 'close', 'volume']\n",
        "\n",
        "df = df.reset_index(drop=True)\n",
        "print(df.head(3))"
      ],
      "metadata": {
        "colab": {
          "base_uri": "https://localhost:8080/"
        },
        "id": "NSrcayMO9fTv",
        "outputId": "2d2f9e70-a273-4f73-a9fc-b869a0ff5bdc"
      },
      "execution_count": 2,
      "outputs": [
        {
          "output_type": "stream",
          "name": "stderr",
          "text": [
            "/usr/local/lib/python3.10/dist-packages/ipykernel/ipkernel.py:283: DeprecationWarning: `should_run_async` will not call `transform_cell` automatically in the future. Please pass the result to `transformed_cell` argument and any exception that happen during thetransform in `preprocessing_exc_tuple` in IPython 7.17 and above.\n",
            "  and should_run_async(code)\n"
          ]
        },
        {
          "output_type": "stream",
          "name": "stdout",
          "text": [
            "    open   high    low  close    volume\n",
            "0  78500  79000  78400  79000  12456646\n",
            "1  79000  79100  78500  78500  12355296\n",
            "2  79000  79800  78900  79700  12618790\n"
          ]
        }
      ]
    },
    {
      "cell_type": "code",
      "source": [
        "### init\n",
        "time_step = 0\n",
        "list_df = []\n",
        "\n",
        "for i in range(7):\n",
        "    list_df.append(df.iloc[i].tolist())\n",
        "\n",
        "print(list_df[0])"
      ],
      "metadata": {
        "colab": {
          "base_uri": "https://localhost:8080/"
        },
        "id": "p3U21haRHYsU",
        "outputId": "88d84202-54ce-4f65-e277-9a1357d71436"
      },
      "execution_count": null,
      "outputs": [
        {
          "output_type": "stream",
          "name": "stdout",
          "text": [
            "[78500, 79000, 78400, 79000, 12456646]\n"
          ]
        },
        {
          "output_type": "stream",
          "name": "stderr",
          "text": [
            "/usr/local/lib/python3.10/dist-packages/ipykernel/ipkernel.py:283: DeprecationWarning: `should_run_async` will not call `transform_cell` automatically in the future. Please pass the result to `transformed_cell` argument and any exception that happen during thetransform in `preprocessing_exc_tuple` in IPython 7.17 and above.\n",
            "  and should_run_async(code)\n"
          ]
        }
      ]
    },
    {
      "cell_type": "code",
      "source": [
        "def loop_obs_df(list_df, time_step):\n",
        "    list_df.pop(0)\n",
        "    list_df.append(df.iloc[time_step + 7].tolist())\n",
        "    time_step += 1\n",
        "    return list_df, time_step"
      ],
      "metadata": {
        "id": "-1U6H1TDGgPk"
      },
      "execution_count": null,
      "outputs": []
    },
    {
      "cell_type": "code",
      "source": [
        "list_df, time_step = loop_obs_df(list_df, time_step)\n",
        "print(list_df)"
      ],
      "metadata": {
        "colab": {
          "base_uri": "https://localhost:8080/"
        },
        "id": "x4oS5yYjHLW6",
        "outputId": "556b986a-6a7c-4e39-d971-4a7cbce4d3b9"
      },
      "execution_count": null,
      "outputs": [
        {
          "output_type": "stream",
          "name": "stdout",
          "text": [
            "[[79000, 79100, 78500, 78500, 12355296], [79000, 79800, 78900, 79700, 12618790], [79700, 79900, 79200, 79300, 9098910], [79400, 79500, 78800, 78800, 10040975], [79200, 79400, 78500, 78500, 11427693], [78300, 79200, 78100, 79200, 12743417]]\n"
          ]
        },
        {
          "output_type": "stream",
          "name": "stderr",
          "text": [
            "/usr/local/lib/python3.10/dist-packages/ipykernel/ipkernel.py:283: DeprecationWarning: `should_run_async` will not call `transform_cell` automatically in the future. Please pass the result to `transformed_cell` argument and any exception that happen during thetransform in `preprocessing_exc_tuple` in IPython 7.17 and above.\n",
            "  and should_run_async(code)\n"
          ]
        }
      ]
    },
    {
      "cell_type": "code",
      "source": [
        "len(list_df)"
      ],
      "metadata": {
        "colab": {
          "base_uri": "https://localhost:8080/"
        },
        "id": "W6hqOLHuV6Iw",
        "outputId": "a44d8ac3-0740-42c6-868d-a56348de930f"
      },
      "execution_count": null,
      "outputs": [
        {
          "output_type": "stream",
          "name": "stderr",
          "text": [
            "/usr/local/lib/python3.10/dist-packages/ipykernel/ipkernel.py:283: DeprecationWarning: `should_run_async` will not call `transform_cell` automatically in the future. Please pass the result to `transformed_cell` argument and any exception that happen during thetransform in `preprocessing_exc_tuple` in IPython 7.17 and above.\n",
            "  and should_run_async(code)\n"
          ]
        },
        {
          "output_type": "execute_result",
          "data": {
            "text/plain": [
              "7"
            ]
          },
          "metadata": {},
          "execution_count": 56
        }
      ]
    },
    {
      "cell_type": "code",
      "source": [
        "print(list_df)\n",
        "list_df.pop(0)\n",
        "print(list_df)"
      ],
      "metadata": {
        "id": "y5wEL5wYHTq8"
      },
      "execution_count": null,
      "outputs": []
    },
    {
      "cell_type": "code",
      "source": [
        "df_v = df[df.columns[-1:]]\n",
        "df = df[df.columns[:4]]\n",
        "df_v.head(3)"
      ],
      "metadata": {
        "id": "O0RDbiSvVzqd",
        "outputId": "e1b379e0-831c-4684-aa06-1669b245aa97",
        "colab": {
          "base_uri": "https://localhost:8080/",
          "height": 143
        }
      },
      "execution_count": 12,
      "outputs": [
        {
          "output_type": "execute_result",
          "data": {
            "text/plain": [
              "     volume\n",
              "0  12456646\n",
              "1  12355296\n",
              "2  12618790"
            ],
            "text/html": [
              "\n",
              "\n",
              "  <div id=\"df-e6b8d191-9144-4f51-a994-f933d202a323\">\n",
              "    <div class=\"colab-df-container\">\n",
              "      <div>\n",
              "<style scoped>\n",
              "    .dataframe tbody tr th:only-of-type {\n",
              "        vertical-align: middle;\n",
              "    }\n",
              "\n",
              "    .dataframe tbody tr th {\n",
              "        vertical-align: top;\n",
              "    }\n",
              "\n",
              "    .dataframe thead th {\n",
              "        text-align: right;\n",
              "    }\n",
              "</style>\n",
              "<table border=\"1\" class=\"dataframe\">\n",
              "  <thead>\n",
              "    <tr style=\"text-align: right;\">\n",
              "      <th></th>\n",
              "      <th>volume</th>\n",
              "    </tr>\n",
              "  </thead>\n",
              "  <tbody>\n",
              "    <tr>\n",
              "      <th>0</th>\n",
              "      <td>12456646</td>\n",
              "    </tr>\n",
              "    <tr>\n",
              "      <th>1</th>\n",
              "      <td>12355296</td>\n",
              "    </tr>\n",
              "    <tr>\n",
              "      <th>2</th>\n",
              "      <td>12618790</td>\n",
              "    </tr>\n",
              "  </tbody>\n",
              "</table>\n",
              "</div>\n",
              "      <button class=\"colab-df-convert\" onclick=\"convertToInteractive('df-e6b8d191-9144-4f51-a994-f933d202a323')\"\n",
              "              title=\"Convert this dataframe to an interactive table.\"\n",
              "              style=\"display:none;\">\n",
              "\n",
              "  <svg xmlns=\"http://www.w3.org/2000/svg\" height=\"24px\"viewBox=\"0 0 24 24\"\n",
              "       width=\"24px\">\n",
              "    <path d=\"M0 0h24v24H0V0z\" fill=\"none\"/>\n",
              "    <path d=\"M18.56 5.44l.94 2.06.94-2.06 2.06-.94-2.06-.94-.94-2.06-.94 2.06-2.06.94zm-11 1L8.5 8.5l.94-2.06 2.06-.94-2.06-.94L8.5 2.5l-.94 2.06-2.06.94zm10 10l.94 2.06.94-2.06 2.06-.94-2.06-.94-.94-2.06-.94 2.06-2.06.94z\"/><path d=\"M17.41 7.96l-1.37-1.37c-.4-.4-.92-.59-1.43-.59-.52 0-1.04.2-1.43.59L10.3 9.45l-7.72 7.72c-.78.78-.78 2.05 0 2.83L4 21.41c.39.39.9.59 1.41.59.51 0 1.02-.2 1.41-.59l7.78-7.78 2.81-2.81c.8-.78.8-2.07 0-2.86zM5.41 20L4 18.59l7.72-7.72 1.47 1.35L5.41 20z\"/>\n",
              "  </svg>\n",
              "      </button>\n",
              "\n",
              "\n",
              "\n",
              "    <div id=\"df-ecd878a4-ab1a-4e05-a5bf-df9303994b6d\">\n",
              "      <button class=\"colab-df-quickchart\" onclick=\"quickchart('df-ecd878a4-ab1a-4e05-a5bf-df9303994b6d')\"\n",
              "              title=\"Suggest charts.\"\n",
              "              style=\"display:none;\">\n",
              "\n",
              "<svg xmlns=\"http://www.w3.org/2000/svg\" height=\"24px\"viewBox=\"0 0 24 24\"\n",
              "     width=\"24px\">\n",
              "    <g>\n",
              "        <path d=\"M19 3H5c-1.1 0-2 .9-2 2v14c0 1.1.9 2 2 2h14c1.1 0 2-.9 2-2V5c0-1.1-.9-2-2-2zM9 17H7v-7h2v7zm4 0h-2V7h2v10zm4 0h-2v-4h2v4z\"/>\n",
              "    </g>\n",
              "</svg>\n",
              "      </button>\n",
              "    </div>\n",
              "\n",
              "<style>\n",
              "  .colab-df-quickchart {\n",
              "    background-color: #E8F0FE;\n",
              "    border: none;\n",
              "    border-radius: 50%;\n",
              "    cursor: pointer;\n",
              "    display: none;\n",
              "    fill: #1967D2;\n",
              "    height: 32px;\n",
              "    padding: 0 0 0 0;\n",
              "    width: 32px;\n",
              "  }\n",
              "\n",
              "  .colab-df-quickchart:hover {\n",
              "    background-color: #E2EBFA;\n",
              "    box-shadow: 0px 1px 2px rgba(60, 64, 67, 0.3), 0px 1px 3px 1px rgba(60, 64, 67, 0.15);\n",
              "    fill: #174EA6;\n",
              "  }\n",
              "\n",
              "  [theme=dark] .colab-df-quickchart {\n",
              "    background-color: #3B4455;\n",
              "    fill: #D2E3FC;\n",
              "  }\n",
              "\n",
              "  [theme=dark] .colab-df-quickchart:hover {\n",
              "    background-color: #434B5C;\n",
              "    box-shadow: 0px 1px 3px 1px rgba(0, 0, 0, 0.15);\n",
              "    filter: drop-shadow(0px 1px 2px rgba(0, 0, 0, 0.3));\n",
              "    fill: #FFFFFF;\n",
              "  }\n",
              "</style>\n",
              "\n",
              "    <script>\n",
              "      async function quickchart(key) {\n",
              "        const containerElement = document.querySelector('#' + key);\n",
              "        const charts = await google.colab.kernel.invokeFunction(\n",
              "            'suggestCharts', [key], {});\n",
              "      }\n",
              "    </script>\n",
              "\n",
              "      <script>\n",
              "\n",
              "function displayQuickchartButton(domScope) {\n",
              "  let quickchartButtonEl =\n",
              "    domScope.querySelector('#df-ecd878a4-ab1a-4e05-a5bf-df9303994b6d button.colab-df-quickchart');\n",
              "  quickchartButtonEl.style.display =\n",
              "    google.colab.kernel.accessAllowed ? 'block' : 'none';\n",
              "}\n",
              "\n",
              "        displayQuickchartButton(document);\n",
              "      </script>\n",
              "      <style>\n",
              "    .colab-df-container {\n",
              "      display:flex;\n",
              "      flex-wrap:wrap;\n",
              "      gap: 12px;\n",
              "    }\n",
              "\n",
              "    .colab-df-convert {\n",
              "      background-color: #E8F0FE;\n",
              "      border: none;\n",
              "      border-radius: 50%;\n",
              "      cursor: pointer;\n",
              "      display: none;\n",
              "      fill: #1967D2;\n",
              "      height: 32px;\n",
              "      padding: 0 0 0 0;\n",
              "      width: 32px;\n",
              "    }\n",
              "\n",
              "    .colab-df-convert:hover {\n",
              "      background-color: #E2EBFA;\n",
              "      box-shadow: 0px 1px 2px rgba(60, 64, 67, 0.3), 0px 1px 3px 1px rgba(60, 64, 67, 0.15);\n",
              "      fill: #174EA6;\n",
              "    }\n",
              "\n",
              "    [theme=dark] .colab-df-convert {\n",
              "      background-color: #3B4455;\n",
              "      fill: #D2E3FC;\n",
              "    }\n",
              "\n",
              "    [theme=dark] .colab-df-convert:hover {\n",
              "      background-color: #434B5C;\n",
              "      box-shadow: 0px 1px 3px 1px rgba(0, 0, 0, 0.15);\n",
              "      filter: drop-shadow(0px 1px 2px rgba(0, 0, 0, 0.3));\n",
              "      fill: #FFFFFF;\n",
              "    }\n",
              "  </style>\n",
              "\n",
              "      <script>\n",
              "        const buttonEl =\n",
              "          document.querySelector('#df-e6b8d191-9144-4f51-a994-f933d202a323 button.colab-df-convert');\n",
              "        buttonEl.style.display =\n",
              "          google.colab.kernel.accessAllowed ? 'block' : 'none';\n",
              "\n",
              "        async function convertToInteractive(key) {\n",
              "          const element = document.querySelector('#df-e6b8d191-9144-4f51-a994-f933d202a323');\n",
              "          const dataTable =\n",
              "            await google.colab.kernel.invokeFunction('convertToInteractive',\n",
              "                                                     [key], {});\n",
              "          if (!dataTable) return;\n",
              "\n",
              "          const docLinkHtml = 'Like what you see? Visit the ' +\n",
              "            '<a target=\"_blank\" href=https://colab.research.google.com/notebooks/data_table.ipynb>data table notebook</a>'\n",
              "            + ' to learn more about interactive tables.';\n",
              "          element.innerHTML = '';\n",
              "          dataTable['output_type'] = 'display_data';\n",
              "          await google.colab.output.renderOutput(dataTable, element);\n",
              "          const docLink = document.createElement('div');\n",
              "          docLink.innerHTML = docLinkHtml;\n",
              "          element.appendChild(docLink);\n",
              "        }\n",
              "      </script>\n",
              "    </div>\n",
              "  </div>\n"
            ]
          },
          "metadata": {},
          "execution_count": 12
        }
      ]
    },
    {
      "cell_type": "code",
      "source": [
        "### init\n",
        "time_step = 0\n",
        "list_df = []\n",
        "list_v_df = []\n",
        "\n",
        "for i in range(7):\n",
        "    list_df.append(df.iloc[i].tolist())\n",
        "    list_v_df.append(df_v.iloc[i].tolist())\n",
        "\n",
        "print(list_df[0])\n",
        "print(list_v_df[0])"
      ],
      "metadata": {
        "id": "8a5lYMutWFJL",
        "outputId": "36a75d6a-d6e6-4dde-b312-b427928843a1",
        "colab": {
          "base_uri": "https://localhost:8080/"
        }
      },
      "execution_count": 19,
      "outputs": [
        {
          "output_type": "stream",
          "name": "stdout",
          "text": [
            "[78500, 79000, 78400, 79000]\n",
            "[12456646]\n"
          ]
        },
        {
          "output_type": "stream",
          "name": "stderr",
          "text": [
            "/usr/local/lib/python3.10/dist-packages/ipykernel/ipkernel.py:283: DeprecationWarning: `should_run_async` will not call `transform_cell` automatically in the future. Please pass the result to `transformed_cell` argument and any exception that happen during thetransform in `preprocessing_exc_tuple` in IPython 7.17 and above.\n",
            "  and should_run_async(code)\n"
          ]
        }
      ]
    },
    {
      "cell_type": "code",
      "source": [
        "for idx in range(len(list_df)):\n",
        "    list_df[idx].append(list_v_df[idx][0])\n",
        "\n",
        "print(list_df[0])"
      ],
      "metadata": {
        "id": "OaY1n8hguMoz",
        "outputId": "082c5344-de9e-4cbd-fbe0-bd91e1c3b9e1",
        "colab": {
          "base_uri": "https://localhost:8080/"
        }
      },
      "execution_count": 20,
      "outputs": [
        {
          "output_type": "stream",
          "name": "stdout",
          "text": [
            "[78500, 79000, 78400, 79000, 12456646]\n"
          ]
        }
      ]
    },
    {
      "cell_type": "code",
      "source": [
        "list_df"
      ],
      "metadata": {
        "id": "yly3Q60EWxK7",
        "outputId": "e6472224-3fe8-4897-aaca-4b109d1137c5",
        "colab": {
          "base_uri": "https://localhost:8080/"
        }
      },
      "execution_count": 32,
      "outputs": [
        {
          "output_type": "stream",
          "name": "stderr",
          "text": [
            "/usr/local/lib/python3.10/dist-packages/ipykernel/ipkernel.py:283: DeprecationWarning: `should_run_async` will not call `transform_cell` automatically in the future. Please pass the result to `transformed_cell` argument and any exception that happen during thetransform in `preprocessing_exc_tuple` in IPython 7.17 and above.\n",
            "  and should_run_async(code)\n"
          ]
        },
        {
          "output_type": "execute_result",
          "data": {
            "text/plain": [
              "[[78500, 79000, 78400, 79000],\n",
              " [79000, 79100, 78500, 78500],\n",
              " [79000, 79800, 78900, 79700],\n",
              " [79700, 79900, 79200, 79300],\n",
              " [79400, 79500, 78800, 78800],\n",
              " [79200, 79400, 78500, 78500],\n",
              " [78300, 79200, 78100, 79200]]"
            ]
          },
          "metadata": {},
          "execution_count": 32
        }
      ]
    },
    {
      "cell_type": "code",
      "source": [
        "max(map(max, list_df)), min(map(min, list_df))"
      ],
      "metadata": {
        "id": "ftiN_UWvWQH_",
        "outputId": "ef582b99-b725-456f-f154-68dfbeaef867",
        "colab": {
          "base_uri": "https://localhost:8080/"
        }
      },
      "execution_count": 29,
      "outputs": [
        {
          "output_type": "stream",
          "name": "stderr",
          "text": [
            "/usr/local/lib/python3.10/dist-packages/ipykernel/ipkernel.py:283: DeprecationWarning: `should_run_async` will not call `transform_cell` automatically in the future. Please pass the result to `transformed_cell` argument and any exception that happen during thetransform in `preprocessing_exc_tuple` in IPython 7.17 and above.\n",
            "  and should_run_async(code)\n"
          ]
        },
        {
          "output_type": "execute_result",
          "data": {
            "text/plain": [
              "(79900, 78100)"
            ]
          },
          "metadata": {},
          "execution_count": 29
        }
      ]
    },
    {
      "cell_type": "code",
      "source": [
        "def _max_min_scale_rounded(value, old_min, old_max, new_range=1):\n",
        "    scaled_value = (value - old_min) / (old_max - old_min) * new_range\n",
        "    scaled_value = round(scaled_value)\n",
        "    return scaled_value"
      ],
      "metadata": {
        "id": "JAKDNzZ2YGO7"
      },
      "execution_count": 21,
      "outputs": []
    },
    {
      "cell_type": "code",
      "source": [
        "def _scale_lst(lst, new_range):\n",
        "    old_min = min(map(min, lst))  # min from 2-dimension list\n",
        "    old_max = max(map(max, lst))  # max from 2-dimension list\n",
        "\n",
        "    new_lst = []\n",
        "    new_sub_lst = []\n",
        "\n",
        "    for sub_lst in lst:\n",
        "        new_sub_lst = []\n",
        "        for value in sub_lst:\n",
        "            scaled_value = _max_min_scale_rounded(value, old_min, old_max, new_range=new_range)\n",
        "            new_sub_lst.append(scaled_value)\n",
        "        new_lst.append(new_sub_lst)\n",
        "\n",
        "    return new_lst"
      ],
      "metadata": {
        "id": "g8bNKnLsV1gZ"
      },
      "execution_count": 22,
      "outputs": []
    },
    {
      "cell_type": "code",
      "source": [
        "new_lst = _scale_lst(list_v_df, 1000)"
      ],
      "metadata": {
        "id": "irMdL6WlXmUW"
      },
      "execution_count": 23,
      "outputs": []
    },
    {
      "cell_type": "code",
      "source": [
        "new_lst"
      ],
      "metadata": {
        "id": "2R-FK1ZpaSyj",
        "outputId": "95deacf9-7e9c-49f1-d1be-0906ad1b03de",
        "colab": {
          "base_uri": "https://localhost:8080/"
        }
      },
      "execution_count": 24,
      "outputs": [
        {
          "output_type": "execute_result",
          "data": {
            "text/plain": [
              "[[921], [894], [966], [0], [258], [639], [1000]]"
            ]
          },
          "metadata": {},
          "execution_count": 24
        }
      ]
    },
    {
      "cell_type": "code",
      "source": [
        "list_v_df"
      ],
      "metadata": {
        "id": "gxwpo9FraY6R",
        "outputId": "ff75b681-aa98-42f8-e3c0-638370cf514f",
        "colab": {
          "base_uri": "https://localhost:8080/"
        }
      },
      "execution_count": 25,
      "outputs": [
        {
          "output_type": "execute_result",
          "data": {
            "text/plain": [
              "[[12456646],\n",
              " [12355296],\n",
              " [12618790],\n",
              " [9098910],\n",
              " [10040975],\n",
              " [11427693],\n",
              " [12743417]]"
            ]
          },
          "metadata": {},
          "execution_count": 25
        }
      ]
    },
    {
      "cell_type": "markdown",
      "source": [
        "# STEP. ENV Code Test"
      ],
      "metadata": {
        "id": "QTOOHJNI9_Lg"
      }
    },
    {
      "cell_type": "code",
      "source": [
        "import time\n",
        "\n",
        "import numpy as np\n",
        "\n",
        "import gym\n",
        "from gym import error, spaces, utils\n",
        "from gym.utils import seeding\n",
        "\n",
        "import pygame, sys, time, random\n",
        "from pygame.surfarray import array3d\n",
        "from pygame import display"
      ],
      "metadata": {
        "id": "C0IfIFrX-qJp"
      },
      "execution_count": null,
      "outputs": []
    },
    {
      "cell_type": "code",
      "source": [
        "BLACK = pygame.Color(0, 0, 0)\n",
        "WHITE = pygame.Color(255, 255, 255)\n",
        "RED = pygame.Color(255, 0, 0)\n",
        "GREEN = pygame.Color(0, 255, 0)\n",
        "BLUE = pygame.Color(0, 0, 255)"
      ],
      "metadata": {
        "id": "5vcgJ00y_JKy"
      },
      "execution_count": null,
      "outputs": []
    },
    {
      "cell_type": "code",
      "source": [
        "class SnakeEnv(gym.Env):\n",
        "    metadata = {'render.modes': ['human']}\n",
        "\n",
        "    def __init__(self, df, obs_len=30):\n",
        "        self.df = df\n",
        "        self.obs_len=obs_len\n",
        "\n",
        "        self.action_space = spaces.Discrete(4)\n",
        "        self.observation_space = spaces.Discrete(4) # Not use observation space(Handling Error) # We observate images\n",
        "        self.frame_size_x = 900\n",
        "        self.frame_size_y = 1500\n",
        "        self.frame_size_candle_y = 900\n",
        "        self.frame_size_volume_y = 500\n",
        "        self.frame_size_score = 100\n",
        "        self.game_window = pygame.display.set_mode((self.frame_size_x, self.frame_size_y))\n",
        "        self.reset()\n",
        "        self.STEP_LIMIT = 1000\n",
        "        self.sleep = 0\n",
        "\n",
        "        self.candle_width = self.frame_size_x // self.obs_len\n",
        "\n",
        "    def get_obs_df_init(self):\n",
        "        list_df = []\n",
        "\n",
        "        for i in range(self.obs_len):\n",
        "            list_df.append(self.df.iloc[i].tolist())\n",
        "\n",
        "        return list_df\n",
        "\n",
        "\n",
        "    def reset(self):\n",
        "        self.game_window.fill(BLACK)\n",
        "        self.snake_pos = [100, 50]\n",
        "        self.snake_body = [[100, 50], [100-10, 50], [100-(2*10), 50]]\n",
        "        #self.food_pos = self.spawn_food()\n",
        "        self.food_spawn = True\n",
        "\n",
        "        self.direction = \"RIGHT\"\n",
        "        self.change_to = self.direction\n",
        "        self.score = 0\n",
        "        self.steps = 0\n",
        "\n",
        "        img = array3d(display.get_surface())\n",
        "        img = np.swapaxes(img, 0, 1)\n",
        "\n",
        "        ###\n",
        "        self.list_df = self.get_obs_df_init()\n",
        "\n",
        "\n",
        "        return img"
      ],
      "metadata": {
        "id": "5dulD2W3-skp"
      },
      "execution_count": 64,
      "outputs": []
    },
    {
      "cell_type": "code",
      "source": [
        "env = SnakeEnv(df=df,obs_len=30)"
      ],
      "metadata": {
        "id": "tnK72yYaeGrn"
      },
      "execution_count": 10,
      "outputs": []
    },
    {
      "cell_type": "markdown",
      "source": [
        "# snake_env.py"
      ],
      "metadata": {
        "id": "S7gwvPvahsMI"
      }
    },
    {
      "cell_type": "code",
      "source": [
        "import time\n",
        "\n",
        "import numpy as np\n",
        "\n",
        "import gym\n",
        "from gym import error, spaces, utils\n",
        "from gym.utils import seeding\n",
        "\n",
        "import pygame, sys, time, random\n",
        "from pygame.surfarray import array3d\n",
        "from pygame import display\n",
        "\n",
        "BLACK = pygame.Color(0, 0, 0)\n",
        "WHITE = pygame.Color(255, 255, 255)\n",
        "RED = pygame.Color(255, 0, 0)\n",
        "GREEN = pygame.Color(0, 255, 0)\n",
        "BLUE = pygame.Color(0, 0, 255)\n",
        "\n",
        "\"\"\"\n",
        "df : pd.DataFrame whcich consist of columns(open, high, low, close, volume)\n",
        "obs_len : What you want observate lenth from df\n",
        "\n",
        "action_space : 3\n",
        "\n",
        "\n",
        "obs_lst : list of df(obs lenth)\n",
        "get_obs_lst_init : initiate obs_lst\n",
        "\"\"\"\n",
        "class SnakeEnv(gym.Env):\n",
        "    metadata = {'render.modes': ['human']}\n",
        "\n",
        "    def __init__(self, df, obs_len=30):\n",
        "        self.df_ohlc = df[df.columns[:4]]\n",
        "        self.df_v = df[df.columns[-1:]]\n",
        "        self.obs_len = obs_len  ###\n",
        "\n",
        "        self.frame_size_x = 900\n",
        "        self.frame_size_y = 1600\n",
        "        self.frame_size_candle_y = 900\n",
        "        self.frame_size_volume_y = 500\n",
        "        self.frame_size_scorey = 100\n",
        "        self.action_space = spaces.Discrete(4)\n",
        "        self.observation_space = spaces.Box(low=0, high=255, shape=(self.frame_size_x, self.frame_size_y, 3))\n",
        "\n",
        "        self.game_window = pygame.display.set_mode((self.frame_size_x, self.frame_size_y))\n",
        "        self.reset()\n",
        "        self.STEP_LIMIT = 1000\n",
        "        self.sleep = 0\n",
        "\n",
        "\n",
        "    def step(self, action):\n",
        "        scoreholder = self.score\n",
        "        reward = 0\n",
        "        self.direction = SnakeEnv.change_direction(action, self.direction)\n",
        "        self.snake_pos = SnakeEnv.move(self.direction, self.snake_pos)\n",
        "        self.snake_body.insert(0, list(self.snake_pos))\n",
        "\n",
        "        reward = self.food_handler()\n",
        "\n",
        "        self.update_game_state()\n",
        "\n",
        "        reward, done = self.game_over(reward)\n",
        "\n",
        "        img = self._get_image()\n",
        "        info = {\"score\": self.score}\n",
        "        self.steps += 1\n",
        "        time.sleep(self.sleep)\n",
        "        return img, reward, done, info\n",
        "\n",
        "\n",
        "    @staticmethod\n",
        "    def change_direction(action, direction):\n",
        "        if action == 0 and direction != \"DOWN\":\n",
        "            direction = 'UP'\n",
        "        if action==1 and direction != \"UP\":\n",
        "            direction = 'DOWN'\n",
        "        if action==2 and direction != \"RIGHT\":\n",
        "            direction = 'LEFT'\n",
        "        if action==3 and direction != \"LEFT\":\n",
        "            direction = 'RIGHT'\n",
        "        return direction\n",
        "\n",
        "    @staticmethod\n",
        "    def move(direction, snake_pos):\n",
        "        if direction == 'UP':\n",
        "            snake_pos[1] -= 10\n",
        "        if direction == 'DOWN':\n",
        "            snake_pos[1] += 10\n",
        "        if direction == 'LEFT':\n",
        "            snake_pos[0] -= 10\n",
        "        if direction == 'RIGHT':\n",
        "            snake_pos[0] += 10\n",
        "        return snake_pos\n",
        "\n",
        "\n",
        "    def eat(self):\n",
        "        return self.snake_pos[0] == self.food_pos[0] and self.snake_pos[1] == self.food_pos[1]\n",
        "\n",
        "    def spawn_food(self):\n",
        "        return [random.randrange(1, (self.frame_size_x//10)) * 10, random.randrange(1, (self.frame_size_y//10)) * 10]\n",
        "\n",
        "    def food_handler(self):\n",
        "        if self.eat():\n",
        "            self.score += 1\n",
        "            reward = 1\n",
        "            self.food_spawn = False\n",
        "        else:\n",
        "            self.snake_body.pop()\n",
        "            reward = 0\n",
        "\n",
        "        if not self.food_spawn:\n",
        "            self.food_pos = self.spawn_food()\n",
        "        self.food_spawn = True\n",
        "\n",
        "        return reward\n",
        "\n",
        "\n",
        "    ###\n",
        "    def update_game_state(self):\n",
        "        self.game_window.fill(BLACK)\n",
        "        #for pos in self.snake_body:\n",
        "        #    pygame.draw.rect(self.game_window, GREEN, pygame.Rect(pos[0], pos[1], 10, 10))\n",
        "\n",
        "        #pygame.draw.rect(self.game_window, WHITE, pygame.Rect(self.food_pos[0], self.food_pos[1], 10, 10))\n",
        "\n",
        "        ###\n",
        "\n",
        "        candle_width = self.frame_size_x // self.obs_len\n",
        "        candle_line_space = 10\n",
        "        candle_line_width = 10\n",
        "        for idx in range(len(self.obs_scaled_lst)):\n",
        "            candle_x = idx * candle_width\n",
        "            candle_y = self.frame_size_candle_y - max(self.obs_scaled_lst[idx][0], self.obs_scaled_lst[idx][3])\n",
        "            candle_height = abs(self.obs_scaled_lst[idx][0] - self.obs_scaled_lst[idx][3])\n",
        "\n",
        "            candle_line_y = self.frame_size_candle_y - self.obs_scaled_lst[idx][1]\n",
        "            candle_line_height = self.obs_scaled_lst[idx][1] - self.obs_scaled_lst[idx][2]\n",
        "\n",
        "            if self.obs_scaled_lst[idx][0] == self.obs_scaled_lst[idx][3]:\n",
        "                candle_height = 2\n",
        "                pygame.draw.rect(self.game_window, RED,\n",
        "                                 pygame.Rect(candle_x , candle_y, candle_width, candle_height)) # candle\n",
        "                pygame.draw.rect(self.game_window, RED,\n",
        "                                 pygame.Rect(candle_x  + candle_line_space, candle_line_y, candle_line_width, candle_line_height)) # candle line\n",
        "            elif self.obs_scaled_lst[idx][0] < self.obs_scaled_lst[idx][3]:\n",
        "                pygame.draw.rect(self.game_window, RED,\n",
        "                                 pygame.Rect(candle_x , candle_y, candle_width, candle_height))\n",
        "                pygame.draw.rect(self.game_window, RED,\n",
        "                                 pygame.Rect(candle_x  + candle_line_space, candle_line_y, candle_line_width, candle_line_height)) # candle\n",
        "            else:\n",
        "                pygame.draw.rect(self.game_window, BLUE,\n",
        "                                 pygame.Rect(candle_x , candle_y, candle_width, candle_height))\n",
        "                pygame.draw.rect(self.game_window, BLUE,\n",
        "                                 pygame.Rect(candle_x  + candle_line_space, candle_line_y, candle_line_width, candle_line_height)) # candle\n",
        "\n",
        "\n",
        "    # def get_image_array_from_game(self):\n",
        "    #     img = array3d(display.get_surface())\n",
        "    #     img = np.swapaxes(img, 0, 1)\n",
        "    #     return img\n",
        "\n",
        "    def game_over(self, reward):\n",
        "        if self.snake_pos[0] < 0 or self.snake_pos[0] > self.frame_size_x-10:\n",
        "            return -1, True\n",
        "        if self.snake_pos[1] < 0 or self.snake_pos[1] > self.frame_size_y-10:\n",
        "            return -1, True\n",
        "\n",
        "        for block in self.snake_body[1:]:\n",
        "            if self.snake_pos[0] == block[0] and self.snake_pos[1] == block[1]:\n",
        "                return -1, True\n",
        "        if self.steps >= 1000:\n",
        "            return 0, True\n",
        "\n",
        "        return reward, False\n",
        "\n",
        "\n",
        "    ###\n",
        "    def _get_obs_lst_init(self):\n",
        "        obs_ohlc_lst = []\n",
        "        obs_v_lst = []\n",
        "\n",
        "        for i in range(self.obs_len):\n",
        "            obs_ohlc_lst.append(self.df_ohlc.iloc[i].tolist())\n",
        "            obs_v_lst.append(self.df_v.iloc[i].tolist())\n",
        "\n",
        "        return obs_ohlc_lst, obs_v_lst\n",
        "\n",
        "    ###\n",
        "    def _get_image(self):\n",
        "        img = array3d(display.get_surface())\n",
        "        img = np.swapaxes(img, 0, 1)\n",
        "        return img\n",
        "\n",
        "\n",
        "    ###\n",
        "    def _max_min_scale_round(self, value, old_min, old_max, new_range=1):\n",
        "        scaled_value = (value - old_min) / (old_max - old_min) * new_range\n",
        "        scaled_value = round(scaled_value)\n",
        "        return scaled_value\n",
        "\n",
        "    ###\n",
        "    def _scale_lst(self, lst, new_range):\n",
        "        old_min = min(map(min, lst))  # min from 2-dimension list\n",
        "        old_max = max(map(max, lst))  # max from 2-dimension list\n",
        "\n",
        "        new_lst = []\n",
        "        new_sub_lst = []\n",
        "\n",
        "        for sub_lst in lst:\n",
        "            new_sub_lst = []\n",
        "            for value in sub_lst:\n",
        "                scaled_value = self._max_min_scale_round(value, old_min, old_max, new_range=new_range)\n",
        "                new_sub_lst.append(scaled_value)\n",
        "            new_lst.append(new_sub_lst)\n",
        "\n",
        "        return new_lst\n",
        "\n",
        "\n",
        "    def reset(self):\n",
        "        self.game_window.fill(BLACK)\n",
        "        self.snake_pos = [100, 50]\n",
        "        self.snake_body = [[100, 50], [100-10, 50], [100-(2*10), 50]]\n",
        "        self.food_pos = self.spawn_food()\n",
        "        self.food_spawn = True\n",
        "\n",
        "        self.direction = \"RIGHT\"\n",
        "        self.change_to = self.direction\n",
        "        self.score = 0\n",
        "        self.steps = 0\n",
        "\n",
        "        # img = array3d(display.get_surface())\n",
        "        # img = np.swapaxes(img, 0, 1)\n",
        "\n",
        "        ###\n",
        "        self.obs_ohlc_lst, self.obs_v_lst = self._get_obs_lst_init()\n",
        "\n",
        "        self.obs_scaled_lst = self._scale_lst(self.obs_ohlc_lst, self.frame_size_candle_y)\n",
        "        self.obs_scaled_v_lst = self._scale_lst(self.obs_v_lst, self.frame_size_volume_y)\n",
        "\n",
        "        for idx in range(len(self.obs_scaled_lst)):\n",
        "            self.obs_scaled_lst[idx].append(self.obs_scaled_v_lst[idx][0])\n",
        "\n",
        "        obs = self._get_image()\n",
        "\n",
        "        return obs\n",
        "\n",
        "\n",
        "    def render(self, mode='human'):\n",
        "        if mode == \"human\":\n",
        "            display.update()\n",
        "\n",
        "    def close(self):\n",
        "        pass"
      ],
      "metadata": {
        "id": "kDFc41KTkoQr",
        "outputId": "695cfaaf-e788-47fc-fce7-b811a295e0f0",
        "colab": {
          "base_uri": "https://localhost:8080/"
        }
      },
      "execution_count": 9,
      "outputs": [
        {
          "output_type": "stream",
          "name": "stderr",
          "text": [
            "/usr/local/lib/python3.10/dist-packages/ipykernel/ipkernel.py:283: DeprecationWarning: `should_run_async` will not call `transform_cell` automatically in the future. Please pass the result to `transformed_cell` argument and any exception that happen during thetransform in `preprocessing_exc_tuple` in IPython 7.17 and above.\n",
            "  and should_run_async(code)\n"
          ]
        }
      ]
    },
    {
      "cell_type": "code",
      "source": [],
      "metadata": {
        "id": "mKrMNgjMUp1W"
      },
      "execution_count": null,
      "outputs": []
    }
  ]
}