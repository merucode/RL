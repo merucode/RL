{
  "cells": [
    {
      "cell_type": "markdown",
      "id": "488dcffc-6771-4065-b688-5cbdf6a79bdd",
      "metadata": {
        "id": "488dcffc-6771-4065-b688-5cbdf6a79bdd"
      },
      "source": [
        "# Prediction : MC Learning"
      ]
    },
    {
      "cell_type": "markdown",
      "id": "09c2afe7-953e-435b-a5b0-43aedb025479",
      "metadata": {
        "id": "09c2afe7-953e-435b-a5b0-43aedb025479"
      },
      "source": [
        "## Import the library"
      ]
    },
    {
      "cell_type": "code",
      "execution_count": null,
      "id": "88fd3c20-e036-42ff-a747-b69888dd95c6",
      "metadata": {
        "id": "88fd3c20-e036-42ff-a747-b69888dd95c6"
      },
      "outputs": [],
      "source": [
        "import random\n",
        "import numpy as np"
      ]
    },
    {
      "cell_type": "markdown",
      "id": "e4025252-4e49-427f-9542-bcb37268b51d",
      "metadata": {
        "id": "e4025252-4e49-427f-9542-bcb37268b51d"
      },
      "source": [
        "## Environment Class"
      ]
    },
    {
      "cell_type": "code",
      "execution_count": null,
      "id": "db5f0666-fbd1-4a23-ad55-482fd3746f5d",
      "metadata": {
        "id": "db5f0666-fbd1-4a23-ad55-482fd3746f5d"
      },
      "outputs": [],
      "source": [
        "class GridWorld():\n",
        "    def __init__(self):\n",
        "        self.x = 0\n",
        "        self.y = 0\n",
        "\n",
        "    def step(self, a):\n",
        "        # 0번 액션: 왼쪽, 1번 액션: 위, 2번 액션: 오른쪽, 3번 액션: 아래쪽\n",
        "        if a==0:\n",
        "            self.move_left()\n",
        "        elif a==1:\n",
        "            self.move_up()\n",
        "        elif a==2:\n",
        "            self.move_right()\n",
        "        elif a==3:\n",
        "            self.move_down()\n",
        "\n",
        "        reward = -1           # 보상은 항상 -1로 고정\n",
        "        done = self.is_done() # episode 종료 여부\n",
        "        return (self.x, self.y), reward, done\n",
        "\n",
        "    def move_right(self):\n",
        "        self.y += 1\n",
        "        if self.y > 3:\n",
        "            self.y = 3\n",
        "\n",
        "    def move_left(self):\n",
        "        self.y -= 1\n",
        "        if self.y < 0:\n",
        "            self.y = 0\n",
        "\n",
        "    def move_up(self):\n",
        "        self.x -= 1\n",
        "        if self.x < 0:\n",
        "            self.x = 0\n",
        "\n",
        "    def move_down(self):\n",
        "        self.x += 1\n",
        "        if self.x > 3:\n",
        "            self.x = 3\n",
        "\n",
        "    def is_done(self):\n",
        "        if self.x==3 and self.y==3:\n",
        "            return True  # episode 종료 지점 도착\n",
        "        else :\n",
        "            return False\n",
        "\n",
        "    def get_state(self):\n",
        "        return (self.x, self.y)\n",
        "\n",
        "    def reset(self):\n",
        "        self.x = 0\n",
        "        self.y = 0\n",
        "        return (self.x, self.y)"
      ]
    },
    {
      "cell_type": "markdown",
      "id": "f6951764-d4c1-497c-8ea8-c5ecf666daeb",
      "metadata": {
        "id": "f6951764-d4c1-497c-8ea8-c5ecf666daeb"
      },
      "source": [
        "## Agent Class"
      ]
    },
    {
      "cell_type": "code",
      "execution_count": null,
      "id": "c3c93eeb-2e5b-45ac-9b92-7af0d13452a9",
      "metadata": {
        "id": "c3c93eeb-2e5b-45ac-9b92-7af0d13452a9"
      },
      "outputs": [],
      "source": [
        "class Agent():\n",
        "    def __init__(self):\n",
        "        pass\n",
        "\n",
        "    def select_action(self):  # 정책(𝝅) 동서남북 0.25로 고정\n",
        "        coin = random.random()\n",
        "        if coin < 0.25:\n",
        "            action = 0\n",
        "        elif coin < 0.5:\n",
        "            action = 1\n",
        "        elif coin < 0.75:\n",
        "            action = 2\n",
        "        else:\n",
        "            action = 3\n",
        "        return action"
      ]
    },
    {
      "cell_type": "markdown",
      "id": "6c75d1fd-62f0-4083-9038-fdb45a0816c7",
      "metadata": {
        "id": "6c75d1fd-62f0-4083-9038-fdb45a0816c7"
      },
      "source": [
        "## main"
      ]
    },
    {
      "cell_type": "code",
      "execution_count": null,
      "id": "61e20340-22f3-45a0-8548-a8ae643f32c6",
      "metadata": {
        "id": "61e20340-22f3-45a0-8548-a8ae643f32c6"
      },
      "outputs": [],
      "source": [
        "def main():\n",
        "    env = GridWorld()   # 환경 설정\n",
        "    agent = Agent()     # 에이전트 설정\n",
        "    data = [[0,0,0,0],[0,0,0,0],[0,0,0,0],[0,0,0,0]] # 테이블 초기화\n",
        "    gamma = 1.0\n",
        "    alpha = 0.0001\n",
        "\n",
        "    for k in range(50000):    # 50000 에피소드 진행\n",
        "        done = False\n",
        "        history = []\n",
        "        while not done:\n",
        "            action = agent.select_action()\n",
        "            (x, y), reward, done = env.step(action)\n",
        "            history.append((x, y, reward))\n",
        "        env.reset()\n",
        "\n",
        "        # 매 에피소드 끝나고 테이블 업데이트\n",
        "        cum_reward = 0\n",
        "        for transition in history[::-1]:\n",
        "            # 방문했던 상태들을 뒤에서 부터 차례대로 리턴 계산\n",
        "            x, y, reward = transition\n",
        "            # MC Learning function(version of parital update)\n",
        "            # V(s) = V(s) + α * (G(s) - V(s))\n",
        "            data[x][y] = data[x][y] + alpha*(cum_reward - data[x][y])\n",
        "            # G_t = R_t+1 + γG_t+1\n",
        "            cum_reward = reward + gamma*cum_reward\n",
        "\n",
        "    # 학습이 끝나고 난 후 데이터 보기\n",
        "    for row in data:\n",
        "        print(row)"
      ]
    },
    {
      "cell_type": "code",
      "execution_count": null,
      "id": "41ccf860-a001-4f5c-b4c2-10b71b868e3e",
      "metadata": {
        "id": "41ccf860-a001-4f5c-b4c2-10b71b868e3e",
        "outputId": "0eb38e7d-a86b-41e2-9091-1b8832f4097f"
      },
      "outputs": [
        {
          "name": "stdout",
          "output_type": "stream",
          "text": [
            "[-59.847571592710175, -57.77331755635565, -54.583169306377016, -52.395830346176865]\n",
            "[-58.0530879165677, -55.67840800790157, -50.83721376607114, -45.64505278108109]\n",
            "[-54.72056737582497, -50.655481424172, -41.48242941538533, -29.776456575519916]\n",
            "[-52.39294297718623, -46.10997554814433, -30.460820994312577, 0.0]\n"
          ]
        }
      ],
      "source": [
        "if __name__ == '__main__':\n",
        "    main()"
      ]
    }
  ],
  "metadata": {
    "kernelspec": {
      "display_name": "Python 3 (ipykernel)",
      "language": "python",
      "name": "python3"
    },
    "language_info": {
      "codemirror_mode": {
        "name": "ipython",
        "version": 3
      },
      "file_extension": ".py",
      "mimetype": "text/x-python",
      "name": "python",
      "nbconvert_exporter": "python",
      "pygments_lexer": "ipython3",
      "version": "3.11.3"
    },
    "colab": {
      "provenance": []
    }
  },
  "nbformat": 4,
  "nbformat_minor": 5
}