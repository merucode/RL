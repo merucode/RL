{
  "cells": [
    {
      "cell_type": "markdown",
      "id": "488dcffc-6771-4065-b688-5cbdf6a79bdd",
      "metadata": {
        "id": "488dcffc-6771-4065-b688-5cbdf6a79bdd"
      },
      "source": [
        "# Control : MC Control"
      ]
    },
    {
      "cell_type": "markdown",
      "id": "09c2afe7-953e-435b-a5b0-43aedb025479",
      "metadata": {
        "id": "09c2afe7-953e-435b-a5b0-43aedb025479"
      },
      "source": [
        "## Import the library"
      ]
    },
    {
      "cell_type": "code",
      "execution_count": 1,
      "id": "88fd3c20-e036-42ff-a747-b69888dd95c6",
      "metadata": {
        "id": "88fd3c20-e036-42ff-a747-b69888dd95c6"
      },
      "outputs": [],
      "source": [
        "import random\n",
        "import numpy as np"
      ]
    },
    {
      "cell_type": "markdown",
      "id": "e4025252-4e49-427f-9542-bcb37268b51d",
      "metadata": {
        "id": "e4025252-4e49-427f-9542-bcb37268b51d"
      },
      "source": [
        "## Environment Class"
      ]
    },
    {
      "cell_type": "code",
      "execution_count": 2,
      "id": "db5f0666-fbd1-4a23-ad55-482fd3746f5d",
      "metadata": {
        "id": "db5f0666-fbd1-4a23-ad55-482fd3746f5d"
      },
      "outputs": [],
      "source": [
        "class GridWorld():\n",
        "    def __init__(self):\n",
        "        self.x = 0\n",
        "        self.y = 0\n",
        "\n",
        "    def step(self, a):\n",
        "        # 0번 액션: 왼쪽, 1번 액션: 위, 2번 액션: 오른쪽, 3번 액션: 아래쪽\n",
        "        if a==0:\n",
        "            self.move_left()\n",
        "        elif a==1:\n",
        "            self.move_up()\n",
        "        elif a==2:\n",
        "            self.move_right()\n",
        "        elif a==3:\n",
        "            self.move_down()\n",
        "\n",
        "        reward = -1           # 보상은 항상 -1로 고정\n",
        "        done = self.is_done() # episode 종료 여부\n",
        "        return (self.x, self.y), reward, done\n",
        "\n",
        "    def move_right(self):\n",
        "        self.y += 1\n",
        "        if self.y > 3:\n",
        "            self.y = 3\n",
        "\n",
        "    def move_left(self):\n",
        "        if self.y==0:\n",
        "            pass\n",
        "        elif self.y==3 and self.x in [0,1,2]:\n",
        "            pass\n",
        "        elif self.y==5 and self.x in [2,3,4]:\n",
        "            pass\n",
        "        else:\n",
        "            self.y -= 1\n",
        "\n",
        "    def move_right(self):\n",
        "        if self.y==1 and self.x in [0,1,2]:\n",
        "            pass\n",
        "        elif self.y==3 and self.x in [2,3,4]:\n",
        "            pass\n",
        "        elif self.y==6:\n",
        "            pass\n",
        "        else:\n",
        "            self.y += 1\n",
        "\n",
        "    def move_up(self):\n",
        "        if self.x==0:\n",
        "            pass\n",
        "        elif self.x==3 and self.y==2:\n",
        "            pass\n",
        "        else:\n",
        "            self.x -= 1\n",
        "\n",
        "    def move_down(self):\n",
        "        if self.x==4:\n",
        "            pass\n",
        "        elif self.x==1 and self.y==4:\n",
        "            pass\n",
        "        else:\n",
        "            self.x+=1\n",
        "\n",
        "    def is_done(self):\n",
        "        if self.x==4 and self.y==6: # 목표 지점인 (4,6)에 도달하면 끝난다\n",
        "            return True\n",
        "        else:\n",
        "            return False\n",
        "\n",
        "    def reset(self):\n",
        "        self.x = 0\n",
        "        self.y = 0\n",
        "        return (self.x, self.y)"
      ]
    },
    {
      "cell_type": "markdown",
      "id": "f6951764-d4c1-497c-8ea8-c5ecf666daeb",
      "metadata": {
        "id": "f6951764-d4c1-497c-8ea8-c5ecf666daeb"
      },
      "source": [
        "## QAgent Class"
      ]
    },
    {
      "cell_type": "code",
      "execution_count": 3,
      "id": "c3c93eeb-2e5b-45ac-9b92-7af0d13452a9",
      "metadata": {
        "id": "c3c93eeb-2e5b-45ac-9b92-7af0d13452a9"
      },
      "outputs": [],
      "source": [
        "class QAgent():\n",
        "    def __init__(self):\n",
        "        # q벨류를 저장하는 변수. 모두 0으로 초기화\n",
        "        # action 4가지에 따른 각 q 벨류를 모두 저장하기 위해\n",
        "        # (5,7) table에 차원 (4)을 추가하여 a_0~3에 따른 q벨류를 모두 기록\n",
        "        self.q_table = np.zeros((5, 7, 4))\n",
        "        self.eps = 0.9\n",
        "        self.alpha = 0.01\n",
        "        self.gamma = 1\n",
        "\n",
        "    def select_action(self, s):\n",
        "        # eps-greedy로 액션을 선택\n",
        "        # 이전 ch4에서 정책(𝝅) 동서남북 0.25로 고정했던 것과 비교\n",
        "        x, y = s\n",
        "        coin = random.random()\n",
        "        if coin < self.eps:\n",
        "            action = random.randint(0,3)\n",
        "        else:\n",
        "            action_val = self.q_table[x,y,:]  # s에서 action에 따른 4가지 q값 불러오기\n",
        "            action = np.argmax(action_val)    # 4개의 q값 중 가장 높은 것의 index 추출(action 번호)\n",
        "        return action\n",
        "\n",
        "    def update_table(self, history):\n",
        "        # 한 에피소드에 해당하는 history를 입력으로 받아 q 테이블의 값을 업데이트 한다\n",
        "        cum_reward = 0\n",
        "        for transition in history[::-1]:\n",
        "            s, a, r, s_prime = transition\n",
        "            x,y = s\n",
        "            # 몬테 카를로 방식을 이용하여 업데이트\n",
        "            # q(s,a) = q(s,a) + α * (G - q(s,a))\n",
        "            self.q_table[x,y,a] = self.q_table[x,y,a] + self.alpha * (cum_reward - self.q_table[x,y,a])\n",
        "            # G_t = R_t+1 + γG_t+1\n",
        "            cum_reward = r + self.gamma*cum_reward\n",
        "\n",
        "    def anneal_eps(self):  # ε decay\n",
        "        self.eps -= 0.03\n",
        "        self.eps = max(self.eps, 0.1)\n",
        "\n",
        "    def show_table(self):\n",
        "        # 학습이 각 위치에서 어느 액션의 q 값이 가장 높았는지 보여주는 함수\n",
        "        q_lst = self.q_table.tolist()\n",
        "        data = np.zeros((5,7))\n",
        "        for row_idx in range(len(q_lst)):\n",
        "            row = q_lst[row_idx]\n",
        "            for col_idx in range(len(row)):\n",
        "                col = row[col_idx]\n",
        "                action = np.argmax(col)\n",
        "                data[row_idx, col_idx] = action\n",
        "        print(data)"
      ]
    },
    {
      "cell_type": "markdown",
      "id": "6c75d1fd-62f0-4083-9038-fdb45a0816c7",
      "metadata": {
        "id": "6c75d1fd-62f0-4083-9038-fdb45a0816c7"
      },
      "source": [
        "## main"
      ]
    },
    {
      "cell_type": "code",
      "execution_count": 4,
      "id": "61e20340-22f3-45a0-8548-a8ae643f32c6",
      "metadata": {
        "id": "61e20340-22f3-45a0-8548-a8ae643f32c6"
      },
      "outputs": [],
      "source": [
        "def main():\n",
        "    env = GridWorld()\n",
        "    agent = QAgent()\n",
        "\n",
        "    for n_epi in range(1000): # 총 1,000 에피소드 동안 학습\n",
        "        done = False\n",
        "        history = []\n",
        "\n",
        "        s = env.reset()\n",
        "        while not done: # 한 에피소드가 끝날 때 까지\n",
        "            a = agent.select_action(s)\n",
        "            s_prime, r, done = env.step(a)\n",
        "            history.append((s, a, r, s_prime))\n",
        "            s = s_prime\n",
        "        # 한 에피소드가 끝난 후 히스토리를 이용하여 에이전트를 업데이트\n",
        "        agent.update_table(history)\n",
        "        agent.anneal_eps()\n",
        "\n",
        "    agent.show_table() # 학습이 끝난 결과를 출력"
      ]
    },
    {
      "cell_type": "code",
      "execution_count": 5,
      "id": "41ccf860-a001-4f5c-b4c2-10b71b868e3e",
      "metadata": {
        "id": "41ccf860-a001-4f5c-b4c2-10b71b868e3e",
        "outputId": "5f9f1525-aecf-4a80-e0e4-bac2611a7bf2",
        "colab": {
          "base_uri": "https://localhost:8080/"
        }
      },
      "outputs": [
        {
          "output_type": "stream",
          "name": "stdout",
          "text": [
            "[[3. 3. 0. 2. 2. 2. 3.]\n",
            " [2. 3. 0. 2. 2. 3. 3.]\n",
            " [2. 3. 0. 1. 0. 2. 3.]\n",
            " [2. 2. 2. 1. 0. 3. 3.]\n",
            " [2. 3. 1. 0. 0. 2. 0.]]\n"
          ]
        }
      ],
      "source": [
        "if __name__ == '__main__':\n",
        "    main()"
      ]
    }
  ],
  "metadata": {
    "kernelspec": {
      "display_name": "Python 3 (ipykernel)",
      "language": "python",
      "name": "python3"
    },
    "language_info": {
      "codemirror_mode": {
        "name": "ipython",
        "version": 3
      },
      "file_extension": ".py",
      "mimetype": "text/x-python",
      "name": "python",
      "nbconvert_exporter": "python",
      "pygments_lexer": "ipython3",
      "version": "3.11.3"
    },
    "colab": {
      "provenance": []
    }
  },
  "nbformat": 4,
  "nbformat_minor": 5
}