{
  "nbformat": 4,
  "nbformat_minor": 0,
  "metadata": {
    "colab": {
      "provenance": [],
      "authorship_tag": "ABX9TyPBuNIZBCwUnCx8rFZCniGl",
      "include_colab_link": true
    },
    "kernelspec": {
      "name": "python3",
      "display_name": "Python 3"
    },
    "language_info": {
      "name": "python"
    }
  },
  "cells": [
    {
      "cell_type": "markdown",
      "metadata": {
        "id": "view-in-github",
        "colab_type": "text"
      },
      "source": [
        "<a href=\"https://colab.research.google.com/github/merucode/RL/blob/01-Study-Book-%EB%B0%94%EB%8B%A5%EB%B6%80%ED%84%B0_%EB%B0%B0%EC%9A%B0%EB%8A%94_%EA%B0%95%ED%99%94%ED%95%99%EC%8A%B5/ch7_DQN.ipynb\" target=\"_parent\"><img src=\"https://colab.research.google.com/assets/colab-badge.svg\" alt=\"Open In Colab\"/></a>"
      ]
    },
    {
      "cell_type": "markdown",
      "source": [
        "# Import Labrary and Hyper Parameters"
      ],
      "metadata": {
        "id": "q9xvTZjsdnSL"
      }
    },
    {
      "cell_type": "code",
      "execution_count": 41,
      "metadata": {
        "id": "1sIS-a2zDpi4"
      },
      "outputs": [],
      "source": [
        "import gym\n",
        "import collections\n",
        "import random\n",
        "\n",
        "import torch\n",
        "import torch.nn as nn\n",
        "import torch.nn.functional as F\n",
        "import torch.optim as optim\n",
        "\n",
        "\n",
        "# Hyperparameters\n",
        "learning_rate = 0.0005\n",
        "gamma = 0.98\n",
        "buffer_limit = 50000\n",
        "batch_size = 32"
      ]
    },
    {
      "cell_type": "markdown",
      "source": [
        "# Replay Buffer Class"
      ],
      "metadata": {
        "id": "PWUYhzT0m8tU"
      }
    },
    {
      "cell_type": "code",
      "source": [
        "class ReplayBuffer():\n",
        "    def __init__(self):\n",
        "        self.buffer = collections.deque(maxlen=buffer_limit)\n",
        "\n",
        "    def put(self, transition):\n",
        "        self.buffer.append(transition)\n",
        "\n",
        "    def sample(self, n):\n",
        "        mini_batch = random.sample(self.buffer, n)\n",
        "        s_lst, a_lst, r_lst, s_prime_lst, done_mask_lst = [], [], [], [], []\n",
        "\n",
        "        for transition in mini_batch:\n",
        "            s, a, r, s_prime, done_mask = transition\n",
        "            s_lst.append(s)\n",
        "            a_lst.append([a])\n",
        "            r_lst.append([r])\n",
        "            s_prime_lst.append(s_prime)\n",
        "            done_mask_lst.append([done_mask])\n",
        "\n",
        "        return torch.tensor(s_lst, dtype=torch.float), torch.tensor(a_lst), \\\n",
        "               torch.tensor(r_lst), torch.tensor(s_prime_lst, dtype=torch.float), \\\n",
        "               torch.tensor(done_mask_lst)\n",
        "\n",
        "    def size(self):\n",
        "        return len(self.buffer)"
      ],
      "metadata": {
        "id": "DgAkTTZ6m9m_"
      },
      "execution_count": 42,
      "outputs": []
    },
    {
      "cell_type": "markdown",
      "source": [
        "# Q-value Network Class"
      ],
      "metadata": {
        "id": "lIpc4Mi_diLs"
      }
    },
    {
      "cell_type": "code",
      "source": [
        "class Qnet(nn.Module):\n",
        "    def __init__(self):\n",
        "        super(Qnet, self).__init__()\n",
        "        self.fc1 = nn.Linear(4, 128)\n",
        "        self.fc2 = nn.Linear(128, 128)\n",
        "        self.fc3 = nn.Linear(128, 2)\n",
        "\n",
        "    def forward(self, x):\n",
        "        x = F.relu(self.fc1(x))\n",
        "        x = F.relu(self.fc2(x))\n",
        "        x = self.fc3(x)\n",
        "        return x\n",
        "\n",
        "    def sample_action(self, obs, epsilon):\n",
        "        out = self.forward(obs)\n",
        "        coin = random.random()\n",
        "        if coin < epsilon:\n",
        "            return random.randint(0, 1)\n",
        "        else:\n",
        "            return out.argmax().item()"
      ],
      "metadata": {
        "id": "FA79Fw0xdtXe"
      },
      "execution_count": 43,
      "outputs": []
    },
    {
      "cell_type": "markdown",
      "source": [
        "# Learning Function"
      ],
      "metadata": {
        "id": "jrRGYxdmnJYH"
      }
    },
    {
      "cell_type": "code",
      "source": [
        "def train(q, q_target, memory, optimizer):\n",
        "    for i in range(10):\n",
        "        s,a,r,s_prime,done_mask = memory.sample(batch_size)\n",
        "\n",
        "        q_out = q(s)\n",
        "        q_a = q_out.gather(1,a)\n",
        "        max_q_prime = q_target(s_prime).max(1)[0].unsqueeze(1)\n",
        "        target = r + gamma * max_q_prime * done_mask\n",
        "        loss = F.smooth_l1_loss(q_a, target)\n",
        "\n",
        "        optimizer.zero_grad()\n",
        "        loss.backward()\n",
        "        optimizer.step()"
      ],
      "metadata": {
        "id": "CKIO0drtnLHD"
      },
      "execution_count": 44,
      "outputs": []
    },
    {
      "cell_type": "markdown",
      "source": [
        "# Main"
      ],
      "metadata": {
        "id": "JhlKzu5Ldt9G"
      }
    },
    {
      "cell_type": "code",
      "source": [
        "def main():\n",
        "    env = gym.make('CartPole-v1')\n",
        "    q = Qnet()\n",
        "    q_target = Qnet()\n",
        "    q_target.load_state_dict(q.state_dict())\n",
        "    memory = ReplayBuffer()\n",
        "\n",
        "    print_interval = 100\n",
        "    score = 0.0\n",
        "    optimizer = optim.Adam(q.parameters(), lr=learning_rate)\n",
        "\n",
        "    for n_epi in range(1001):\n",
        "        epsilon = max(0.01, 0.08 - 0.01*(n_epi/200)) #Linear annealing from 8% to 1%\n",
        "        s = env.reset()\n",
        "        done = False\n",
        "\n",
        "        while not done:\n",
        "            a = q.sample_action(torch.from_numpy(s).float(), epsilon)\n",
        "            s_prime, r, done, info = env.step(a)\n",
        "            done_mask = 0.0 if done else 1.0\n",
        "            memory.put((s,a,r/100.0,s_prime, done_mask))\n",
        "            s = s_prime\n",
        "\n",
        "            score += r\n",
        "            if done:\n",
        "                break\n",
        "\n",
        "        if memory.size()>2000:\n",
        "            train(q, q_target, memory, optimizer)\n",
        "\n",
        "        if n_epi%print_interval==0 and n_epi!=0:\n",
        "            q_target.load_state_dict(q.state_dict())\n",
        "            print(\"n_episode :{}, score : {:.1f}, n_buffer : {}, eps : {:.1f}%\".format(\n",
        "                                                            n_epi, score/print_interval, memory.size(), epsilon*100))\n",
        "            score = 0.0\n",
        "    env.close()"
      ],
      "metadata": {
        "id": "mB4kbgjkdu8R"
      },
      "execution_count": 47,
      "outputs": []
    },
    {
      "cell_type": "code",
      "source": [
        "if __name__ == '__main__':\n",
        "    main()"
      ],
      "metadata": {
        "colab": {
          "base_uri": "https://localhost:8080/"
        },
        "id": "qiVvY9LQiwwP",
        "outputId": "432d097e-5d30-4925-c942-7b5ad836f3d2"
      },
      "execution_count": 48,
      "outputs": [
        {
          "output_type": "stream",
          "name": "stdout",
          "text": [
            "n_episode :100, score : 14.3, n_buffer : 1430, eps : 7.5%\n",
            "n_episode :200, score : 22.7, n_buffer : 3700, eps : 7.0%\n",
            "n_episode :300, score : 17.4, n_buffer : 5438, eps : 6.5%\n",
            "n_episode :400, score : 24.8, n_buffer : 7914, eps : 6.0%\n",
            "n_episode :500, score : 20.1, n_buffer : 9920, eps : 5.5%\n",
            "n_episode :600, score : 58.9, n_buffer : 15807, eps : 5.0%\n",
            "n_episode :700, score : 120.6, n_buffer : 27866, eps : 4.5%\n",
            "n_episode :800, score : 130.6, n_buffer : 40925, eps : 4.0%\n",
            "n_episode :900, score : 155.4, n_buffer : 50000, eps : 3.5%\n",
            "n_episode :1000, score : 315.7, n_buffer : 50000, eps : 3.0%\n"
          ]
        }
      ]
    }
  ]
}